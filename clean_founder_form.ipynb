{
 "cells": [
  {
   "cell_type": "code",
   "execution_count": 164,
   "id": "3d411188-02fb-4b29-8082-0d959337c78c",
   "metadata": {},
   "outputs": [],
   "source": [
    "import numpy as np\n",
    "import pandas as pd\n",
    "import plotly.express as px"
   ]
  },
  {
   "cell_type": "code",
   "execution_count": 165,
   "id": "e00d70f6-aa54-49aa-9360-b03a88a548b9",
   "metadata": {},
   "outputs": [],
   "source": [
    "df = pd.read_csv('Crypto Startup Founders Responses.csv')"
   ]
  },
  {
   "cell_type": "code",
   "execution_count": 166,
   "id": "96cece3c-1264-4ff4-9302-1879b608da0e",
   "metadata": {},
   "outputs": [
    {
     "data": {
      "text/plain": [
       "(73, 32)"
      ]
     },
     "execution_count": 166,
     "metadata": {},
     "output_type": "execute_result"
    }
   ],
   "source": [
    "df.shape"
   ]
  },
  {
   "cell_type": "code",
   "execution_count": 167,
   "id": "33ba9f99-a1e7-45b2-b245-083d15ea2c05",
   "metadata": {},
   "outputs": [
    {
     "name": "stdout",
     "output_type": "stream",
     "text": [
      "<class 'pandas.core.frame.DataFrame'>\n",
      "RangeIndex: 73 entries, 0 to 72\n",
      "Data columns (total 32 columns):\n",
      " #   Column                                                                                   Non-Null Count  Dtype  \n",
      "---  ------                                                                                   --------------  -----  \n",
      " 0   Educación                                                                                73 non-null     object \n",
      " 1   ¿Cuándo comenzó tu proyecto?                                                             73 non-null     object \n",
      " 2   ¿Por qué decidiste emprender?                                                            73 non-null     object \n",
      " 3   ¿Qué desafíos tuviste a la hora de empezar/decidir a emprender?                          73 non-null     object \n",
      " 4   ¿Accediste a financiamiento? famila, amigos, angel investors, venture capital...         73 non-null     object \n",
      " 5   ¿Cuál fue la fuente de ese financiamiento?                                               39 non-null     object \n",
      " 6   Etapa del proyecto                                                                       39 non-null     object \n",
      " 7   ¿Con cuantos potenciales inversores contactaste?                                         39 non-null     object \n",
      " 8   Si participaste de una incubadora/aceleradora. ¿Cómo impactó ese proceso en tu negocio?  39 non-null     object \n",
      " 9   ¿Por qué no accediste a fondos?                                                          34 non-null     object \n",
      " 10  ¿Qué desafíos tenés cómo founder hoy en día?                                             73 non-null     object \n",
      " 11  ¿Algún desafío único para crear productos para el mercado Argentino?                     73 non-null     object \n",
      " 12  ¿Dónde necesitas más apoyo?                                                              73 non-null     object \n",
      " 13  ¿Qué políticas o regulaciones te perjudican?                                             73 non-null     object \n",
      " 14  ¿Qué políticas o regulaciones te benefician?                                             71 non-null     object \n",
      " 15  Tipo de empresa                                                                          73 non-null     object \n",
      " 16  Cantidad de gente en el equipo                                                           73 non-null     object \n",
      " 17  ¿Qué porcentaje de ese equipo está en Argentina?                                         73 non-null     object \n",
      " 18  Burn-rate mensual de tu empresa (opcional)                                               20 non-null     object \n",
      " 19  Revenue mensual de tu empresa (opcional)                                                 16 non-null     object \n",
      " 20  Lugar trabajo                                                                            73 non-null     object \n",
      " 21  Estructura legal                                                                         73 non-null     object \n",
      " 22  @                                                                                        0 non-null      float64\n",
      " 23  Repetido                                                                                 4 non-null      object \n",
      " 24  Not crypto                                                                               12 non-null     object \n",
      " 25  included in Landscape                                                                    0 non-null      float64\n",
      " 26  Industria/vertical                                                                       42 non-null     object \n",
      " 27  Edad                                                                                     72 non-null     float64\n",
      " 28  Lugar de nacimiento - Provincia                                                          51 non-null     object \n",
      " 29  Lugar de nacimiento - Pais                                                               72 non-null     object \n",
      " 30  Lugar de residencia - Provincia                                                          58 non-null     object \n",
      " 31  Lugar de residencia - Pais                                                               72 non-null     object \n",
      "dtypes: float64(3), object(29)\n",
      "memory usage: 18.4+ KB\n"
     ]
    }
   ],
   "source": [
    "df.info()"
   ]
  },
  {
   "cell_type": "code",
   "execution_count": 168,
   "id": "4fdc96ab-6115-4d80-a585-cf2f8a2413f8",
   "metadata": {},
   "outputs": [
    {
     "data": {
      "text/plain": [
       "Index(['Educación', '¿Cuándo comenzó tu proyecto?',\n",
       "       '¿Por qué decidiste emprender?',\n",
       "       '¿Qué desafíos tuviste a la hora de empezar/decidir a emprender?',\n",
       "       '¿Accediste a financiamiento? famila, amigos, angel investors, venture capital...',\n",
       "       '¿Cuál fue la fuente de ese financiamiento?', 'Etapa del proyecto',\n",
       "       '¿Con cuantos potenciales inversores contactaste? ',\n",
       "       'Si participaste de una incubadora/aceleradora. ¿Cómo impactó ese proceso en tu negocio?',\n",
       "       '¿Por qué no accediste a fondos?',\n",
       "       '¿Qué desafíos tenés cómo founder hoy en día?',\n",
       "       '¿Algún desafío único para crear productos para el mercado Argentino?',\n",
       "       '¿Dónde necesitas más apoyo?',\n",
       "       '¿Qué políticas o regulaciones te perjudican?',\n",
       "       '¿Qué políticas o regulaciones te benefician?', 'Tipo de empresa',\n",
       "       'Cantidad de gente en el equipo',\n",
       "       '¿Qué porcentaje de ese equipo está en Argentina?',\n",
       "       'Burn-rate mensual de tu empresa (opcional)',\n",
       "       'Revenue mensual de tu empresa (opcional)', 'Lugar trabajo',\n",
       "       'Estructura legal', '@', 'Repetido', 'Not crypto',\n",
       "       'included in Landscape', 'Industria/vertical', 'Edad',\n",
       "       'Lugar de nacimiento - Provincia', 'Lugar de nacimiento - Pais',\n",
       "       'Lugar de residencia - Provincia', 'Lugar de residencia - Pais'],\n",
       "      dtype='object')"
      ]
     },
     "execution_count": 168,
     "metadata": {},
     "output_type": "execute_result"
    }
   ],
   "source": [
    "df.columns"
   ]
  },
  {
   "cell_type": "code",
   "execution_count": 169,
   "id": "9e51f015-c092-46e8-bbb5-d03eb1b53a8f",
   "metadata": {},
   "outputs": [],
   "source": [
    "column_names = {\n",
    "    'Educación' : 'founder_education',\n",
    "    '¿Cuándo comenzó tu proyecto?' : 'project_start',\n",
    "    '¿Por qué decidiste emprender?' : 'project_reason',\n",
    "    '¿Qué desafíos tuviste a la hora de empezar/decidir a emprender?': 'challenges_early',\n",
    "    '¿Accediste a financiamiento? famila, amigos, angel investors, venture capital...' : 'financing',\n",
    "    '¿Cuál fue la fuente de ese financiamiento?' : 'financing_source', \n",
    "    'Etapa del proyecto' : 'project_stage',\n",
    "    '¿Con cuantos potenciales inversores contactaste? ' : 'investors_contacted',\n",
    "    'Si participaste de una incubadora/aceleradora. ¿Cómo impactó ese proceso en tu negocio?' : 'accelerator_impact',\n",
    "    '¿Por qué no accediste a fondos?' : 'financing_non_reason',\n",
    "    '¿Qué desafíos tenés cómo founder hoy en día?' : 'challenges_current',\n",
    "    '¿Algún desafío único para crear productos para el mercado Argentino?' : 'challenges_argentina',\n",
    "    '¿Dónde necesitas más apoyo?' : 'challenges_support',\n",
    "    '¿Qué políticas o regulaciones te perjudican?' : 'regulation_disadvantage',\n",
    "    '¿Qué políticas o regulaciones te benefician?' : 'regulation_advantage',\n",
    "    'Tipo de empresa' : 'project_type',\n",
    "    'Cantidad de gente en el equipo' : 'team_quantity',\n",
    "    '¿Qué porcentaje de ese equipo está en Argentina?' : 'team_split',\n",
    "    'Lugar trabajo' : 'project_workplace',\n",
    "    'Estructura legal' : 'legal_structure', \n",
    "    # '@' : '', \n",
    "    # 'Repetido' : '', \n",
    "    # 'Not crypto' : '',\n",
    "    # 'included in Landscape' : '', \n",
    "    'Industria/vertical' : 'industry', \n",
    "    'Edad': 'founder_age',\n",
    "    'Lugar de nacimiento - Provincia' : 'birth_province', \n",
    "    'Lugar de nacimiento - Pais' : 'birth_country',\n",
    "    'Lugar de residencia - Provincia': 'living_province', \n",
    "    'Lugar de residencia - Pais' : 'living_country',\n",
    "}"
   ]
  },
  {
   "cell_type": "code",
   "execution_count": 170,
   "id": "b0512e57-f6dc-463c-889e-16b42b5127f5",
   "metadata": {},
   "outputs": [],
   "source": [
    "# rename columns to english and simplify\n",
    "df.rename(columns=column_names, inplace=True)"
   ]
  },
  {
   "cell_type": "code",
   "execution_count": 171,
   "id": "c9fd1dee-72e8-4f86-a438-a5a94dc968d5",
   "metadata": {},
   "outputs": [],
   "source": [
    "df['founder_age'] = pd.to_numeric(df['founder_age'])"
   ]
  },
  {
   "cell_type": "code",
   "execution_count": null,
   "id": "8d9589ac-7519-49e7-a0a7-28146331fd16",
   "metadata": {},
   "outputs": [],
   "source": [
    "# clean date\n",
    "df['project_start'] = np.where(df['project_start']=='4/1/0021', '4/1/2021',df['project_start'])"
   ]
  },
  {
   "cell_type": "code",
   "execution_count": 215,
   "id": "36b2de97-e130-48e5-aa45-47cab9b96349",
   "metadata": {},
   "outputs": [],
   "source": [
    "# enforce date datatype\n",
    "df['project_start'] = pd.to_datetime(df['project_start'])"
   ]
  },
  {
   "cell_type": "code",
   "execution_count": 218,
   "id": "d0098c5b-8276-417e-b57a-8af6dfe67ec6",
   "metadata": {},
   "outputs": [],
   "source": [
    "# ignore date of birth\n",
    "df = df[ df['project_start'] > '01/01/2010']"
   ]
  },
  {
   "cell_type": "markdown",
   "id": "2ffad411-e4e1-4922-bf1a-4819a5816761",
   "metadata": {},
   "source": [
    "# Analysis"
   ]
  },
  {
   "cell_type": "code",
   "execution_count": 172,
   "id": "b8577576-11e2-4d6d-b0fd-408c3e66f411",
   "metadata": {},
   "outputs": [
    {
     "data": {
      "application/vnd.plotly.v1+json": {
       "config": {
        "plotlyServerURL": "https://plot.ly"
       },
       "data": [
        {
         "alignmentgroup": "True",
         "bingroup": "x",
         "hovertemplate": "founder_age=%{x}<br>count=%{y}<extra></extra>",
         "legendgroup": "",
         "marker": {
          "color": "#636efa",
          "pattern": {
           "shape": ""
          }
         },
         "name": "",
         "offsetgroup": "",
         "orientation": "v",
         "showlegend": false,
         "type": "histogram",
         "x": [
          25,
          24,
          27,
          28,
          29,
          46,
          41,
          25,
          47,
          32,
          30,
          32,
          26,
          20,
          34,
          45,
          33,
          32,
          27,
          59,
          null,
          21,
          42,
          25,
          28,
          46,
          30,
          36,
          50,
          31,
          28,
          20,
          28,
          38,
          50,
          45,
          25,
          26,
          30,
          21,
          49,
          22,
          36,
          40,
          41,
          42,
          25,
          35,
          43,
          43,
          19,
          27,
          33,
          33,
          28,
          34,
          43,
          27,
          34,
          35,
          22,
          28,
          30,
          46,
          30,
          25,
          38,
          35,
          39,
          49,
          46,
          48,
          28
         ],
         "xaxis": "x",
         "yaxis": "y"
        }
       ],
       "layout": {
        "autosize": true,
        "barmode": "relative",
        "legend": {
         "tracegroupgap": 0
        },
        "template": {
         "data": {
          "bar": [
           {
            "error_x": {
             "color": "#2a3f5f"
            },
            "error_y": {
             "color": "#2a3f5f"
            },
            "marker": {
             "line": {
              "color": "#E5ECF6",
              "width": 0.5
             },
             "pattern": {
              "fillmode": "overlay",
              "size": 10,
              "solidity": 0.2
             }
            },
            "type": "bar"
           }
          ],
          "barpolar": [
           {
            "marker": {
             "line": {
              "color": "#E5ECF6",
              "width": 0.5
             },
             "pattern": {
              "fillmode": "overlay",
              "size": 10,
              "solidity": 0.2
             }
            },
            "type": "barpolar"
           }
          ],
          "carpet": [
           {
            "aaxis": {
             "endlinecolor": "#2a3f5f",
             "gridcolor": "white",
             "linecolor": "white",
             "minorgridcolor": "white",
             "startlinecolor": "#2a3f5f"
            },
            "baxis": {
             "endlinecolor": "#2a3f5f",
             "gridcolor": "white",
             "linecolor": "white",
             "minorgridcolor": "white",
             "startlinecolor": "#2a3f5f"
            },
            "type": "carpet"
           }
          ],
          "choropleth": [
           {
            "colorbar": {
             "outlinewidth": 0,
             "ticks": ""
            },
            "type": "choropleth"
           }
          ],
          "contour": [
           {
            "colorbar": {
             "outlinewidth": 0,
             "ticks": ""
            },
            "colorscale": [
             [
              0,
              "#0d0887"
             ],
             [
              0.1111111111111111,
              "#46039f"
             ],
             [
              0.2222222222222222,
              "#7201a8"
             ],
             [
              0.3333333333333333,
              "#9c179e"
             ],
             [
              0.4444444444444444,
              "#bd3786"
             ],
             [
              0.5555555555555556,
              "#d8576b"
             ],
             [
              0.6666666666666666,
              "#ed7953"
             ],
             [
              0.7777777777777778,
              "#fb9f3a"
             ],
             [
              0.8888888888888888,
              "#fdca26"
             ],
             [
              1,
              "#f0f921"
             ]
            ],
            "type": "contour"
           }
          ],
          "contourcarpet": [
           {
            "colorbar": {
             "outlinewidth": 0,
             "ticks": ""
            },
            "type": "contourcarpet"
           }
          ],
          "heatmap": [
           {
            "colorbar": {
             "outlinewidth": 0,
             "ticks": ""
            },
            "colorscale": [
             [
              0,
              "#0d0887"
             ],
             [
              0.1111111111111111,
              "#46039f"
             ],
             [
              0.2222222222222222,
              "#7201a8"
             ],
             [
              0.3333333333333333,
              "#9c179e"
             ],
             [
              0.4444444444444444,
              "#bd3786"
             ],
             [
              0.5555555555555556,
              "#d8576b"
             ],
             [
              0.6666666666666666,
              "#ed7953"
             ],
             [
              0.7777777777777778,
              "#fb9f3a"
             ],
             [
              0.8888888888888888,
              "#fdca26"
             ],
             [
              1,
              "#f0f921"
             ]
            ],
            "type": "heatmap"
           }
          ],
          "heatmapgl": [
           {
            "colorbar": {
             "outlinewidth": 0,
             "ticks": ""
            },
            "colorscale": [
             [
              0,
              "#0d0887"
             ],
             [
              0.1111111111111111,
              "#46039f"
             ],
             [
              0.2222222222222222,
              "#7201a8"
             ],
             [
              0.3333333333333333,
              "#9c179e"
             ],
             [
              0.4444444444444444,
              "#bd3786"
             ],
             [
              0.5555555555555556,
              "#d8576b"
             ],
             [
              0.6666666666666666,
              "#ed7953"
             ],
             [
              0.7777777777777778,
              "#fb9f3a"
             ],
             [
              0.8888888888888888,
              "#fdca26"
             ],
             [
              1,
              "#f0f921"
             ]
            ],
            "type": "heatmapgl"
           }
          ],
          "histogram": [
           {
            "marker": {
             "pattern": {
              "fillmode": "overlay",
              "size": 10,
              "solidity": 0.2
             }
            },
            "type": "histogram"
           }
          ],
          "histogram2d": [
           {
            "colorbar": {
             "outlinewidth": 0,
             "ticks": ""
            },
            "colorscale": [
             [
              0,
              "#0d0887"
             ],
             [
              0.1111111111111111,
              "#46039f"
             ],
             [
              0.2222222222222222,
              "#7201a8"
             ],
             [
              0.3333333333333333,
              "#9c179e"
             ],
             [
              0.4444444444444444,
              "#bd3786"
             ],
             [
              0.5555555555555556,
              "#d8576b"
             ],
             [
              0.6666666666666666,
              "#ed7953"
             ],
             [
              0.7777777777777778,
              "#fb9f3a"
             ],
             [
              0.8888888888888888,
              "#fdca26"
             ],
             [
              1,
              "#f0f921"
             ]
            ],
            "type": "histogram2d"
           }
          ],
          "histogram2dcontour": [
           {
            "colorbar": {
             "outlinewidth": 0,
             "ticks": ""
            },
            "colorscale": [
             [
              0,
              "#0d0887"
             ],
             [
              0.1111111111111111,
              "#46039f"
             ],
             [
              0.2222222222222222,
              "#7201a8"
             ],
             [
              0.3333333333333333,
              "#9c179e"
             ],
             [
              0.4444444444444444,
              "#bd3786"
             ],
             [
              0.5555555555555556,
              "#d8576b"
             ],
             [
              0.6666666666666666,
              "#ed7953"
             ],
             [
              0.7777777777777778,
              "#fb9f3a"
             ],
             [
              0.8888888888888888,
              "#fdca26"
             ],
             [
              1,
              "#f0f921"
             ]
            ],
            "type": "histogram2dcontour"
           }
          ],
          "mesh3d": [
           {
            "colorbar": {
             "outlinewidth": 0,
             "ticks": ""
            },
            "type": "mesh3d"
           }
          ],
          "parcoords": [
           {
            "line": {
             "colorbar": {
              "outlinewidth": 0,
              "ticks": ""
             }
            },
            "type": "parcoords"
           }
          ],
          "pie": [
           {
            "automargin": true,
            "type": "pie"
           }
          ],
          "scatter": [
           {
            "fillpattern": {
             "fillmode": "overlay",
             "size": 10,
             "solidity": 0.2
            },
            "type": "scatter"
           }
          ],
          "scatter3d": [
           {
            "line": {
             "colorbar": {
              "outlinewidth": 0,
              "ticks": ""
             }
            },
            "marker": {
             "colorbar": {
              "outlinewidth": 0,
              "ticks": ""
             }
            },
            "type": "scatter3d"
           }
          ],
          "scattercarpet": [
           {
            "marker": {
             "colorbar": {
              "outlinewidth": 0,
              "ticks": ""
             }
            },
            "type": "scattercarpet"
           }
          ],
          "scattergeo": [
           {
            "marker": {
             "colorbar": {
              "outlinewidth": 0,
              "ticks": ""
             }
            },
            "type": "scattergeo"
           }
          ],
          "scattergl": [
           {
            "marker": {
             "colorbar": {
              "outlinewidth": 0,
              "ticks": ""
             }
            },
            "type": "scattergl"
           }
          ],
          "scattermapbox": [
           {
            "marker": {
             "colorbar": {
              "outlinewidth": 0,
              "ticks": ""
             }
            },
            "type": "scattermapbox"
           }
          ],
          "scatterpolar": [
           {
            "marker": {
             "colorbar": {
              "outlinewidth": 0,
              "ticks": ""
             }
            },
            "type": "scatterpolar"
           }
          ],
          "scatterpolargl": [
           {
            "marker": {
             "colorbar": {
              "outlinewidth": 0,
              "ticks": ""
             }
            },
            "type": "scatterpolargl"
           }
          ],
          "scatterternary": [
           {
            "marker": {
             "colorbar": {
              "outlinewidth": 0,
              "ticks": ""
             }
            },
            "type": "scatterternary"
           }
          ],
          "surface": [
           {
            "colorbar": {
             "outlinewidth": 0,
             "ticks": ""
            },
            "colorscale": [
             [
              0,
              "#0d0887"
             ],
             [
              0.1111111111111111,
              "#46039f"
             ],
             [
              0.2222222222222222,
              "#7201a8"
             ],
             [
              0.3333333333333333,
              "#9c179e"
             ],
             [
              0.4444444444444444,
              "#bd3786"
             ],
             [
              0.5555555555555556,
              "#d8576b"
             ],
             [
              0.6666666666666666,
              "#ed7953"
             ],
             [
              0.7777777777777778,
              "#fb9f3a"
             ],
             [
              0.8888888888888888,
              "#fdca26"
             ],
             [
              1,
              "#f0f921"
             ]
            ],
            "type": "surface"
           }
          ],
          "table": [
           {
            "cells": {
             "fill": {
              "color": "#EBF0F8"
             },
             "line": {
              "color": "white"
             }
            },
            "header": {
             "fill": {
              "color": "#C8D4E3"
             },
             "line": {
              "color": "white"
             }
            },
            "type": "table"
           }
          ]
         },
         "layout": {
          "annotationdefaults": {
           "arrowcolor": "#2a3f5f",
           "arrowhead": 0,
           "arrowwidth": 1
          },
          "autotypenumbers": "strict",
          "coloraxis": {
           "colorbar": {
            "outlinewidth": 0,
            "ticks": ""
           }
          },
          "colorscale": {
           "diverging": [
            [
             0,
             "#8e0152"
            ],
            [
             0.1,
             "#c51b7d"
            ],
            [
             0.2,
             "#de77ae"
            ],
            [
             0.3,
             "#f1b6da"
            ],
            [
             0.4,
             "#fde0ef"
            ],
            [
             0.5,
             "#f7f7f7"
            ],
            [
             0.6,
             "#e6f5d0"
            ],
            [
             0.7,
             "#b8e186"
            ],
            [
             0.8,
             "#7fbc41"
            ],
            [
             0.9,
             "#4d9221"
            ],
            [
             1,
             "#276419"
            ]
           ],
           "sequential": [
            [
             0,
             "#0d0887"
            ],
            [
             0.1111111111111111,
             "#46039f"
            ],
            [
             0.2222222222222222,
             "#7201a8"
            ],
            [
             0.3333333333333333,
             "#9c179e"
            ],
            [
             0.4444444444444444,
             "#bd3786"
            ],
            [
             0.5555555555555556,
             "#d8576b"
            ],
            [
             0.6666666666666666,
             "#ed7953"
            ],
            [
             0.7777777777777778,
             "#fb9f3a"
            ],
            [
             0.8888888888888888,
             "#fdca26"
            ],
            [
             1,
             "#f0f921"
            ]
           ],
           "sequentialminus": [
            [
             0,
             "#0d0887"
            ],
            [
             0.1111111111111111,
             "#46039f"
            ],
            [
             0.2222222222222222,
             "#7201a8"
            ],
            [
             0.3333333333333333,
             "#9c179e"
            ],
            [
             0.4444444444444444,
             "#bd3786"
            ],
            [
             0.5555555555555556,
             "#d8576b"
            ],
            [
             0.6666666666666666,
             "#ed7953"
            ],
            [
             0.7777777777777778,
             "#fb9f3a"
            ],
            [
             0.8888888888888888,
             "#fdca26"
            ],
            [
             1,
             "#f0f921"
            ]
           ]
          },
          "colorway": [
           "#636efa",
           "#EF553B",
           "#00cc96",
           "#ab63fa",
           "#FFA15A",
           "#19d3f3",
           "#FF6692",
           "#B6E880",
           "#FF97FF",
           "#FECB52"
          ],
          "font": {
           "color": "#2a3f5f"
          },
          "geo": {
           "bgcolor": "white",
           "lakecolor": "white",
           "landcolor": "#E5ECF6",
           "showlakes": true,
           "showland": true,
           "subunitcolor": "white"
          },
          "hoverlabel": {
           "align": "left"
          },
          "hovermode": "closest",
          "mapbox": {
           "style": "light"
          },
          "paper_bgcolor": "white",
          "plot_bgcolor": "#E5ECF6",
          "polar": {
           "angularaxis": {
            "gridcolor": "white",
            "linecolor": "white",
            "ticks": ""
           },
           "bgcolor": "#E5ECF6",
           "radialaxis": {
            "gridcolor": "white",
            "linecolor": "white",
            "ticks": ""
           }
          },
          "scene": {
           "xaxis": {
            "backgroundcolor": "#E5ECF6",
            "gridcolor": "white",
            "gridwidth": 2,
            "linecolor": "white",
            "showbackground": true,
            "ticks": "",
            "zerolinecolor": "white"
           },
           "yaxis": {
            "backgroundcolor": "#E5ECF6",
            "gridcolor": "white",
            "gridwidth": 2,
            "linecolor": "white",
            "showbackground": true,
            "ticks": "",
            "zerolinecolor": "white"
           },
           "zaxis": {
            "backgroundcolor": "#E5ECF6",
            "gridcolor": "white",
            "gridwidth": 2,
            "linecolor": "white",
            "showbackground": true,
            "ticks": "",
            "zerolinecolor": "white"
           }
          },
          "shapedefaults": {
           "line": {
            "color": "#2a3f5f"
           }
          },
          "ternary": {
           "aaxis": {
            "gridcolor": "white",
            "linecolor": "white",
            "ticks": ""
           },
           "baxis": {
            "gridcolor": "white",
            "linecolor": "white",
            "ticks": ""
           },
           "bgcolor": "#E5ECF6",
           "caxis": {
            "gridcolor": "white",
            "linecolor": "white",
            "ticks": ""
           }
          },
          "title": {
           "x": 0.05
          },
          "xaxis": {
           "automargin": true,
           "gridcolor": "white",
           "linecolor": "white",
           "ticks": "",
           "title": {
            "standoff": 15
           },
           "zerolinecolor": "white",
           "zerolinewidth": 2
          },
          "yaxis": {
           "automargin": true,
           "gridcolor": "white",
           "linecolor": "white",
           "ticks": "",
           "title": {
            "standoff": 15
           },
           "zerolinecolor": "white",
           "zerolinewidth": 2
          }
         }
        },
        "title": {
         "text": "Founders' Age"
        },
        "xaxis": {
         "anchor": "y",
         "autorange": true,
         "domain": [
          0,
          1
         ],
         "range": [
          14.5,
          59.5
         ],
         "title": {
          "text": "founder_age"
         },
         "type": "linear"
        },
        "yaxis": {
         "anchor": "x",
         "autorange": true,
         "domain": [
          0,
          1
         ],
         "range": [
          0,
          21.05263157894737
         ],
         "title": {
          "text": "count"
         }
        }
       }
      },
      "image/png": "[encoded data removed]",
      "text/html": [
       "<div>                            <div id=\"c55fbda7-38f9-4afc-8bb9-1dd69bf47d18\" class=\"plotly-graph-div\" style=\"height:525px; width:100%;\"></div>            <script type=\"text/javascript\">                require([\"plotly\"], function(Plotly) {                    window.PLOTLYENV=window.PLOTLYENV || {};                                    if (document.getElementById(\"c55fbda7-38f9-4afc-8bb9-1dd69bf47d18\")) {                    Plotly.newPlot(                        \"c55fbda7-38f9-4afc-8bb9-1dd69bf47d18\",                        [{\"alignmentgroup\":\"True\",\"bingroup\":\"x\",\"hovertemplate\":\"founder_age=%{x}\\u003cbr\\u003ecount=%{y}\\u003cextra\\u003e\\u003c\\u002fextra\\u003e\",\"legendgroup\":\"\",\"marker\":{\"color\":\"#636efa\",\"pattern\":{\"shape\":\"\"}},\"name\":\"\",\"offsetgroup\":\"\",\"orientation\":\"v\",\"showlegend\":false,\"x\":[25.0,24.0,27.0,28.0,29.0,46.0,41.0,25.0,47.0,32.0,30.0,32.0,26.0,20.0,34.0,45.0,33.0,32.0,27.0,59.0,null,21.0,42.0,25.0,28.0,46.0,30.0,36.0,50.0,31.0,28.0,20.0,28.0,38.0,50.0,45.0,25.0,26.0,30.0,21.0,49.0,22.0,36.0,40.0,41.0,42.0,25.0,35.0,43.0,43.0,19.0,27.0,33.0,33.0,28.0,34.0,43.0,27.0,34.0,35.0,22.0,28.0,30.0,46.0,30.0,25.0,38.0,35.0,39.0,49.0,46.0,48.0,28.0],\"xaxis\":\"x\",\"yaxis\":\"y\",\"type\":\"histogram\"}],                        {\"template\":{\"data\":{\"histogram2dcontour\":[{\"type\":\"histogram2dcontour\",\"colorbar\":{\"outlinewidth\":0,\"ticks\":\"\"},\"colorscale\":[[0.0,\"#0d0887\"],[0.1111111111111111,\"#46039f\"],[0.2222222222222222,\"#7201a8\"],[0.3333333333333333,\"#9c179e\"],[0.4444444444444444,\"#bd3786\"],[0.5555555555555556,\"#d8576b\"],[0.6666666666666666,\"#ed7953\"],[0.7777777777777778,\"#fb9f3a\"],[0.8888888888888888,\"#fdca26\"],[1.0,\"#f0f921\"]]}],\"choropleth\":[{\"type\":\"choropleth\",\"colorbar\":{\"outlinewidth\":0,\"ticks\":\"\"}}],\"histogram2d\":[{\"type\":\"histogram2d\",\"colorbar\":{\"outlinewidth\":0,\"ticks\":\"\"},\"colorscale\":[[0.0,\"#0d0887\"],[0.1111111111111111,\"#46039f\"],[0.2222222222222222,\"#7201a8\"],[0.3333333333333333,\"#9c179e\"],[0.4444444444444444,\"#bd3786\"],[0.5555555555555556,\"#d8576b\"],[0.6666666666666666,\"#ed7953\"],[0.7777777777777778,\"#fb9f3a\"],[0.8888888888888888,\"#fdca26\"],[1.0,\"#f0f921\"]]}],\"heatmap\":[{\"type\":\"heatmap\",\"colorbar\":{\"outlinewidth\":0,\"ticks\":\"\"},\"colorscale\":[[0.0,\"#0d0887\"],[0.1111111111111111,\"#46039f\"],[0.2222222222222222,\"#7201a8\"],[0.3333333333333333,\"#9c179e\"],[0.4444444444444444,\"#bd3786\"],[0.5555555555555556,\"#d8576b\"],[0.6666666666666666,\"#ed7953\"],[0.7777777777777778,\"#fb9f3a\"],[0.8888888888888888,\"#fdca26\"],[1.0,\"#f0f921\"]]}],\"heatmapgl\":[{\"type\":\"heatmapgl\",\"colorbar\":{\"outlinewidth\":0,\"ticks\":\"\"},\"colorscale\":[[0.0,\"#0d0887\"],[0.1111111111111111,\"#46039f\"],[0.2222222222222222,\"#7201a8\"],[0.3333333333333333,\"#9c179e\"],[0.4444444444444444,\"#bd3786\"],[0.5555555555555556,\"#d8576b\"],[0.6666666666666666,\"#ed7953\"],[0.7777777777777778,\"#fb9f3a\"],[0.8888888888888888,\"#fdca26\"],[1.0,\"#f0f921\"]]}],\"contourcarpet\":[{\"type\":\"contourcarpet\",\"colorbar\":{\"outlinewidth\":0,\"ticks\":\"\"}}],\"contour\":[{\"type\":\"contour\",\"colorbar\":{\"outlinewidth\":0,\"ticks\":\"\"},\"colorscale\":[[0.0,\"#0d0887\"],[0.1111111111111111,\"#46039f\"],[0.2222222222222222,\"#7201a8\"],[0.3333333333333333,\"#9c179e\"],[0.4444444444444444,\"#bd3786\"],[0.5555555555555556,\"#d8576b\"],[0.6666666666666666,\"#ed7953\"],[0.7777777777777778,\"#fb9f3a\"],[0.8888888888888888,\"#fdca26\"],[1.0,\"#f0f921\"]]}],\"surface\":[{\"type\":\"surface\",\"colorbar\":{\"outlinewidth\":0,\"ticks\":\"\"},\"colorscale\":[[0.0,\"#0d0887\"],[0.1111111111111111,\"#46039f\"],[0.2222222222222222,\"#7201a8\"],[0.3333333333333333,\"#9c179e\"],[0.4444444444444444,\"#bd3786\"],[0.5555555555555556,\"#d8576b\"],[0.6666666666666666,\"#ed7953\"],[0.7777777777777778,\"#fb9f3a\"],[0.8888888888888888,\"#fdca26\"],[1.0,\"#f0f921\"]]}],\"mesh3d\":[{\"type\":\"mesh3d\",\"colorbar\":{\"outlinewidth\":0,\"ticks\":\"\"}}],\"scatter\":[{\"fillpattern\":{\"fillmode\":\"overlay\",\"size\":10,\"solidity\":0.2},\"type\":\"scatter\"}],\"parcoords\":[{\"type\":\"parcoords\",\"line\":{\"colorbar\":{\"outlinewidth\":0,\"ticks\":\"\"}}}],\"scatterpolargl\":[{\"type\":\"scatterpolargl\",\"marker\":{\"colorbar\":{\"outlinewidth\":0,\"ticks\":\"\"}}}],\"bar\":[{\"error_x\":{\"color\":\"#2a3f5f\"},\"error_y\":{\"color\":\"#2a3f5f\"},\"marker\":{\"line\":{\"color\":\"#E5ECF6\",\"width\":0.5},\"pattern\":{\"fillmode\":\"overlay\",\"size\":10,\"solidity\":0.2}},\"type\":\"bar\"}],\"scattergeo\":[{\"type\":\"scattergeo\",\"marker\":{\"colorbar\":{\"outlinewidth\":0,\"ticks\":\"\"}}}],\"scatterpolar\":[{\"type\":\"scatterpolar\",\"marker\":{\"colorbar\":{\"outlinewidth\":0,\"ticks\":\"\"}}}],\"histogram\":[{\"marker\":{\"pattern\":{\"fillmode\":\"overlay\",\"size\":10,\"solidity\":0.2}},\"type\":\"histogram\"}],\"scattergl\":[{\"type\":\"scattergl\",\"marker\":{\"colorbar\":{\"outlinewidth\":0,\"ticks\":\"\"}}}],\"scatter3d\":[{\"type\":\"scatter3d\",\"line\":{\"colorbar\":{\"outlinewidth\":0,\"ticks\":\"\"}},\"marker\":{\"colorbar\":{\"outlinewidth\":0,\"ticks\":\"\"}}}],\"scattermapbox\":[{\"type\":\"scattermapbox\",\"marker\":{\"colorbar\":{\"outlinewidth\":0,\"ticks\":\"\"}}}],\"scatterternary\":[{\"type\":\"scatterternary\",\"marker\":{\"colorbar\":{\"outlinewidth\":0,\"ticks\":\"\"}}}],\"scattercarpet\":[{\"type\":\"scattercarpet\",\"marker\":{\"colorbar\":{\"outlinewidth\":0,\"ticks\":\"\"}}}],\"carpet\":[{\"aaxis\":{\"endlinecolor\":\"#2a3f5f\",\"gridcolor\":\"white\",\"linecolor\":\"white\",\"minorgridcolor\":\"white\",\"startlinecolor\":\"#2a3f5f\"},\"baxis\":{\"endlinecolor\":\"#2a3f5f\",\"gridcolor\":\"white\",\"linecolor\":\"white\",\"minorgridcolor\":\"white\",\"startlinecolor\":\"#2a3f5f\"},\"type\":\"carpet\"}],\"table\":[{\"cells\":{\"fill\":{\"color\":\"#EBF0F8\"},\"line\":{\"color\":\"white\"}},\"header\":{\"fill\":{\"color\":\"#C8D4E3\"},\"line\":{\"color\":\"white\"}},\"type\":\"table\"}],\"barpolar\":[{\"marker\":{\"line\":{\"color\":\"#E5ECF6\",\"width\":0.5},\"pattern\":{\"fillmode\":\"overlay\",\"size\":10,\"solidity\":0.2}},\"type\":\"barpolar\"}],\"pie\":[{\"automargin\":true,\"type\":\"pie\"}]},\"layout\":{\"autotypenumbers\":\"strict\",\"colorway\":[\"#636efa\",\"#EF553B\",\"#00cc96\",\"#ab63fa\",\"#FFA15A\",\"#19d3f3\",\"#FF6692\",\"#B6E880\",\"#FF97FF\",\"#FECB52\"],\"font\":{\"color\":\"#2a3f5f\"},\"hovermode\":\"closest\",\"hoverlabel\":{\"align\":\"left\"},\"paper_bgcolor\":\"white\",\"plot_bgcolor\":\"#E5ECF6\",\"polar\":{\"bgcolor\":\"#E5ECF6\",\"angularaxis\":{\"gridcolor\":\"white\",\"linecolor\":\"white\",\"ticks\":\"\"},\"radialaxis\":{\"gridcolor\":\"white\",\"linecolor\":\"white\",\"ticks\":\"\"}},\"ternary\":{\"bgcolor\":\"#E5ECF6\",\"aaxis\":{\"gridcolor\":\"white\",\"linecolor\":\"white\",\"ticks\":\"\"},\"baxis\":{\"gridcolor\":\"white\",\"linecolor\":\"white\",\"ticks\":\"\"},\"caxis\":{\"gridcolor\":\"white\",\"linecolor\":\"white\",\"ticks\":\"\"}},\"coloraxis\":{\"colorbar\":{\"outlinewidth\":0,\"ticks\":\"\"}},\"colorscale\":{\"sequential\":[[0.0,\"#0d0887\"],[0.1111111111111111,\"#46039f\"],[0.2222222222222222,\"#7201a8\"],[0.3333333333333333,\"#9c179e\"],[0.4444444444444444,\"#bd3786\"],[0.5555555555555556,\"#d8576b\"],[0.6666666666666666,\"#ed7953\"],[0.7777777777777778,\"#fb9f3a\"],[0.8888888888888888,\"#fdca26\"],[1.0,\"#f0f921\"]],\"sequentialminus\":[[0.0,\"#0d0887\"],[0.1111111111111111,\"#46039f\"],[0.2222222222222222,\"#7201a8\"],[0.3333333333333333,\"#9c179e\"],[0.4444444444444444,\"#bd3786\"],[0.5555555555555556,\"#d8576b\"],[0.6666666666666666,\"#ed7953\"],[0.7777777777777778,\"#fb9f3a\"],[0.8888888888888888,\"#fdca26\"],[1.0,\"#f0f921\"]],\"diverging\":[[0,\"#8e0152\"],[0.1,\"#c51b7d\"],[0.2,\"#de77ae\"],[0.3,\"#f1b6da\"],[0.4,\"#fde0ef\"],[0.5,\"#f7f7f7\"],[0.6,\"#e6f5d0\"],[0.7,\"#b8e186\"],[0.8,\"#7fbc41\"],[0.9,\"#4d9221\"],[1,\"#276419\"]]},\"xaxis\":{\"gridcolor\":\"white\",\"linecolor\":\"white\",\"ticks\":\"\",\"title\":{\"standoff\":15},\"zerolinecolor\":\"white\",\"automargin\":true,\"zerolinewidth\":2},\"yaxis\":{\"gridcolor\":\"white\",\"linecolor\":\"white\",\"ticks\":\"\",\"title\":{\"standoff\":15},\"zerolinecolor\":\"white\",\"automargin\":true,\"zerolinewidth\":2},\"scene\":{\"xaxis\":{\"backgroundcolor\":\"#E5ECF6\",\"gridcolor\":\"white\",\"linecolor\":\"white\",\"showbackground\":true,\"ticks\":\"\",\"zerolinecolor\":\"white\",\"gridwidth\":2},\"yaxis\":{\"backgroundcolor\":\"#E5ECF6\",\"gridcolor\":\"white\",\"linecolor\":\"white\",\"showbackground\":true,\"ticks\":\"\",\"zerolinecolor\":\"white\",\"gridwidth\":2},\"zaxis\":{\"backgroundcolor\":\"#E5ECF6\",\"gridcolor\":\"white\",\"linecolor\":\"white\",\"showbackground\":true,\"ticks\":\"\",\"zerolinecolor\":\"white\",\"gridwidth\":2}},\"shapedefaults\":{\"line\":{\"color\":\"#2a3f5f\"}},\"annotationdefaults\":{\"arrowcolor\":\"#2a3f5f\",\"arrowhead\":0,\"arrowwidth\":1},\"geo\":{\"bgcolor\":\"white\",\"landcolor\":\"#E5ECF6\",\"subunitcolor\":\"white\",\"showland\":true,\"showlakes\":true,\"lakecolor\":\"white\"},\"title\":{\"x\":0.05},\"mapbox\":{\"style\":\"light\"}}},\"xaxis\":{\"anchor\":\"y\",\"domain\":[0.0,1.0],\"title\":{\"text\":\"founder_age\"}},\"yaxis\":{\"anchor\":\"x\",\"domain\":[0.0,1.0],\"title\":{\"text\":\"count\"}},\"legend\":{\"tracegroupgap\":0},\"title\":{\"text\":\"Founders' Age\"},\"barmode\":\"relative\"},                        {\"responsive\": true}                    ).then(function(){\n",
       "                            \n",
       "var gd = document.getElementById('c55fbda7-38f9-4afc-8bb9-1dd69bf47d18');\n",
       "var x = new MutationObserver(function (mutations, observer) {{\n",
       "        var display = window.getComputedStyle(gd).display;\n",
       "        if (!display || display === 'none') {{\n",
       "            console.log([gd, 'removed!']);\n",
       "            Plotly.purge(gd);\n",
       "            observer.disconnect();\n",
       "        }}\n",
       "}});\n",
       "\n",
       "// Listen for the removal of the full notebook cells\n",
       "var notebookContainer = gd.closest('#notebook-container');\n",
       "if (notebookContainer) {{\n",
       "    x.observe(notebookContainer, {childList: true});\n",
       "}}\n",
       "\n",
       "// Listen for the clearing of the current output cell\n",
       "var outputEl = gd.closest('.output');\n",
       "if (outputEl) {{\n",
       "    x.observe(outputEl, {childList: true});\n",
       "}}\n",
       "\n",
       "                        })                };                });            </script>        </div>"
      ]
     },
     "metadata": {},
     "output_type": "display_data"
    }
   ],
   "source": [
    "fig = px.histogram(df, x='founder_age', title=\"Founders' Age\")\n",
    "fig.show()"
   ]
  },
  {
   "cell_type": "code",
   "execution_count": 188,
   "id": "9d108096-639e-4db9-bd05-14557d8ca11f",
   "metadata": {},
   "outputs": [],
   "source": [
    "df_arg = df[['birth_province','birth_country','living_province','living_country']]"
   ]
  },
  {
   "cell_type": "code",
   "execution_count": 192,
   "id": "a1bec513-30d1-4ac0-a8e1-9e9f92841054",
   "metadata": {},
   "outputs": [
    {
     "data": {
      "application/vnd.plotly.v1+json": {
       "config": {
        "plotlyServerURL": "https://plot.ly"
       },
       "data": [
        {
         "dimensions": [
          {
           "label": "birth_country",
           "values": [
            "Argentina",
            "Argentina",
            "Argentina",
            "Argentina",
            "Argentina",
            "Argentina",
            "Argentina",
            "Argentina",
            "Argentina",
            "Argentina",
            "Argentina",
            "Venezuela",
            "Argentina",
            "Argentina",
            "Argentina",
            "Argentina",
            "Argentina",
            "Argentina",
            "Argentina",
            "Argentina",
            "Argentina",
            "Argentina",
            "Argentina",
            "Colombia",
            "Argentina",
            "Venezuela",
            "Argentina",
            "Argentina",
            "Argentina",
            "Argentina",
            "Argentina",
            null,
            "Argentina",
            "Argentina",
            "Argentina",
            "Argentina",
            "Argentina",
            "Argentina",
            "Argentina",
            "Argentina",
            "Argentina",
            "Argentina",
            "Argentina",
            "Argentina",
            "Argentina",
            "Argentina",
            "Argentina",
            "Argentina",
            "United States",
            "Uruguay",
            "Argentina",
            "Argentina",
            "Argentina",
            "Argentina",
            "Chile",
            "Rusia",
            "Argentina",
            "Argentina",
            "Argentina",
            "Argentina",
            "Argentina",
            "Argentina",
            "Venezuela",
            "Argentina",
            "Italia",
            "Argentina",
            "Argentina",
            "Argentina",
            "Argentina",
            "Argentina",
            "Brazil",
            "Argentina",
            "Argentina"
           ]
          },
          {
           "label": "living_country",
           "values": [
            "Argentina",
            "Argentina",
            "Argentina",
            "Argentina",
            "Argentina",
            "Argentina",
            "Argentina",
            "Argentina",
            "Argentina",
            "Argentina",
            "Argentina",
            "Argentina",
            "Argentina",
            "Argentina",
            "Argentina",
            "Argentina",
            "Argentina",
            "Argentina",
            "Argentina",
            "Spain",
            "Argentina",
            "Argentina",
            "Argentina",
            "Argentina",
            "Argentina",
            "Argentina",
            "Argentina",
            "Australia",
            "Argentina",
            "Argentina",
            "Argentina",
            "Argentina",
            "Argentina",
            "Argentina",
            "Argentina",
            "Argentina",
            "Poland",
            "Argentina",
            "Argentina",
            "Argentina",
            "Argentina",
            "Argentina",
            "Argentina",
            "Argentina",
            "Argentina",
            "Argentina",
            "Argentina",
            "Argentina",
            "Argentina",
            "Uruguay",
            "Argentina",
            "Argentina",
            null,
            "Argentina",
            "Chile",
            "Argentina",
            "Argentina",
            "Argentina",
            "Argentina",
            "Costa Rica",
            "United States",
            "Argentina",
            "Venezuela",
            "Argentina",
            "Netherlands",
            "Argentina",
            "Argentina",
            "Argentina",
            "Portugal",
            "Argentina",
            "Argentina",
            "Argentina",
            "Argentina"
           ]
          }
         ],
         "domain": {
          "x": [
           0,
           1
          ],
          "y": [
           0,
           1
          ]
         },
         "name": "",
         "type": "parcats"
        }
       ],
       "layout": {
        "autosize": true,
        "legend": {
         "tracegroupgap": 0
        },
        "margin": {
         "t": 60
        },
        "template": {
         "data": {
          "bar": [
           {
            "error_x": {
             "color": "#2a3f5f"
            },
            "error_y": {
             "color": "#2a3f5f"
            },
            "marker": {
             "line": {
              "color": "#E5ECF6",
              "width": 0.5
             },
             "pattern": {
              "fillmode": "overlay",
              "size": 10,
              "solidity": 0.2
             }
            },
            "type": "bar"
           }
          ],
          "barpolar": [
           {
            "marker": {
             "line": {
              "color": "#E5ECF6",
              "width": 0.5
             },
             "pattern": {
              "fillmode": "overlay",
              "size": 10,
              "solidity": 0.2
             }
            },
            "type": "barpolar"
           }
          ],
          "carpet": [
           {
            "aaxis": {
             "endlinecolor": "#2a3f5f",
             "gridcolor": "white",
             "linecolor": "white",
             "minorgridcolor": "white",
             "startlinecolor": "#2a3f5f"
            },
            "baxis": {
             "endlinecolor": "#2a3f5f",
             "gridcolor": "white",
             "linecolor": "white",
             "minorgridcolor": "white",
             "startlinecolor": "#2a3f5f"
            },
            "type": "carpet"
           }
          ],
          "choropleth": [
           {
            "colorbar": {
             "outlinewidth": 0,
             "ticks": ""
            },
            "type": "choropleth"
           }
          ],
          "contour": [
           {
            "colorbar": {
             "outlinewidth": 0,
             "ticks": ""
            },
            "colorscale": [
             [
              0,
              "#0d0887"
             ],
             [
              0.1111111111111111,
              "#46039f"
             ],
             [
              0.2222222222222222,
              "#7201a8"
             ],
             [
              0.3333333333333333,
              "#9c179e"
             ],
             [
              0.4444444444444444,
              "#bd3786"
             ],
             [
              0.5555555555555556,
              "#d8576b"
             ],
             [
              0.6666666666666666,
              "#ed7953"
             ],
             [
              0.7777777777777778,
              "#fb9f3a"
             ],
             [
              0.8888888888888888,
              "#fdca26"
             ],
             [
              1,
              "#f0f921"
             ]
            ],
            "type": "contour"
           }
          ],
          "contourcarpet": [
           {
            "colorbar": {
             "outlinewidth": 0,
             "ticks": ""
            },
            "type": "contourcarpet"
           }
          ],
          "heatmap": [
           {
            "colorbar": {
             "outlinewidth": 0,
             "ticks": ""
            },
            "colorscale": [
             [
              0,
              "#0d0887"
             ],
             [
              0.1111111111111111,
              "#46039f"
             ],
             [
              0.2222222222222222,
              "#7201a8"
             ],
             [
              0.3333333333333333,
              "#9c179e"
             ],
             [
              0.4444444444444444,
              "#bd3786"
             ],
             [
              0.5555555555555556,
              "#d8576b"
             ],
             [
              0.6666666666666666,
              "#ed7953"
             ],
             [
              0.7777777777777778,
              "#fb9f3a"
             ],
             [
              0.8888888888888888,
              "#fdca26"
             ],
             [
              1,
              "#f0f921"
             ]
            ],
            "type": "heatmap"
           }
          ],
          "heatmapgl": [
           {
            "colorbar": {
             "outlinewidth": 0,
             "ticks": ""
            },
            "colorscale": [
             [
              0,
              "#0d0887"
             ],
             [
              0.1111111111111111,
              "#46039f"
             ],
             [
              0.2222222222222222,
              "#7201a8"
             ],
             [
              0.3333333333333333,
              "#9c179e"
             ],
             [
              0.4444444444444444,
              "#bd3786"
             ],
             [
              0.5555555555555556,
              "#d8576b"
             ],
             [
              0.6666666666666666,
              "#ed7953"
             ],
             [
              0.7777777777777778,
              "#fb9f3a"
             ],
             [
              0.8888888888888888,
              "#fdca26"
             ],
             [
              1,
              "#f0f921"
             ]
            ],
            "type": "heatmapgl"
           }
          ],
          "histogram": [
           {
            "marker": {
             "pattern": {
              "fillmode": "overlay",
              "size": 10,
              "solidity": 0.2
             }
            },
            "type": "histogram"
           }
          ],
          "histogram2d": [
           {
            "colorbar": {
             "outlinewidth": 0,
             "ticks": ""
            },
            "colorscale": [
             [
              0,
              "#0d0887"
             ],
             [
              0.1111111111111111,
              "#46039f"
             ],
             [
              0.2222222222222222,
              "#7201a8"
             ],
             [
              0.3333333333333333,
              "#9c179e"
             ],
             [
              0.4444444444444444,
              "#bd3786"
             ],
             [
              0.5555555555555556,
              "#d8576b"
             ],
             [
              0.6666666666666666,
              "#ed7953"
             ],
             [
              0.7777777777777778,
              "#fb9f3a"
             ],
             [
              0.8888888888888888,
              "#fdca26"
             ],
             [
              1,
              "#f0f921"
             ]
            ],
            "type": "histogram2d"
           }
          ],
          "histogram2dcontour": [
           {
            "colorbar": {
             "outlinewidth": 0,
             "ticks": ""
            },
            "colorscale": [
             [
              0,
              "#0d0887"
             ],
             [
              0.1111111111111111,
              "#46039f"
             ],
             [
              0.2222222222222222,
              "#7201a8"
             ],
             [
              0.3333333333333333,
              "#9c179e"
             ],
             [
              0.4444444444444444,
              "#bd3786"
             ],
             [
              0.5555555555555556,
              "#d8576b"
             ],
             [
              0.6666666666666666,
              "#ed7953"
             ],
             [
              0.7777777777777778,
              "#fb9f3a"
             ],
             [
              0.8888888888888888,
              "#fdca26"
             ],
             [
              1,
              "#f0f921"
             ]
            ],
            "type": "histogram2dcontour"
           }
          ],
          "mesh3d": [
           {
            "colorbar": {
             "outlinewidth": 0,
             "ticks": ""
            },
            "type": "mesh3d"
           }
          ],
          "parcoords": [
           {
            "line": {
             "colorbar": {
              "outlinewidth": 0,
              "ticks": ""
             }
            },
            "type": "parcoords"
           }
          ],
          "pie": [
           {
            "automargin": true,
            "type": "pie"
           }
          ],
          "scatter": [
           {
            "fillpattern": {
             "fillmode": "overlay",
             "size": 10,
             "solidity": 0.2
            },
            "type": "scatter"
           }
          ],
          "scatter3d": [
           {
            "line": {
             "colorbar": {
              "outlinewidth": 0,
              "ticks": ""
             }
            },
            "marker": {
             "colorbar": {
              "outlinewidth": 0,
              "ticks": ""
             }
            },
            "type": "scatter3d"
           }
          ],
          "scattercarpet": [
           {
            "marker": {
             "colorbar": {
              "outlinewidth": 0,
              "ticks": ""
             }
            },
            "type": "scattercarpet"
           }
          ],
          "scattergeo": [
           {
            "marker": {
             "colorbar": {
              "outlinewidth": 0,
              "ticks": ""
             }
            },
            "type": "scattergeo"
           }
          ],
          "scattergl": [
           {
            "marker": {
             "colorbar": {
              "outlinewidth": 0,
              "ticks": ""
             }
            },
            "type": "scattergl"
           }
          ],
          "scattermapbox": [
           {
            "marker": {
             "colorbar": {
              "outlinewidth": 0,
              "ticks": ""
             }
            },
            "type": "scattermapbox"
           }
          ],
          "scatterpolar": [
           {
            "marker": {
             "colorbar": {
              "outlinewidth": 0,
              "ticks": ""
             }
            },
            "type": "scatterpolar"
           }
          ],
          "scatterpolargl": [
           {
            "marker": {
             "colorbar": {
              "outlinewidth": 0,
              "ticks": ""
             }
            },
            "type": "scatterpolargl"
           }
          ],
          "scatterternary": [
           {
            "marker": {
             "colorbar": {
              "outlinewidth": 0,
              "ticks": ""
             }
            },
            "type": "scatterternary"
           }
          ],
          "surface": [
           {
            "colorbar": {
             "outlinewidth": 0,
             "ticks": ""
            },
            "colorscale": [
             [
              0,
              "#0d0887"
             ],
             [
              0.1111111111111111,
              "#46039f"
             ],
             [
              0.2222222222222222,
              "#7201a8"
             ],
             [
              0.3333333333333333,
              "#9c179e"
             ],
             [
              0.4444444444444444,
              "#bd3786"
             ],
             [
              0.5555555555555556,
              "#d8576b"
             ],
             [
              0.6666666666666666,
              "#ed7953"
             ],
             [
              0.7777777777777778,
              "#fb9f3a"
             ],
             [
              0.8888888888888888,
              "#fdca26"
             ],
             [
              1,
              "#f0f921"
             ]
            ],
            "type": "surface"
           }
          ],
          "table": [
           {
            "cells": {
             "fill": {
              "color": "#EBF0F8"
             },
             "line": {
              "color": "white"
             }
            },
            "header": {
             "fill": {
              "color": "#C8D4E3"
             },
             "line": {
              "color": "white"
             }
            },
            "type": "table"
           }
          ]
         },
         "layout": {
          "annotationdefaults": {
           "arrowcolor": "#2a3f5f",
           "arrowhead": 0,
           "arrowwidth": 1
          },
          "autotypenumbers": "strict",
          "coloraxis": {
           "colorbar": {
            "outlinewidth": 0,
            "ticks": ""
           }
          },
          "colorscale": {
           "diverging": [
            [
             0,
             "#8e0152"
            ],
            [
             0.1,
             "#c51b7d"
            ],
            [
             0.2,
             "#de77ae"
            ],
            [
             0.3,
             "#f1b6da"
            ],
            [
             0.4,
             "#fde0ef"
            ],
            [
             0.5,
             "#f7f7f7"
            ],
            [
             0.6,
             "#e6f5d0"
            ],
            [
             0.7,
             "#b8e186"
            ],
            [
             0.8,
             "#7fbc41"
            ],
            [
             0.9,
             "#4d9221"
            ],
            [
             1,
             "#276419"
            ]
           ],
           "sequential": [
            [
             0,
             "#0d0887"
            ],
            [
             0.1111111111111111,
             "#46039f"
            ],
            [
             0.2222222222222222,
             "#7201a8"
            ],
            [
             0.3333333333333333,
             "#9c179e"
            ],
            [
             0.4444444444444444,
             "#bd3786"
            ],
            [
             0.5555555555555556,
             "#d8576b"
            ],
            [
             0.6666666666666666,
             "#ed7953"
            ],
            [
             0.7777777777777778,
             "#fb9f3a"
            ],
            [
             0.8888888888888888,
             "#fdca26"
            ],
            [
             1,
             "#f0f921"
            ]
           ],
           "sequentialminus": [
            [
             0,
             "#0d0887"
            ],
            [
             0.1111111111111111,
             "#46039f"
            ],
            [
             0.2222222222222222,
             "#7201a8"
            ],
            [
             0.3333333333333333,
             "#9c179e"
            ],
            [
             0.4444444444444444,
             "#bd3786"
            ],
            [
             0.5555555555555556,
             "#d8576b"
            ],
            [
             0.6666666666666666,
             "#ed7953"
            ],
            [
             0.7777777777777778,
             "#fb9f3a"
            ],
            [
             0.8888888888888888,
             "#fdca26"
            ],
            [
             1,
             "#f0f921"
            ]
           ]
          },
          "colorway": [
           "#636efa",
           "#EF553B",
           "#00cc96",
           "#ab63fa",
           "#FFA15A",
           "#19d3f3",
           "#FF6692",
           "#B6E880",
           "#FF97FF",
           "#FECB52"
          ],
          "font": {
           "color": "#2a3f5f"
          },
          "geo": {
           "bgcolor": "white",
           "lakecolor": "white",
           "landcolor": "#E5ECF6",
           "showlakes": true,
           "showland": true,
           "subunitcolor": "white"
          },
          "hoverlabel": {
           "align": "left"
          },
          "hovermode": "closest",
          "mapbox": {
           "style": "light"
          },
          "paper_bgcolor": "white",
          "plot_bgcolor": "#E5ECF6",
          "polar": {
           "angularaxis": {
            "gridcolor": "white",
            "linecolor": "white",
            "ticks": ""
           },
           "bgcolor": "#E5ECF6",
           "radialaxis": {
            "gridcolor": "white",
            "linecolor": "white",
            "ticks": ""
           }
          },
          "scene": {
           "xaxis": {
            "backgroundcolor": "#E5ECF6",
            "gridcolor": "white",
            "gridwidth": 2,
            "linecolor": "white",
            "showbackground": true,
            "ticks": "",
            "zerolinecolor": "white"
           },
           "yaxis": {
            "backgroundcolor": "#E5ECF6",
            "gridcolor": "white",
            "gridwidth": 2,
            "linecolor": "white",
            "showbackground": true,
            "ticks": "",
            "zerolinecolor": "white"
           },
           "zaxis": {
            "backgroundcolor": "#E5ECF6",
            "gridcolor": "white",
            "gridwidth": 2,
            "linecolor": "white",
            "showbackground": true,
            "ticks": "",
            "zerolinecolor": "white"
           }
          },
          "shapedefaults": {
           "line": {
            "color": "#2a3f5f"
           }
          },
          "ternary": {
           "aaxis": {
            "gridcolor": "white",
            "linecolor": "white",
            "ticks": ""
           },
           "baxis": {
            "gridcolor": "white",
            "linecolor": "white",
            "ticks": ""
           },
           "bgcolor": "#E5ECF6",
           "caxis": {
            "gridcolor": "white",
            "linecolor": "white",
            "ticks": ""
           }
          },
          "title": {
           "x": 0.05
          },
          "xaxis": {
           "automargin": true,
           "gridcolor": "white",
           "linecolor": "white",
           "ticks": "",
           "title": {
            "standoff": 15
           },
           "zerolinecolor": "white",
           "zerolinewidth": 2
          },
          "yaxis": {
           "automargin": true,
           "gridcolor": "white",
           "linecolor": "white",
           "ticks": "",
           "title": {
            "standoff": 15
           },
           "zerolinecolor": "white",
           "zerolinewidth": 2
          }
         }
        }
       }
      },
      "image/png": "[encoded data removed]",
      "text/html": [
       "<div>                            <div id=\"6ef310d5-5782-4cd7-9628-d19a2e40ffc1\" class=\"plotly-graph-div\" style=\"height:525px; width:100%;\"></div>            <script type=\"text/javascript\">                require([\"plotly\"], function(Plotly) {                    window.PLOTLYENV=window.PLOTLYENV || {};                                    if (document.getElementById(\"6ef310d5-5782-4cd7-9628-d19a2e40ffc1\")) {                    Plotly.newPlot(                        \"6ef310d5-5782-4cd7-9628-d19a2e40ffc1\",                        [{\"dimensions\":[{\"label\":\"birth_country\",\"values\":[\"Argentina\",\"Argentina\",\"Argentina\",\"Argentina\",\"Argentina\",\"Argentina\",\"Argentina\",\"Argentina\",\"Argentina\",\"Argentina\",\"Argentina\",\"Venezuela\",\"Argentina\",\"Argentina\",\"Argentina\",\"Argentina\",\"Argentina\",\"Argentina\",\"Argentina\",\"Argentina\",\"Argentina\",\"Argentina\",\"Argentina\",\"Colombia\",\"Argentina\",\"Venezuela\",\"Argentina\",\"Argentina\",\"Argentina\",\"Argentina\",\"Argentina\",null,\"Argentina\",\"Argentina\",\"Argentina\",\"Argentina\",\"Argentina\",\"Argentina\",\"Argentina\",\"Argentina\",\"Argentina\",\"Argentina\",\"Argentina\",\"Argentina\",\"Argentina\",\"Argentina\",\"Argentina\",\"Argentina\",\"United States\",\"Uruguay\",\"Argentina\",\"Argentina\",\"Argentina\",\"Argentina\",\"Chile\",\"Rusia\",\"Argentina\",\"Argentina\",\"Argentina\",\"Argentina\",\"Argentina\",\"Argentina\",\"Venezuela\",\"Argentina\",\"Italia\",\"Argentina\",\"Argentina\",\"Argentina\",\"Argentina\",\"Argentina\",\"Brazil\",\"Argentina\",\"Argentina\"]},{\"label\":\"living_country\",\"values\":[\"Argentina\",\"Argentina\",\"Argentina\",\"Argentina\",\"Argentina\",\"Argentina\",\"Argentina\",\"Argentina\",\"Argentina\",\"Argentina\",\"Argentina\",\"Argentina\",\"Argentina\",\"Argentina\",\"Argentina\",\"Argentina\",\"Argentina\",\"Argentina\",\"Argentina\",\"Spain\",\"Argentina\",\"Argentina\",\"Argentina\",\"Argentina\",\"Argentina\",\"Argentina\",\"Argentina\",\"Australia\",\"Argentina\",\"Argentina\",\"Argentina\",\"Argentina\",\"Argentina\",\"Argentina\",\"Argentina\",\"Argentina\",\"Poland\",\"Argentina\",\"Argentina\",\"Argentina\",\"Argentina\",\"Argentina\",\"Argentina\",\"Argentina\",\"Argentina\",\"Argentina\",\"Argentina\",\"Argentina\",\"Argentina\",\"Uruguay\",\"Argentina\",\"Argentina\",null,\"Argentina\",\"Chile\",\"Argentina\",\"Argentina\",\"Argentina\",\"Argentina\",\"Costa Rica\",\"United States\",\"Argentina\",\"Venezuela\",\"Argentina\",\"Netherlands\",\"Argentina\",\"Argentina\",\"Argentina\",\"Portugal\",\"Argentina\",\"Argentina\",\"Argentina\",\"Argentina\"]}],\"domain\":{\"x\":[0.0,1.0],\"y\":[0.0,1.0]},\"name\":\"\",\"type\":\"parcats\"}],                        {\"template\":{\"data\":{\"histogram2dcontour\":[{\"type\":\"histogram2dcontour\",\"colorbar\":{\"outlinewidth\":0,\"ticks\":\"\"},\"colorscale\":[[0.0,\"#0d0887\"],[0.1111111111111111,\"#46039f\"],[0.2222222222222222,\"#7201a8\"],[0.3333333333333333,\"#9c179e\"],[0.4444444444444444,\"#bd3786\"],[0.5555555555555556,\"#d8576b\"],[0.6666666666666666,\"#ed7953\"],[0.7777777777777778,\"#fb9f3a\"],[0.8888888888888888,\"#fdca26\"],[1.0,\"#f0f921\"]]}],\"choropleth\":[{\"type\":\"choropleth\",\"colorbar\":{\"outlinewidth\":0,\"ticks\":\"\"}}],\"histogram2d\":[{\"type\":\"histogram2d\",\"colorbar\":{\"outlinewidth\":0,\"ticks\":\"\"},\"colorscale\":[[0.0,\"#0d0887\"],[0.1111111111111111,\"#46039f\"],[0.2222222222222222,\"#7201a8\"],[0.3333333333333333,\"#9c179e\"],[0.4444444444444444,\"#bd3786\"],[0.5555555555555556,\"#d8576b\"],[0.6666666666666666,\"#ed7953\"],[0.7777777777777778,\"#fb9f3a\"],[0.8888888888888888,\"#fdca26\"],[1.0,\"#f0f921\"]]}],\"heatmap\":[{\"type\":\"heatmap\",\"colorbar\":{\"outlinewidth\":0,\"ticks\":\"\"},\"colorscale\":[[0.0,\"#0d0887\"],[0.1111111111111111,\"#46039f\"],[0.2222222222222222,\"#7201a8\"],[0.3333333333333333,\"#9c179e\"],[0.4444444444444444,\"#bd3786\"],[0.5555555555555556,\"#d8576b\"],[0.6666666666666666,\"#ed7953\"],[0.7777777777777778,\"#fb9f3a\"],[0.8888888888888888,\"#fdca26\"],[1.0,\"#f0f921\"]]}],\"heatmapgl\":[{\"type\":\"heatmapgl\",\"colorbar\":{\"outlinewidth\":0,\"ticks\":\"\"},\"colorscale\":[[0.0,\"#0d0887\"],[0.1111111111111111,\"#46039f\"],[0.2222222222222222,\"#7201a8\"],[0.3333333333333333,\"#9c179e\"],[0.4444444444444444,\"#bd3786\"],[0.5555555555555556,\"#d8576b\"],[0.6666666666666666,\"#ed7953\"],[0.7777777777777778,\"#fb9f3a\"],[0.8888888888888888,\"#fdca26\"],[1.0,\"#f0f921\"]]}],\"contourcarpet\":[{\"type\":\"contourcarpet\",\"colorbar\":{\"outlinewidth\":0,\"ticks\":\"\"}}],\"contour\":[{\"type\":\"contour\",\"colorbar\":{\"outlinewidth\":0,\"ticks\":\"\"},\"colorscale\":[[0.0,\"#0d0887\"],[0.1111111111111111,\"#46039f\"],[0.2222222222222222,\"#7201a8\"],[0.3333333333333333,\"#9c179e\"],[0.4444444444444444,\"#bd3786\"],[0.5555555555555556,\"#d8576b\"],[0.6666666666666666,\"#ed7953\"],[0.7777777777777778,\"#fb9f3a\"],[0.8888888888888888,\"#fdca26\"],[1.0,\"#f0f921\"]]}],\"surface\":[{\"type\":\"surface\",\"colorbar\":{\"outlinewidth\":0,\"ticks\":\"\"},\"colorscale\":[[0.0,\"#0d0887\"],[0.1111111111111111,\"#46039f\"],[0.2222222222222222,\"#7201a8\"],[0.3333333333333333,\"#9c179e\"],[0.4444444444444444,\"#bd3786\"],[0.5555555555555556,\"#d8576b\"],[0.6666666666666666,\"#ed7953\"],[0.7777777777777778,\"#fb9f3a\"],[0.8888888888888888,\"#fdca26\"],[1.0,\"#f0f921\"]]}],\"mesh3d\":[{\"type\":\"mesh3d\",\"colorbar\":{\"outlinewidth\":0,\"ticks\":\"\"}}],\"scatter\":[{\"fillpattern\":{\"fillmode\":\"overlay\",\"size\":10,\"solidity\":0.2},\"type\":\"scatter\"}],\"parcoords\":[{\"type\":\"parcoords\",\"line\":{\"colorbar\":{\"outlinewidth\":0,\"ticks\":\"\"}}}],\"scatterpolargl\":[{\"type\":\"scatterpolargl\",\"marker\":{\"colorbar\":{\"outlinewidth\":0,\"ticks\":\"\"}}}],\"bar\":[{\"error_x\":{\"color\":\"#2a3f5f\"},\"error_y\":{\"color\":\"#2a3f5f\"},\"marker\":{\"line\":{\"color\":\"#E5ECF6\",\"width\":0.5},\"pattern\":{\"fillmode\":\"overlay\",\"size\":10,\"solidity\":0.2}},\"type\":\"bar\"}],\"scattergeo\":[{\"type\":\"scattergeo\",\"marker\":{\"colorbar\":{\"outlinewidth\":0,\"ticks\":\"\"}}}],\"scatterpolar\":[{\"type\":\"scatterpolar\",\"marker\":{\"colorbar\":{\"outlinewidth\":0,\"ticks\":\"\"}}}],\"histogram\":[{\"marker\":{\"pattern\":{\"fillmode\":\"overlay\",\"size\":10,\"solidity\":0.2}},\"type\":\"histogram\"}],\"scattergl\":[{\"type\":\"scattergl\",\"marker\":{\"colorbar\":{\"outlinewidth\":0,\"ticks\":\"\"}}}],\"scatter3d\":[{\"type\":\"scatter3d\",\"line\":{\"colorbar\":{\"outlinewidth\":0,\"ticks\":\"\"}},\"marker\":{\"colorbar\":{\"outlinewidth\":0,\"ticks\":\"\"}}}],\"scattermapbox\":[{\"type\":\"scattermapbox\",\"marker\":{\"colorbar\":{\"outlinewidth\":0,\"ticks\":\"\"}}}],\"scatterternary\":[{\"type\":\"scatterternary\",\"marker\":{\"colorbar\":{\"outlinewidth\":0,\"ticks\":\"\"}}}],\"scattercarpet\":[{\"type\":\"scattercarpet\",\"marker\":{\"colorbar\":{\"outlinewidth\":0,\"ticks\":\"\"}}}],\"carpet\":[{\"aaxis\":{\"endlinecolor\":\"#2a3f5f\",\"gridcolor\":\"white\",\"linecolor\":\"white\",\"minorgridcolor\":\"white\",\"startlinecolor\":\"#2a3f5f\"},\"baxis\":{\"endlinecolor\":\"#2a3f5f\",\"gridcolor\":\"white\",\"linecolor\":\"white\",\"minorgridcolor\":\"white\",\"startlinecolor\":\"#2a3f5f\"},\"type\":\"carpet\"}],\"table\":[{\"cells\":{\"fill\":{\"color\":\"#EBF0F8\"},\"line\":{\"color\":\"white\"}},\"header\":{\"fill\":{\"color\":\"#C8D4E3\"},\"line\":{\"color\":\"white\"}},\"type\":\"table\"}],\"barpolar\":[{\"marker\":{\"line\":{\"color\":\"#E5ECF6\",\"width\":0.5},\"pattern\":{\"fillmode\":\"overlay\",\"size\":10,\"solidity\":0.2}},\"type\":\"barpolar\"}],\"pie\":[{\"automargin\":true,\"type\":\"pie\"}]},\"layout\":{\"autotypenumbers\":\"strict\",\"colorway\":[\"#636efa\",\"#EF553B\",\"#00cc96\",\"#ab63fa\",\"#FFA15A\",\"#19d3f3\",\"#FF6692\",\"#B6E880\",\"#FF97FF\",\"#FECB52\"],\"font\":{\"color\":\"#2a3f5f\"},\"hovermode\":\"closest\",\"hoverlabel\":{\"align\":\"left\"},\"paper_bgcolor\":\"white\",\"plot_bgcolor\":\"#E5ECF6\",\"polar\":{\"bgcolor\":\"#E5ECF6\",\"angularaxis\":{\"gridcolor\":\"white\",\"linecolor\":\"white\",\"ticks\":\"\"},\"radialaxis\":{\"gridcolor\":\"white\",\"linecolor\":\"white\",\"ticks\":\"\"}},\"ternary\":{\"bgcolor\":\"#E5ECF6\",\"aaxis\":{\"gridcolor\":\"white\",\"linecolor\":\"white\",\"ticks\":\"\"},\"baxis\":{\"gridcolor\":\"white\",\"linecolor\":\"white\",\"ticks\":\"\"},\"caxis\":{\"gridcolor\":\"white\",\"linecolor\":\"white\",\"ticks\":\"\"}},\"coloraxis\":{\"colorbar\":{\"outlinewidth\":0,\"ticks\":\"\"}},\"colorscale\":{\"sequential\":[[0.0,\"#0d0887\"],[0.1111111111111111,\"#46039f\"],[0.2222222222222222,\"#7201a8\"],[0.3333333333333333,\"#9c179e\"],[0.4444444444444444,\"#bd3786\"],[0.5555555555555556,\"#d8576b\"],[0.6666666666666666,\"#ed7953\"],[0.7777777777777778,\"#fb9f3a\"],[0.8888888888888888,\"#fdca26\"],[1.0,\"#f0f921\"]],\"sequentialminus\":[[0.0,\"#0d0887\"],[0.1111111111111111,\"#46039f\"],[0.2222222222222222,\"#7201a8\"],[0.3333333333333333,\"#9c179e\"],[0.4444444444444444,\"#bd3786\"],[0.5555555555555556,\"#d8576b\"],[0.6666666666666666,\"#ed7953\"],[0.7777777777777778,\"#fb9f3a\"],[0.8888888888888888,\"#fdca26\"],[1.0,\"#f0f921\"]],\"diverging\":[[0,\"#8e0152\"],[0.1,\"#c51b7d\"],[0.2,\"#de77ae\"],[0.3,\"#f1b6da\"],[0.4,\"#fde0ef\"],[0.5,\"#f7f7f7\"],[0.6,\"#e6f5d0\"],[0.7,\"#b8e186\"],[0.8,\"#7fbc41\"],[0.9,\"#4d9221\"],[1,\"#276419\"]]},\"xaxis\":{\"gridcolor\":\"white\",\"linecolor\":\"white\",\"ticks\":\"\",\"title\":{\"standoff\":15},\"zerolinecolor\":\"white\",\"automargin\":true,\"zerolinewidth\":2},\"yaxis\":{\"gridcolor\":\"white\",\"linecolor\":\"white\",\"ticks\":\"\",\"title\":{\"standoff\":15},\"zerolinecolor\":\"white\",\"automargin\":true,\"zerolinewidth\":2},\"scene\":{\"xaxis\":{\"backgroundcolor\":\"#E5ECF6\",\"gridcolor\":\"white\",\"linecolor\":\"white\",\"showbackground\":true,\"ticks\":\"\",\"zerolinecolor\":\"white\",\"gridwidth\":2},\"yaxis\":{\"backgroundcolor\":\"#E5ECF6\",\"gridcolor\":\"white\",\"linecolor\":\"white\",\"showbackground\":true,\"ticks\":\"\",\"zerolinecolor\":\"white\",\"gridwidth\":2},\"zaxis\":{\"backgroundcolor\":\"#E5ECF6\",\"gridcolor\":\"white\",\"linecolor\":\"white\",\"showbackground\":true,\"ticks\":\"\",\"zerolinecolor\":\"white\",\"gridwidth\":2}},\"shapedefaults\":{\"line\":{\"color\":\"#2a3f5f\"}},\"annotationdefaults\":{\"arrowcolor\":\"#2a3f5f\",\"arrowhead\":0,\"arrowwidth\":1},\"geo\":{\"bgcolor\":\"white\",\"landcolor\":\"#E5ECF6\",\"subunitcolor\":\"white\",\"showland\":true,\"showlakes\":true,\"lakecolor\":\"white\"},\"title\":{\"x\":0.05},\"mapbox\":{\"style\":\"light\"}}},\"legend\":{\"tracegroupgap\":0},\"margin\":{\"t\":60}},                        {\"responsive\": true}                    ).then(function(){\n",
       "                            \n",
       "var gd = document.getElementById('6ef310d5-5782-4cd7-9628-d19a2e40ffc1');\n",
       "var x = new MutationObserver(function (mutations, observer) {{\n",
       "        var display = window.getComputedStyle(gd).display;\n",
       "        if (!display || display === 'none') {{\n",
       "            console.log([gd, 'removed!']);\n",
       "            Plotly.purge(gd);\n",
       "            observer.disconnect();\n",
       "        }}\n",
       "}});\n",
       "\n",
       "// Listen for the removal of the full notebook cells\n",
       "var notebookContainer = gd.closest('#notebook-container');\n",
       "if (notebookContainer) {{\n",
       "    x.observe(notebookContainer, {childList: true});\n",
       "}}\n",
       "\n",
       "// Listen for the clearing of the current output cell\n",
       "var outputEl = gd.closest('.output');\n",
       "if (outputEl) {{\n",
       "    x.observe(outputEl, {childList: true});\n",
       "}}\n",
       "\n",
       "                        })                };                });            </script>        </div>"
      ]
     },
     "metadata": {},
     "output_type": "display_data"
    }
   ],
   "source": [
    "fig = px.parallel_categories(df_arg[['birth_country','living_country']], color_continuous_scale=px.colors.sequential.Inferno)\n",
    "fig.show()"
   ]
  },
  {
   "cell_type": "code",
   "execution_count": 195,
   "id": "311cdad2-6b57-4ec4-971e-79f9e6453c36",
   "metadata": {},
   "outputs": [
    {
     "data": {
      "application/vnd.plotly.v1+json": {
       "config": {
        "plotlyServerURL": "https://plot.ly"
       },
       "data": [
        {
         "dimensions": [
          {
           "label": "birth_province",
           "values": [
            "Buenos Aires",
            "Buenos Aires",
            "Buenos Aires",
            "Formosa",
            "Buenos Aires",
            "Buenos Aires",
            "Buenos Aires",
            "Santiago del Estero",
            "Buenos Aires",
            "Buenos Aires",
            "Buenos Aires",
            "Córdoba ",
            "Buenos Aires",
            "Buenos Aires",
            "Buenos Aires",
            "Buenos Aires",
            "Buenos Aires",
            "Cordoba",
            "Buenos Aires",
            "Buenos Aires",
            "Mendoza",
            "Mendoza",
            "Buenos Aires",
            "Mendoza",
            "Buenos Aires",
            "Buenos Aires",
            "Rosario ",
            "Buenos Aires",
            "Buenos Aires",
            "Buenos Aires",
            "Buenos Aires",
            "Buenos Aires",
            "Buenos Aires",
            "Buenos Aires",
            "Buenos Aires",
            "Buenos Aires",
            "Formosa",
            "Buenos Aires",
            "Buenos Aires",
            "Mendoza",
            "Mendoza",
            "Buenos Aires",
            "Buenos Aires",
            "Chaco"
           ]
          },
          {
           "label": "living_province",
           "values": [
            "Buenos Aires",
            "Buenos Aires",
            "Buenos Aires",
            " Santa Fe",
            "Buenos Aires",
            "Buenos Aires",
            "Buenos Aires",
            "Cordoba",
            "Buenos Aires",
            "Buenos Aires",
            "Buenos Aires",
            "Cordoba",
            "Buenos Aires",
            "Buenos Aires",
            "Buenos Aires",
            "Buenos Aires",
            "Buenos Aires",
            "Cordoba",
            "Buenos Aires",
            "Buenos Aires",
            "Mendoza",
            "Mendoza",
            "Buenos Aires",
            "Buenos Aires",
            "Buenos Aires",
            "Buenos Aires",
            "Rosario ",
            "Buenos Aires",
            "Buenos Aires",
            "Buenos Aires",
            "Buenos Aires",
            "Buenos Aires",
            "Buenos Aires",
            "Buenos Aires",
            "Buenos Aires",
            "Buenos Aires",
            "Buenos Aires",
            "Buenos Aires",
            "Buenos Aires",
            "Neuquen ",
            "Mendoza",
            "Buenos Aires",
            "Buenos Aires",
            "Chaco"
           ]
          }
         ],
         "domain": {
          "x": [
           0,
           1
          ],
          "y": [
           0,
           1
          ]
         },
         "name": "",
         "type": "parcats"
        }
       ],
       "layout": {
        "autosize": true,
        "legend": {
         "tracegroupgap": 0
        },
        "margin": {
         "t": 60
        },
        "template": {
         "data": {
          "bar": [
           {
            "error_x": {
             "color": "#2a3f5f"
            },
            "error_y": {
             "color": "#2a3f5f"
            },
            "marker": {
             "line": {
              "color": "#E5ECF6",
              "width": 0.5
             },
             "pattern": {
              "fillmode": "overlay",
              "size": 10,
              "solidity": 0.2
             }
            },
            "type": "bar"
           }
          ],
          "barpolar": [
           {
            "marker": {
             "line": {
              "color": "#E5ECF6",
              "width": 0.5
             },
             "pattern": {
              "fillmode": "overlay",
              "size": 10,
              "solidity": 0.2
             }
            },
            "type": "barpolar"
           }
          ],
          "carpet": [
           {
            "aaxis": {
             "endlinecolor": "#2a3f5f",
             "gridcolor": "white",
             "linecolor": "white",
             "minorgridcolor": "white",
             "startlinecolor": "#2a3f5f"
            },
            "baxis": {
             "endlinecolor": "#2a3f5f",
             "gridcolor": "white",
             "linecolor": "white",
             "minorgridcolor": "white",
             "startlinecolor": "#2a3f5f"
            },
            "type": "carpet"
           }
          ],
          "choropleth": [
           {
            "colorbar": {
             "outlinewidth": 0,
             "ticks": ""
            },
            "type": "choropleth"
           }
          ],
          "contour": [
           {
            "colorbar": {
             "outlinewidth": 0,
             "ticks": ""
            },
            "colorscale": [
             [
              0,
              "#0d0887"
             ],
             [
              0.1111111111111111,
              "#46039f"
             ],
             [
              0.2222222222222222,
              "#7201a8"
             ],
             [
              0.3333333333333333,
              "#9c179e"
             ],
             [
              0.4444444444444444,
              "#bd3786"
             ],
             [
              0.5555555555555556,
              "#d8576b"
             ],
             [
              0.6666666666666666,
              "#ed7953"
             ],
             [
              0.7777777777777778,
              "#fb9f3a"
             ],
             [
              0.8888888888888888,
              "#fdca26"
             ],
             [
              1,
              "#f0f921"
             ]
            ],
            "type": "contour"
           }
          ],
          "contourcarpet": [
           {
            "colorbar": {
             "outlinewidth": 0,
             "ticks": ""
            },
            "type": "contourcarpet"
           }
          ],
          "heatmap": [
           {
            "colorbar": {
             "outlinewidth": 0,
             "ticks": ""
            },
            "colorscale": [
             [
              0,
              "#0d0887"
             ],
             [
              0.1111111111111111,
              "#46039f"
             ],
             [
              0.2222222222222222,
              "#7201a8"
             ],
             [
              0.3333333333333333,
              "#9c179e"
             ],
             [
              0.4444444444444444,
              "#bd3786"
             ],
             [
              0.5555555555555556,
              "#d8576b"
             ],
             [
              0.6666666666666666,
              "#ed7953"
             ],
             [
              0.7777777777777778,
              "#fb9f3a"
             ],
             [
              0.8888888888888888,
              "#fdca26"
             ],
             [
              1,
              "#f0f921"
             ]
            ],
            "type": "heatmap"
           }
          ],
          "heatmapgl": [
           {
            "colorbar": {
             "outlinewidth": 0,
             "ticks": ""
            },
            "colorscale": [
             [
              0,
              "#0d0887"
             ],
             [
              0.1111111111111111,
              "#46039f"
             ],
             [
              0.2222222222222222,
              "#7201a8"
             ],
             [
              0.3333333333333333,
              "#9c179e"
             ],
             [
              0.4444444444444444,
              "#bd3786"
             ],
             [
              0.5555555555555556,
              "#d8576b"
             ],
             [
              0.6666666666666666,
              "#ed7953"
             ],
             [
              0.7777777777777778,
              "#fb9f3a"
             ],
             [
              0.8888888888888888,
              "#fdca26"
             ],
             [
              1,
              "#f0f921"
             ]
            ],
            "type": "heatmapgl"
           }
          ],
          "histogram": [
           {
            "marker": {
             "pattern": {
              "fillmode": "overlay",
              "size": 10,
              "solidity": 0.2
             }
            },
            "type": "histogram"
           }
          ],
          "histogram2d": [
           {
            "colorbar": {
             "outlinewidth": 0,
             "ticks": ""
            },
            "colorscale": [
             [
              0,
              "#0d0887"
             ],
             [
              0.1111111111111111,
              "#46039f"
             ],
             [
              0.2222222222222222,
              "#7201a8"
             ],
             [
              0.3333333333333333,
              "#9c179e"
             ],
             [
              0.4444444444444444,
              "#bd3786"
             ],
             [
              0.5555555555555556,
              "#d8576b"
             ],
             [
              0.6666666666666666,
              "#ed7953"
             ],
             [
              0.7777777777777778,
              "#fb9f3a"
             ],
             [
              0.8888888888888888,
              "#fdca26"
             ],
             [
              1,
              "#f0f921"
             ]
            ],
            "type": "histogram2d"
           }
          ],
          "histogram2dcontour": [
           {
            "colorbar": {
             "outlinewidth": 0,
             "ticks": ""
            },
            "colorscale": [
             [
              0,
              "#0d0887"
             ],
             [
              0.1111111111111111,
              "#46039f"
             ],
             [
              0.2222222222222222,
              "#7201a8"
             ],
             [
              0.3333333333333333,
              "#9c179e"
             ],
             [
              0.4444444444444444,
              "#bd3786"
             ],
             [
              0.5555555555555556,
              "#d8576b"
             ],
             [
              0.6666666666666666,
              "#ed7953"
             ],
             [
              0.7777777777777778,
              "#fb9f3a"
             ],
             [
              0.8888888888888888,
              "#fdca26"
             ],
             [
              1,
              "#f0f921"
             ]
            ],
            "type": "histogram2dcontour"
           }
          ],
          "mesh3d": [
           {
            "colorbar": {
             "outlinewidth": 0,
             "ticks": ""
            },
            "type": "mesh3d"
           }
          ],
          "parcoords": [
           {
            "line": {
             "colorbar": {
              "outlinewidth": 0,
              "ticks": ""
             }
            },
            "type": "parcoords"
           }
          ],
          "pie": [
           {
            "automargin": true,
            "type": "pie"
           }
          ],
          "scatter": [
           {
            "fillpattern": {
             "fillmode": "overlay",
             "size": 10,
             "solidity": 0.2
            },
            "type": "scatter"
           }
          ],
          "scatter3d": [
           {
            "line": {
             "colorbar": {
              "outlinewidth": 0,
              "ticks": ""
             }
            },
            "marker": {
             "colorbar": {
              "outlinewidth": 0,
              "ticks": ""
             }
            },
            "type": "scatter3d"
           }
          ],
          "scattercarpet": [
           {
            "marker": {
             "colorbar": {
              "outlinewidth": 0,
              "ticks": ""
             }
            },
            "type": "scattercarpet"
           }
          ],
          "scattergeo": [
           {
            "marker": {
             "colorbar": {
              "outlinewidth": 0,
              "ticks": ""
             }
            },
            "type": "scattergeo"
           }
          ],
          "scattergl": [
           {
            "marker": {
             "colorbar": {
              "outlinewidth": 0,
              "ticks": ""
             }
            },
            "type": "scattergl"
           }
          ],
          "scattermapbox": [
           {
            "marker": {
             "colorbar": {
              "outlinewidth": 0,
              "ticks": ""
             }
            },
            "type": "scattermapbox"
           }
          ],
          "scatterpolar": [
           {
            "marker": {
             "colorbar": {
              "outlinewidth": 0,
              "ticks": ""
             }
            },
            "type": "scatterpolar"
           }
          ],
          "scatterpolargl": [
           {
            "marker": {
             "colorbar": {
              "outlinewidth": 0,
              "ticks": ""
             }
            },
            "type": "scatterpolargl"
           }
          ],
          "scatterternary": [
           {
            "marker": {
             "colorbar": {
              "outlinewidth": 0,
              "ticks": ""
             }
            },
            "type": "scatterternary"
           }
          ],
          "surface": [
           {
            "colorbar": {
             "outlinewidth": 0,
             "ticks": ""
            },
            "colorscale": [
             [
              0,
              "#0d0887"
             ],
             [
              0.1111111111111111,
              "#46039f"
             ],
             [
              0.2222222222222222,
              "#7201a8"
             ],
             [
              0.3333333333333333,
              "#9c179e"
             ],
             [
              0.4444444444444444,
              "#bd3786"
             ],
             [
              0.5555555555555556,
              "#d8576b"
             ],
             [
              0.6666666666666666,
              "#ed7953"
             ],
             [
              0.7777777777777778,
              "#fb9f3a"
             ],
             [
              0.8888888888888888,
              "#fdca26"
             ],
             [
              1,
              "#f0f921"
             ]
            ],
            "type": "surface"
           }
          ],
          "table": [
           {
            "cells": {
             "fill": {
              "color": "#EBF0F8"
             },
             "line": {
              "color": "white"
             }
            },
            "header": {
             "fill": {
              "color": "#C8D4E3"
             },
             "line": {
              "color": "white"
             }
            },
            "type": "table"
           }
          ]
         },
         "layout": {
          "annotationdefaults": {
           "arrowcolor": "#2a3f5f",
           "arrowhead": 0,
           "arrowwidth": 1
          },
          "autotypenumbers": "strict",
          "coloraxis": {
           "colorbar": {
            "outlinewidth": 0,
            "ticks": ""
           }
          },
          "colorscale": {
           "diverging": [
            [
             0,
             "#8e0152"
            ],
            [
             0.1,
             "#c51b7d"
            ],
            [
             0.2,
             "#de77ae"
            ],
            [
             0.3,
             "#f1b6da"
            ],
            [
             0.4,
             "#fde0ef"
            ],
            [
             0.5,
             "#f7f7f7"
            ],
            [
             0.6,
             "#e6f5d0"
            ],
            [
             0.7,
             "#b8e186"
            ],
            [
             0.8,
             "#7fbc41"
            ],
            [
             0.9,
             "#4d9221"
            ],
            [
             1,
             "#276419"
            ]
           ],
           "sequential": [
            [
             0,
             "#0d0887"
            ],
            [
             0.1111111111111111,
             "#46039f"
            ],
            [
             0.2222222222222222,
             "#7201a8"
            ],
            [
             0.3333333333333333,
             "#9c179e"
            ],
            [
             0.4444444444444444,
             "#bd3786"
            ],
            [
             0.5555555555555556,
             "#d8576b"
            ],
            [
             0.6666666666666666,
             "#ed7953"
            ],
            [
             0.7777777777777778,
             "#fb9f3a"
            ],
            [
             0.8888888888888888,
             "#fdca26"
            ],
            [
             1,
             "#f0f921"
            ]
           ],
           "sequentialminus": [
            [
             0,
             "#0d0887"
            ],
            [
             0.1111111111111111,
             "#46039f"
            ],
            [
             0.2222222222222222,
             "#7201a8"
            ],
            [
             0.3333333333333333,
             "#9c179e"
            ],
            [
             0.4444444444444444,
             "#bd3786"
            ],
            [
             0.5555555555555556,
             "#d8576b"
            ],
            [
             0.6666666666666666,
             "#ed7953"
            ],
            [
             0.7777777777777778,
             "#fb9f3a"
            ],
            [
             0.8888888888888888,
             "#fdca26"
            ],
            [
             1,
             "#f0f921"
            ]
           ]
          },
          "colorway": [
           "#636efa",
           "#EF553B",
           "#00cc96",
           "#ab63fa",
           "#FFA15A",
           "#19d3f3",
           "#FF6692",
           "#B6E880",
           "#FF97FF",
           "#FECB52"
          ],
          "font": {
           "color": "#2a3f5f"
          },
          "geo": {
           "bgcolor": "white",
           "lakecolor": "white",
           "landcolor": "#E5ECF6",
           "showlakes": true,
           "showland": true,
           "subunitcolor": "white"
          },
          "hoverlabel": {
           "align": "left"
          },
          "hovermode": "closest",
          "mapbox": {
           "style": "light"
          },
          "paper_bgcolor": "white",
          "plot_bgcolor": "#E5ECF6",
          "polar": {
           "angularaxis": {
            "gridcolor": "white",
            "linecolor": "white",
            "ticks": ""
           },
           "bgcolor": "#E5ECF6",
           "radialaxis": {
            "gridcolor": "white",
            "linecolor": "white",
            "ticks": ""
           }
          },
          "scene": {
           "xaxis": {
            "backgroundcolor": "#E5ECF6",
            "gridcolor": "white",
            "gridwidth": 2,
            "linecolor": "white",
            "showbackground": true,
            "ticks": "",
            "zerolinecolor": "white"
           },
           "yaxis": {
            "backgroundcolor": "#E5ECF6",
            "gridcolor": "white",
            "gridwidth": 2,
            "linecolor": "white",
            "showbackground": true,
            "ticks": "",
            "zerolinecolor": "white"
           },
           "zaxis": {
            "backgroundcolor": "#E5ECF6",
            "gridcolor": "white",
            "gridwidth": 2,
            "linecolor": "white",
            "showbackground": true,
            "ticks": "",
            "zerolinecolor": "white"
           }
          },
          "shapedefaults": {
           "line": {
            "color": "#2a3f5f"
           }
          },
          "ternary": {
           "aaxis": {
            "gridcolor": "white",
            "linecolor": "white",
            "ticks": ""
           },
           "baxis": {
            "gridcolor": "white",
            "linecolor": "white",
            "ticks": ""
           },
           "bgcolor": "#E5ECF6",
           "caxis": {
            "gridcolor": "white",
            "linecolor": "white",
            "ticks": ""
           }
          },
          "title": {
           "x": 0.05
          },
          "xaxis": {
           "automargin": true,
           "gridcolor": "white",
           "linecolor": "white",
           "ticks": "",
           "title": {
            "standoff": 15
           },
           "zerolinecolor": "white",
           "zerolinewidth": 2
          },
          "yaxis": {
           "automargin": true,
           "gridcolor": "white",
           "linecolor": "white",
           "ticks": "",
           "title": {
            "standoff": 15
           },
           "zerolinecolor": "white",
           "zerolinewidth": 2
          }
         }
        }
       }
      },
      "image/png": "[encoded data removed]",
      "text/html": [
       "<div>                            <div id=\"0cb484ce-fb04-4fce-b66c-1fd3e3df653c\" class=\"plotly-graph-div\" style=\"height:525px; width:100%;\"></div>            <script type=\"text/javascript\">                require([\"plotly\"], function(Plotly) {                    window.PLOTLYENV=window.PLOTLYENV || {};                                    if (document.getElementById(\"0cb484ce-fb04-4fce-b66c-1fd3e3df653c\")) {                    Plotly.newPlot(                        \"0cb484ce-fb04-4fce-b66c-1fd3e3df653c\",                        [{\"dimensions\":[{\"label\":\"birth_province\",\"values\":[\"Buenos Aires\",\"Buenos Aires\",\"Buenos Aires\",\"Formosa\",\"Buenos Aires\",\"Buenos Aires\",\"Buenos Aires\",\"Santiago del Estero\",\"Buenos Aires\",\"Buenos Aires\",\"Buenos Aires\",\"C\\u00f3rdoba \",\"Buenos Aires\",\"Buenos Aires\",\"Buenos Aires\",\"Buenos Aires\",\"Buenos Aires\",\"Cordoba\",\"Buenos Aires\",\"Buenos Aires\",\"Mendoza\",\"Mendoza\",\"Buenos Aires\",\"Mendoza\",\"Buenos Aires\",\"Buenos Aires\",\"Rosario \",\"Buenos Aires\",\"Buenos Aires\",\"Buenos Aires\",\"Buenos Aires\",\"Buenos Aires\",\"Buenos Aires\",\"Buenos Aires\",\"Buenos Aires\",\"Buenos Aires\",\"Formosa\",\"Buenos Aires\",\"Buenos Aires\",\"Mendoza\",\"Mendoza\",\"Buenos Aires\",\"Buenos Aires\",\"Chaco\"]},{\"label\":\"living_province\",\"values\":[\"Buenos Aires\",\"Buenos Aires\",\"Buenos Aires\",\" Santa Fe\",\"Buenos Aires\",\"Buenos Aires\",\"Buenos Aires\",\"Cordoba\",\"Buenos Aires\",\"Buenos Aires\",\"Buenos Aires\",\"Cordoba\",\"Buenos Aires\",\"Buenos Aires\",\"Buenos Aires\",\"Buenos Aires\",\"Buenos Aires\",\"Cordoba\",\"Buenos Aires\",\"Buenos Aires\",\"Mendoza\",\"Mendoza\",\"Buenos Aires\",\"Buenos Aires\",\"Buenos Aires\",\"Buenos Aires\",\"Rosario \",\"Buenos Aires\",\"Buenos Aires\",\"Buenos Aires\",\"Buenos Aires\",\"Buenos Aires\",\"Buenos Aires\",\"Buenos Aires\",\"Buenos Aires\",\"Buenos Aires\",\"Buenos Aires\",\"Buenos Aires\",\"Buenos Aires\",\"Neuquen \",\"Mendoza\",\"Buenos Aires\",\"Buenos Aires\",\"Chaco\"]}],\"domain\":{\"x\":[0.0,1.0],\"y\":[0.0,1.0]},\"name\":\"\",\"type\":\"parcats\"}],                        {\"template\":{\"data\":{\"histogram2dcontour\":[{\"type\":\"histogram2dcontour\",\"colorbar\":{\"outlinewidth\":0,\"ticks\":\"\"},\"colorscale\":[[0.0,\"#0d0887\"],[0.1111111111111111,\"#46039f\"],[0.2222222222222222,\"#7201a8\"],[0.3333333333333333,\"#9c179e\"],[0.4444444444444444,\"#bd3786\"],[0.5555555555555556,\"#d8576b\"],[0.6666666666666666,\"#ed7953\"],[0.7777777777777778,\"#fb9f3a\"],[0.8888888888888888,\"#fdca26\"],[1.0,\"#f0f921\"]]}],\"choropleth\":[{\"type\":\"choropleth\",\"colorbar\":{\"outlinewidth\":0,\"ticks\":\"\"}}],\"histogram2d\":[{\"type\":\"histogram2d\",\"colorbar\":{\"outlinewidth\":0,\"ticks\":\"\"},\"colorscale\":[[0.0,\"#0d0887\"],[0.1111111111111111,\"#46039f\"],[0.2222222222222222,\"#7201a8\"],[0.3333333333333333,\"#9c179e\"],[0.4444444444444444,\"#bd3786\"],[0.5555555555555556,\"#d8576b\"],[0.6666666666666666,\"#ed7953\"],[0.7777777777777778,\"#fb9f3a\"],[0.8888888888888888,\"#fdca26\"],[1.0,\"#f0f921\"]]}],\"heatmap\":[{\"type\":\"heatmap\",\"colorbar\":{\"outlinewidth\":0,\"ticks\":\"\"},\"colorscale\":[[0.0,\"#0d0887\"],[0.1111111111111111,\"#46039f\"],[0.2222222222222222,\"#7201a8\"],[0.3333333333333333,\"#9c179e\"],[0.4444444444444444,\"#bd3786\"],[0.5555555555555556,\"#d8576b\"],[0.6666666666666666,\"#ed7953\"],[0.7777777777777778,\"#fb9f3a\"],[0.8888888888888888,\"#fdca26\"],[1.0,\"#f0f921\"]]}],\"heatmapgl\":[{\"type\":\"heatmapgl\",\"colorbar\":{\"outlinewidth\":0,\"ticks\":\"\"},\"colorscale\":[[0.0,\"#0d0887\"],[0.1111111111111111,\"#46039f\"],[0.2222222222222222,\"#7201a8\"],[0.3333333333333333,\"#9c179e\"],[0.4444444444444444,\"#bd3786\"],[0.5555555555555556,\"#d8576b\"],[0.6666666666666666,\"#ed7953\"],[0.7777777777777778,\"#fb9f3a\"],[0.8888888888888888,\"#fdca26\"],[1.0,\"#f0f921\"]]}],\"contourcarpet\":[{\"type\":\"contourcarpet\",\"colorbar\":{\"outlinewidth\":0,\"ticks\":\"\"}}],\"contour\":[{\"type\":\"contour\",\"colorbar\":{\"outlinewidth\":0,\"ticks\":\"\"},\"colorscale\":[[0.0,\"#0d0887\"],[0.1111111111111111,\"#46039f\"],[0.2222222222222222,\"#7201a8\"],[0.3333333333333333,\"#9c179e\"],[0.4444444444444444,\"#bd3786\"],[0.5555555555555556,\"#d8576b\"],[0.6666666666666666,\"#ed7953\"],[0.7777777777777778,\"#fb9f3a\"],[0.8888888888888888,\"#fdca26\"],[1.0,\"#f0f921\"]]}],\"surface\":[{\"type\":\"surface\",\"colorbar\":{\"outlinewidth\":0,\"ticks\":\"\"},\"colorscale\":[[0.0,\"#0d0887\"],[0.1111111111111111,\"#46039f\"],[0.2222222222222222,\"#7201a8\"],[0.3333333333333333,\"#9c179e\"],[0.4444444444444444,\"#bd3786\"],[0.5555555555555556,\"#d8576b\"],[0.6666666666666666,\"#ed7953\"],[0.7777777777777778,\"#fb9f3a\"],[0.8888888888888888,\"#fdca26\"],[1.0,\"#f0f921\"]]}],\"mesh3d\":[{\"type\":\"mesh3d\",\"colorbar\":{\"outlinewidth\":0,\"ticks\":\"\"}}],\"scatter\":[{\"fillpattern\":{\"fillmode\":\"overlay\",\"size\":10,\"solidity\":0.2},\"type\":\"scatter\"}],\"parcoords\":[{\"type\":\"parcoords\",\"line\":{\"colorbar\":{\"outlinewidth\":0,\"ticks\":\"\"}}}],\"scatterpolargl\":[{\"type\":\"scatterpolargl\",\"marker\":{\"colorbar\":{\"outlinewidth\":0,\"ticks\":\"\"}}}],\"bar\":[{\"error_x\":{\"color\":\"#2a3f5f\"},\"error_y\":{\"color\":\"#2a3f5f\"},\"marker\":{\"line\":{\"color\":\"#E5ECF6\",\"width\":0.5},\"pattern\":{\"fillmode\":\"overlay\",\"size\":10,\"solidity\":0.2}},\"type\":\"bar\"}],\"scattergeo\":[{\"type\":\"scattergeo\",\"marker\":{\"colorbar\":{\"outlinewidth\":0,\"ticks\":\"\"}}}],\"scatterpolar\":[{\"type\":\"scatterpolar\",\"marker\":{\"colorbar\":{\"outlinewidth\":0,\"ticks\":\"\"}}}],\"histogram\":[{\"marker\":{\"pattern\":{\"fillmode\":\"overlay\",\"size\":10,\"solidity\":0.2}},\"type\":\"histogram\"}],\"scattergl\":[{\"type\":\"scattergl\",\"marker\":{\"colorbar\":{\"outlinewidth\":0,\"ticks\":\"\"}}}],\"scatter3d\":[{\"type\":\"scatter3d\",\"line\":{\"colorbar\":{\"outlinewidth\":0,\"ticks\":\"\"}},\"marker\":{\"colorbar\":{\"outlinewidth\":0,\"ticks\":\"\"}}}],\"scattermapbox\":[{\"type\":\"scattermapbox\",\"marker\":{\"colorbar\":{\"outlinewidth\":0,\"ticks\":\"\"}}}],\"scatterternary\":[{\"type\":\"scatterternary\",\"marker\":{\"colorbar\":{\"outlinewidth\":0,\"ticks\":\"\"}}}],\"scattercarpet\":[{\"type\":\"scattercarpet\",\"marker\":{\"colorbar\":{\"outlinewidth\":0,\"ticks\":\"\"}}}],\"carpet\":[{\"aaxis\":{\"endlinecolor\":\"#2a3f5f\",\"gridcolor\":\"white\",\"linecolor\":\"white\",\"minorgridcolor\":\"white\",\"startlinecolor\":\"#2a3f5f\"},\"baxis\":{\"endlinecolor\":\"#2a3f5f\",\"gridcolor\":\"white\",\"linecolor\":\"white\",\"minorgridcolor\":\"white\",\"startlinecolor\":\"#2a3f5f\"},\"type\":\"carpet\"}],\"table\":[{\"cells\":{\"fill\":{\"color\":\"#EBF0F8\"},\"line\":{\"color\":\"white\"}},\"header\":{\"fill\":{\"color\":\"#C8D4E3\"},\"line\":{\"color\":\"white\"}},\"type\":\"table\"}],\"barpolar\":[{\"marker\":{\"line\":{\"color\":\"#E5ECF6\",\"width\":0.5},\"pattern\":{\"fillmode\":\"overlay\",\"size\":10,\"solidity\":0.2}},\"type\":\"barpolar\"}],\"pie\":[{\"automargin\":true,\"type\":\"pie\"}]},\"layout\":{\"autotypenumbers\":\"strict\",\"colorway\":[\"#636efa\",\"#EF553B\",\"#00cc96\",\"#ab63fa\",\"#FFA15A\",\"#19d3f3\",\"#FF6692\",\"#B6E880\",\"#FF97FF\",\"#FECB52\"],\"font\":{\"color\":\"#2a3f5f\"},\"hovermode\":\"closest\",\"hoverlabel\":{\"align\":\"left\"},\"paper_bgcolor\":\"white\",\"plot_bgcolor\":\"#E5ECF6\",\"polar\":{\"bgcolor\":\"#E5ECF6\",\"angularaxis\":{\"gridcolor\":\"white\",\"linecolor\":\"white\",\"ticks\":\"\"},\"radialaxis\":{\"gridcolor\":\"white\",\"linecolor\":\"white\",\"ticks\":\"\"}},\"ternary\":{\"bgcolor\":\"#E5ECF6\",\"aaxis\":{\"gridcolor\":\"white\",\"linecolor\":\"white\",\"ticks\":\"\"},\"baxis\":{\"gridcolor\":\"white\",\"linecolor\":\"white\",\"ticks\":\"\"},\"caxis\":{\"gridcolor\":\"white\",\"linecolor\":\"white\",\"ticks\":\"\"}},\"coloraxis\":{\"colorbar\":{\"outlinewidth\":0,\"ticks\":\"\"}},\"colorscale\":{\"sequential\":[[0.0,\"#0d0887\"],[0.1111111111111111,\"#46039f\"],[0.2222222222222222,\"#7201a8\"],[0.3333333333333333,\"#9c179e\"],[0.4444444444444444,\"#bd3786\"],[0.5555555555555556,\"#d8576b\"],[0.6666666666666666,\"#ed7953\"],[0.7777777777777778,\"#fb9f3a\"],[0.8888888888888888,\"#fdca26\"],[1.0,\"#f0f921\"]],\"sequentialminus\":[[0.0,\"#0d0887\"],[0.1111111111111111,\"#46039f\"],[0.2222222222222222,\"#7201a8\"],[0.3333333333333333,\"#9c179e\"],[0.4444444444444444,\"#bd3786\"],[0.5555555555555556,\"#d8576b\"],[0.6666666666666666,\"#ed7953\"],[0.7777777777777778,\"#fb9f3a\"],[0.8888888888888888,\"#fdca26\"],[1.0,\"#f0f921\"]],\"diverging\":[[0,\"#8e0152\"],[0.1,\"#c51b7d\"],[0.2,\"#de77ae\"],[0.3,\"#f1b6da\"],[0.4,\"#fde0ef\"],[0.5,\"#f7f7f7\"],[0.6,\"#e6f5d0\"],[0.7,\"#b8e186\"],[0.8,\"#7fbc41\"],[0.9,\"#4d9221\"],[1,\"#276419\"]]},\"xaxis\":{\"gridcolor\":\"white\",\"linecolor\":\"white\",\"ticks\":\"\",\"title\":{\"standoff\":15},\"zerolinecolor\":\"white\",\"automargin\":true,\"zerolinewidth\":2},\"yaxis\":{\"gridcolor\":\"white\",\"linecolor\":\"white\",\"ticks\":\"\",\"title\":{\"standoff\":15},\"zerolinecolor\":\"white\",\"automargin\":true,\"zerolinewidth\":2},\"scene\":{\"xaxis\":{\"backgroundcolor\":\"#E5ECF6\",\"gridcolor\":\"white\",\"linecolor\":\"white\",\"showbackground\":true,\"ticks\":\"\",\"zerolinecolor\":\"white\",\"gridwidth\":2},\"yaxis\":{\"backgroundcolor\":\"#E5ECF6\",\"gridcolor\":\"white\",\"linecolor\":\"white\",\"showbackground\":true,\"ticks\":\"\",\"zerolinecolor\":\"white\",\"gridwidth\":2},\"zaxis\":{\"backgroundcolor\":\"#E5ECF6\",\"gridcolor\":\"white\",\"linecolor\":\"white\",\"showbackground\":true,\"ticks\":\"\",\"zerolinecolor\":\"white\",\"gridwidth\":2}},\"shapedefaults\":{\"line\":{\"color\":\"#2a3f5f\"}},\"annotationdefaults\":{\"arrowcolor\":\"#2a3f5f\",\"arrowhead\":0,\"arrowwidth\":1},\"geo\":{\"bgcolor\":\"white\",\"landcolor\":\"#E5ECF6\",\"subunitcolor\":\"white\",\"showland\":true,\"showlakes\":true,\"lakecolor\":\"white\"},\"title\":{\"x\":0.05},\"mapbox\":{\"style\":\"light\"}}},\"legend\":{\"tracegroupgap\":0},\"margin\":{\"t\":60}},                        {\"responsive\": true}                    ).then(function(){\n",
       "                            \n",
       "var gd = document.getElementById('0cb484ce-fb04-4fce-b66c-1fd3e3df653c');\n",
       "var x = new MutationObserver(function (mutations, observer) {{\n",
       "        var display = window.getComputedStyle(gd).display;\n",
       "        if (!display || display === 'none') {{\n",
       "            console.log([gd, 'removed!']);\n",
       "            Plotly.purge(gd);\n",
       "            observer.disconnect();\n",
       "        }}\n",
       "}});\n",
       "\n",
       "// Listen for the removal of the full notebook cells\n",
       "var notebookContainer = gd.closest('#notebook-container');\n",
       "if (notebookContainer) {{\n",
       "    x.observe(notebookContainer, {childList: true});\n",
       "}}\n",
       "\n",
       "// Listen for the clearing of the current output cell\n",
       "var outputEl = gd.closest('.output');\n",
       "if (outputEl) {{\n",
       "    x.observe(outputEl, {childList: true});\n",
       "}}\n",
       "\n",
       "                        })                };                });            </script>        </div>"
      ]
     },
     "metadata": {},
     "output_type": "display_data"
    }
   ],
   "source": [
    "fig = px.parallel_categories(df_arg[['birth_province','living_province']].dropna(axis=0), color_continuous_scale=px.colors.sequential.Inferno)\n",
    "fig.show()"
   ]
  },
  {
   "cell_type": "code",
   "execution_count": 196,
   "id": "adea1ef6-f454-4215-a941-dc413f279b10",
   "metadata": {},
   "outputs": [],
   "source": [
    "ba_ba = df_arg[ (df_arg['birth_province'] == 'Buenos Aires') & (df_arg['living_province'] == 'Buenos Aires') ]['birth_province'].count()\n",
    "to_ba = df_arg[ (df_arg['birth_province'] != 'Buenos Aires') & (df_arg['living_province'] == 'Buenos Aires') ]['birth_province'].count()"
   ]
  },
  {
   "cell_type": "code",
   "execution_count": 197,
   "id": "8b752180-1a2a-4036-8a26-710890252a9c",
   "metadata": {},
   "outputs": [
    {
     "name": "stdout",
     "output_type": "stream",
     "text": [
      "moved to Buenos Aires: 2\n"
     ]
    }
   ],
   "source": [
    "print('moved to Buenos Aires:',to_ba)"
   ]
  },
  {
   "cell_type": "code",
   "execution_count": 198,
   "id": "c745fe79-1e64-4673-a6b4-859aa2bb52db",
   "metadata": {},
   "outputs": [],
   "source": [
    "arg = df_arg[ df_arg['birth_country'] == 'Argentina']['birth_country'].count()\n",
    "non_arg = df_arg[ df_arg['birth_country'] != 'Argentina']['birth_country'].count()"
   ]
  },
  {
   "cell_type": "code",
   "execution_count": 199,
   "id": "a106c300-9c11-40b0-8516-b196f0e9e1d0",
   "metadata": {
    "scrolled": true
   },
   "outputs": [
    {
     "name": "stdout",
     "output_type": "stream",
     "text": [
      "Argentinean founders: 62\n",
      "Non-Argentinean founders: 10\n"
     ]
    }
   ],
   "source": [
    "print('Argentinean founders:',arg)\n",
    "print('Non-Argentinean founders:',non_arg)"
   ]
  },
  {
   "cell_type": "code",
   "execution_count": null,
   "id": "271433fe-4657-40ad-b3a6-a27cbc50c319",
   "metadata": {},
   "outputs": [],
   "source": [
    "fig = px.line(df, \n",
    "              x=\"project_start\", \n",
    "              y=\"lifeExp\", \n",
    "              color=\"continent\", \n",
    "              line_group=\"country\", \n",
    "              hover_name=\"country\",\n",
    "              line_shape=\"spline\", \n",
    "              render_mode=\"svg\")\n",
    "fig.show()"
   ]
  },
  {
   "cell_type": "code",
   "execution_count": 219,
   "id": "98d8879c-1bb1-4c2f-9153-cb2470b45858",
   "metadata": {},
   "outputs": [
    {
     "data": {
      "application/vnd.plotly.v1+json": {
       "config": {
        "plotlyServerURL": "https://plot.ly"
       },
       "data": [
        {
         "alignmentgroup": "True",
         "bingroup": "x",
         "hovertemplate": "project_start=%{x}<br>count=%{y}<extra></extra>",
         "legendgroup": "",
         "marker": {
          "color": "#636efa",
          "pattern": {
           "shape": ""
          }
         },
         "name": "",
         "offsetgroup": "",
         "orientation": "v",
         "showlegend": false,
         "type": "histogram",
         "x": [
          "2021-08-20T00:00:00",
          "2023-01-01T00:00:00",
          "2023-10-01T00:00:00",
          "2022-04-01T00:00:00",
          "2024-04-21T00:00:00",
          "2023-04-23T00:00:00",
          "2023-04-01T00:00:00",
          "2023-09-01T00:00:00",
          "2024-02-08T00:00:00",
          "2021-07-24T00:00:00",
          "2023-06-28T00:00:00",
          "2020-04-03T00:00:00",
          "2024-03-01T00:00:00",
          "2023-10-18T00:00:00",
          "2024-07-01T00:00:00",
          "2021-02-08T00:00:00",
          "2024-02-01T00:00:00",
          "2022-06-17T00:00:00",
          "2023-09-30T00:00:00",
          "2023-12-01T00:00:00",
          "2023-09-15T00:00:00",
          "2023-08-18T00:00:00",
          "2020-09-24T00:00:00",
          "2022-12-01T00:00:00",
          "2019-05-01T00:00:00",
          "2023-01-01T00:00:00",
          "2022-01-08T00:00:00",
          "2020-11-01T00:00:00",
          "2023-11-21T00:00:00",
          "2023-01-19T00:00:00",
          "2023-11-29T00:00:00",
          "2024-04-01T00:00:00",
          "2024-05-29T00:00:00",
          "2024-02-01T00:00:00",
          "2022-10-01T00:00:00",
          "2021-07-06T00:00:00",
          "2022-10-30T00:00:00",
          "2023-08-01T00:00:00",
          "2023-06-01T00:00:00",
          "2023-12-31T00:00:00",
          "2023-05-31T00:00:00",
          "2023-09-01T00:00:00",
          "2019-03-10T00:00:00",
          "2022-01-03T00:00:00",
          "2018-06-21T00:00:00",
          "2022-01-02T00:00:00",
          "2023-03-31T00:00:00",
          "2023-03-31T00:00:00",
          "2022-09-06T00:00:00",
          "2022-08-08T00:00:00",
          "2021-06-17T00:00:00",
          "2023-03-15T00:00:00",
          "2021-04-01T00:00:00",
          "2023-03-28T00:00:00",
          "2022-03-01T00:00:00",
          "2022-04-01T00:00:00",
          "2023-12-14T00:00:00",
          "2024-01-08T00:00:00",
          "2024-05-29T00:00:00",
          "2022-05-01T00:00:00",
          "2021-01-22T00:00:00",
          "2023-08-01T00:00:00",
          "2018-01-08T00:00:00",
          "2023-08-01T00:00:00",
          "2021-03-08T00:00:00",
          "2022-01-01T00:00:00",
          "2021-06-18T00:00:00",
          "2024-01-01T00:00:00",
          "2024-01-01T00:00:00",
          "2024-01-01T00:00:00",
          "2023-11-01T00:00:00"
         ],
         "xaxis": "x",
         "yaxis": "y"
        }
       ],
       "layout": {
        "autosize": true,
        "barmode": "relative",
        "legend": {
         "tracegroupgap": 0
        },
        "margin": {
         "t": 60
        },
        "template": {
         "data": {
          "bar": [
           {
            "error_x": {
             "color": "#2a3f5f"
            },
            "error_y": {
             "color": "#2a3f5f"
            },
            "marker": {
             "line": {
              "color": "#E5ECF6",
              "width": 0.5
             },
             "pattern": {
              "fillmode": "overlay",
              "size": 10,
              "solidity": 0.2
             }
            },
            "type": "bar"
           }
          ],
          "barpolar": [
           {
            "marker": {
             "line": {
              "color": "#E5ECF6",
              "width": 0.5
             },
             "pattern": {
              "fillmode": "overlay",
              "size": 10,
              "solidity": 0.2
             }
            },
            "type": "barpolar"
           }
          ],
          "carpet": [
           {
            "aaxis": {
             "endlinecolor": "#2a3f5f",
             "gridcolor": "white",
             "linecolor": "white",
             "minorgridcolor": "white",
             "startlinecolor": "#2a3f5f"
            },
            "baxis": {
             "endlinecolor": "#2a3f5f",
             "gridcolor": "white",
             "linecolor": "white",
             "minorgridcolor": "white",
             "startlinecolor": "#2a3f5f"
            },
            "type": "carpet"
           }
          ],
          "choropleth": [
           {
            "colorbar": {
             "outlinewidth": 0,
             "ticks": ""
            },
            "type": "choropleth"
           }
          ],
          "contour": [
           {
            "colorbar": {
             "outlinewidth": 0,
             "ticks": ""
            },
            "colorscale": [
             [
              0,
              "#0d0887"
             ],
             [
              0.1111111111111111,
              "#46039f"
             ],
             [
              0.2222222222222222,
              "#7201a8"
             ],
             [
              0.3333333333333333,
              "#9c179e"
             ],
             [
              0.4444444444444444,
              "#bd3786"
             ],
             [
              0.5555555555555556,
              "#d8576b"
             ],
             [
              0.6666666666666666,
              "#ed7953"
             ],
             [
              0.7777777777777778,
              "#fb9f3a"
             ],
             [
              0.8888888888888888,
              "#fdca26"
             ],
             [
              1,
              "#f0f921"
             ]
            ],
            "type": "contour"
           }
          ],
          "contourcarpet": [
           {
            "colorbar": {
             "outlinewidth": 0,
             "ticks": ""
            },
            "type": "contourcarpet"
           }
          ],
          "heatmap": [
           {
            "colorbar": {
             "outlinewidth": 0,
             "ticks": ""
            },
            "colorscale": [
             [
              0,
              "#0d0887"
             ],
             [
              0.1111111111111111,
              "#46039f"
             ],
             [
              0.2222222222222222,
              "#7201a8"
             ],
             [
              0.3333333333333333,
              "#9c179e"
             ],
             [
              0.4444444444444444,
              "#bd3786"
             ],
             [
              0.5555555555555556,
              "#d8576b"
             ],
             [
              0.6666666666666666,
              "#ed7953"
             ],
             [
              0.7777777777777778,
              "#fb9f3a"
             ],
             [
              0.8888888888888888,
              "#fdca26"
             ],
             [
              1,
              "#f0f921"
             ]
            ],
            "type": "heatmap"
           }
          ],
          "heatmapgl": [
           {
            "colorbar": {
             "outlinewidth": 0,
             "ticks": ""
            },
            "colorscale": [
             [
              0,
              "#0d0887"
             ],
             [
              0.1111111111111111,
              "#46039f"
             ],
             [
              0.2222222222222222,
              "#7201a8"
             ],
             [
              0.3333333333333333,
              "#9c179e"
             ],
             [
              0.4444444444444444,
              "#bd3786"
             ],
             [
              0.5555555555555556,
              "#d8576b"
             ],
             [
              0.6666666666666666,
              "#ed7953"
             ],
             [
              0.7777777777777778,
              "#fb9f3a"
             ],
             [
              0.8888888888888888,
              "#fdca26"
             ],
             [
              1,
              "#f0f921"
             ]
            ],
            "type": "heatmapgl"
           }
          ],
          "histogram": [
           {
            "marker": {
             "pattern": {
              "fillmode": "overlay",
              "size": 10,
              "solidity": 0.2
             }
            },
            "type": "histogram"
           }
          ],
          "histogram2d": [
           {
            "colorbar": {
             "outlinewidth": 0,
             "ticks": ""
            },
            "colorscale": [
             [
              0,
              "#0d0887"
             ],
             [
              0.1111111111111111,
              "#46039f"
             ],
             [
              0.2222222222222222,
              "#7201a8"
             ],
             [
              0.3333333333333333,
              "#9c179e"
             ],
             [
              0.4444444444444444,
              "#bd3786"
             ],
             [
              0.5555555555555556,
              "#d8576b"
             ],
             [
              0.6666666666666666,
              "#ed7953"
             ],
             [
              0.7777777777777778,
              "#fb9f3a"
             ],
             [
              0.8888888888888888,
              "#fdca26"
             ],
             [
              1,
              "#f0f921"
             ]
            ],
            "type": "histogram2d"
           }
          ],
          "histogram2dcontour": [
           {
            "colorbar": {
             "outlinewidth": 0,
             "ticks": ""
            },
            "colorscale": [
             [
              0,
              "#0d0887"
             ],
             [
              0.1111111111111111,
              "#46039f"
             ],
             [
              0.2222222222222222,
              "#7201a8"
             ],
             [
              0.3333333333333333,
              "#9c179e"
             ],
             [
              0.4444444444444444,
              "#bd3786"
             ],
             [
              0.5555555555555556,
              "#d8576b"
             ],
             [
              0.6666666666666666,
              "#ed7953"
             ],
             [
              0.7777777777777778,
              "#fb9f3a"
             ],
             [
              0.8888888888888888,
              "#fdca26"
             ],
             [
              1,
              "#f0f921"
             ]
            ],
            "type": "histogram2dcontour"
           }
          ],
          "mesh3d": [
           {
            "colorbar": {
             "outlinewidth": 0,
             "ticks": ""
            },
            "type": "mesh3d"
           }
          ],
          "parcoords": [
           {
            "line": {
             "colorbar": {
              "outlinewidth": 0,
              "ticks": ""
             }
            },
            "type": "parcoords"
           }
          ],
          "pie": [
           {
            "automargin": true,
            "type": "pie"
           }
          ],
          "scatter": [
           {
            "fillpattern": {
             "fillmode": "overlay",
             "size": 10,
             "solidity": 0.2
            },
            "type": "scatter"
           }
          ],
          "scatter3d": [
           {
            "line": {
             "colorbar": {
              "outlinewidth": 0,
              "ticks": ""
             }
            },
            "marker": {
             "colorbar": {
              "outlinewidth": 0,
              "ticks": ""
             }
            },
            "type": "scatter3d"
           }
          ],
          "scattercarpet": [
           {
            "marker": {
             "colorbar": {
              "outlinewidth": 0,
              "ticks": ""
             }
            },
            "type": "scattercarpet"
           }
          ],
          "scattergeo": [
           {
            "marker": {
             "colorbar": {
              "outlinewidth": 0,
              "ticks": ""
             }
            },
            "type": "scattergeo"
           }
          ],
          "scattergl": [
           {
            "marker": {
             "colorbar": {
              "outlinewidth": 0,
              "ticks": ""
             }
            },
            "type": "scattergl"
           }
          ],
          "scattermapbox": [
           {
            "marker": {
             "colorbar": {
              "outlinewidth": 0,
              "ticks": ""
             }
            },
            "type": "scattermapbox"
           }
          ],
          "scatterpolar": [
           {
            "marker": {
             "colorbar": {
              "outlinewidth": 0,
              "ticks": ""
             }
            },
            "type": "scatterpolar"
           }
          ],
          "scatterpolargl": [
           {
            "marker": {
             "colorbar": {
              "outlinewidth": 0,
              "ticks": ""
             }
            },
            "type": "scatterpolargl"
           }
          ],
          "scatterternary": [
           {
            "marker": {
             "colorbar": {
              "outlinewidth": 0,
              "ticks": ""
             }
            },
            "type": "scatterternary"
           }
          ],
          "surface": [
           {
            "colorbar": {
             "outlinewidth": 0,
             "ticks": ""
            },
            "colorscale": [
             [
              0,
              "#0d0887"
             ],
             [
              0.1111111111111111,
              "#46039f"
             ],
             [
              0.2222222222222222,
              "#7201a8"
             ],
             [
              0.3333333333333333,
              "#9c179e"
             ],
             [
              0.4444444444444444,
              "#bd3786"
             ],
             [
              0.5555555555555556,
              "#d8576b"
             ],
             [
              0.6666666666666666,
              "#ed7953"
             ],
             [
              0.7777777777777778,
              "#fb9f3a"
             ],
             [
              0.8888888888888888,
              "#fdca26"
             ],
             [
              1,
              "#f0f921"
             ]
            ],
            "type": "surface"
           }
          ],
          "table": [
           {
            "cells": {
             "fill": {
              "color": "#EBF0F8"
             },
             "line": {
              "color": "white"
             }
            },
            "header": {
             "fill": {
              "color": "#C8D4E3"
             },
             "line": {
              "color": "white"
             }
            },
            "type": "table"
           }
          ]
         },
         "layout": {
          "annotationdefaults": {
           "arrowcolor": "#2a3f5f",
           "arrowhead": 0,
           "arrowwidth": 1
          },
          "autotypenumbers": "strict",
          "coloraxis": {
           "colorbar": {
            "outlinewidth": 0,
            "ticks": ""
           }
          },
          "colorscale": {
           "diverging": [
            [
             0,
             "#8e0152"
            ],
            [
             0.1,
             "#c51b7d"
            ],
            [
             0.2,
             "#de77ae"
            ],
            [
             0.3,
             "#f1b6da"
            ],
            [
             0.4,
             "#fde0ef"
            ],
            [
             0.5,
             "#f7f7f7"
            ],
            [
             0.6,
             "#e6f5d0"
            ],
            [
             0.7,
             "#b8e186"
            ],
            [
             0.8,
             "#7fbc41"
            ],
            [
             0.9,
             "#4d9221"
            ],
            [
             1,
             "#276419"
            ]
           ],
           "sequential": [
            [
             0,
             "#0d0887"
            ],
            [
             0.1111111111111111,
             "#46039f"
            ],
            [
             0.2222222222222222,
             "#7201a8"
            ],
            [
             0.3333333333333333,
             "#9c179e"
            ],
            [
             0.4444444444444444,
             "#bd3786"
            ],
            [
             0.5555555555555556,
             "#d8576b"
            ],
            [
             0.6666666666666666,
             "#ed7953"
            ],
            [
             0.7777777777777778,
             "#fb9f3a"
            ],
            [
             0.8888888888888888,
             "#fdca26"
            ],
            [
             1,
             "#f0f921"
            ]
           ],
           "sequentialminus": [
            [
             0,
             "#0d0887"
            ],
            [
             0.1111111111111111,
             "#46039f"
            ],
            [
             0.2222222222222222,
             "#7201a8"
            ],
            [
             0.3333333333333333,
             "#9c179e"
            ],
            [
             0.4444444444444444,
             "#bd3786"
            ],
            [
             0.5555555555555556,
             "#d8576b"
            ],
            [
             0.6666666666666666,
             "#ed7953"
            ],
            [
             0.7777777777777778,
             "#fb9f3a"
            ],
            [
             0.8888888888888888,
             "#fdca26"
            ],
            [
             1,
             "#f0f921"
            ]
           ]
          },
          "colorway": [
           "#636efa",
           "#EF553B",
           "#00cc96",
           "#ab63fa",
           "#FFA15A",
           "#19d3f3",
           "#FF6692",
           "#B6E880",
           "#FF97FF",
           "#FECB52"
          ],
          "font": {
           "color": "#2a3f5f"
          },
          "geo": {
           "bgcolor": "white",
           "lakecolor": "white",
           "landcolor": "#E5ECF6",
           "showlakes": true,
           "showland": true,
           "subunitcolor": "white"
          },
          "hoverlabel": {
           "align": "left"
          },
          "hovermode": "closest",
          "mapbox": {
           "style": "light"
          },
          "paper_bgcolor": "white",
          "plot_bgcolor": "#E5ECF6",
          "polar": {
           "angularaxis": {
            "gridcolor": "white",
            "linecolor": "white",
            "ticks": ""
           },
           "bgcolor": "#E5ECF6",
           "radialaxis": {
            "gridcolor": "white",
            "linecolor": "white",
            "ticks": ""
           }
          },
          "scene": {
           "xaxis": {
            "backgroundcolor": "#E5ECF6",
            "gridcolor": "white",
            "gridwidth": 2,
            "linecolor": "white",
            "showbackground": true,
            "ticks": "",
            "zerolinecolor": "white"
           },
           "yaxis": {
            "backgroundcolor": "#E5ECF6",
            "gridcolor": "white",
            "gridwidth": 2,
            "linecolor": "white",
            "showbackground": true,
            "ticks": "",
            "zerolinecolor": "white"
           },
           "zaxis": {
            "backgroundcolor": "#E5ECF6",
            "gridcolor": "white",
            "gridwidth": 2,
            "linecolor": "white",
            "showbackground": true,
            "ticks": "",
            "zerolinecolor": "white"
           }
          },
          "shapedefaults": {
           "line": {
            "color": "#2a3f5f"
           }
          },
          "ternary": {
           "aaxis": {
            "gridcolor": "white",
            "linecolor": "white",
            "ticks": ""
           },
           "baxis": {
            "gridcolor": "white",
            "linecolor": "white",
            "ticks": ""
           },
           "bgcolor": "#E5ECF6",
           "caxis": {
            "gridcolor": "white",
            "linecolor": "white",
            "ticks": ""
           }
          },
          "title": {
           "x": 0.05
          },
          "xaxis": {
           "automargin": true,
           "gridcolor": "white",
           "linecolor": "white",
           "ticks": "",
           "title": {
            "standoff": 15
           },
           "zerolinecolor": "white",
           "zerolinewidth": 2
          },
          "yaxis": {
           "automargin": true,
           "gridcolor": "white",
           "linecolor": "white",
           "ticks": "",
           "title": {
            "standoff": 15
           },
           "zerolinecolor": "white",
           "zerolinewidth": 2
          }
         }
        },
        "xaxis": {
         "anchor": "y",
         "autorange": true,
         "domain": [
          0,
          1
         ],
         "range": [
          "2017-12-31 12:00",
          "2024-12-31"
         ],
         "title": {
          "text": "project_start"
         },
         "type": "date"
        },
        "yaxis": {
         "anchor": "x",
         "autorange": true,
         "domain": [
          0,
          1
         ],
         "range": [
          0,
          29.473684210526315
         ],
         "title": {
          "text": "count"
         }
        }
       }
      },
      "image/png": "[encoded data removed]",
      "text/html": [
       "<div>                            <div id=\"437a4a71-aa85-406e-950f-4257e6ef47c7\" class=\"plotly-graph-div\" style=\"height:525px; width:100%;\"></div>            <script type=\"text/javascript\">                require([\"plotly\"], function(Plotly) {                    window.PLOTLYENV=window.PLOTLYENV || {};                                    if (document.getElementById(\"437a4a71-aa85-406e-950f-4257e6ef47c7\")) {                    Plotly.newPlot(                        \"437a4a71-aa85-406e-950f-4257e6ef47c7\",                        [{\"alignmentgroup\":\"True\",\"bingroup\":\"x\",\"hovertemplate\":\"project_start=%{x}\\u003cbr\\u003ecount=%{y}\\u003cextra\\u003e\\u003c\\u002fextra\\u003e\",\"legendgroup\":\"\",\"marker\":{\"color\":\"#636efa\",\"pattern\":{\"shape\":\"\"}},\"name\":\"\",\"offsetgroup\":\"\",\"orientation\":\"v\",\"showlegend\":false,\"x\":[\"2021-08-20T00:00:00\",\"2023-01-01T00:00:00\",\"2023-10-01T00:00:00\",\"2022-04-01T00:00:00\",\"2024-04-21T00:00:00\",\"2023-04-23T00:00:00\",\"2023-04-01T00:00:00\",\"2023-09-01T00:00:00\",\"2024-02-08T00:00:00\",\"2021-07-24T00:00:00\",\"2023-06-28T00:00:00\",\"2020-04-03T00:00:00\",\"2024-03-01T00:00:00\",\"2023-10-18T00:00:00\",\"2024-07-01T00:00:00\",\"2021-02-08T00:00:00\",\"2024-02-01T00:00:00\",\"2022-06-17T00:00:00\",\"2023-09-30T00:00:00\",\"2023-12-01T00:00:00\",\"2023-09-15T00:00:00\",\"2023-08-18T00:00:00\",\"2020-09-24T00:00:00\",\"2022-12-01T00:00:00\",\"2019-05-01T00:00:00\",\"2023-01-01T00:00:00\",\"2022-01-08T00:00:00\",\"2020-11-01T00:00:00\",\"2023-11-21T00:00:00\",\"2023-01-19T00:00:00\",\"2023-11-29T00:00:00\",\"2024-04-01T00:00:00\",\"2024-05-29T00:00:00\",\"2024-02-01T00:00:00\",\"2022-10-01T00:00:00\",\"2021-07-06T00:00:00\",\"2022-10-30T00:00:00\",\"2023-08-01T00:00:00\",\"2023-06-01T00:00:00\",\"2023-12-31T00:00:00\",\"2023-05-31T00:00:00\",\"2023-09-01T00:00:00\",\"2019-03-10T00:00:00\",\"2022-01-03T00:00:00\",\"2018-06-21T00:00:00\",\"2022-01-02T00:00:00\",\"2023-03-31T00:00:00\",\"2023-03-31T00:00:00\",\"2022-09-06T00:00:00\",\"2022-08-08T00:00:00\",\"2021-06-17T00:00:00\",\"2023-03-15T00:00:00\",\"2021-04-01T00:00:00\",\"2023-03-28T00:00:00\",\"2022-03-01T00:00:00\",\"2022-04-01T00:00:00\",\"2023-12-14T00:00:00\",\"2024-01-08T00:00:00\",\"2024-05-29T00:00:00\",\"2022-05-01T00:00:00\",\"2021-01-22T00:00:00\",\"2023-08-01T00:00:00\",\"2018-01-08T00:00:00\",\"2023-08-01T00:00:00\",\"2021-03-08T00:00:00\",\"2022-01-01T00:00:00\",\"2021-06-18T00:00:00\",\"2024-01-01T00:00:00\",\"2024-01-01T00:00:00\",\"2024-01-01T00:00:00\",\"2023-11-01T00:00:00\"],\"xaxis\":\"x\",\"yaxis\":\"y\",\"type\":\"histogram\"}],                        {\"template\":{\"data\":{\"histogram2dcontour\":[{\"type\":\"histogram2dcontour\",\"colorbar\":{\"outlinewidth\":0,\"ticks\":\"\"},\"colorscale\":[[0.0,\"#0d0887\"],[0.1111111111111111,\"#46039f\"],[0.2222222222222222,\"#7201a8\"],[0.3333333333333333,\"#9c179e\"],[0.4444444444444444,\"#bd3786\"],[0.5555555555555556,\"#d8576b\"],[0.6666666666666666,\"#ed7953\"],[0.7777777777777778,\"#fb9f3a\"],[0.8888888888888888,\"#fdca26\"],[1.0,\"#f0f921\"]]}],\"choropleth\":[{\"type\":\"choropleth\",\"colorbar\":{\"outlinewidth\":0,\"ticks\":\"\"}}],\"histogram2d\":[{\"type\":\"histogram2d\",\"colorbar\":{\"outlinewidth\":0,\"ticks\":\"\"},\"colorscale\":[[0.0,\"#0d0887\"],[0.1111111111111111,\"#46039f\"],[0.2222222222222222,\"#7201a8\"],[0.3333333333333333,\"#9c179e\"],[0.4444444444444444,\"#bd3786\"],[0.5555555555555556,\"#d8576b\"],[0.6666666666666666,\"#ed7953\"],[0.7777777777777778,\"#fb9f3a\"],[0.8888888888888888,\"#fdca26\"],[1.0,\"#f0f921\"]]}],\"heatmap\":[{\"type\":\"heatmap\",\"colorbar\":{\"outlinewidth\":0,\"ticks\":\"\"},\"colorscale\":[[0.0,\"#0d0887\"],[0.1111111111111111,\"#46039f\"],[0.2222222222222222,\"#7201a8\"],[0.3333333333333333,\"#9c179e\"],[0.4444444444444444,\"#bd3786\"],[0.5555555555555556,\"#d8576b\"],[0.6666666666666666,\"#ed7953\"],[0.7777777777777778,\"#fb9f3a\"],[0.8888888888888888,\"#fdca26\"],[1.0,\"#f0f921\"]]}],\"heatmapgl\":[{\"type\":\"heatmapgl\",\"colorbar\":{\"outlinewidth\":0,\"ticks\":\"\"},\"colorscale\":[[0.0,\"#0d0887\"],[0.1111111111111111,\"#46039f\"],[0.2222222222222222,\"#7201a8\"],[0.3333333333333333,\"#9c179e\"],[0.4444444444444444,\"#bd3786\"],[0.5555555555555556,\"#d8576b\"],[0.6666666666666666,\"#ed7953\"],[0.7777777777777778,\"#fb9f3a\"],[0.8888888888888888,\"#fdca26\"],[1.0,\"#f0f921\"]]}],\"contourcarpet\":[{\"type\":\"contourcarpet\",\"colorbar\":{\"outlinewidth\":0,\"ticks\":\"\"}}],\"contour\":[{\"type\":\"contour\",\"colorbar\":{\"outlinewidth\":0,\"ticks\":\"\"},\"colorscale\":[[0.0,\"#0d0887\"],[0.1111111111111111,\"#46039f\"],[0.2222222222222222,\"#7201a8\"],[0.3333333333333333,\"#9c179e\"],[0.4444444444444444,\"#bd3786\"],[0.5555555555555556,\"#d8576b\"],[0.6666666666666666,\"#ed7953\"],[0.7777777777777778,\"#fb9f3a\"],[0.8888888888888888,\"#fdca26\"],[1.0,\"#f0f921\"]]}],\"surface\":[{\"type\":\"surface\",\"colorbar\":{\"outlinewidth\":0,\"ticks\":\"\"},\"colorscale\":[[0.0,\"#0d0887\"],[0.1111111111111111,\"#46039f\"],[0.2222222222222222,\"#7201a8\"],[0.3333333333333333,\"#9c179e\"],[0.4444444444444444,\"#bd3786\"],[0.5555555555555556,\"#d8576b\"],[0.6666666666666666,\"#ed7953\"],[0.7777777777777778,\"#fb9f3a\"],[0.8888888888888888,\"#fdca26\"],[1.0,\"#f0f921\"]]}],\"mesh3d\":[{\"type\":\"mesh3d\",\"colorbar\":{\"outlinewidth\":0,\"ticks\":\"\"}}],\"scatter\":[{\"fillpattern\":{\"fillmode\":\"overlay\",\"size\":10,\"solidity\":0.2},\"type\":\"scatter\"}],\"parcoords\":[{\"type\":\"parcoords\",\"line\":{\"colorbar\":{\"outlinewidth\":0,\"ticks\":\"\"}}}],\"scatterpolargl\":[{\"type\":\"scatterpolargl\",\"marker\":{\"colorbar\":{\"outlinewidth\":0,\"ticks\":\"\"}}}],\"bar\":[{\"error_x\":{\"color\":\"#2a3f5f\"},\"error_y\":{\"color\":\"#2a3f5f\"},\"marker\":{\"line\":{\"color\":\"#E5ECF6\",\"width\":0.5},\"pattern\":{\"fillmode\":\"overlay\",\"size\":10,\"solidity\":0.2}},\"type\":\"bar\"}],\"scattergeo\":[{\"type\":\"scattergeo\",\"marker\":{\"colorbar\":{\"outlinewidth\":0,\"ticks\":\"\"}}}],\"scatterpolar\":[{\"type\":\"scatterpolar\",\"marker\":{\"colorbar\":{\"outlinewidth\":0,\"ticks\":\"\"}}}],\"histogram\":[{\"marker\":{\"pattern\":{\"fillmode\":\"overlay\",\"size\":10,\"solidity\":0.2}},\"type\":\"histogram\"}],\"scattergl\":[{\"type\":\"scattergl\",\"marker\":{\"colorbar\":{\"outlinewidth\":0,\"ticks\":\"\"}}}],\"scatter3d\":[{\"type\":\"scatter3d\",\"line\":{\"colorbar\":{\"outlinewidth\":0,\"ticks\":\"\"}},\"marker\":{\"colorbar\":{\"outlinewidth\":0,\"ticks\":\"\"}}}],\"scattermapbox\":[{\"type\":\"scattermapbox\",\"marker\":{\"colorbar\":{\"outlinewidth\":0,\"ticks\":\"\"}}}],\"scatterternary\":[{\"type\":\"scatterternary\",\"marker\":{\"colorbar\":{\"outlinewidth\":0,\"ticks\":\"\"}}}],\"scattercarpet\":[{\"type\":\"scattercarpet\",\"marker\":{\"colorbar\":{\"outlinewidth\":0,\"ticks\":\"\"}}}],\"carpet\":[{\"aaxis\":{\"endlinecolor\":\"#2a3f5f\",\"gridcolor\":\"white\",\"linecolor\":\"white\",\"minorgridcolor\":\"white\",\"startlinecolor\":\"#2a3f5f\"},\"baxis\":{\"endlinecolor\":\"#2a3f5f\",\"gridcolor\":\"white\",\"linecolor\":\"white\",\"minorgridcolor\":\"white\",\"startlinecolor\":\"#2a3f5f\"},\"type\":\"carpet\"}],\"table\":[{\"cells\":{\"fill\":{\"color\":\"#EBF0F8\"},\"line\":{\"color\":\"white\"}},\"header\":{\"fill\":{\"color\":\"#C8D4E3\"},\"line\":{\"color\":\"white\"}},\"type\":\"table\"}],\"barpolar\":[{\"marker\":{\"line\":{\"color\":\"#E5ECF6\",\"width\":0.5},\"pattern\":{\"fillmode\":\"overlay\",\"size\":10,\"solidity\":0.2}},\"type\":\"barpolar\"}],\"pie\":[{\"automargin\":true,\"type\":\"pie\"}]},\"layout\":{\"autotypenumbers\":\"strict\",\"colorway\":[\"#636efa\",\"#EF553B\",\"#00cc96\",\"#ab63fa\",\"#FFA15A\",\"#19d3f3\",\"#FF6692\",\"#B6E880\",\"#FF97FF\",\"#FECB52\"],\"font\":{\"color\":\"#2a3f5f\"},\"hovermode\":\"closest\",\"hoverlabel\":{\"align\":\"left\"},\"paper_bgcolor\":\"white\",\"plot_bgcolor\":\"#E5ECF6\",\"polar\":{\"bgcolor\":\"#E5ECF6\",\"angularaxis\":{\"gridcolor\":\"white\",\"linecolor\":\"white\",\"ticks\":\"\"},\"radialaxis\":{\"gridcolor\":\"white\",\"linecolor\":\"white\",\"ticks\":\"\"}},\"ternary\":{\"bgcolor\":\"#E5ECF6\",\"aaxis\":{\"gridcolor\":\"white\",\"linecolor\":\"white\",\"ticks\":\"\"},\"baxis\":{\"gridcolor\":\"white\",\"linecolor\":\"white\",\"ticks\":\"\"},\"caxis\":{\"gridcolor\":\"white\",\"linecolor\":\"white\",\"ticks\":\"\"}},\"coloraxis\":{\"colorbar\":{\"outlinewidth\":0,\"ticks\":\"\"}},\"colorscale\":{\"sequential\":[[0.0,\"#0d0887\"],[0.1111111111111111,\"#46039f\"],[0.2222222222222222,\"#7201a8\"],[0.3333333333333333,\"#9c179e\"],[0.4444444444444444,\"#bd3786\"],[0.5555555555555556,\"#d8576b\"],[0.6666666666666666,\"#ed7953\"],[0.7777777777777778,\"#fb9f3a\"],[0.8888888888888888,\"#fdca26\"],[1.0,\"#f0f921\"]],\"sequentialminus\":[[0.0,\"#0d0887\"],[0.1111111111111111,\"#46039f\"],[0.2222222222222222,\"#7201a8\"],[0.3333333333333333,\"#9c179e\"],[0.4444444444444444,\"#bd3786\"],[0.5555555555555556,\"#d8576b\"],[0.6666666666666666,\"#ed7953\"],[0.7777777777777778,\"#fb9f3a\"],[0.8888888888888888,\"#fdca26\"],[1.0,\"#f0f921\"]],\"diverging\":[[0,\"#8e0152\"],[0.1,\"#c51b7d\"],[0.2,\"#de77ae\"],[0.3,\"#f1b6da\"],[0.4,\"#fde0ef\"],[0.5,\"#f7f7f7\"],[0.6,\"#e6f5d0\"],[0.7,\"#b8e186\"],[0.8,\"#7fbc41\"],[0.9,\"#4d9221\"],[1,\"#276419\"]]},\"xaxis\":{\"gridcolor\":\"white\",\"linecolor\":\"white\",\"ticks\":\"\",\"title\":{\"standoff\":15},\"zerolinecolor\":\"white\",\"automargin\":true,\"zerolinewidth\":2},\"yaxis\":{\"gridcolor\":\"white\",\"linecolor\":\"white\",\"ticks\":\"\",\"title\":{\"standoff\":15},\"zerolinecolor\":\"white\",\"automargin\":true,\"zerolinewidth\":2},\"scene\":{\"xaxis\":{\"backgroundcolor\":\"#E5ECF6\",\"gridcolor\":\"white\",\"linecolor\":\"white\",\"showbackground\":true,\"ticks\":\"\",\"zerolinecolor\":\"white\",\"gridwidth\":2},\"yaxis\":{\"backgroundcolor\":\"#E5ECF6\",\"gridcolor\":\"white\",\"linecolor\":\"white\",\"showbackground\":true,\"ticks\":\"\",\"zerolinecolor\":\"white\",\"gridwidth\":2},\"zaxis\":{\"backgroundcolor\":\"#E5ECF6\",\"gridcolor\":\"white\",\"linecolor\":\"white\",\"showbackground\":true,\"ticks\":\"\",\"zerolinecolor\":\"white\",\"gridwidth\":2}},\"shapedefaults\":{\"line\":{\"color\":\"#2a3f5f\"}},\"annotationdefaults\":{\"arrowcolor\":\"#2a3f5f\",\"arrowhead\":0,\"arrowwidth\":1},\"geo\":{\"bgcolor\":\"white\",\"landcolor\":\"#E5ECF6\",\"subunitcolor\":\"white\",\"showland\":true,\"showlakes\":true,\"lakecolor\":\"white\"},\"title\":{\"x\":0.05},\"mapbox\":{\"style\":\"light\"}}},\"xaxis\":{\"anchor\":\"y\",\"domain\":[0.0,1.0],\"title\":{\"text\":\"project_start\"}},\"yaxis\":{\"anchor\":\"x\",\"domain\":[0.0,1.0],\"title\":{\"text\":\"count\"}},\"legend\":{\"tracegroupgap\":0},\"margin\":{\"t\":60},\"barmode\":\"relative\"},                        {\"responsive\": true}                    ).then(function(){\n",
       "                            \n",
       "var gd = document.getElementById('437a4a71-aa85-406e-950f-4257e6ef47c7');\n",
       "var x = new MutationObserver(function (mutations, observer) {{\n",
       "        var display = window.getComputedStyle(gd).display;\n",
       "        if (!display || display === 'none') {{\n",
       "            console.log([gd, 'removed!']);\n",
       "            Plotly.purge(gd);\n",
       "            observer.disconnect();\n",
       "        }}\n",
       "}});\n",
       "\n",
       "// Listen for the removal of the full notebook cells\n",
       "var notebookContainer = gd.closest('#notebook-container');\n",
       "if (notebookContainer) {{\n",
       "    x.observe(notebookContainer, {childList: true});\n",
       "}}\n",
       "\n",
       "// Listen for the clearing of the current output cell\n",
       "var outputEl = gd.closest('.output');\n",
       "if (outputEl) {{\n",
       "    x.observe(outputEl, {childList: true});\n",
       "}}\n",
       "\n",
       "                        })                };                });            </script>        </div>"
      ]
     },
     "metadata": {},
     "output_type": "display_data"
    }
   ],
   "source": [
    "fig = px.histogram(df, x='project_start', title=\"\")\n",
    "fig.show()"
   ]
  },
  {
   "cell_type": "code",
   "execution_count": 222,
   "id": "a07ec0a8-1978-462d-8fd4-7734f0d805f5",
   "metadata": {
    "scrolled": true
   },
   "outputs": [
    {
     "data": {
      "application/vnd.plotly.v1+json": {
       "config": {
        "plotlyServerURL": "https://plot.ly"
       },
       "data": [
        {
         "domain": {
          "x": [
           0,
           1
          ],
          "y": [
           0,
           1
          ]
         },
         "hovertemplate": "founder_education=%{label}<extra></extra>",
         "labels": [
          "Universitario completo (Institución privada)",
          "Universitario completo (Institución pública)",
          "Universitario completo (Institución privada)",
          "Universitario completo (Institución privada)",
          "Secundario incompleto",
          "Estudios de especialización",
          "Universitario completo (Institución pública)",
          "Universitario incompleto (Institución privada)",
          "Universitario completo (Institución pública)",
          "Estudios de especialización",
          "Estudios de especialización",
          "Master",
          "Universitario completo (Institución privada)",
          "Secundario completo",
          "Master",
          "Universitario completo (Institución pública)",
          "Secundario completo",
          "Universitario completo (Institución privada)",
          "Universitario incompleto (Institución privada)",
          "Master",
          "Universitario completo (Institución privada)",
          "Secundario completo",
          "Master",
          "Universitario incompleto (Institución privada)",
          "Universitario incompleto (Institución pública)",
          "Universitario completo (Institución pública)",
          "Universitario incompleto (Institución privada)",
          "Universitario completo (Institución pública)",
          "Estudios de especialización",
          "Universitario incompleto (Institución pública)",
          "Estudios de especialización",
          "Secundario completo",
          "Master",
          "Universitario incompleto (Institución privada)",
          "Universitario completo (Institución privada)",
          "Estudios de especialización",
          "Universitario completo (Institución privada)",
          "Universitario completo (Institución privada)",
          "Universitario incompleto (Institución pública)",
          "Universitario incompleto (Institución privada)",
          "Master",
          "Universitario completo (Institución privada)",
          "Universitario completo (Institución privada)",
          "Universitario completo (Institución pública)",
          "Master",
          "Universitario completo (Institución privada)",
          "Universitario completo (Institución pública)",
          "Master",
          "Universitario incompleto (Institución privada)",
          "Universitario completo (Institución privada)",
          "Universitario completo (Institución privada)",
          "Estudios de especialización",
          "Master",
          "Universitario completo (Institución privada)",
          "Master",
          "Universitario incompleto (Institución privada)",
          "Secundario completo",
          "Universitario completo (Institución privada)",
          "Universitario completo (Institución privada)",
          "Universitario completo (Institución privada)",
          "Universitario completo (Institución privada)",
          "Universitario completo (Institución pública)",
          "Master",
          "Universitario completo (Institución pública)",
          "Universitario completo (Institución privada)",
          "Universitario completo (Institución pública)",
          "Universitario completo (Institución pública)",
          "Master",
          "Universitario completo (Institución pública)",
          "Universitario completo (Institución privada)",
          "Universitario completo (Institución privada)"
         ],
         "legendgroup": "",
         "name": "",
         "showlegend": true,
         "type": "pie"
        }
       ],
       "layout": {
        "autosize": true,
        "legend": {
         "tracegroupgap": 0
        },
        "template": {
         "data": {
          "bar": [
           {
            "error_x": {
             "color": "#2a3f5f"
            },
            "error_y": {
             "color": "#2a3f5f"
            },
            "marker": {
             "line": {
              "color": "#E5ECF6",
              "width": 0.5
             },
             "pattern": {
              "fillmode": "overlay",
              "size": 10,
              "solidity": 0.2
             }
            },
            "type": "bar"
           }
          ],
          "barpolar": [
           {
            "marker": {
             "line": {
              "color": "#E5ECF6",
              "width": 0.5
             },
             "pattern": {
              "fillmode": "overlay",
              "size": 10,
              "solidity": 0.2
             }
            },
            "type": "barpolar"
           }
          ],
          "carpet": [
           {
            "aaxis": {
             "endlinecolor": "#2a3f5f",
             "gridcolor": "white",
             "linecolor": "white",
             "minorgridcolor": "white",
             "startlinecolor": "#2a3f5f"
            },
            "baxis": {
             "endlinecolor": "#2a3f5f",
             "gridcolor": "white",
             "linecolor": "white",
             "minorgridcolor": "white",
             "startlinecolor": "#2a3f5f"
            },
            "type": "carpet"
           }
          ],
          "choropleth": [
           {
            "colorbar": {
             "outlinewidth": 0,
             "ticks": ""
            },
            "type": "choropleth"
           }
          ],
          "contour": [
           {
            "colorbar": {
             "outlinewidth": 0,
             "ticks": ""
            },
            "colorscale": [
             [
              0,
              "#0d0887"
             ],
             [
              0.1111111111111111,
              "#46039f"
             ],
             [
              0.2222222222222222,
              "#7201a8"
             ],
             [
              0.3333333333333333,
              "#9c179e"
             ],
             [
              0.4444444444444444,
              "#bd3786"
             ],
             [
              0.5555555555555556,
              "#d8576b"
             ],
             [
              0.6666666666666666,
              "#ed7953"
             ],
             [
              0.7777777777777778,
              "#fb9f3a"
             ],
             [
              0.8888888888888888,
              "#fdca26"
             ],
             [
              1,
              "#f0f921"
             ]
            ],
            "type": "contour"
           }
          ],
          "contourcarpet": [
           {
            "colorbar": {
             "outlinewidth": 0,
             "ticks": ""
            },
            "type": "contourcarpet"
           }
          ],
          "heatmap": [
           {
            "colorbar": {
             "outlinewidth": 0,
             "ticks": ""
            },
            "colorscale": [
             [
              0,
              "#0d0887"
             ],
             [
              0.1111111111111111,
              "#46039f"
             ],
             [
              0.2222222222222222,
              "#7201a8"
             ],
             [
              0.3333333333333333,
              "#9c179e"
             ],
             [
              0.4444444444444444,
              "#bd3786"
             ],
             [
              0.5555555555555556,
              "#d8576b"
             ],
             [
              0.6666666666666666,
              "#ed7953"
             ],
             [
              0.7777777777777778,
              "#fb9f3a"
             ],
             [
              0.8888888888888888,
              "#fdca26"
             ],
             [
              1,
              "#f0f921"
             ]
            ],
            "type": "heatmap"
           }
          ],
          "heatmapgl": [
           {
            "colorbar": {
             "outlinewidth": 0,
             "ticks": ""
            },
            "colorscale": [
             [
              0,
              "#0d0887"
             ],
             [
              0.1111111111111111,
              "#46039f"
             ],
             [
              0.2222222222222222,
              "#7201a8"
             ],
             [
              0.3333333333333333,
              "#9c179e"
             ],
             [
              0.4444444444444444,
              "#bd3786"
             ],
             [
              0.5555555555555556,
              "#d8576b"
             ],
             [
              0.6666666666666666,
              "#ed7953"
             ],
             [
              0.7777777777777778,
              "#fb9f3a"
             ],
             [
              0.8888888888888888,
              "#fdca26"
             ],
             [
              1,
              "#f0f921"
             ]
            ],
            "type": "heatmapgl"
           }
          ],
          "histogram": [
           {
            "marker": {
             "pattern": {
              "fillmode": "overlay",
              "size": 10,
              "solidity": 0.2
             }
            },
            "type": "histogram"
           }
          ],
          "histogram2d": [
           {
            "colorbar": {
             "outlinewidth": 0,
             "ticks": ""
            },
            "colorscale": [
             [
              0,
              "#0d0887"
             ],
             [
              0.1111111111111111,
              "#46039f"
             ],
             [
              0.2222222222222222,
              "#7201a8"
             ],
             [
              0.3333333333333333,
              "#9c179e"
             ],
             [
              0.4444444444444444,
              "#bd3786"
             ],
             [
              0.5555555555555556,
              "#d8576b"
             ],
             [
              0.6666666666666666,
              "#ed7953"
             ],
             [
              0.7777777777777778,
              "#fb9f3a"
             ],
             [
              0.8888888888888888,
              "#fdca26"
             ],
             [
              1,
              "#f0f921"
             ]
            ],
            "type": "histogram2d"
           }
          ],
          "histogram2dcontour": [
           {
            "colorbar": {
             "outlinewidth": 0,
             "ticks": ""
            },
            "colorscale": [
             [
              0,
              "#0d0887"
             ],
             [
              0.1111111111111111,
              "#46039f"
             ],
             [
              0.2222222222222222,
              "#7201a8"
             ],
             [
              0.3333333333333333,
              "#9c179e"
             ],
             [
              0.4444444444444444,
              "#bd3786"
             ],
             [
              0.5555555555555556,
              "#d8576b"
             ],
             [
              0.6666666666666666,
              "#ed7953"
             ],
             [
              0.7777777777777778,
              "#fb9f3a"
             ],
             [
              0.8888888888888888,
              "#fdca26"
             ],
             [
              1,
              "#f0f921"
             ]
            ],
            "type": "histogram2dcontour"
           }
          ],
          "mesh3d": [
           {
            "colorbar": {
             "outlinewidth": 0,
             "ticks": ""
            },
            "type": "mesh3d"
           }
          ],
          "parcoords": [
           {
            "line": {
             "colorbar": {
              "outlinewidth": 0,
              "ticks": ""
             }
            },
            "type": "parcoords"
           }
          ],
          "pie": [
           {
            "automargin": true,
            "type": "pie"
           }
          ],
          "scatter": [
           {
            "fillpattern": {
             "fillmode": "overlay",
             "size": 10,
             "solidity": 0.2
            },
            "type": "scatter"
           }
          ],
          "scatter3d": [
           {
            "line": {
             "colorbar": {
              "outlinewidth": 0,
              "ticks": ""
             }
            },
            "marker": {
             "colorbar": {
              "outlinewidth": 0,
              "ticks": ""
             }
            },
            "type": "scatter3d"
           }
          ],
          "scattercarpet": [
           {
            "marker": {
             "colorbar": {
              "outlinewidth": 0,
              "ticks": ""
             }
            },
            "type": "scattercarpet"
           }
          ],
          "scattergeo": [
           {
            "marker": {
             "colorbar": {
              "outlinewidth": 0,
              "ticks": ""
             }
            },
            "type": "scattergeo"
           }
          ],
          "scattergl": [
           {
            "marker": {
             "colorbar": {
              "outlinewidth": 0,
              "ticks": ""
             }
            },
            "type": "scattergl"
           }
          ],
          "scattermapbox": [
           {
            "marker": {
             "colorbar": {
              "outlinewidth": 0,
              "ticks": ""
             }
            },
            "type": "scattermapbox"
           }
          ],
          "scatterpolar": [
           {
            "marker": {
             "colorbar": {
              "outlinewidth": 0,
              "ticks": ""
             }
            },
            "type": "scatterpolar"
           }
          ],
          "scatterpolargl": [
           {
            "marker": {
             "colorbar": {
              "outlinewidth": 0,
              "ticks": ""
             }
            },
            "type": "scatterpolargl"
           }
          ],
          "scatterternary": [
           {
            "marker": {
             "colorbar": {
              "outlinewidth": 0,
              "ticks": ""
             }
            },
            "type": "scatterternary"
           }
          ],
          "surface": [
           {
            "colorbar": {
             "outlinewidth": 0,
             "ticks": ""
            },
            "colorscale": [
             [
              0,
              "#0d0887"
             ],
             [
              0.1111111111111111,
              "#46039f"
             ],
             [
              0.2222222222222222,
              "#7201a8"
             ],
             [
              0.3333333333333333,
              "#9c179e"
             ],
             [
              0.4444444444444444,
              "#bd3786"
             ],
             [
              0.5555555555555556,
              "#d8576b"
             ],
             [
              0.6666666666666666,
              "#ed7953"
             ],
             [
              0.7777777777777778,
              "#fb9f3a"
             ],
             [
              0.8888888888888888,
              "#fdca26"
             ],
             [
              1,
              "#f0f921"
             ]
            ],
            "type": "surface"
           }
          ],
          "table": [
           {
            "cells": {
             "fill": {
              "color": "#EBF0F8"
             },
             "line": {
              "color": "white"
             }
            },
            "header": {
             "fill": {
              "color": "#C8D4E3"
             },
             "line": {
              "color": "white"
             }
            },
            "type": "table"
           }
          ]
         },
         "layout": {
          "annotationdefaults": {
           "arrowcolor": "#2a3f5f",
           "arrowhead": 0,
           "arrowwidth": 1
          },
          "autotypenumbers": "strict",
          "coloraxis": {
           "colorbar": {
            "outlinewidth": 0,
            "ticks": ""
           }
          },
          "colorscale": {
           "diverging": [
            [
             0,
             "#8e0152"
            ],
            [
             0.1,
             "#c51b7d"
            ],
            [
             0.2,
             "#de77ae"
            ],
            [
             0.3,
             "#f1b6da"
            ],
            [
             0.4,
             "#fde0ef"
            ],
            [
             0.5,
             "#f7f7f7"
            ],
            [
             0.6,
             "#e6f5d0"
            ],
            [
             0.7,
             "#b8e186"
            ],
            [
             0.8,
             "#7fbc41"
            ],
            [
             0.9,
             "#4d9221"
            ],
            [
             1,
             "#276419"
            ]
           ],
           "sequential": [
            [
             0,
             "#0d0887"
            ],
            [
             0.1111111111111111,
             "#46039f"
            ],
            [
             0.2222222222222222,
             "#7201a8"
            ],
            [
             0.3333333333333333,
             "#9c179e"
            ],
            [
             0.4444444444444444,
             "#bd3786"
            ],
            [
             0.5555555555555556,
             "#d8576b"
            ],
            [
             0.6666666666666666,
             "#ed7953"
            ],
            [
             0.7777777777777778,
             "#fb9f3a"
            ],
            [
             0.8888888888888888,
             "#fdca26"
            ],
            [
             1,
             "#f0f921"
            ]
           ],
           "sequentialminus": [
            [
             0,
             "#0d0887"
            ],
            [
             0.1111111111111111,
             "#46039f"
            ],
            [
             0.2222222222222222,
             "#7201a8"
            ],
            [
             0.3333333333333333,
             "#9c179e"
            ],
            [
             0.4444444444444444,
             "#bd3786"
            ],
            [
             0.5555555555555556,
             "#d8576b"
            ],
            [
             0.6666666666666666,
             "#ed7953"
            ],
            [
             0.7777777777777778,
             "#fb9f3a"
            ],
            [
             0.8888888888888888,
             "#fdca26"
            ],
            [
             1,
             "#f0f921"
            ]
           ]
          },
          "colorway": [
           "#636efa",
           "#EF553B",
           "#00cc96",
           "#ab63fa",
           "#FFA15A",
           "#19d3f3",
           "#FF6692",
           "#B6E880",
           "#FF97FF",
           "#FECB52"
          ],
          "font": {
           "color": "#2a3f5f"
          },
          "geo": {
           "bgcolor": "white",
           "lakecolor": "white",
           "landcolor": "#E5ECF6",
           "showlakes": true,
           "showland": true,
           "subunitcolor": "white"
          },
          "hoverlabel": {
           "align": "left"
          },
          "hovermode": "closest",
          "mapbox": {
           "style": "light"
          },
          "paper_bgcolor": "white",
          "plot_bgcolor": "#E5ECF6",
          "polar": {
           "angularaxis": {
            "gridcolor": "white",
            "linecolor": "white",
            "ticks": ""
           },
           "bgcolor": "#E5ECF6",
           "radialaxis": {
            "gridcolor": "white",
            "linecolor": "white",
            "ticks": ""
           }
          },
          "scene": {
           "xaxis": {
            "backgroundcolor": "#E5ECF6",
            "gridcolor": "white",
            "gridwidth": 2,
            "linecolor": "white",
            "showbackground": true,
            "ticks": "",
            "zerolinecolor": "white"
           },
           "yaxis": {
            "backgroundcolor": "#E5ECF6",
            "gridcolor": "white",
            "gridwidth": 2,
            "linecolor": "white",
            "showbackground": true,
            "ticks": "",
            "zerolinecolor": "white"
           },
           "zaxis": {
            "backgroundcolor": "#E5ECF6",
            "gridcolor": "white",
            "gridwidth": 2,
            "linecolor": "white",
            "showbackground": true,
            "ticks": "",
            "zerolinecolor": "white"
           }
          },
          "shapedefaults": {
           "line": {
            "color": "#2a3f5f"
           }
          },
          "ternary": {
           "aaxis": {
            "gridcolor": "white",
            "linecolor": "white",
            "ticks": ""
           },
           "baxis": {
            "gridcolor": "white",
            "linecolor": "white",
            "ticks": ""
           },
           "bgcolor": "#E5ECF6",
           "caxis": {
            "gridcolor": "white",
            "linecolor": "white",
            "ticks": ""
           }
          },
          "title": {
           "x": 0.05
          },
          "xaxis": {
           "automargin": true,
           "gridcolor": "white",
           "linecolor": "white",
           "ticks": "",
           "title": {
            "standoff": 15
           },
           "zerolinecolor": "white",
           "zerolinewidth": 2
          },
          "yaxis": {
           "automargin": true,
           "gridcolor": "white",
           "linecolor": "white",
           "ticks": "",
           "title": {
            "standoff": 15
           },
           "zerolinecolor": "white",
           "zerolinewidth": 2
          }
         }
        },
        "title": {
         "text": "founder education"
        }
       }
      },
      "image/png": "[encoded data removed]",
      "text/html": [
       "<div>                            <div id=\"c8950af6-727b-4365-8303-ea64c6e77f08\" class=\"plotly-graph-div\" style=\"height:525px; width:100%;\"></div>            <script type=\"text/javascript\">                require([\"plotly\"], function(Plotly) {                    window.PLOTLYENV=window.PLOTLYENV || {};                                    if (document.getElementById(\"c8950af6-727b-4365-8303-ea64c6e77f08\")) {                    Plotly.newPlot(                        \"c8950af6-727b-4365-8303-ea64c6e77f08\",                        [{\"domain\":{\"x\":[0.0,1.0],\"y\":[0.0,1.0]},\"hovertemplate\":\"founder_education=%{label}\\u003cextra\\u003e\\u003c\\u002fextra\\u003e\",\"labels\":[\"Universitario completo (Instituci\\u00f3n privada)\",\"Universitario completo (Instituci\\u00f3n p\\u00fablica)\",\"Universitario completo (Instituci\\u00f3n privada)\",\"Universitario completo (Instituci\\u00f3n privada)\",\"Secundario incompleto\",\"Estudios de especializaci\\u00f3n\",\"Universitario completo (Instituci\\u00f3n p\\u00fablica)\",\"Universitario incompleto (Instituci\\u00f3n privada)\",\"Universitario completo (Instituci\\u00f3n p\\u00fablica)\",\"Estudios de especializaci\\u00f3n\",\"Estudios de especializaci\\u00f3n\",\"Master\",\"Universitario completo (Instituci\\u00f3n privada)\",\"Secundario completo\",\"Master\",\"Universitario completo (Instituci\\u00f3n p\\u00fablica)\",\"Secundario completo\",\"Universitario completo (Instituci\\u00f3n privada)\",\"Universitario incompleto (Instituci\\u00f3n privada)\",\"Master\",\"Universitario completo (Instituci\\u00f3n privada)\",\"Secundario completo\",\"Master\",\"Universitario incompleto (Instituci\\u00f3n privada)\",\"Universitario incompleto (Instituci\\u00f3n p\\u00fablica)\",\"Universitario completo (Instituci\\u00f3n p\\u00fablica)\",\"Universitario incompleto (Instituci\\u00f3n privada)\",\"Universitario completo (Instituci\\u00f3n p\\u00fablica)\",\"Estudios de especializaci\\u00f3n\",\"Universitario incompleto (Instituci\\u00f3n p\\u00fablica)\",\"Estudios de especializaci\\u00f3n\",\"Secundario completo\",\"Master\",\"Universitario incompleto (Instituci\\u00f3n privada)\",\"Universitario completo (Instituci\\u00f3n privada)\",\"Estudios de especializaci\\u00f3n\",\"Universitario completo (Instituci\\u00f3n privada)\",\"Universitario completo (Instituci\\u00f3n privada)\",\"Universitario incompleto (Instituci\\u00f3n p\\u00fablica)\",\"Universitario incompleto (Instituci\\u00f3n privada)\",\"Master\",\"Universitario completo (Instituci\\u00f3n privada)\",\"Universitario completo (Instituci\\u00f3n privada)\",\"Universitario completo (Instituci\\u00f3n p\\u00fablica)\",\"Master\",\"Universitario completo (Instituci\\u00f3n privada)\",\"Universitario completo (Instituci\\u00f3n p\\u00fablica)\",\"Master\",\"Universitario incompleto (Instituci\\u00f3n privada)\",\"Universitario completo (Instituci\\u00f3n privada)\",\"Universitario completo (Instituci\\u00f3n privada)\",\"Estudios de especializaci\\u00f3n\",\"Master\",\"Universitario completo (Instituci\\u00f3n privada)\",\"Master\",\"Universitario incompleto (Instituci\\u00f3n privada)\",\"Secundario completo\",\"Universitario completo (Instituci\\u00f3n privada)\",\"Universitario completo (Instituci\\u00f3n privada)\",\"Universitario completo (Instituci\\u00f3n privada)\",\"Universitario completo (Instituci\\u00f3n privada)\",\"Universitario completo (Instituci\\u00f3n p\\u00fablica)\",\"Master\",\"Universitario completo (Instituci\\u00f3n p\\u00fablica)\",\"Universitario completo (Instituci\\u00f3n privada)\",\"Universitario completo (Instituci\\u00f3n p\\u00fablica)\",\"Universitario completo (Instituci\\u00f3n p\\u00fablica)\",\"Master\",\"Universitario completo (Instituci\\u00f3n p\\u00fablica)\",\"Universitario completo (Instituci\\u00f3n privada)\",\"Universitario completo (Instituci\\u00f3n privada)\"],\"legendgroup\":\"\",\"name\":\"\",\"showlegend\":true,\"type\":\"pie\"}],                        {\"template\":{\"data\":{\"histogram2dcontour\":[{\"type\":\"histogram2dcontour\",\"colorbar\":{\"outlinewidth\":0,\"ticks\":\"\"},\"colorscale\":[[0.0,\"#0d0887\"],[0.1111111111111111,\"#46039f\"],[0.2222222222222222,\"#7201a8\"],[0.3333333333333333,\"#9c179e\"],[0.4444444444444444,\"#bd3786\"],[0.5555555555555556,\"#d8576b\"],[0.6666666666666666,\"#ed7953\"],[0.7777777777777778,\"#fb9f3a\"],[0.8888888888888888,\"#fdca26\"],[1.0,\"#f0f921\"]]}],\"choropleth\":[{\"type\":\"choropleth\",\"colorbar\":{\"outlinewidth\":0,\"ticks\":\"\"}}],\"histogram2d\":[{\"type\":\"histogram2d\",\"colorbar\":{\"outlinewidth\":0,\"ticks\":\"\"},\"colorscale\":[[0.0,\"#0d0887\"],[0.1111111111111111,\"#46039f\"],[0.2222222222222222,\"#7201a8\"],[0.3333333333333333,\"#9c179e\"],[0.4444444444444444,\"#bd3786\"],[0.5555555555555556,\"#d8576b\"],[0.6666666666666666,\"#ed7953\"],[0.7777777777777778,\"#fb9f3a\"],[0.8888888888888888,\"#fdca26\"],[1.0,\"#f0f921\"]]}],\"heatmap\":[{\"type\":\"heatmap\",\"colorbar\":{\"outlinewidth\":0,\"ticks\":\"\"},\"colorscale\":[[0.0,\"#0d0887\"],[0.1111111111111111,\"#46039f\"],[0.2222222222222222,\"#7201a8\"],[0.3333333333333333,\"#9c179e\"],[0.4444444444444444,\"#bd3786\"],[0.5555555555555556,\"#d8576b\"],[0.6666666666666666,\"#ed7953\"],[0.7777777777777778,\"#fb9f3a\"],[0.8888888888888888,\"#fdca26\"],[1.0,\"#f0f921\"]]}],\"heatmapgl\":[{\"type\":\"heatmapgl\",\"colorbar\":{\"outlinewidth\":0,\"ticks\":\"\"},\"colorscale\":[[0.0,\"#0d0887\"],[0.1111111111111111,\"#46039f\"],[0.2222222222222222,\"#7201a8\"],[0.3333333333333333,\"#9c179e\"],[0.4444444444444444,\"#bd3786\"],[0.5555555555555556,\"#d8576b\"],[0.6666666666666666,\"#ed7953\"],[0.7777777777777778,\"#fb9f3a\"],[0.8888888888888888,\"#fdca26\"],[1.0,\"#f0f921\"]]}],\"contourcarpet\":[{\"type\":\"contourcarpet\",\"colorbar\":{\"outlinewidth\":0,\"ticks\":\"\"}}],\"contour\":[{\"type\":\"contour\",\"colorbar\":{\"outlinewidth\":0,\"ticks\":\"\"},\"colorscale\":[[0.0,\"#0d0887\"],[0.1111111111111111,\"#46039f\"],[0.2222222222222222,\"#7201a8\"],[0.3333333333333333,\"#9c179e\"],[0.4444444444444444,\"#bd3786\"],[0.5555555555555556,\"#d8576b\"],[0.6666666666666666,\"#ed7953\"],[0.7777777777777778,\"#fb9f3a\"],[0.8888888888888888,\"#fdca26\"],[1.0,\"#f0f921\"]]}],\"surface\":[{\"type\":\"surface\",\"colorbar\":{\"outlinewidth\":0,\"ticks\":\"\"},\"colorscale\":[[0.0,\"#0d0887\"],[0.1111111111111111,\"#46039f\"],[0.2222222222222222,\"#7201a8\"],[0.3333333333333333,\"#9c179e\"],[0.4444444444444444,\"#bd3786\"],[0.5555555555555556,\"#d8576b\"],[0.6666666666666666,\"#ed7953\"],[0.7777777777777778,\"#fb9f3a\"],[0.8888888888888888,\"#fdca26\"],[1.0,\"#f0f921\"]]}],\"mesh3d\":[{\"type\":\"mesh3d\",\"colorbar\":{\"outlinewidth\":0,\"ticks\":\"\"}}],\"scatter\":[{\"fillpattern\":{\"fillmode\":\"overlay\",\"size\":10,\"solidity\":0.2},\"type\":\"scatter\"}],\"parcoords\":[{\"type\":\"parcoords\",\"line\":{\"colorbar\":{\"outlinewidth\":0,\"ticks\":\"\"}}}],\"scatterpolargl\":[{\"type\":\"scatterpolargl\",\"marker\":{\"colorbar\":{\"outlinewidth\":0,\"ticks\":\"\"}}}],\"bar\":[{\"error_x\":{\"color\":\"#2a3f5f\"},\"error_y\":{\"color\":\"#2a3f5f\"},\"marker\":{\"line\":{\"color\":\"#E5ECF6\",\"width\":0.5},\"pattern\":{\"fillmode\":\"overlay\",\"size\":10,\"solidity\":0.2}},\"type\":\"bar\"}],\"scattergeo\":[{\"type\":\"scattergeo\",\"marker\":{\"colorbar\":{\"outlinewidth\":0,\"ticks\":\"\"}}}],\"scatterpolar\":[{\"type\":\"scatterpolar\",\"marker\":{\"colorbar\":{\"outlinewidth\":0,\"ticks\":\"\"}}}],\"histogram\":[{\"marker\":{\"pattern\":{\"fillmode\":\"overlay\",\"size\":10,\"solidity\":0.2}},\"type\":\"histogram\"}],\"scattergl\":[{\"type\":\"scattergl\",\"marker\":{\"colorbar\":{\"outlinewidth\":0,\"ticks\":\"\"}}}],\"scatter3d\":[{\"type\":\"scatter3d\",\"line\":{\"colorbar\":{\"outlinewidth\":0,\"ticks\":\"\"}},\"marker\":{\"colorbar\":{\"outlinewidth\":0,\"ticks\":\"\"}}}],\"scattermapbox\":[{\"type\":\"scattermapbox\",\"marker\":{\"colorbar\":{\"outlinewidth\":0,\"ticks\":\"\"}}}],\"scatterternary\":[{\"type\":\"scatterternary\",\"marker\":{\"colorbar\":{\"outlinewidth\":0,\"ticks\":\"\"}}}],\"scattercarpet\":[{\"type\":\"scattercarpet\",\"marker\":{\"colorbar\":{\"outlinewidth\":0,\"ticks\":\"\"}}}],\"carpet\":[{\"aaxis\":{\"endlinecolor\":\"#2a3f5f\",\"gridcolor\":\"white\",\"linecolor\":\"white\",\"minorgridcolor\":\"white\",\"startlinecolor\":\"#2a3f5f\"},\"baxis\":{\"endlinecolor\":\"#2a3f5f\",\"gridcolor\":\"white\",\"linecolor\":\"white\",\"minorgridcolor\":\"white\",\"startlinecolor\":\"#2a3f5f\"},\"type\":\"carpet\"}],\"table\":[{\"cells\":{\"fill\":{\"color\":\"#EBF0F8\"},\"line\":{\"color\":\"white\"}},\"header\":{\"fill\":{\"color\":\"#C8D4E3\"},\"line\":{\"color\":\"white\"}},\"type\":\"table\"}],\"barpolar\":[{\"marker\":{\"line\":{\"color\":\"#E5ECF6\",\"width\":0.5},\"pattern\":{\"fillmode\":\"overlay\",\"size\":10,\"solidity\":0.2}},\"type\":\"barpolar\"}],\"pie\":[{\"automargin\":true,\"type\":\"pie\"}]},\"layout\":{\"autotypenumbers\":\"strict\",\"colorway\":[\"#636efa\",\"#EF553B\",\"#00cc96\",\"#ab63fa\",\"#FFA15A\",\"#19d3f3\",\"#FF6692\",\"#B6E880\",\"#FF97FF\",\"#FECB52\"],\"font\":{\"color\":\"#2a3f5f\"},\"hovermode\":\"closest\",\"hoverlabel\":{\"align\":\"left\"},\"paper_bgcolor\":\"white\",\"plot_bgcolor\":\"#E5ECF6\",\"polar\":{\"bgcolor\":\"#E5ECF6\",\"angularaxis\":{\"gridcolor\":\"white\",\"linecolor\":\"white\",\"ticks\":\"\"},\"radialaxis\":{\"gridcolor\":\"white\",\"linecolor\":\"white\",\"ticks\":\"\"}},\"ternary\":{\"bgcolor\":\"#E5ECF6\",\"aaxis\":{\"gridcolor\":\"white\",\"linecolor\":\"white\",\"ticks\":\"\"},\"baxis\":{\"gridcolor\":\"white\",\"linecolor\":\"white\",\"ticks\":\"\"},\"caxis\":{\"gridcolor\":\"white\",\"linecolor\":\"white\",\"ticks\":\"\"}},\"coloraxis\":{\"colorbar\":{\"outlinewidth\":0,\"ticks\":\"\"}},\"colorscale\":{\"sequential\":[[0.0,\"#0d0887\"],[0.1111111111111111,\"#46039f\"],[0.2222222222222222,\"#7201a8\"],[0.3333333333333333,\"#9c179e\"],[0.4444444444444444,\"#bd3786\"],[0.5555555555555556,\"#d8576b\"],[0.6666666666666666,\"#ed7953\"],[0.7777777777777778,\"#fb9f3a\"],[0.8888888888888888,\"#fdca26\"],[1.0,\"#f0f921\"]],\"sequentialminus\":[[0.0,\"#0d0887\"],[0.1111111111111111,\"#46039f\"],[0.2222222222222222,\"#7201a8\"],[0.3333333333333333,\"#9c179e\"],[0.4444444444444444,\"#bd3786\"],[0.5555555555555556,\"#d8576b\"],[0.6666666666666666,\"#ed7953\"],[0.7777777777777778,\"#fb9f3a\"],[0.8888888888888888,\"#fdca26\"],[1.0,\"#f0f921\"]],\"diverging\":[[0,\"#8e0152\"],[0.1,\"#c51b7d\"],[0.2,\"#de77ae\"],[0.3,\"#f1b6da\"],[0.4,\"#fde0ef\"],[0.5,\"#f7f7f7\"],[0.6,\"#e6f5d0\"],[0.7,\"#b8e186\"],[0.8,\"#7fbc41\"],[0.9,\"#4d9221\"],[1,\"#276419\"]]},\"xaxis\":{\"gridcolor\":\"white\",\"linecolor\":\"white\",\"ticks\":\"\",\"title\":{\"standoff\":15},\"zerolinecolor\":\"white\",\"automargin\":true,\"zerolinewidth\":2},\"yaxis\":{\"gridcolor\":\"white\",\"linecolor\":\"white\",\"ticks\":\"\",\"title\":{\"standoff\":15},\"zerolinecolor\":\"white\",\"automargin\":true,\"zerolinewidth\":2},\"scene\":{\"xaxis\":{\"backgroundcolor\":\"#E5ECF6\",\"gridcolor\":\"white\",\"linecolor\":\"white\",\"showbackground\":true,\"ticks\":\"\",\"zerolinecolor\":\"white\",\"gridwidth\":2},\"yaxis\":{\"backgroundcolor\":\"#E5ECF6\",\"gridcolor\":\"white\",\"linecolor\":\"white\",\"showbackground\":true,\"ticks\":\"\",\"zerolinecolor\":\"white\",\"gridwidth\":2},\"zaxis\":{\"backgroundcolor\":\"#E5ECF6\",\"gridcolor\":\"white\",\"linecolor\":\"white\",\"showbackground\":true,\"ticks\":\"\",\"zerolinecolor\":\"white\",\"gridwidth\":2}},\"shapedefaults\":{\"line\":{\"color\":\"#2a3f5f\"}},\"annotationdefaults\":{\"arrowcolor\":\"#2a3f5f\",\"arrowhead\":0,\"arrowwidth\":1},\"geo\":{\"bgcolor\":\"white\",\"landcolor\":\"#E5ECF6\",\"subunitcolor\":\"white\",\"showland\":true,\"showlakes\":true,\"lakecolor\":\"white\"},\"title\":{\"x\":0.05},\"mapbox\":{\"style\":\"light\"}}},\"legend\":{\"tracegroupgap\":0},\"title\":{\"text\":\"founder education\"}},                        {\"responsive\": true}                    ).then(function(){\n",
       "                            \n",
       "var gd = document.getElementById('c8950af6-727b-4365-8303-ea64c6e77f08');\n",
       "var x = new MutationObserver(function (mutations, observer) {{\n",
       "        var display = window.getComputedStyle(gd).display;\n",
       "        if (!display || display === 'none') {{\n",
       "            console.log([gd, 'removed!']);\n",
       "            Plotly.purge(gd);\n",
       "            observer.disconnect();\n",
       "        }}\n",
       "}});\n",
       "\n",
       "// Listen for the removal of the full notebook cells\n",
       "var notebookContainer = gd.closest('#notebook-container');\n",
       "if (notebookContainer) {{\n",
       "    x.observe(notebookContainer, {childList: true});\n",
       "}}\n",
       "\n",
       "// Listen for the clearing of the current output cell\n",
       "var outputEl = gd.closest('.output');\n",
       "if (outputEl) {{\n",
       "    x.observe(outputEl, {childList: true});\n",
       "}}\n",
       "\n",
       "                        })                };                });            </script>        </div>"
      ]
     },
     "metadata": {},
     "output_type": "display_data"
    }
   ],
   "source": [
    "fig = px.pie(df, names='founder_education', title='founder education')\n",
    "fig.show()"
   ]
  },
  {
   "cell_type": "code",
   "execution_count": 256,
   "id": "e09b768a-fd2c-4723-8e40-e94cfbfc75c0",
   "metadata": {},
   "outputs": [
    {
     "data": {
      "text/plain": [
       "0                      Others\n",
       "1     Quería cambiar el mundo\n",
       "2                     Desafio\n",
       "3                     Desafio\n",
       "4                     Desafio\n",
       "               ...           \n",
       "68                Oportunidad\n",
       "69                    Desafio\n",
       "70    Quería cambiar el mundo\n",
       "71                Oportunidad\n",
       "72                    Desafio\n",
       "Name: project_reason_grouped, Length: 71, dtype: object"
      ]
     },
     "execution_count": 256,
     "metadata": {},
     "output_type": "execute_result"
    }
   ],
   "source": [
    "# group non standard responses for reasoning for founding\n",
    "threshold = 10\n",
    "response_counts = df['project_reason'].value_counts()\n",
    "responses_below_threshold = response_counts[response_counts < threshold].index\n",
    "df['project_reason_grouped'] = df['project_reason'].apply(lambda x: x if x not in responses_below_threshold else 'Others')"
   ]
  },
  {
   "cell_type": "code",
   "execution_count": 258,
   "id": "5e1b8304-37d4-42ce-b990-f37b47dac0eb",
   "metadata": {},
   "outputs": [
    {
     "data": {
      "application/vnd.plotly.v1+json": {
       "config": {
        "plotlyServerURL": "https://plot.ly"
       },
       "data": [
        {
         "domain": {
          "x": [
           0,
           1
          ],
          "y": [
           0,
           1
          ]
         },
         "hovertemplate": "project_reason_grouped=%{label}<extra></extra>",
         "labels": [
          "Others",
          "Quería cambiar el mundo",
          "Desafio",
          "Desafio",
          "Desafio",
          "Quería cambiar el mundo",
          "Others",
          "Desafio",
          "Oportunidad",
          "Quería cambiar el mundo",
          "Desafio",
          "Oportunidad",
          "Others",
          "Desafio",
          "Others",
          "Desafio",
          "Quería cambiar el mundo",
          "Quería cambiar el mundo",
          "Oportunidad",
          "Others",
          "Others",
          "Desafio",
          "Desafio",
          "Quería cambiar el mundo",
          "Oportunidad",
          "Desafio",
          "Oportunidad",
          "Oportunidad",
          "Desafio",
          "Quería cambiar el mundo",
          "Desafio",
          "Oportunidad",
          "Quería cambiar el mundo",
          "Quería cambiar el mundo",
          "Others",
          "Oportunidad",
          "Desafio",
          "Oportunidad",
          "Desafio",
          "Others",
          "Others",
          "Oportunidad",
          "Desafio",
          "Desafio",
          "Others",
          "Others",
          "Oportunidad",
          "Desafio",
          "Desafio",
          "Oportunidad",
          "Quería cambiar el mundo",
          "Desafio",
          "Oportunidad",
          "Others",
          "Quería cambiar el mundo",
          "Others",
          "Desafio",
          "Quería cambiar el mundo",
          "Quería cambiar el mundo",
          "Desafio",
          "Oportunidad",
          "Desafio",
          "Quería cambiar el mundo",
          "Oportunidad",
          "Others",
          "Desafio",
          "Oportunidad",
          "Desafio",
          "Quería cambiar el mundo",
          "Oportunidad",
          "Desafio"
         ],
         "legendgroup": "",
         "name": "",
         "showlegend": true,
         "type": "pie"
        }
       ],
       "layout": {
        "autosize": true,
        "legend": {
         "tracegroupgap": 0
        },
        "template": {
         "data": {
          "bar": [
           {
            "error_x": {
             "color": "#2a3f5f"
            },
            "error_y": {
             "color": "#2a3f5f"
            },
            "marker": {
             "line": {
              "color": "#E5ECF6",
              "width": 0.5
             },
             "pattern": {
              "fillmode": "overlay",
              "size": 10,
              "solidity": 0.2
             }
            },
            "type": "bar"
           }
          ],
          "barpolar": [
           {
            "marker": {
             "line": {
              "color": "#E5ECF6",
              "width": 0.5
             },
             "pattern": {
              "fillmode": "overlay",
              "size": 10,
              "solidity": 0.2
             }
            },
            "type": "barpolar"
           }
          ],
          "carpet": [
           {
            "aaxis": {
             "endlinecolor": "#2a3f5f",
             "gridcolor": "white",
             "linecolor": "white",
             "minorgridcolor": "white",
             "startlinecolor": "#2a3f5f"
            },
            "baxis": {
             "endlinecolor": "#2a3f5f",
             "gridcolor": "white",
             "linecolor": "white",
             "minorgridcolor": "white",
             "startlinecolor": "#2a3f5f"
            },
            "type": "carpet"
           }
          ],
          "choropleth": [
           {
            "colorbar": {
             "outlinewidth": 0,
             "ticks": ""
            },
            "type": "choropleth"
           }
          ],
          "contour": [
           {
            "colorbar": {
             "outlinewidth": 0,
             "ticks": ""
            },
            "colorscale": [
             [
              0,
              "#0d0887"
             ],
             [
              0.1111111111111111,
              "#46039f"
             ],
             [
              0.2222222222222222,
              "#7201a8"
             ],
             [
              0.3333333333333333,
              "#9c179e"
             ],
             [
              0.4444444444444444,
              "#bd3786"
             ],
             [
              0.5555555555555556,
              "#d8576b"
             ],
             [
              0.6666666666666666,
              "#ed7953"
             ],
             [
              0.7777777777777778,
              "#fb9f3a"
             ],
             [
              0.8888888888888888,
              "#fdca26"
             ],
             [
              1,
              "#f0f921"
             ]
            ],
            "type": "contour"
           }
          ],
          "contourcarpet": [
           {
            "colorbar": {
             "outlinewidth": 0,
             "ticks": ""
            },
            "type": "contourcarpet"
           }
          ],
          "heatmap": [
           {
            "colorbar": {
             "outlinewidth": 0,
             "ticks": ""
            },
            "colorscale": [
             [
              0,
              "#0d0887"
             ],
             [
              0.1111111111111111,
              "#46039f"
             ],
             [
              0.2222222222222222,
              "#7201a8"
             ],
             [
              0.3333333333333333,
              "#9c179e"
             ],
             [
              0.4444444444444444,
              "#bd3786"
             ],
             [
              0.5555555555555556,
              "#d8576b"
             ],
             [
              0.6666666666666666,
              "#ed7953"
             ],
             [
              0.7777777777777778,
              "#fb9f3a"
             ],
             [
              0.8888888888888888,
              "#fdca26"
             ],
             [
              1,
              "#f0f921"
             ]
            ],
            "type": "heatmap"
           }
          ],
          "heatmapgl": [
           {
            "colorbar": {
             "outlinewidth": 0,
             "ticks": ""
            },
            "colorscale": [
             [
              0,
              "#0d0887"
             ],
             [
              0.1111111111111111,
              "#46039f"
             ],
             [
              0.2222222222222222,
              "#7201a8"
             ],
             [
              0.3333333333333333,
              "#9c179e"
             ],
             [
              0.4444444444444444,
              "#bd3786"
             ],
             [
              0.5555555555555556,
              "#d8576b"
             ],
             [
              0.6666666666666666,
              "#ed7953"
             ],
             [
              0.7777777777777778,
              "#fb9f3a"
             ],
             [
              0.8888888888888888,
              "#fdca26"
             ],
             [
              1,
              "#f0f921"
             ]
            ],
            "type": "heatmapgl"
           }
          ],
          "histogram": [
           {
            "marker": {
             "pattern": {
              "fillmode": "overlay",
              "size": 10,
              "solidity": 0.2
             }
            },
            "type": "histogram"
           }
          ],
          "histogram2d": [
           {
            "colorbar": {
             "outlinewidth": 0,
             "ticks": ""
            },
            "colorscale": [
             [
              0,
              "#0d0887"
             ],
             [
              0.1111111111111111,
              "#46039f"
             ],
             [
              0.2222222222222222,
              "#7201a8"
             ],
             [
              0.3333333333333333,
              "#9c179e"
             ],
             [
              0.4444444444444444,
              "#bd3786"
             ],
             [
              0.5555555555555556,
              "#d8576b"
             ],
             [
              0.6666666666666666,
              "#ed7953"
             ],
             [
              0.7777777777777778,
              "#fb9f3a"
             ],
             [
              0.8888888888888888,
              "#fdca26"
             ],
             [
              1,
              "#f0f921"
             ]
            ],
            "type": "histogram2d"
           }
          ],
          "histogram2dcontour": [
           {
            "colorbar": {
             "outlinewidth": 0,
             "ticks": ""
            },
            "colorscale": [
             [
              0,
              "#0d0887"
             ],
             [
              0.1111111111111111,
              "#46039f"
             ],
             [
              0.2222222222222222,
              "#7201a8"
             ],
             [
              0.3333333333333333,
              "#9c179e"
             ],
             [
              0.4444444444444444,
              "#bd3786"
             ],
             [
              0.5555555555555556,
              "#d8576b"
             ],
             [
              0.6666666666666666,
              "#ed7953"
             ],
             [
              0.7777777777777778,
              "#fb9f3a"
             ],
             [
              0.8888888888888888,
              "#fdca26"
             ],
             [
              1,
              "#f0f921"
             ]
            ],
            "type": "histogram2dcontour"
           }
          ],
          "mesh3d": [
           {
            "colorbar": {
             "outlinewidth": 0,
             "ticks": ""
            },
            "type": "mesh3d"
           }
          ],
          "parcoords": [
           {
            "line": {
             "colorbar": {
              "outlinewidth": 0,
              "ticks": ""
             }
            },
            "type": "parcoords"
           }
          ],
          "pie": [
           {
            "automargin": true,
            "type": "pie"
           }
          ],
          "scatter": [
           {
            "fillpattern": {
             "fillmode": "overlay",
             "size": 10,
             "solidity": 0.2
            },
            "type": "scatter"
           }
          ],
          "scatter3d": [
           {
            "line": {
             "colorbar": {
              "outlinewidth": 0,
              "ticks": ""
             }
            },
            "marker": {
             "colorbar": {
              "outlinewidth": 0,
              "ticks": ""
             }
            },
            "type": "scatter3d"
           }
          ],
          "scattercarpet": [
           {
            "marker": {
             "colorbar": {
              "outlinewidth": 0,
              "ticks": ""
             }
            },
            "type": "scattercarpet"
           }
          ],
          "scattergeo": [
           {
            "marker": {
             "colorbar": {
              "outlinewidth": 0,
              "ticks": ""
             }
            },
            "type": "scattergeo"
           }
          ],
          "scattergl": [
           {
            "marker": {
             "colorbar": {
              "outlinewidth": 0,
              "ticks": ""
             }
            },
            "type": "scattergl"
           }
          ],
          "scattermapbox": [
           {
            "marker": {
             "colorbar": {
              "outlinewidth": 0,
              "ticks": ""
             }
            },
            "type": "scattermapbox"
           }
          ],
          "scatterpolar": [
           {
            "marker": {
             "colorbar": {
              "outlinewidth": 0,
              "ticks": ""
             }
            },
            "type": "scatterpolar"
           }
          ],
          "scatterpolargl": [
           {
            "marker": {
             "colorbar": {
              "outlinewidth": 0,
              "ticks": ""
             }
            },
            "type": "scatterpolargl"
           }
          ],
          "scatterternary": [
           {
            "marker": {
             "colorbar": {
              "outlinewidth": 0,
              "ticks": ""
             }
            },
            "type": "scatterternary"
           }
          ],
          "surface": [
           {
            "colorbar": {
             "outlinewidth": 0,
             "ticks": ""
            },
            "colorscale": [
             [
              0,
              "#0d0887"
             ],
             [
              0.1111111111111111,
              "#46039f"
             ],
             [
              0.2222222222222222,
              "#7201a8"
             ],
             [
              0.3333333333333333,
              "#9c179e"
             ],
             [
              0.4444444444444444,
              "#bd3786"
             ],
             [
              0.5555555555555556,
              "#d8576b"
             ],
             [
              0.6666666666666666,
              "#ed7953"
             ],
             [
              0.7777777777777778,
              "#fb9f3a"
             ],
             [
              0.8888888888888888,
              "#fdca26"
             ],
             [
              1,
              "#f0f921"
             ]
            ],
            "type": "surface"
           }
          ],
          "table": [
           {
            "cells": {
             "fill": {
              "color": "#EBF0F8"
             },
             "line": {
              "color": "white"
             }
            },
            "header": {
             "fill": {
              "color": "#C8D4E3"
             },
             "line": {
              "color": "white"
             }
            },
            "type": "table"
           }
          ]
         },
         "layout": {
          "annotationdefaults": {
           "arrowcolor": "#2a3f5f",
           "arrowhead": 0,
           "arrowwidth": 1
          },
          "autotypenumbers": "strict",
          "coloraxis": {
           "colorbar": {
            "outlinewidth": 0,
            "ticks": ""
           }
          },
          "colorscale": {
           "diverging": [
            [
             0,
             "#8e0152"
            ],
            [
             0.1,
             "#c51b7d"
            ],
            [
             0.2,
             "#de77ae"
            ],
            [
             0.3,
             "#f1b6da"
            ],
            [
             0.4,
             "#fde0ef"
            ],
            [
             0.5,
             "#f7f7f7"
            ],
            [
             0.6,
             "#e6f5d0"
            ],
            [
             0.7,
             "#b8e186"
            ],
            [
             0.8,
             "#7fbc41"
            ],
            [
             0.9,
             "#4d9221"
            ],
            [
             1,
             "#276419"
            ]
           ],
           "sequential": [
            [
             0,
             "#0d0887"
            ],
            [
             0.1111111111111111,
             "#46039f"
            ],
            [
             0.2222222222222222,
             "#7201a8"
            ],
            [
             0.3333333333333333,
             "#9c179e"
            ],
            [
             0.4444444444444444,
             "#bd3786"
            ],
            [
             0.5555555555555556,
             "#d8576b"
            ],
            [
             0.6666666666666666,
             "#ed7953"
            ],
            [
             0.7777777777777778,
             "#fb9f3a"
            ],
            [
             0.8888888888888888,
             "#fdca26"
            ],
            [
             1,
             "#f0f921"
            ]
           ],
           "sequentialminus": [
            [
             0,
             "#0d0887"
            ],
            [
             0.1111111111111111,
             "#46039f"
            ],
            [
             0.2222222222222222,
             "#7201a8"
            ],
            [
             0.3333333333333333,
             "#9c179e"
            ],
            [
             0.4444444444444444,
             "#bd3786"
            ],
            [
             0.5555555555555556,
             "#d8576b"
            ],
            [
             0.6666666666666666,
             "#ed7953"
            ],
            [
             0.7777777777777778,
             "#fb9f3a"
            ],
            [
             0.8888888888888888,
             "#fdca26"
            ],
            [
             1,
             "#f0f921"
            ]
           ]
          },
          "colorway": [
           "#636efa",
           "#EF553B",
           "#00cc96",
           "#ab63fa",
           "#FFA15A",
           "#19d3f3",
           "#FF6692",
           "#B6E880",
           "#FF97FF",
           "#FECB52"
          ],
          "font": {
           "color": "#2a3f5f"
          },
          "geo": {
           "bgcolor": "white",
           "lakecolor": "white",
           "landcolor": "#E5ECF6",
           "showlakes": true,
           "showland": true,
           "subunitcolor": "white"
          },
          "hoverlabel": {
           "align": "left"
          },
          "hovermode": "closest",
          "mapbox": {
           "style": "light"
          },
          "paper_bgcolor": "white",
          "plot_bgcolor": "#E5ECF6",
          "polar": {
           "angularaxis": {
            "gridcolor": "white",
            "linecolor": "white",
            "ticks": ""
           },
           "bgcolor": "#E5ECF6",
           "radialaxis": {
            "gridcolor": "white",
            "linecolor": "white",
            "ticks": ""
           }
          },
          "scene": {
           "xaxis": {
            "backgroundcolor": "#E5ECF6",
            "gridcolor": "white",
            "gridwidth": 2,
            "linecolor": "white",
            "showbackground": true,
            "ticks": "",
            "zerolinecolor": "white"
           },
           "yaxis": {
            "backgroundcolor": "#E5ECF6",
            "gridcolor": "white",
            "gridwidth": 2,
            "linecolor": "white",
            "showbackground": true,
            "ticks": "",
            "zerolinecolor": "white"
           },
           "zaxis": {
            "backgroundcolor": "#E5ECF6",
            "gridcolor": "white",
            "gridwidth": 2,
            "linecolor": "white",
            "showbackground": true,
            "ticks": "",
            "zerolinecolor": "white"
           }
          },
          "shapedefaults": {
           "line": {
            "color": "#2a3f5f"
           }
          },
          "ternary": {
           "aaxis": {
            "gridcolor": "white",
            "linecolor": "white",
            "ticks": ""
           },
           "baxis": {
            "gridcolor": "white",
            "linecolor": "white",
            "ticks": ""
           },
           "bgcolor": "#E5ECF6",
           "caxis": {
            "gridcolor": "white",
            "linecolor": "white",
            "ticks": ""
           }
          },
          "title": {
           "x": 0.05
          },
          "xaxis": {
           "automargin": true,
           "gridcolor": "white",
           "linecolor": "white",
           "ticks": "",
           "title": {
            "standoff": 15
           },
           "zerolinecolor": "white",
           "zerolinewidth": 2
          },
          "yaxis": {
           "automargin": true,
           "gridcolor": "white",
           "linecolor": "white",
           "ticks": "",
           "title": {
            "standoff": 15
           },
           "zerolinecolor": "white",
           "zerolinewidth": 2
          }
         }
        },
        "title": {
         "text": "founding reason"
        }
       }
      },
      "image/png": "[encoded data removed]",
      "text/html": [
       "<div>                            <div id=\"18f32ee1-869d-411e-aa62-e4b2ef7ee30b\" class=\"plotly-graph-div\" style=\"height:525px; width:100%;\"></div>            <script type=\"text/javascript\">                require([\"plotly\"], function(Plotly) {                    window.PLOTLYENV=window.PLOTLYENV || {};                                    if (document.getElementById(\"18f32ee1-869d-411e-aa62-e4b2ef7ee30b\")) {                    Plotly.newPlot(                        \"18f32ee1-869d-411e-aa62-e4b2ef7ee30b\",                        [{\"domain\":{\"x\":[0.0,1.0],\"y\":[0.0,1.0]},\"hovertemplate\":\"project_reason_grouped=%{label}\\u003cextra\\u003e\\u003c\\u002fextra\\u003e\",\"labels\":[\"Others\",\"Quer\\u00eda cambiar el mundo\",\"Desafio\",\"Desafio\",\"Desafio\",\"Quer\\u00eda cambiar el mundo\",\"Others\",\"Desafio\",\"Oportunidad\",\"Quer\\u00eda cambiar el mundo\",\"Desafio\",\"Oportunidad\",\"Others\",\"Desafio\",\"Others\",\"Desafio\",\"Quer\\u00eda cambiar el mundo\",\"Quer\\u00eda cambiar el mundo\",\"Oportunidad\",\"Others\",\"Others\",\"Desafio\",\"Desafio\",\"Quer\\u00eda cambiar el mundo\",\"Oportunidad\",\"Desafio\",\"Oportunidad\",\"Oportunidad\",\"Desafio\",\"Quer\\u00eda cambiar el mundo\",\"Desafio\",\"Oportunidad\",\"Quer\\u00eda cambiar el mundo\",\"Quer\\u00eda cambiar el mundo\",\"Others\",\"Oportunidad\",\"Desafio\",\"Oportunidad\",\"Desafio\",\"Others\",\"Others\",\"Oportunidad\",\"Desafio\",\"Desafio\",\"Others\",\"Others\",\"Oportunidad\",\"Desafio\",\"Desafio\",\"Oportunidad\",\"Quer\\u00eda cambiar el mundo\",\"Desafio\",\"Oportunidad\",\"Others\",\"Quer\\u00eda cambiar el mundo\",\"Others\",\"Desafio\",\"Quer\\u00eda cambiar el mundo\",\"Quer\\u00eda cambiar el mundo\",\"Desafio\",\"Oportunidad\",\"Desafio\",\"Quer\\u00eda cambiar el mundo\",\"Oportunidad\",\"Others\",\"Desafio\",\"Oportunidad\",\"Desafio\",\"Quer\\u00eda cambiar el mundo\",\"Oportunidad\",\"Desafio\"],\"legendgroup\":\"\",\"name\":\"\",\"showlegend\":true,\"type\":\"pie\"}],                        {\"template\":{\"data\":{\"histogram2dcontour\":[{\"type\":\"histogram2dcontour\",\"colorbar\":{\"outlinewidth\":0,\"ticks\":\"\"},\"colorscale\":[[0.0,\"#0d0887\"],[0.1111111111111111,\"#46039f\"],[0.2222222222222222,\"#7201a8\"],[0.3333333333333333,\"#9c179e\"],[0.4444444444444444,\"#bd3786\"],[0.5555555555555556,\"#d8576b\"],[0.6666666666666666,\"#ed7953\"],[0.7777777777777778,\"#fb9f3a\"],[0.8888888888888888,\"#fdca26\"],[1.0,\"#f0f921\"]]}],\"choropleth\":[{\"type\":\"choropleth\",\"colorbar\":{\"outlinewidth\":0,\"ticks\":\"\"}}],\"histogram2d\":[{\"type\":\"histogram2d\",\"colorbar\":{\"outlinewidth\":0,\"ticks\":\"\"},\"colorscale\":[[0.0,\"#0d0887\"],[0.1111111111111111,\"#46039f\"],[0.2222222222222222,\"#7201a8\"],[0.3333333333333333,\"#9c179e\"],[0.4444444444444444,\"#bd3786\"],[0.5555555555555556,\"#d8576b\"],[0.6666666666666666,\"#ed7953\"],[0.7777777777777778,\"#fb9f3a\"],[0.8888888888888888,\"#fdca26\"],[1.0,\"#f0f921\"]]}],\"heatmap\":[{\"type\":\"heatmap\",\"colorbar\":{\"outlinewidth\":0,\"ticks\":\"\"},\"colorscale\":[[0.0,\"#0d0887\"],[0.1111111111111111,\"#46039f\"],[0.2222222222222222,\"#7201a8\"],[0.3333333333333333,\"#9c179e\"],[0.4444444444444444,\"#bd3786\"],[0.5555555555555556,\"#d8576b\"],[0.6666666666666666,\"#ed7953\"],[0.7777777777777778,\"#fb9f3a\"],[0.8888888888888888,\"#fdca26\"],[1.0,\"#f0f921\"]]}],\"heatmapgl\":[{\"type\":\"heatmapgl\",\"colorbar\":{\"outlinewidth\":0,\"ticks\":\"\"},\"colorscale\":[[0.0,\"#0d0887\"],[0.1111111111111111,\"#46039f\"],[0.2222222222222222,\"#7201a8\"],[0.3333333333333333,\"#9c179e\"],[0.4444444444444444,\"#bd3786\"],[0.5555555555555556,\"#d8576b\"],[0.6666666666666666,\"#ed7953\"],[0.7777777777777778,\"#fb9f3a\"],[0.8888888888888888,\"#fdca26\"],[1.0,\"#f0f921\"]]}],\"contourcarpet\":[{\"type\":\"contourcarpet\",\"colorbar\":{\"outlinewidth\":0,\"ticks\":\"\"}}],\"contour\":[{\"type\":\"contour\",\"colorbar\":{\"outlinewidth\":0,\"ticks\":\"\"},\"colorscale\":[[0.0,\"#0d0887\"],[0.1111111111111111,\"#46039f\"],[0.2222222222222222,\"#7201a8\"],[0.3333333333333333,\"#9c179e\"],[0.4444444444444444,\"#bd3786\"],[0.5555555555555556,\"#d8576b\"],[0.6666666666666666,\"#ed7953\"],[0.7777777777777778,\"#fb9f3a\"],[0.8888888888888888,\"#fdca26\"],[1.0,\"#f0f921\"]]}],\"surface\":[{\"type\":\"surface\",\"colorbar\":{\"outlinewidth\":0,\"ticks\":\"\"},\"colorscale\":[[0.0,\"#0d0887\"],[0.1111111111111111,\"#46039f\"],[0.2222222222222222,\"#7201a8\"],[0.3333333333333333,\"#9c179e\"],[0.4444444444444444,\"#bd3786\"],[0.5555555555555556,\"#d8576b\"],[0.6666666666666666,\"#ed7953\"],[0.7777777777777778,\"#fb9f3a\"],[0.8888888888888888,\"#fdca26\"],[1.0,\"#f0f921\"]]}],\"mesh3d\":[{\"type\":\"mesh3d\",\"colorbar\":{\"outlinewidth\":0,\"ticks\":\"\"}}],\"scatter\":[{\"fillpattern\":{\"fillmode\":\"overlay\",\"size\":10,\"solidity\":0.2},\"type\":\"scatter\"}],\"parcoords\":[{\"type\":\"parcoords\",\"line\":{\"colorbar\":{\"outlinewidth\":0,\"ticks\":\"\"}}}],\"scatterpolargl\":[{\"type\":\"scatterpolargl\",\"marker\":{\"colorbar\":{\"outlinewidth\":0,\"ticks\":\"\"}}}],\"bar\":[{\"error_x\":{\"color\":\"#2a3f5f\"},\"error_y\":{\"color\":\"#2a3f5f\"},\"marker\":{\"line\":{\"color\":\"#E5ECF6\",\"width\":0.5},\"pattern\":{\"fillmode\":\"overlay\",\"size\":10,\"solidity\":0.2}},\"type\":\"bar\"}],\"scattergeo\":[{\"type\":\"scattergeo\",\"marker\":{\"colorbar\":{\"outlinewidth\":0,\"ticks\":\"\"}}}],\"scatterpolar\":[{\"type\":\"scatterpolar\",\"marker\":{\"colorbar\":{\"outlinewidth\":0,\"ticks\":\"\"}}}],\"histogram\":[{\"marker\":{\"pattern\":{\"fillmode\":\"overlay\",\"size\":10,\"solidity\":0.2}},\"type\":\"histogram\"}],\"scattergl\":[{\"type\":\"scattergl\",\"marker\":{\"colorbar\":{\"outlinewidth\":0,\"ticks\":\"\"}}}],\"scatter3d\":[{\"type\":\"scatter3d\",\"line\":{\"colorbar\":{\"outlinewidth\":0,\"ticks\":\"\"}},\"marker\":{\"colorbar\":{\"outlinewidth\":0,\"ticks\":\"\"}}}],\"scattermapbox\":[{\"type\":\"scattermapbox\",\"marker\":{\"colorbar\":{\"outlinewidth\":0,\"ticks\":\"\"}}}],\"scatterternary\":[{\"type\":\"scatterternary\",\"marker\":{\"colorbar\":{\"outlinewidth\":0,\"ticks\":\"\"}}}],\"scattercarpet\":[{\"type\":\"scattercarpet\",\"marker\":{\"colorbar\":{\"outlinewidth\":0,\"ticks\":\"\"}}}],\"carpet\":[{\"aaxis\":{\"endlinecolor\":\"#2a3f5f\",\"gridcolor\":\"white\",\"linecolor\":\"white\",\"minorgridcolor\":\"white\",\"startlinecolor\":\"#2a3f5f\"},\"baxis\":{\"endlinecolor\":\"#2a3f5f\",\"gridcolor\":\"white\",\"linecolor\":\"white\",\"minorgridcolor\":\"white\",\"startlinecolor\":\"#2a3f5f\"},\"type\":\"carpet\"}],\"table\":[{\"cells\":{\"fill\":{\"color\":\"#EBF0F8\"},\"line\":{\"color\":\"white\"}},\"header\":{\"fill\":{\"color\":\"#C8D4E3\"},\"line\":{\"color\":\"white\"}},\"type\":\"table\"}],\"barpolar\":[{\"marker\":{\"line\":{\"color\":\"#E5ECF6\",\"width\":0.5},\"pattern\":{\"fillmode\":\"overlay\",\"size\":10,\"solidity\":0.2}},\"type\":\"barpolar\"}],\"pie\":[{\"automargin\":true,\"type\":\"pie\"}]},\"layout\":{\"autotypenumbers\":\"strict\",\"colorway\":[\"#636efa\",\"#EF553B\",\"#00cc96\",\"#ab63fa\",\"#FFA15A\",\"#19d3f3\",\"#FF6692\",\"#B6E880\",\"#FF97FF\",\"#FECB52\"],\"font\":{\"color\":\"#2a3f5f\"},\"hovermode\":\"closest\",\"hoverlabel\":{\"align\":\"left\"},\"paper_bgcolor\":\"white\",\"plot_bgcolor\":\"#E5ECF6\",\"polar\":{\"bgcolor\":\"#E5ECF6\",\"angularaxis\":{\"gridcolor\":\"white\",\"linecolor\":\"white\",\"ticks\":\"\"},\"radialaxis\":{\"gridcolor\":\"white\",\"linecolor\":\"white\",\"ticks\":\"\"}},\"ternary\":{\"bgcolor\":\"#E5ECF6\",\"aaxis\":{\"gridcolor\":\"white\",\"linecolor\":\"white\",\"ticks\":\"\"},\"baxis\":{\"gridcolor\":\"white\",\"linecolor\":\"white\",\"ticks\":\"\"},\"caxis\":{\"gridcolor\":\"white\",\"linecolor\":\"white\",\"ticks\":\"\"}},\"coloraxis\":{\"colorbar\":{\"outlinewidth\":0,\"ticks\":\"\"}},\"colorscale\":{\"sequential\":[[0.0,\"#0d0887\"],[0.1111111111111111,\"#46039f\"],[0.2222222222222222,\"#7201a8\"],[0.3333333333333333,\"#9c179e\"],[0.4444444444444444,\"#bd3786\"],[0.5555555555555556,\"#d8576b\"],[0.6666666666666666,\"#ed7953\"],[0.7777777777777778,\"#fb9f3a\"],[0.8888888888888888,\"#fdca26\"],[1.0,\"#f0f921\"]],\"sequentialminus\":[[0.0,\"#0d0887\"],[0.1111111111111111,\"#46039f\"],[0.2222222222222222,\"#7201a8\"],[0.3333333333333333,\"#9c179e\"],[0.4444444444444444,\"#bd3786\"],[0.5555555555555556,\"#d8576b\"],[0.6666666666666666,\"#ed7953\"],[0.7777777777777778,\"#fb9f3a\"],[0.8888888888888888,\"#fdca26\"],[1.0,\"#f0f921\"]],\"diverging\":[[0,\"#8e0152\"],[0.1,\"#c51b7d\"],[0.2,\"#de77ae\"],[0.3,\"#f1b6da\"],[0.4,\"#fde0ef\"],[0.5,\"#f7f7f7\"],[0.6,\"#e6f5d0\"],[0.7,\"#b8e186\"],[0.8,\"#7fbc41\"],[0.9,\"#4d9221\"],[1,\"#276419\"]]},\"xaxis\":{\"gridcolor\":\"white\",\"linecolor\":\"white\",\"ticks\":\"\",\"title\":{\"standoff\":15},\"zerolinecolor\":\"white\",\"automargin\":true,\"zerolinewidth\":2},\"yaxis\":{\"gridcolor\":\"white\",\"linecolor\":\"white\",\"ticks\":\"\",\"title\":{\"standoff\":15},\"zerolinecolor\":\"white\",\"automargin\":true,\"zerolinewidth\":2},\"scene\":{\"xaxis\":{\"backgroundcolor\":\"#E5ECF6\",\"gridcolor\":\"white\",\"linecolor\":\"white\",\"showbackground\":true,\"ticks\":\"\",\"zerolinecolor\":\"white\",\"gridwidth\":2},\"yaxis\":{\"backgroundcolor\":\"#E5ECF6\",\"gridcolor\":\"white\",\"linecolor\":\"white\",\"showbackground\":true,\"ticks\":\"\",\"zerolinecolor\":\"white\",\"gridwidth\":2},\"zaxis\":{\"backgroundcolor\":\"#E5ECF6\",\"gridcolor\":\"white\",\"linecolor\":\"white\",\"showbackground\":true,\"ticks\":\"\",\"zerolinecolor\":\"white\",\"gridwidth\":2}},\"shapedefaults\":{\"line\":{\"color\":\"#2a3f5f\"}},\"annotationdefaults\":{\"arrowcolor\":\"#2a3f5f\",\"arrowhead\":0,\"arrowwidth\":1},\"geo\":{\"bgcolor\":\"white\",\"landcolor\":\"#E5ECF6\",\"subunitcolor\":\"white\",\"showland\":true,\"showlakes\":true,\"lakecolor\":\"white\"},\"title\":{\"x\":0.05},\"mapbox\":{\"style\":\"light\"}}},\"legend\":{\"tracegroupgap\":0},\"title\":{\"text\":\"founding reason\"}},                        {\"responsive\": true}                    ).then(function(){\n",
       "                            \n",
       "var gd = document.getElementById('18f32ee1-869d-411e-aa62-e4b2ef7ee30b');\n",
       "var x = new MutationObserver(function (mutations, observer) {{\n",
       "        var display = window.getComputedStyle(gd).display;\n",
       "        if (!display || display === 'none') {{\n",
       "            console.log([gd, 'removed!']);\n",
       "            Plotly.purge(gd);\n",
       "            observer.disconnect();\n",
       "        }}\n",
       "}});\n",
       "\n",
       "// Listen for the removal of the full notebook cells\n",
       "var notebookContainer = gd.closest('#notebook-container');\n",
       "if (notebookContainer) {{\n",
       "    x.observe(notebookContainer, {childList: true});\n",
       "}}\n",
       "\n",
       "// Listen for the clearing of the current output cell\n",
       "var outputEl = gd.closest('.output');\n",
       "if (outputEl) {{\n",
       "    x.observe(outputEl, {childList: true});\n",
       "}}\n",
       "\n",
       "                        })                };                });            </script>        </div>"
      ]
     },
     "metadata": {},
     "output_type": "display_data"
    }
   ],
   "source": [
    "fig = px.pie(df, names='project_reason_grouped', title='founding reason')\n",
    "fig.show()"
   ]
  },
  {
   "cell_type": "code",
   "execution_count": null,
   "id": "06328ce6-4b4b-47d1-ae05-bd04a7ca69bf",
   "metadata": {},
   "outputs": [],
   "source": [
    "# word cloud"
   ]
  },
  {
   "cell_type": "code",
   "execution_count": null,
   "id": "40b3012f-6e61-4ce1-95e8-9c83d4f5f3be",
   "metadata": {},
   "outputs": [],
   "source": [
    "# frequency\n",
    "\n",
    "fig = px.bar(df, x=\"total_bill\", y=\"day\", orientation='h')\n",
    "fig.show()\n",
    "\n"
   ]
  },
  {
   "cell_type": "code",
   "execution_count": null,
   "id": "0ccafc04-45dc-4f5f-88f0-262b05590772",
   "metadata": {},
   "outputs": [],
   "source": [
    "df[['A', 'B']] = df['AB'].str.split(' ', n=1, expand=True)"
   ]
  },
  {
   "cell_type": "code",
   "execution_count": 265,
   "id": "fc8a88f6-c571-4eae-9108-3b0887d803d1",
   "metadata": {},
   "outputs": [],
   "source": [
    "df_challenges = df['challenges_early'].str.split(',', expand=True)"
   ]
  },
  {
   "cell_type": "code",
   "execution_count": 307,
   "id": "e03ed57f-6db2-4f23-a9d9-394fe0e7429b",
   "metadata": {
    "scrolled": true
   },
   "outputs": [
    {
     "ename": "AttributeError",
     "evalue": "'DataFrame' object has no attribute 'to_list'",
     "output_type": "error",
     "traceback": [
      "\u001b[0;31m---------------------------------------------------------------------------\u001b[0m",
      "\u001b[0;31mAttributeError\u001b[0m                            Traceback (most recent call last)",
      "\u001b[0;32m/var/folders/vm/gh54964s4_b1nv47l8kfvwzr0000gn/T/ipykernel_72960/1894932021.py\u001b[0m in \u001b[0;36m?\u001b[0;34m()\u001b[0m\n\u001b[0;32m----> 1\u001b[0;31m \u001b[0mchallenges_early\u001b[0m \u001b[0;34m=\u001b[0m \u001b[0mdf_challenges\u001b[0m\u001b[0;34m.\u001b[0m\u001b[0mto_list\u001b[0m\u001b[0;34m(\u001b[0m\u001b[0;34m)\u001b[0m\u001b[0;34m\u001b[0m\u001b[0;34m\u001b[0m\u001b[0m\n\u001b[0m\u001b[1;32m      2\u001b[0m \u001b[0mchallenges_early\u001b[0m\u001b[0;34m\u001b[0m\u001b[0;34m\u001b[0m\u001b[0m\n",
      "\u001b[0;32m~/Library/Caches/pypoetry/virtualenvs/metrics-zAjdhTW--py3.11/lib/python3.11/site-packages/pandas/core/generic.py\u001b[0m in \u001b[0;36m?\u001b[0;34m(self, name)\u001b[0m\n\u001b[1;32m   6295\u001b[0m             \u001b[0;32mand\u001b[0m \u001b[0mname\u001b[0m \u001b[0;32mnot\u001b[0m \u001b[0;32min\u001b[0m \u001b[0mself\u001b[0m\u001b[0;34m.\u001b[0m\u001b[0m_accessors\u001b[0m\u001b[0;34m\u001b[0m\u001b[0;34m\u001b[0m\u001b[0m\n\u001b[1;32m   6296\u001b[0m             \u001b[0;32mand\u001b[0m \u001b[0mself\u001b[0m\u001b[0;34m.\u001b[0m\u001b[0m_info_axis\u001b[0m\u001b[0;34m.\u001b[0m\u001b[0m_can_hold_identifiers_and_holds_name\u001b[0m\u001b[0;34m(\u001b[0m\u001b[0mname\u001b[0m\u001b[0;34m)\u001b[0m\u001b[0;34m\u001b[0m\u001b[0;34m\u001b[0m\u001b[0m\n\u001b[1;32m   6297\u001b[0m         ):\n\u001b[1;32m   6298\u001b[0m             \u001b[0;32mreturn\u001b[0m \u001b[0mself\u001b[0m\u001b[0;34m[\u001b[0m\u001b[0mname\u001b[0m\u001b[0;34m]\u001b[0m\u001b[0;34m\u001b[0m\u001b[0;34m\u001b[0m\u001b[0m\n\u001b[0;32m-> 6299\u001b[0;31m         \u001b[0;32mreturn\u001b[0m \u001b[0mobject\u001b[0m\u001b[0;34m.\u001b[0m\u001b[0m__getattribute__\u001b[0m\u001b[0;34m(\u001b[0m\u001b[0mself\u001b[0m\u001b[0;34m,\u001b[0m \u001b[0mname\u001b[0m\u001b[0;34m)\u001b[0m\u001b[0;34m\u001b[0m\u001b[0;34m\u001b[0m\u001b[0m\n\u001b[0m",
      "\u001b[0;31mAttributeError\u001b[0m: 'DataFrame' object has no attribute 'to_list'"
     ]
    }
   ],
   "source": [
    "challenges_early = df_challenges.to_list()\n",
    "challenges_early"
   ]
  },
  {
   "cell_type": "code",
   "execution_count": 308,
   "id": "c1b19c9a-5f84-4857-baf3-290b25f4eafb",
   "metadata": {},
   "outputs": [],
   "source": [
    "flat_list = []"
   ]
  },
  {
   "cell_type": "code",
   "execution_count": 309,
   "id": "e320dd91-55a1-4d5e-b785-f64e8070030d",
   "metadata": {},
   "outputs": [
    {
     "ename": "NameError",
     "evalue": "name 'colum' is not defined",
     "output_type": "error",
     "traceback": [
      "\u001b[0;31m---------------------------------------------------------------------------\u001b[0m",
      "\u001b[0;31mNameError\u001b[0m                                 Traceback (most recent call last)",
      "Cell \u001b[0;32mIn[309], line 2\u001b[0m\n\u001b[1;32m      1\u001b[0m \u001b[38;5;28;01mfor\u001b[39;00m column \u001b[38;5;129;01min\u001b[39;00m challenges_early:\n\u001b[0;32m----> 2\u001b[0m     \u001b[43mcolum\u001b[49m\u001b[38;5;241m.\u001b[39mto_list()\n\u001b[1;32m      3\u001b[0m     flat_list\u001b[38;5;241m.\u001b[39mappend(colum)\n",
      "\u001b[0;31mNameError\u001b[0m: name 'colum' is not defined"
     ]
    }
   ],
   "source": [
    "for column in challenges_early:\n",
    "    colum.to_list()\n",
    "    flat_list.append(colum)"
   ]
  },
  {
   "cell_type": "code",
   "execution_count": 310,
   "id": "c003a6cd-9cc4-430c-b6ab-cc3d612d1d70",
   "metadata": {},
   "outputs": [
    {
     "data": {
      "text/plain": [
       "[]"
      ]
     },
     "execution_count": 310,
     "metadata": {},
     "output_type": "execute_result"
    }
   ],
   "source": [
    "flat_list"
   ]
  },
  {
   "cell_type": "code",
   "execution_count": 281,
   "id": "ad628842-842c-4f0d-ac84-d5107f9e083f",
   "metadata": {},
   "outputs": [],
   "source": [
    "for line in challenges_early:\n",
    "    flat_list.append(line)"
   ]
  },
  {
   "cell_type": "code",
   "execution_count": 293,
   "id": "d7b463cb-184d-4001-a6e0-14e5d59c1828",
   "metadata": {},
   "outputs": [],
   "source": [
    "flat_list = []\n",
    "\n",
    "for line in challenges_early:\n",
    "    for items in line:\n",
    "        flat_list.append(line)"
   ]
  },
  {
   "cell_type": "code",
   "execution_count": 294,
   "id": "175b8f1b-407d-4e14-b0af-084f00fc02bd",
   "metadata": {},
   "outputs": [
    {
     "data": {
      "text/plain": [
       "['Falta de clientes',\n",
       " 'Falta de clientes',\n",
       " 'Falta de clientes',\n",
       " 'Falta de clientes',\n",
       " 'Falta de clientes',\n",
       " 'Falta de clientes',\n",
       " 'Falta de clientes',\n",
       " 'Falta de clientes',\n",
       " 'Falta de clientes',\n",
       " 'Falta de clientes',\n",
       " 'Falta de clientes',\n",
       " 'Falta de clientes',\n",
       " 'Falta de clientes',\n",
       " 'Falta de clientes',\n",
       " 'Falta de clientes',\n",
       " 'Falta de clientes',\n",
       " 'Falta de clientes',\n",
       " 'Falta de socios, Falta de financiamiento',\n",
       " 'Falta de socios, Falta de financiamiento',\n",
       " 'Falta de socios, Falta de financiamiento',\n",
       " 'Falta de socios, Falta de financiamiento',\n",
       " 'Falta de socios, Falta de financiamiento',\n",
       " 'Falta de socios, Falta de financiamiento',\n",
       " 'Falta de socios, Falta de financiamiento',\n",
       " 'Falta de socios, Falta de financiamiento',\n",
       " 'Falta de socios, Falta de financiamiento',\n",
       " 'Falta de socios, Falta de financiamiento',\n",
       " 'Falta de socios, Falta de financiamiento',\n",
       " 'Falta de socios, Falta de financiamiento',\n",
       " 'Falta de socios, Falta de financiamiento',\n",
       " 'Falta de socios, Falta de financiamiento',\n",
       " 'Falta de socios, Falta de financiamiento',\n",
       " 'Falta de socios, Falta de financiamiento',\n",
       " 'Falta de socios, Falta de financiamiento',\n",
       " 'Falta de socios, Falta de financiamiento',\n",
       " 'Falta de socios, Falta de financiamiento',\n",
       " 'Falta de socios, Falta de financiamiento',\n",
       " 'Falta de socios, Falta de financiamiento',\n",
       " 'Falta de socios, Falta de financiamiento',\n",
       " 'Falta de socios, Falta de financiamiento',\n",
       " 'Falta de socios, Falta de financiamiento',\n",
       " 'Falta de socios, Falta de financiamiento',\n",
       " 'Falta de socios, Falta de financiamiento',\n",
       " 'Falta de socios, Falta de financiamiento',\n",
       " 'Falta de socios, Falta de financiamiento',\n",
       " 'Falta de socios, Falta de financiamiento',\n",
       " 'Falta de socios, Falta de financiamiento',\n",
       " 'Falta de socios, Falta de financiamiento',\n",
       " 'Falta de socios, Falta de financiamiento',\n",
       " 'Falta de socios, Falta de financiamiento',\n",
       " 'Falta de socios, Falta de financiamiento',\n",
       " 'Falta de socios, Falta de financiamiento',\n",
       " 'Falta de socios, Falta de financiamiento',\n",
       " 'Falta de socios, Falta de financiamiento',\n",
       " 'Falta de socios, Falta de financiamiento',\n",
       " 'Falta de socios, Falta de financiamiento',\n",
       " 'Falta de socios, Falta de financiamiento',\n",
       " 'Impacto emocional, Falta de clientes, Falta de socios, Falta de financiamiento',\n",
       " 'Impacto emocional, Falta de clientes, Falta de socios, Falta de financiamiento',\n",
       " 'Impacto emocional, Falta de clientes, Falta de socios, Falta de financiamiento',\n",
       " 'Impacto emocional, Falta de clientes, Falta de socios, Falta de financiamiento',\n",
       " 'Impacto emocional, Falta de clientes, Falta de socios, Falta de financiamiento',\n",
       " 'Impacto emocional, Falta de clientes, Falta de socios, Falta de financiamiento',\n",
       " 'Impacto emocional, Falta de clientes, Falta de socios, Falta de financiamiento',\n",
       " 'Impacto emocional, Falta de clientes, Falta de socios, Falta de financiamiento',\n",
       " 'Impacto emocional, Falta de clientes, Falta de socios, Falta de financiamiento',\n",
       " 'Impacto emocional, Falta de clientes, Falta de socios, Falta de financiamiento',\n",
       " 'Impacto emocional, Falta de clientes, Falta de socios, Falta de financiamiento',\n",
       " 'Impacto emocional, Falta de clientes, Falta de socios, Falta de financiamiento',\n",
       " 'Impacto emocional, Falta de clientes, Falta de socios, Falta de financiamiento',\n",
       " 'Impacto emocional, Falta de clientes, Falta de socios, Falta de financiamiento',\n",
       " 'Impacto emocional, Falta de clientes, Falta de socios, Falta de financiamiento',\n",
       " 'Impacto emocional, Falta de clientes, Falta de socios, Falta de financiamiento',\n",
       " 'Impacto emocional, Falta de clientes, Falta de socios, Falta de financiamiento',\n",
       " 'Impacto emocional, Falta de clientes, Falta de socios, Falta de financiamiento',\n",
       " 'Impacto emocional, Falta de clientes, Falta de socios, Falta de financiamiento',\n",
       " 'Impacto emocional, Falta de clientes, Falta de socios, Falta de financiamiento',\n",
       " 'Impacto emocional, Falta de clientes, Falta de socios, Falta de financiamiento',\n",
       " 'Impacto emocional, Falta de clientes, Falta de socios, Falta de financiamiento',\n",
       " 'Impacto emocional, Falta de clientes, Falta de socios, Falta de financiamiento',\n",
       " 'Impacto emocional, Falta de clientes, Falta de socios, Falta de financiamiento',\n",
       " 'Impacto emocional, Falta de clientes, Falta de socios, Falta de financiamiento',\n",
       " 'Impacto emocional, Falta de clientes, Falta de socios, Falta de financiamiento',\n",
       " 'Impacto emocional, Falta de clientes, Falta de socios, Falta de financiamiento',\n",
       " 'Impacto emocional, Falta de clientes, Falta de socios, Falta de financiamiento',\n",
       " 'Impacto emocional, Falta de clientes, Falta de socios, Falta de financiamiento',\n",
       " 'Impacto emocional, Falta de clientes, Falta de socios, Falta de financiamiento',\n",
       " 'Impacto emocional, Falta de clientes, Falta de socios, Falta de financiamiento',\n",
       " 'Impacto emocional, Falta de clientes, Falta de socios, Falta de financiamiento',\n",
       " 'Impacto emocional, Falta de clientes, Falta de socios, Falta de financiamiento',\n",
       " 'Impacto emocional, Falta de clientes, Falta de socios, Falta de financiamiento',\n",
       " 'Impacto emocional, Falta de clientes, Falta de socios, Falta de financiamiento',\n",
       " 'Impacto emocional, Falta de clientes, Falta de socios, Falta de financiamiento',\n",
       " 'Impacto emocional, Falta de clientes, Falta de socios, Falta de financiamiento',\n",
       " 'Impacto emocional, Falta de clientes, Falta de socios, Falta de financiamiento',\n",
       " 'Impacto emocional, Falta de clientes, Falta de socios, Falta de financiamiento',\n",
       " 'Impacto emocional, Falta de clientes, Falta de socios, Falta de financiamiento',\n",
       " 'Impacto emocional, Falta de clientes, Falta de socios, Falta de financiamiento',\n",
       " 'Impacto emocional, Falta de clientes, Falta de socios, Falta de financiamiento',\n",
       " 'Impacto emocional, Falta de clientes, Falta de socios, Falta de financiamiento',\n",
       " 'Impacto emocional, Falta de clientes, Falta de socios, Falta de financiamiento',\n",
       " 'Impacto emocional, Falta de clientes, Falta de socios, Falta de financiamiento',\n",
       " 'Impacto emocional, Falta de clientes, Falta de socios, Falta de financiamiento',\n",
       " 'Impacto emocional, Falta de clientes, Falta de socios, Falta de financiamiento',\n",
       " 'Impacto emocional, Falta de clientes, Falta de socios, Falta de financiamiento',\n",
       " 'Impacto emocional, Falta de clientes, Falta de socios, Falta de financiamiento',\n",
       " 'Impacto emocional, Falta de clientes, Falta de socios, Falta de financiamiento',\n",
       " 'Impacto emocional, Falta de clientes, Falta de socios, Falta de financiamiento',\n",
       " 'Impacto emocional, Falta de clientes, Falta de socios, Falta de financiamiento',\n",
       " 'Impacto emocional, Falta de clientes, Falta de socios, Falta de financiamiento',\n",
       " 'Impacto emocional, Falta de clientes, Falta de socios, Falta de financiamiento',\n",
       " 'Impacto emocional, Falta de clientes, Falta de socios, Falta de financiamiento',\n",
       " 'Impacto emocional, Falta de clientes, Falta de socios, Falta de financiamiento',\n",
       " 'Impacto emocional, Falta de clientes, Falta de socios, Falta de financiamiento',\n",
       " 'Impacto emocional, Falta de clientes, Falta de socios, Falta de financiamiento',\n",
       " 'Impacto emocional, Falta de clientes, Falta de socios, Falta de financiamiento',\n",
       " 'Impacto emocional, Falta de clientes, Falta de socios, Falta de financiamiento',\n",
       " 'Impacto emocional, Falta de clientes, Falta de socios, Falta de financiamiento',\n",
       " 'Impacto emocional, Falta de clientes, Falta de socios, Falta de financiamiento',\n",
       " 'Impacto emocional, Falta de clientes, Falta de socios, Falta de financiamiento',\n",
       " 'Impacto emocional, Falta de clientes, Falta de socios, Falta de financiamiento',\n",
       " 'Impacto emocional, Falta de clientes, Falta de socios, Falta de financiamiento',\n",
       " 'Impacto emocional, Falta de clientes, Falta de socios, Falta de financiamiento',\n",
       " 'Impacto emocional, Falta de clientes, Falta de socios, Falta de financiamiento',\n",
       " 'Impacto emocional, Falta de clientes, Falta de socios, Falta de financiamiento',\n",
       " 'Impacto emocional, Falta de clientes, Falta de socios, Falta de financiamiento',\n",
       " 'Impacto emocional, Falta de clientes, Falta de socios, Falta de financiamiento',\n",
       " 'Impacto emocional, Falta de clientes, Falta de socios, Falta de financiamiento',\n",
       " 'Impacto emocional, Falta de clientes, Falta de socios, Falta de financiamiento',\n",
       " 'Impacto emocional, Falta de clientes, Falta de socios, Falta de financiamiento',\n",
       " 'Impacto emocional, Falta de clientes, Falta de socios, Falta de financiamiento',\n",
       " 'Impacto emocional, Falta de clientes, Falta de socios, Falta de financiamiento',\n",
       " 'Impacto emocional, Falta de clientes, Falta de socios, Falta de financiamiento',\n",
       " 'Impacto emocional, Falta de clientes, Falta de socios, Falta de financiamiento',\n",
       " 'Impacto emocional, Falta de clientes, Falta de socios, Falta de financiamiento',\n",
       " 'Falta de conocimiento/skills, Impacto emocional',\n",
       " 'Falta de conocimiento/skills, Impacto emocional',\n",
       " 'Falta de conocimiento/skills, Impacto emocional',\n",
       " 'Falta de conocimiento/skills, Impacto emocional',\n",
       " 'Falta de conocimiento/skills, Impacto emocional',\n",
       " 'Falta de conocimiento/skills, Impacto emocional',\n",
       " 'Falta de conocimiento/skills, Impacto emocional',\n",
       " 'Falta de conocimiento/skills, Impacto emocional',\n",
       " 'Falta de conocimiento/skills, Impacto emocional',\n",
       " 'Falta de conocimiento/skills, Impacto emocional',\n",
       " 'Falta de conocimiento/skills, Impacto emocional',\n",
       " 'Falta de conocimiento/skills, Impacto emocional',\n",
       " 'Falta de conocimiento/skills, Impacto emocional',\n",
       " 'Falta de conocimiento/skills, Impacto emocional',\n",
       " 'Falta de conocimiento/skills, Impacto emocional',\n",
       " 'Falta de conocimiento/skills, Impacto emocional',\n",
       " 'Falta de conocimiento/skills, Impacto emocional',\n",
       " 'Falta de conocimiento/skills, Impacto emocional',\n",
       " 'Falta de conocimiento/skills, Impacto emocional',\n",
       " 'Falta de conocimiento/skills, Impacto emocional',\n",
       " 'Falta de conocimiento/skills, Impacto emocional',\n",
       " 'Falta de conocimiento/skills, Impacto emocional',\n",
       " 'Falta de conocimiento/skills, Impacto emocional',\n",
       " 'Falta de conocimiento/skills, Impacto emocional',\n",
       " 'Falta de conocimiento/skills, Impacto emocional',\n",
       " 'Falta de conocimiento/skills, Impacto emocional',\n",
       " 'Falta de conocimiento/skills, Impacto emocional',\n",
       " 'Falta de conocimiento/skills, Impacto emocional',\n",
       " 'Falta de conocimiento/skills, Impacto emocional',\n",
       " 'Falta de conocimiento/skills, Impacto emocional',\n",
       " 'Falta de conocimiento/skills, Impacto emocional',\n",
       " 'Falta de conocimiento/skills, Impacto emocional',\n",
       " 'Falta de conocimiento/skills, Impacto emocional',\n",
       " 'Falta de conocimiento/skills, Impacto emocional',\n",
       " 'Falta de conocimiento/skills, Impacto emocional',\n",
       " 'Falta de conocimiento/skills, Impacto emocional',\n",
       " 'Falta de conocimiento/skills, Impacto emocional',\n",
       " 'Falta de conocimiento/skills, Impacto emocional',\n",
       " 'Falta de conocimiento/skills, Impacto emocional',\n",
       " 'Falta de conocimiento/skills, Impacto emocional',\n",
       " 'Falta de conocimiento/skills, Impacto emocional',\n",
       " 'Falta de conocimiento/skills, Impacto emocional',\n",
       " 'Falta de conocimiento/skills, Impacto emocional',\n",
       " 'Falta de conocimiento/skills, Impacto emocional',\n",
       " 'Falta de conocimiento/skills, Impacto emocional',\n",
       " 'Falta de conocimiento/skills, Impacto emocional',\n",
       " 'Falta de conocimiento/skills, Impacto emocional',\n",
       " 'Falta de socios, Falta de financiamiento',\n",
       " 'Falta de socios, Falta de financiamiento',\n",
       " 'Falta de socios, Falta de financiamiento',\n",
       " 'Falta de socios, Falta de financiamiento',\n",
       " 'Falta de socios, Falta de financiamiento',\n",
       " 'Falta de socios, Falta de financiamiento',\n",
       " 'Falta de socios, Falta de financiamiento',\n",
       " 'Falta de socios, Falta de financiamiento',\n",
       " 'Falta de socios, Falta de financiamiento',\n",
       " 'Falta de socios, Falta de financiamiento',\n",
       " 'Falta de socios, Falta de financiamiento',\n",
       " 'Falta de socios, Falta de financiamiento',\n",
       " 'Falta de socios, Falta de financiamiento',\n",
       " 'Falta de socios, Falta de financiamiento',\n",
       " 'Falta de socios, Falta de financiamiento',\n",
       " 'Falta de socios, Falta de financiamiento',\n",
       " 'Falta de socios, Falta de financiamiento',\n",
       " 'Falta de socios, Falta de financiamiento',\n",
       " 'Falta de socios, Falta de financiamiento',\n",
       " 'Falta de socios, Falta de financiamiento',\n",
       " 'Falta de socios, Falta de financiamiento',\n",
       " 'Falta de socios, Falta de financiamiento',\n",
       " 'Falta de socios, Falta de financiamiento',\n",
       " 'Falta de socios, Falta de financiamiento',\n",
       " 'Falta de socios, Falta de financiamiento',\n",
       " 'Falta de socios, Falta de financiamiento',\n",
       " 'Falta de socios, Falta de financiamiento',\n",
       " 'Falta de socios, Falta de financiamiento',\n",
       " 'Falta de socios, Falta de financiamiento',\n",
       " 'Falta de socios, Falta de financiamiento',\n",
       " 'Falta de socios, Falta de financiamiento',\n",
       " 'Falta de socios, Falta de financiamiento',\n",
       " 'Falta de socios, Falta de financiamiento',\n",
       " 'Falta de socios, Falta de financiamiento',\n",
       " 'Falta de socios, Falta de financiamiento',\n",
       " 'Falta de socios, Falta de financiamiento',\n",
       " 'Falta de socios, Falta de financiamiento',\n",
       " 'Falta de socios, Falta de financiamiento',\n",
       " 'Falta de socios, Falta de financiamiento',\n",
       " 'Falta de socios, Falta de financiamiento',\n",
       " 'Falta de conocimiento/skills, Falta de clientes, Falta de socios, Falta de financiamiento',\n",
       " 'Falta de conocimiento/skills, Falta de clientes, Falta de socios, Falta de financiamiento',\n",
       " 'Falta de conocimiento/skills, Falta de clientes, Falta de socios, Falta de financiamiento',\n",
       " 'Falta de conocimiento/skills, Falta de clientes, Falta de socios, Falta de financiamiento',\n",
       " 'Falta de conocimiento/skills, Falta de clientes, Falta de socios, Falta de financiamiento',\n",
       " 'Falta de conocimiento/skills, Falta de clientes, Falta de socios, Falta de financiamiento',\n",
       " 'Falta de conocimiento/skills, Falta de clientes, Falta de socios, Falta de financiamiento',\n",
       " 'Falta de conocimiento/skills, Falta de clientes, Falta de socios, Falta de financiamiento',\n",
       " 'Falta de conocimiento/skills, Falta de clientes, Falta de socios, Falta de financiamiento',\n",
       " 'Falta de conocimiento/skills, Falta de clientes, Falta de socios, Falta de financiamiento',\n",
       " 'Falta de conocimiento/skills, Falta de clientes, Falta de socios, Falta de financiamiento',\n",
       " 'Falta de conocimiento/skills, Falta de clientes, Falta de socios, Falta de financiamiento',\n",
       " 'Falta de conocimiento/skills, Falta de clientes, Falta de socios, Falta de financiamiento',\n",
       " 'Falta de conocimiento/skills, Falta de clientes, Falta de socios, Falta de financiamiento',\n",
       " 'Falta de conocimiento/skills, Falta de clientes, Falta de socios, Falta de financiamiento',\n",
       " 'Falta de conocimiento/skills, Falta de clientes, Falta de socios, Falta de financiamiento',\n",
       " 'Falta de conocimiento/skills, Falta de clientes, Falta de socios, Falta de financiamiento',\n",
       " 'Falta de conocimiento/skills, Falta de clientes, Falta de socios, Falta de financiamiento',\n",
       " 'Falta de conocimiento/skills, Falta de clientes, Falta de socios, Falta de financiamiento',\n",
       " 'Falta de conocimiento/skills, Falta de clientes, Falta de socios, Falta de financiamiento',\n",
       " 'Falta de conocimiento/skills, Falta de clientes, Falta de socios, Falta de financiamiento',\n",
       " 'Falta de conocimiento/skills, Falta de clientes, Falta de socios, Falta de financiamiento',\n",
       " 'Falta de conocimiento/skills, Falta de clientes, Falta de socios, Falta de financiamiento',\n",
       " 'Falta de conocimiento/skills, Falta de clientes, Falta de socios, Falta de financiamiento',\n",
       " 'Falta de conocimiento/skills, Falta de clientes, Falta de socios, Falta de financiamiento',\n",
       " 'Falta de conocimiento/skills, Falta de clientes, Falta de socios, Falta de financiamiento',\n",
       " 'Falta de conocimiento/skills, Falta de clientes, Falta de socios, Falta de financiamiento',\n",
       " 'Falta de conocimiento/skills, Falta de clientes, Falta de socios, Falta de financiamiento',\n",
       " 'Falta de conocimiento/skills, Falta de clientes, Falta de socios, Falta de financiamiento',\n",
       " 'Falta de conocimiento/skills, Falta de clientes, Falta de socios, Falta de financiamiento',\n",
       " 'Falta de conocimiento/skills, Falta de clientes, Falta de socios, Falta de financiamiento',\n",
       " 'Falta de conocimiento/skills, Falta de clientes, Falta de socios, Falta de financiamiento',\n",
       " 'Falta de conocimiento/skills, Falta de clientes, Falta de socios, Falta de financiamiento',\n",
       " 'Falta de conocimiento/skills, Falta de clientes, Falta de socios, Falta de financiamiento',\n",
       " 'Falta de conocimiento/skills, Falta de clientes, Falta de socios, Falta de financiamiento',\n",
       " 'Falta de conocimiento/skills, Falta de clientes, Falta de socios, Falta de financiamiento',\n",
       " 'Falta de conocimiento/skills, Falta de clientes, Falta de socios, Falta de financiamiento',\n",
       " 'Falta de conocimiento/skills, Falta de clientes, Falta de socios, Falta de financiamiento',\n",
       " 'Falta de conocimiento/skills, Falta de clientes, Falta de socios, Falta de financiamiento',\n",
       " 'Falta de conocimiento/skills, Falta de clientes, Falta de socios, Falta de financiamiento',\n",
       " 'Falta de conocimiento/skills, Falta de clientes, Falta de socios, Falta de financiamiento',\n",
       " 'Falta de conocimiento/skills, Falta de clientes, Falta de socios, Falta de financiamiento',\n",
       " 'Falta de conocimiento/skills, Falta de clientes, Falta de socios, Falta de financiamiento',\n",
       " 'Falta de conocimiento/skills, Falta de clientes, Falta de socios, Falta de financiamiento',\n",
       " 'Falta de conocimiento/skills, Falta de clientes, Falta de socios, Falta de financiamiento',\n",
       " 'Falta de conocimiento/skills, Falta de clientes, Falta de socios, Falta de financiamiento',\n",
       " 'Falta de conocimiento/skills, Falta de clientes, Falta de socios, Falta de financiamiento',\n",
       " 'Falta de conocimiento/skills, Falta de clientes, Falta de socios, Falta de financiamiento',\n",
       " 'Falta de conocimiento/skills, Falta de clientes, Falta de socios, Falta de financiamiento',\n",
       " 'Falta de conocimiento/skills, Falta de clientes, Falta de socios, Falta de financiamiento',\n",
       " 'Falta de conocimiento/skills, Falta de clientes, Falta de socios, Falta de financiamiento',\n",
       " 'Falta de conocimiento/skills, Falta de clientes, Falta de socios, Falta de financiamiento',\n",
       " 'Falta de conocimiento/skills, Falta de clientes, Falta de socios, Falta de financiamiento',\n",
       " 'Falta de conocimiento/skills, Falta de clientes, Falta de socios, Falta de financiamiento',\n",
       " 'Falta de conocimiento/skills, Falta de clientes, Falta de socios, Falta de financiamiento',\n",
       " 'Falta de conocimiento/skills, Falta de clientes, Falta de socios, Falta de financiamiento',\n",
       " 'Falta de conocimiento/skills, Falta de clientes, Falta de socios, Falta de financiamiento',\n",
       " 'Falta de conocimiento/skills, Falta de clientes, Falta de socios, Falta de financiamiento',\n",
       " 'Falta de conocimiento/skills, Falta de clientes, Falta de socios, Falta de financiamiento',\n",
       " 'Falta de conocimiento/skills, Falta de clientes, Falta de socios, Falta de financiamiento',\n",
       " 'Falta de conocimiento/skills, Falta de clientes, Falta de socios, Falta de financiamiento',\n",
       " 'Falta de conocimiento/skills, Falta de clientes, Falta de socios, Falta de financiamiento',\n",
       " 'Falta de conocimiento/skills, Falta de clientes, Falta de socios, Falta de financiamiento',\n",
       " 'Falta de conocimiento/skills, Falta de clientes, Falta de socios, Falta de financiamiento',\n",
       " 'Falta de conocimiento/skills, Falta de clientes, Falta de socios, Falta de financiamiento',\n",
       " 'Falta de conocimiento/skills, Falta de clientes, Falta de socios, Falta de financiamiento',\n",
       " 'Falta de conocimiento/skills, Falta de clientes, Falta de socios, Falta de financiamiento',\n",
       " 'Falta de conocimiento/skills, Falta de clientes, Falta de socios, Falta de financiamiento',\n",
       " 'Falta de conocimiento/skills, Falta de clientes, Falta de socios, Falta de financiamiento',\n",
       " 'Falta de conocimiento/skills, Falta de clientes, Falta de socios, Falta de financiamiento',\n",
       " 'Falta de conocimiento/skills, Falta de clientes, Falta de socios, Falta de financiamiento',\n",
       " 'Falta de conocimiento/skills, Falta de clientes, Falta de socios, Falta de financiamiento',\n",
       " 'Falta de conocimiento/skills, Falta de clientes, Falta de socios, Falta de financiamiento',\n",
       " 'Falta de conocimiento/skills, Falta de clientes, Falta de socios, Falta de financiamiento',\n",
       " 'Falta de conocimiento/skills, Falta de clientes, Falta de socios, Falta de financiamiento',\n",
       " 'Falta de conocimiento/skills, Falta de clientes, Falta de socios, Falta de financiamiento',\n",
       " 'Falta de conocimiento/skills, Falta de clientes, Falta de socios, Falta de financiamiento',\n",
       " 'Falta de conocimiento/skills, Falta de clientes, Falta de socios, Falta de financiamiento',\n",
       " 'Falta de conocimiento/skills, Falta de clientes, Falta de socios, Falta de financiamiento',\n",
       " 'Falta de conocimiento/skills, Falta de clientes, Falta de socios, Falta de financiamiento',\n",
       " 'Falta de conocimiento/skills, Falta de clientes, Falta de socios, Falta de financiamiento',\n",
       " 'Falta de conocimiento/skills, Falta de clientes, Falta de socios, Falta de financiamiento',\n",
       " 'Falta de conocimiento/skills, Falta de clientes, Falta de socios, Falta de financiamiento',\n",
       " 'Falta de conocimiento/skills, Falta de clientes, Falta de socios, Falta de financiamiento',\n",
       " 'Falta de conocimiento/skills, Falta de clientes, Falta de socios, Falta de financiamiento',\n",
       " 'Falta de conocimiento/skills, Falta de clientes, Falta de socios, Falta de financiamiento',\n",
       " 'Falta de conocimiento/skills, Falta de clientes, Falta de socios, Falta de financiamiento',\n",
       " 'Falta de conocimiento/skills, Falta de clientes, Falta de socios, Falta de financiamiento',\n",
       " 'Falta de conocimiento/skills, Falta de clientes, Falta de socios, Falta de financiamiento',\n",
       " 'Falta de conocimiento/skills, Falta de clientes',\n",
       " 'Falta de conocimiento/skills, Falta de clientes',\n",
       " 'Falta de conocimiento/skills, Falta de clientes',\n",
       " 'Falta de conocimiento/skills, Falta de clientes',\n",
       " 'Falta de conocimiento/skills, Falta de clientes',\n",
       " 'Falta de conocimiento/skills, Falta de clientes',\n",
       " 'Falta de conocimiento/skills, Falta de clientes',\n",
       " 'Falta de conocimiento/skills, Falta de clientes',\n",
       " 'Falta de conocimiento/skills, Falta de clientes',\n",
       " 'Falta de conocimiento/skills, Falta de clientes',\n",
       " 'Falta de conocimiento/skills, Falta de clientes',\n",
       " 'Falta de conocimiento/skills, Falta de clientes',\n",
       " 'Falta de conocimiento/skills, Falta de clientes',\n",
       " 'Falta de conocimiento/skills, Falta de clientes',\n",
       " 'Falta de conocimiento/skills, Falta de clientes',\n",
       " 'Falta de conocimiento/skills, Falta de clientes',\n",
       " 'Falta de conocimiento/skills, Falta de clientes',\n",
       " 'Falta de conocimiento/skills, Falta de clientes',\n",
       " 'Falta de conocimiento/skills, Falta de clientes',\n",
       " 'Falta de conocimiento/skills, Falta de clientes',\n",
       " 'Falta de conocimiento/skills, Falta de clientes',\n",
       " 'Falta de conocimiento/skills, Falta de clientes',\n",
       " 'Falta de conocimiento/skills, Falta de clientes',\n",
       " 'Falta de conocimiento/skills, Falta de clientes',\n",
       " 'Falta de conocimiento/skills, Falta de clientes',\n",
       " 'Falta de conocimiento/skills, Falta de clientes',\n",
       " 'Falta de conocimiento/skills, Falta de clientes',\n",
       " 'Falta de conocimiento/skills, Falta de clientes',\n",
       " 'Falta de conocimiento/skills, Falta de clientes',\n",
       " 'Falta de conocimiento/skills, Falta de clientes',\n",
       " 'Falta de conocimiento/skills, Falta de clientes',\n",
       " 'Falta de conocimiento/skills, Falta de clientes',\n",
       " 'Falta de conocimiento/skills, Falta de clientes',\n",
       " 'Falta de conocimiento/skills, Falta de clientes',\n",
       " 'Falta de conocimiento/skills, Falta de clientes',\n",
       " 'Falta de conocimiento/skills, Falta de clientes',\n",
       " 'Falta de conocimiento/skills, Falta de clientes',\n",
       " 'Falta de conocimiento/skills, Falta de clientes',\n",
       " 'Falta de conocimiento/skills, Falta de clientes',\n",
       " 'Falta de conocimiento/skills, Falta de clientes',\n",
       " 'Falta de conocimiento/skills, Falta de clientes',\n",
       " 'Falta de conocimiento/skills, Falta de clientes',\n",
       " 'Falta de conocimiento/skills, Falta de clientes',\n",
       " 'Falta de conocimiento/skills, Falta de clientes',\n",
       " 'Falta de conocimiento/skills, Falta de clientes',\n",
       " 'Falta de conocimiento/skills, Falta de clientes',\n",
       " 'Falta de conocimiento/skills, Falta de clientes',\n",
       " 'Falta de conocimiento/skills, Falta de clientes, Falta de socios, Falta de financiamiento',\n",
       " 'Falta de conocimiento/skills, Falta de clientes, Falta de socios, Falta de financiamiento',\n",
       " 'Falta de conocimiento/skills, Falta de clientes, Falta de socios, Falta de financiamiento',\n",
       " 'Falta de conocimiento/skills, Falta de clientes, Falta de socios, Falta de financiamiento',\n",
       " 'Falta de conocimiento/skills, Falta de clientes, Falta de socios, Falta de financiamiento',\n",
       " 'Falta de conocimiento/skills, Falta de clientes, Falta de socios, Falta de financiamiento',\n",
       " 'Falta de conocimiento/skills, Falta de clientes, Falta de socios, Falta de financiamiento',\n",
       " 'Falta de conocimiento/skills, Falta de clientes, Falta de socios, Falta de financiamiento',\n",
       " 'Falta de conocimiento/skills, Falta de clientes, Falta de socios, Falta de financiamiento',\n",
       " 'Falta de conocimiento/skills, Falta de clientes, Falta de socios, Falta de financiamiento',\n",
       " 'Falta de conocimiento/skills, Falta de clientes, Falta de socios, Falta de financiamiento',\n",
       " 'Falta de conocimiento/skills, Falta de clientes, Falta de socios, Falta de financiamiento',\n",
       " 'Falta de conocimiento/skills, Falta de clientes, Falta de socios, Falta de financiamiento',\n",
       " 'Falta de conocimiento/skills, Falta de clientes, Falta de socios, Falta de financiamiento',\n",
       " 'Falta de conocimiento/skills, Falta de clientes, Falta de socios, Falta de financiamiento',\n",
       " 'Falta de conocimiento/skills, Falta de clientes, Falta de socios, Falta de financiamiento',\n",
       " 'Falta de conocimiento/skills, Falta de clientes, Falta de socios, Falta de financiamiento',\n",
       " 'Falta de conocimiento/skills, Falta de clientes, Falta de socios, Falta de financiamiento',\n",
       " 'Falta de conocimiento/skills, Falta de clientes, Falta de socios, Falta de financiamiento',\n",
       " 'Falta de conocimiento/skills, Falta de clientes, Falta de socios, Falta de financiamiento',\n",
       " 'Falta de conocimiento/skills, Falta de clientes, Falta de socios, Falta de financiamiento',\n",
       " 'Falta de conocimiento/skills, Falta de clientes, Falta de socios, Falta de financiamiento',\n",
       " 'Falta de conocimiento/skills, Falta de clientes, Falta de socios, Falta de financiamiento',\n",
       " 'Falta de conocimiento/skills, Falta de clientes, Falta de socios, Falta de financiamiento',\n",
       " 'Falta de conocimiento/skills, Falta de clientes, Falta de socios, Falta de financiamiento',\n",
       " 'Falta de conocimiento/skills, Falta de clientes, Falta de socios, Falta de financiamiento',\n",
       " 'Falta de conocimiento/skills, Falta de clientes, Falta de socios, Falta de financiamiento',\n",
       " 'Falta de conocimiento/skills, Falta de clientes, Falta de socios, Falta de financiamiento',\n",
       " 'Falta de conocimiento/skills, Falta de clientes, Falta de socios, Falta de financiamiento',\n",
       " 'Falta de conocimiento/skills, Falta de clientes, Falta de socios, Falta de financiamiento',\n",
       " 'Falta de conocimiento/skills, Falta de clientes, Falta de socios, Falta de financiamiento',\n",
       " 'Falta de conocimiento/skills, Falta de clientes, Falta de socios, Falta de financiamiento',\n",
       " 'Falta de conocimiento/skills, Falta de clientes, Falta de socios, Falta de financiamiento',\n",
       " 'Falta de conocimiento/skills, Falta de clientes, Falta de socios, Falta de financiamiento',\n",
       " 'Falta de conocimiento/skills, Falta de clientes, Falta de socios, Falta de financiamiento',\n",
       " 'Falta de conocimiento/skills, Falta de clientes, Falta de socios, Falta de financiamiento',\n",
       " 'Falta de conocimiento/skills, Falta de clientes, Falta de socios, Falta de financiamiento',\n",
       " 'Falta de conocimiento/skills, Falta de clientes, Falta de socios, Falta de financiamiento',\n",
       " 'Falta de conocimiento/skills, Falta de clientes, Falta de socios, Falta de financiamiento',\n",
       " 'Falta de conocimiento/skills, Falta de clientes, Falta de socios, Falta de financiamiento',\n",
       " 'Falta de conocimiento/skills, Falta de clientes, Falta de socios, Falta de financiamiento',\n",
       " 'Falta de conocimiento/skills, Falta de clientes, Falta de socios, Falta de financiamiento',\n",
       " 'Falta de conocimiento/skills, Falta de clientes, Falta de socios, Falta de financiamiento',\n",
       " 'Falta de conocimiento/skills, Falta de clientes, Falta de socios, Falta de financiamiento',\n",
       " 'Falta de conocimiento/skills, Falta de clientes, Falta de socios, Falta de financiamiento',\n",
       " 'Falta de conocimiento/skills, Falta de clientes, Falta de socios, Falta de financiamiento',\n",
       " 'Falta de conocimiento/skills, Falta de clientes, Falta de socios, Falta de financiamiento',\n",
       " 'Falta de conocimiento/skills, Falta de clientes, Falta de socios, Falta de financiamiento',\n",
       " 'Falta de conocimiento/skills, Falta de clientes, Falta de socios, Falta de financiamiento',\n",
       " 'Falta de conocimiento/skills, Falta de clientes, Falta de socios, Falta de financiamiento',\n",
       " 'Falta de conocimiento/skills, Falta de clientes, Falta de socios, Falta de financiamiento',\n",
       " 'Falta de conocimiento/skills, Falta de clientes, Falta de socios, Falta de financiamiento',\n",
       " 'Falta de conocimiento/skills, Falta de clientes, Falta de socios, Falta de financiamiento',\n",
       " 'Falta de conocimiento/skills, Falta de clientes, Falta de socios, Falta de financiamiento',\n",
       " 'Falta de conocimiento/skills, Falta de clientes, Falta de socios, Falta de financiamiento',\n",
       " 'Falta de conocimiento/skills, Falta de clientes, Falta de socios, Falta de financiamiento',\n",
       " 'Falta de conocimiento/skills, Falta de clientes, Falta de socios, Falta de financiamiento',\n",
       " 'Falta de conocimiento/skills, Falta de clientes, Falta de socios, Falta de financiamiento',\n",
       " 'Falta de conocimiento/skills, Falta de clientes, Falta de socios, Falta de financiamiento',\n",
       " 'Falta de conocimiento/skills, Falta de clientes, Falta de socios, Falta de financiamiento',\n",
       " 'Falta de conocimiento/skills, Falta de clientes, Falta de socios, Falta de financiamiento',\n",
       " 'Falta de conocimiento/skills, Falta de clientes, Falta de socios, Falta de financiamiento',\n",
       " 'Falta de conocimiento/skills, Falta de clientes, Falta de socios, Falta de financiamiento',\n",
       " 'Falta de conocimiento/skills, Falta de clientes, Falta de socios, Falta de financiamiento',\n",
       " 'Falta de conocimiento/skills, Falta de clientes, Falta de socios, Falta de financiamiento',\n",
       " 'Falta de conocimiento/skills, Falta de clientes, Falta de socios, Falta de financiamiento',\n",
       " 'Falta de conocimiento/skills, Falta de clientes, Falta de socios, Falta de financiamiento',\n",
       " 'Falta de conocimiento/skills, Falta de clientes, Falta de socios, Falta de financiamiento',\n",
       " 'Falta de conocimiento/skills, Falta de clientes, Falta de socios, Falta de financiamiento',\n",
       " 'Falta de conocimiento/skills, Falta de clientes, Falta de socios, Falta de financiamiento',\n",
       " 'Falta de conocimiento/skills, Falta de clientes, Falta de socios, Falta de financiamiento',\n",
       " 'Falta de conocimiento/skills, Falta de clientes, Falta de socios, Falta de financiamiento',\n",
       " 'Falta de conocimiento/skills, Falta de clientes, Falta de socios, Falta de financiamiento',\n",
       " 'Falta de conocimiento/skills, Falta de clientes, Falta de socios, Falta de financiamiento',\n",
       " 'Falta de conocimiento/skills, Falta de clientes, Falta de socios, Falta de financiamiento',\n",
       " 'Falta de conocimiento/skills, Falta de clientes, Falta de socios, Falta de financiamiento',\n",
       " 'Falta de conocimiento/skills, Falta de clientes, Falta de socios, Falta de financiamiento',\n",
       " 'Falta de conocimiento/skills, Falta de clientes, Falta de socios, Falta de financiamiento',\n",
       " 'Falta de conocimiento/skills, Falta de clientes, Falta de socios, Falta de financiamiento',\n",
       " 'Falta de conocimiento/skills, Falta de clientes, Falta de socios, Falta de financiamiento',\n",
       " 'Falta de conocimiento/skills, Falta de clientes, Falta de socios, Falta de financiamiento',\n",
       " 'Falta de conocimiento/skills, Falta de clientes, Falta de socios, Falta de financiamiento',\n",
       " 'Falta de conocimiento/skills, Falta de clientes, Falta de socios, Falta de financiamiento',\n",
       " 'Falta de conocimiento/skills, Falta de clientes, Falta de socios, Falta de financiamiento',\n",
       " 'Falta de conocimiento/skills, Falta de clientes, Falta de socios, Falta de financiamiento',\n",
       " 'Falta de conocimiento/skills, Falta de clientes, Falta de socios, Falta de financiamiento',\n",
       " 'Falta de conocimiento/skills, Falta de clientes, Falta de socios, Falta de financiamiento',\n",
       " 'Falta de conocimiento/skills, Falta de clientes, Falta de socios, Falta de financiamiento',\n",
       " 'Falta de conocimiento/skills, Falta de clientes, Falta de socios, Falta de financiamiento',\n",
       " 'tuve ciertos desafíos tecnológicos ya que hay cosas propias de Kujira que conocen solo los founders. Lo bueno es que le dan bastante bola a los proyectos nuevos.',\n",
       " 'tuve ciertos desafíos tecnológicos ya que hay cosas propias de Kujira que conocen solo los founders. Lo bueno es que le dan bastante bola a los proyectos nuevos.',\n",
       " 'tuve ciertos desafíos tecnológicos ya que hay cosas propias de Kujira que conocen solo los founders. Lo bueno es que le dan bastante bola a los proyectos nuevos.',\n",
       " 'tuve ciertos desafíos tecnológicos ya que hay cosas propias de Kujira que conocen solo los founders. Lo bueno es que le dan bastante bola a los proyectos nuevos.',\n",
       " 'tuve ciertos desafíos tecnológicos ya que hay cosas propias de Kujira que conocen solo los founders. Lo bueno es que le dan bastante bola a los proyectos nuevos.',\n",
       " 'tuve ciertos desafíos tecnológicos ya que hay cosas propias de Kujira que conocen solo los founders. Lo bueno es que le dan bastante bola a los proyectos nuevos.',\n",
       " 'tuve ciertos desafíos tecnológicos ya que hay cosas propias de Kujira que conocen solo los founders. Lo bueno es que le dan bastante bola a los proyectos nuevos.',\n",
       " 'tuve ciertos desafíos tecnológicos ya que hay cosas propias de Kujira que conocen solo los founders. Lo bueno es que le dan bastante bola a los proyectos nuevos.',\n",
       " 'tuve ciertos desafíos tecnológicos ya que hay cosas propias de Kujira que conocen solo los founders. Lo bueno es que le dan bastante bola a los proyectos nuevos.',\n",
       " 'tuve ciertos desafíos tecnológicos ya que hay cosas propias de Kujira que conocen solo los founders. Lo bueno es que le dan bastante bola a los proyectos nuevos.',\n",
       " 'tuve ciertos desafíos tecnológicos ya que hay cosas propias de Kujira que conocen solo los founders. Lo bueno es que le dan bastante bola a los proyectos nuevos.',\n",
       " 'tuve ciertos desafíos tecnológicos ya que hay cosas propias de Kujira que conocen solo los founders. Lo bueno es que le dan bastante bola a los proyectos nuevos.',\n",
       " 'tuve ciertos desafíos tecnológicos ya que hay cosas propias de Kujira que conocen solo los founders. Lo bueno es que le dan bastante bola a los proyectos nuevos.',\n",
       " 'tuve ciertos desafíos tecnológicos ya que hay cosas propias de Kujira que conocen solo los founders. Lo bueno es que le dan bastante bola a los proyectos nuevos.',\n",
       " 'tuve ciertos desafíos tecnológicos ya que hay cosas propias de Kujira que conocen solo los founders. Lo bueno es que le dan bastante bola a los proyectos nuevos.',\n",
       " 'tuve ciertos desafíos tecnológicos ya que hay cosas propias de Kujira que conocen solo los founders. Lo bueno es que le dan bastante bola a los proyectos nuevos.',\n",
       " 'tuve ciertos desafíos tecnológicos ya que hay cosas propias de Kujira que conocen solo los founders. Lo bueno es que le dan bastante bola a los proyectos nuevos.',\n",
       " 'tuve ciertos desafíos tecnológicos ya que hay cosas propias de Kujira que conocen solo los founders. Lo bueno es que le dan bastante bola a los proyectos nuevos.',\n",
       " 'tuve ciertos desafíos tecnológicos ya que hay cosas propias de Kujira que conocen solo los founders. Lo bueno es que le dan bastante bola a los proyectos nuevos.',\n",
       " 'tuve ciertos desafíos tecnológicos ya que hay cosas propias de Kujira que conocen solo los founders. Lo bueno es que le dan bastante bola a los proyectos nuevos.',\n",
       " 'tuve ciertos desafíos tecnológicos ya que hay cosas propias de Kujira que conocen solo los founders. Lo bueno es que le dan bastante bola a los proyectos nuevos.',\n",
       " 'tuve ciertos desafíos tecnológicos ya que hay cosas propias de Kujira que conocen solo los founders. Lo bueno es que le dan bastante bola a los proyectos nuevos.',\n",
       " 'tuve ciertos desafíos tecnológicos ya que hay cosas propias de Kujira que conocen solo los founders. Lo bueno es que le dan bastante bola a los proyectos nuevos.',\n",
       " 'tuve ciertos desafíos tecnológicos ya que hay cosas propias de Kujira que conocen solo los founders. Lo bueno es que le dan bastante bola a los proyectos nuevos.',\n",
       " 'tuve ciertos desafíos tecnológicos ya que hay cosas propias de Kujira que conocen solo los founders. Lo bueno es que le dan bastante bola a los proyectos nuevos.',\n",
       " 'tuve ciertos desafíos tecnológicos ya que hay cosas propias de Kujira que conocen solo los founders. Lo bueno es que le dan bastante bola a los proyectos nuevos.',\n",
       " 'tuve ciertos desafíos tecnológicos ya que hay cosas propias de Kujira que conocen solo los founders. Lo bueno es que le dan bastante bola a los proyectos nuevos.',\n",
       " 'tuve ciertos desafíos tecnológicos ya que hay cosas propias de Kujira que conocen solo los founders. Lo bueno es que le dan bastante bola a los proyectos nuevos.',\n",
       " 'tuve ciertos desafíos tecnológicos ya que hay cosas propias de Kujira que conocen solo los founders. Lo bueno es que le dan bastante bola a los proyectos nuevos.',\n",
       " 'tuve ciertos desafíos tecnológicos ya que hay cosas propias de Kujira que conocen solo los founders. Lo bueno es que le dan bastante bola a los proyectos nuevos.',\n",
       " 'tuve ciertos desafíos tecnológicos ya que hay cosas propias de Kujira que conocen solo los founders. Lo bueno es que le dan bastante bola a los proyectos nuevos.',\n",
       " 'tuve ciertos desafíos tecnológicos ya que hay cosas propias de Kujira que conocen solo los founders. Lo bueno es que le dan bastante bola a los proyectos nuevos.',\n",
       " 'tuve ciertos desafíos tecnológicos ya que hay cosas propias de Kujira que conocen solo los founders. Lo bueno es que le dan bastante bola a los proyectos nuevos.',\n",
       " 'tuve ciertos desafíos tecnológicos ya que hay cosas propias de Kujira que conocen solo los founders. Lo bueno es que le dan bastante bola a los proyectos nuevos.',\n",
       " 'tuve ciertos desafíos tecnológicos ya que hay cosas propias de Kujira que conocen solo los founders. Lo bueno es que le dan bastante bola a los proyectos nuevos.',\n",
       " 'tuve ciertos desafíos tecnológicos ya que hay cosas propias de Kujira que conocen solo los founders. Lo bueno es que le dan bastante bola a los proyectos nuevos.',\n",
       " 'tuve ciertos desafíos tecnológicos ya que hay cosas propias de Kujira que conocen solo los founders. Lo bueno es que le dan bastante bola a los proyectos nuevos.',\n",
       " 'tuve ciertos desafíos tecnológicos ya que hay cosas propias de Kujira que conocen solo los founders. Lo bueno es que le dan bastante bola a los proyectos nuevos.',\n",
       " 'tuve ciertos desafíos tecnológicos ya que hay cosas propias de Kujira que conocen solo los founders. Lo bueno es que le dan bastante bola a los proyectos nuevos.',\n",
       " 'tuve ciertos desafíos tecnológicos ya que hay cosas propias de Kujira que conocen solo los founders. Lo bueno es que le dan bastante bola a los proyectos nuevos.',\n",
       " 'tuve ciertos desafíos tecnológicos ya que hay cosas propias de Kujira que conocen solo los founders. Lo bueno es que le dan bastante bola a los proyectos nuevos.',\n",
       " 'tuve ciertos desafíos tecnológicos ya que hay cosas propias de Kujira que conocen solo los founders. Lo bueno es que le dan bastante bola a los proyectos nuevos.',\n",
       " 'tuve ciertos desafíos tecnológicos ya que hay cosas propias de Kujira que conocen solo los founders. Lo bueno es que le dan bastante bola a los proyectos nuevos.',\n",
       " 'tuve ciertos desafíos tecnológicos ya que hay cosas propias de Kujira que conocen solo los founders. Lo bueno es que le dan bastante bola a los proyectos nuevos.',\n",
       " 'tuve ciertos desafíos tecnológicos ya que hay cosas propias de Kujira que conocen solo los founders. Lo bueno es que le dan bastante bola a los proyectos nuevos.',\n",
       " 'tuve ciertos desafíos tecnológicos ya que hay cosas propias de Kujira que conocen solo los founders. Lo bueno es que le dan bastante bola a los proyectos nuevos.',\n",
       " 'tuve ciertos desafíos tecnológicos ya que hay cosas propias de Kujira que conocen solo los founders. Lo bueno es que le dan bastante bola a los proyectos nuevos.',\n",
       " 'tuve ciertos desafíos tecnológicos ya que hay cosas propias de Kujira que conocen solo los founders. Lo bueno es que le dan bastante bola a los proyectos nuevos.',\n",
       " 'tuve ciertos desafíos tecnológicos ya que hay cosas propias de Kujira que conocen solo los founders. Lo bueno es que le dan bastante bola a los proyectos nuevos.',\n",
       " 'tuve ciertos desafíos tecnológicos ya que hay cosas propias de Kujira que conocen solo los founders. Lo bueno es que le dan bastante bola a los proyectos nuevos.',\n",
       " 'tuve ciertos desafíos tecnológicos ya que hay cosas propias de Kujira que conocen solo los founders. Lo bueno es que le dan bastante bola a los proyectos nuevos.',\n",
       " 'tuve ciertos desafíos tecnológicos ya que hay cosas propias de Kujira que conocen solo los founders. Lo bueno es que le dan bastante bola a los proyectos nuevos.',\n",
       " 'tuve ciertos desafíos tecnológicos ya que hay cosas propias de Kujira que conocen solo los founders. Lo bueno es que le dan bastante bola a los proyectos nuevos.',\n",
       " 'tuve ciertos desafíos tecnológicos ya que hay cosas propias de Kujira que conocen solo los founders. Lo bueno es que le dan bastante bola a los proyectos nuevos.',\n",
       " 'tuve ciertos desafíos tecnológicos ya que hay cosas propias de Kujira que conocen solo los founders. Lo bueno es que le dan bastante bola a los proyectos nuevos.',\n",
       " 'tuve ciertos desafíos tecnológicos ya que hay cosas propias de Kujira que conocen solo los founders. Lo bueno es que le dan bastante bola a los proyectos nuevos.',\n",
       " 'tuve ciertos desafíos tecnológicos ya que hay cosas propias de Kujira que conocen solo los founders. Lo bueno es que le dan bastante bola a los proyectos nuevos.',\n",
       " 'tuve ciertos desafíos tecnológicos ya que hay cosas propias de Kujira que conocen solo los founders. Lo bueno es que le dan bastante bola a los proyectos nuevos.',\n",
       " 'tuve ciertos desafíos tecnológicos ya que hay cosas propias de Kujira que conocen solo los founders. Lo bueno es que le dan bastante bola a los proyectos nuevos.',\n",
       " 'tuve ciertos desafíos tecnológicos ya que hay cosas propias de Kujira que conocen solo los founders. Lo bueno es que le dan bastante bola a los proyectos nuevos.',\n",
       " 'tuve ciertos desafíos tecnológicos ya que hay cosas propias de Kujira que conocen solo los founders. Lo bueno es que le dan bastante bola a los proyectos nuevos.',\n",
       " 'tuve ciertos desafíos tecnológicos ya que hay cosas propias de Kujira que conocen solo los founders. Lo bueno es que le dan bastante bola a los proyectos nuevos.',\n",
       " 'tuve ciertos desafíos tecnológicos ya que hay cosas propias de Kujira que conocen solo los founders. Lo bueno es que le dan bastante bola a los proyectos nuevos.',\n",
       " 'tuve ciertos desafíos tecnológicos ya que hay cosas propias de Kujira que conocen solo los founders. Lo bueno es que le dan bastante bola a los proyectos nuevos.',\n",
       " 'tuve ciertos desafíos tecnológicos ya que hay cosas propias de Kujira que conocen solo los founders. Lo bueno es que le dan bastante bola a los proyectos nuevos.',\n",
       " 'tuve ciertos desafíos tecnológicos ya que hay cosas propias de Kujira que conocen solo los founders. Lo bueno es que le dan bastante bola a los proyectos nuevos.',\n",
       " 'tuve ciertos desafíos tecnológicos ya que hay cosas propias de Kujira que conocen solo los founders. Lo bueno es que le dan bastante bola a los proyectos nuevos.',\n",
       " 'tuve ciertos desafíos tecnológicos ya que hay cosas propias de Kujira que conocen solo los founders. Lo bueno es que le dan bastante bola a los proyectos nuevos.',\n",
       " 'tuve ciertos desafíos tecnológicos ya que hay cosas propias de Kujira que conocen solo los founders. Lo bueno es que le dan bastante bola a los proyectos nuevos.',\n",
       " 'tuve ciertos desafíos tecnológicos ya que hay cosas propias de Kujira que conocen solo los founders. Lo bueno es que le dan bastante bola a los proyectos nuevos.',\n",
       " 'tuve ciertos desafíos tecnológicos ya que hay cosas propias de Kujira que conocen solo los founders. Lo bueno es que le dan bastante bola a los proyectos nuevos.',\n",
       " 'tuve ciertos desafíos tecnológicos ya que hay cosas propias de Kujira que conocen solo los founders. Lo bueno es que le dan bastante bola a los proyectos nuevos.',\n",
       " 'tuve ciertos desafíos tecnológicos ya que hay cosas propias de Kujira que conocen solo los founders. Lo bueno es que le dan bastante bola a los proyectos nuevos.',\n",
       " 'tuve ciertos desafíos tecnológicos ya que hay cosas propias de Kujira que conocen solo los founders. Lo bueno es que le dan bastante bola a los proyectos nuevos.',\n",
       " 'tuve ciertos desafíos tecnológicos ya que hay cosas propias de Kujira que conocen solo los founders. Lo bueno es que le dan bastante bola a los proyectos nuevos.',\n",
       " 'tuve ciertos desafíos tecnológicos ya que hay cosas propias de Kujira que conocen solo los founders. Lo bueno es que le dan bastante bola a los proyectos nuevos.',\n",
       " 'tuve ciertos desafíos tecnológicos ya que hay cosas propias de Kujira que conocen solo los founders. Lo bueno es que le dan bastante bola a los proyectos nuevos.',\n",
       " 'tuve ciertos desafíos tecnológicos ya que hay cosas propias de Kujira que conocen solo los founders. Lo bueno es que le dan bastante bola a los proyectos nuevos.',\n",
       " 'tuve ciertos desafíos tecnológicos ya que hay cosas propias de Kujira que conocen solo los founders. Lo bueno es que le dan bastante bola a los proyectos nuevos.',\n",
       " 'tuve ciertos desafíos tecnológicos ya que hay cosas propias de Kujira que conocen solo los founders. Lo bueno es que le dan bastante bola a los proyectos nuevos.',\n",
       " 'tuve ciertos desafíos tecnológicos ya que hay cosas propias de Kujira que conocen solo los founders. Lo bueno es que le dan bastante bola a los proyectos nuevos.',\n",
       " 'tuve ciertos desafíos tecnológicos ya que hay cosas propias de Kujira que conocen solo los founders. Lo bueno es que le dan bastante bola a los proyectos nuevos.',\n",
       " 'tuve ciertos desafíos tecnológicos ya que hay cosas propias de Kujira que conocen solo los founders. Lo bueno es que le dan bastante bola a los proyectos nuevos.',\n",
       " 'tuve ciertos desafíos tecnológicos ya que hay cosas propias de Kujira que conocen solo los founders. Lo bueno es que le dan bastante bola a los proyectos nuevos.',\n",
       " 'tuve ciertos desafíos tecnológicos ya que hay cosas propias de Kujira que conocen solo los founders. Lo bueno es que le dan bastante bola a los proyectos nuevos.',\n",
       " 'tuve ciertos desafíos tecnológicos ya que hay cosas propias de Kujira que conocen solo los founders. Lo bueno es que le dan bastante bola a los proyectos nuevos.',\n",
       " 'tuve ciertos desafíos tecnológicos ya que hay cosas propias de Kujira que conocen solo los founders. Lo bueno es que le dan bastante bola a los proyectos nuevos.',\n",
       " 'tuve ciertos desafíos tecnológicos ya que hay cosas propias de Kujira que conocen solo los founders. Lo bueno es que le dan bastante bola a los proyectos nuevos.',\n",
       " 'tuve ciertos desafíos tecnológicos ya que hay cosas propias de Kujira que conocen solo los founders. Lo bueno es que le dan bastante bola a los proyectos nuevos.',\n",
       " 'tuve ciertos desafíos tecnológicos ya que hay cosas propias de Kujira que conocen solo los founders. Lo bueno es que le dan bastante bola a los proyectos nuevos.',\n",
       " 'tuve ciertos desafíos tecnológicos ya que hay cosas propias de Kujira que conocen solo los founders. Lo bueno es que le dan bastante bola a los proyectos nuevos.',\n",
       " 'tuve ciertos desafíos tecnológicos ya que hay cosas propias de Kujira que conocen solo los founders. Lo bueno es que le dan bastante bola a los proyectos nuevos.',\n",
       " 'tuve ciertos desafíos tecnológicos ya que hay cosas propias de Kujira que conocen solo los founders. Lo bueno es que le dan bastante bola a los proyectos nuevos.',\n",
       " 'tuve ciertos desafíos tecnológicos ya que hay cosas propias de Kujira que conocen solo los founders. Lo bueno es que le dan bastante bola a los proyectos nuevos.',\n",
       " 'tuve ciertos desafíos tecnológicos ya que hay cosas propias de Kujira que conocen solo los founders. Lo bueno es que le dan bastante bola a los proyectos nuevos.',\n",
       " 'tuve ciertos desafíos tecnológicos ya que hay cosas propias de Kujira que conocen solo los founders. Lo bueno es que le dan bastante bola a los proyectos nuevos.',\n",
       " 'tuve ciertos desafíos tecnológicos ya que hay cosas propias de Kujira que conocen solo los founders. Lo bueno es que le dan bastante bola a los proyectos nuevos.',\n",
       " 'tuve ciertos desafíos tecnológicos ya que hay cosas propias de Kujira que conocen solo los founders. Lo bueno es que le dan bastante bola a los proyectos nuevos.',\n",
       " 'tuve ciertos desafíos tecnológicos ya que hay cosas propias de Kujira que conocen solo los founders. Lo bueno es que le dan bastante bola a los proyectos nuevos.',\n",
       " 'tuve ciertos desafíos tecnológicos ya que hay cosas propias de Kujira que conocen solo los founders. Lo bueno es que le dan bastante bola a los proyectos nuevos.',\n",
       " 'tuve ciertos desafíos tecnológicos ya que hay cosas propias de Kujira que conocen solo los founders. Lo bueno es que le dan bastante bola a los proyectos nuevos.',\n",
       " 'tuve ciertos desafíos tecnológicos ya que hay cosas propias de Kujira que conocen solo los founders. Lo bueno es que le dan bastante bola a los proyectos nuevos.',\n",
       " 'tuve ciertos desafíos tecnológicos ya que hay cosas propias de Kujira que conocen solo los founders. Lo bueno es que le dan bastante bola a los proyectos nuevos.',\n",
       " 'tuve ciertos desafíos tecnológicos ya que hay cosas propias de Kujira que conocen solo los founders. Lo bueno es que le dan bastante bola a los proyectos nuevos.',\n",
       " 'tuve ciertos desafíos tecnológicos ya que hay cosas propias de Kujira que conocen solo los founders. Lo bueno es que le dan bastante bola a los proyectos nuevos.',\n",
       " 'tuve ciertos desafíos tecnológicos ya que hay cosas propias de Kujira que conocen solo los founders. Lo bueno es que le dan bastante bola a los proyectos nuevos.',\n",
       " 'tuve ciertos desafíos tecnológicos ya que hay cosas propias de Kujira que conocen solo los founders. Lo bueno es que le dan bastante bola a los proyectos nuevos.',\n",
       " 'tuve ciertos desafíos tecnológicos ya que hay cosas propias de Kujira que conocen solo los founders. Lo bueno es que le dan bastante bola a los proyectos nuevos.',\n",
       " 'tuve ciertos desafíos tecnológicos ya que hay cosas propias de Kujira que conocen solo los founders. Lo bueno es que le dan bastante bola a los proyectos nuevos.',\n",
       " 'tuve ciertos desafíos tecnológicos ya que hay cosas propias de Kujira que conocen solo los founders. Lo bueno es que le dan bastante bola a los proyectos nuevos.',\n",
       " 'tuve ciertos desafíos tecnológicos ya que hay cosas propias de Kujira que conocen solo los founders. Lo bueno es que le dan bastante bola a los proyectos nuevos.',\n",
       " 'tuve ciertos desafíos tecnológicos ya que hay cosas propias de Kujira que conocen solo los founders. Lo bueno es que le dan bastante bola a los proyectos nuevos.',\n",
       " 'tuve ciertos desafíos tecnológicos ya que hay cosas propias de Kujira que conocen solo los founders. Lo bueno es que le dan bastante bola a los proyectos nuevos.',\n",
       " 'tuve ciertos desafíos tecnológicos ya que hay cosas propias de Kujira que conocen solo los founders. Lo bueno es que le dan bastante bola a los proyectos nuevos.',\n",
       " 'tuve ciertos desafíos tecnológicos ya que hay cosas propias de Kujira que conocen solo los founders. Lo bueno es que le dan bastante bola a los proyectos nuevos.',\n",
       " 'tuve ciertos desafíos tecnológicos ya que hay cosas propias de Kujira que conocen solo los founders. Lo bueno es que le dan bastante bola a los proyectos nuevos.',\n",
       " 'tuve ciertos desafíos tecnológicos ya que hay cosas propias de Kujira que conocen solo los founders. Lo bueno es que le dan bastante bola a los proyectos nuevos.',\n",
       " 'tuve ciertos desafíos tecnológicos ya que hay cosas propias de Kujira que conocen solo los founders. Lo bueno es que le dan bastante bola a los proyectos nuevos.',\n",
       " 'tuve ciertos desafíos tecnológicos ya que hay cosas propias de Kujira que conocen solo los founders. Lo bueno es que le dan bastante bola a los proyectos nuevos.',\n",
       " 'tuve ciertos desafíos tecnológicos ya que hay cosas propias de Kujira que conocen solo los founders. Lo bueno es que le dan bastante bola a los proyectos nuevos.',\n",
       " 'tuve ciertos desafíos tecnológicos ya que hay cosas propias de Kujira que conocen solo los founders. Lo bueno es que le dan bastante bola a los proyectos nuevos.',\n",
       " 'tuve ciertos desafíos tecnológicos ya que hay cosas propias de Kujira que conocen solo los founders. Lo bueno es que le dan bastante bola a los proyectos nuevos.',\n",
       " 'tuve ciertos desafíos tecnológicos ya que hay cosas propias de Kujira que conocen solo los founders. Lo bueno es que le dan bastante bola a los proyectos nuevos.',\n",
       " 'tuve ciertos desafíos tecnológicos ya que hay cosas propias de Kujira que conocen solo los founders. Lo bueno es que le dan bastante bola a los proyectos nuevos.',\n",
       " 'tuve ciertos desafíos tecnológicos ya que hay cosas propias de Kujira que conocen solo los founders. Lo bueno es que le dan bastante bola a los proyectos nuevos.',\n",
       " 'tuve ciertos desafíos tecnológicos ya que hay cosas propias de Kujira que conocen solo los founders. Lo bueno es que le dan bastante bola a los proyectos nuevos.',\n",
       " 'tuve ciertos desafíos tecnológicos ya que hay cosas propias de Kujira que conocen solo los founders. Lo bueno es que le dan bastante bola a los proyectos nuevos.',\n",
       " 'tuve ciertos desafíos tecnológicos ya que hay cosas propias de Kujira que conocen solo los founders. Lo bueno es que le dan bastante bola a los proyectos nuevos.',\n",
       " 'tuve ciertos desafíos tecnológicos ya que hay cosas propias de Kujira que conocen solo los founders. Lo bueno es que le dan bastante bola a los proyectos nuevos.',\n",
       " 'tuve ciertos desafíos tecnológicos ya que hay cosas propias de Kujira que conocen solo los founders. Lo bueno es que le dan bastante bola a los proyectos nuevos.',\n",
       " 'tuve ciertos desafíos tecnológicos ya que hay cosas propias de Kujira que conocen solo los founders. Lo bueno es que le dan bastante bola a los proyectos nuevos.',\n",
       " 'tuve ciertos desafíos tecnológicos ya que hay cosas propias de Kujira que conocen solo los founders. Lo bueno es que le dan bastante bola a los proyectos nuevos.',\n",
       " 'tuve ciertos desafíos tecnológicos ya que hay cosas propias de Kujira que conocen solo los founders. Lo bueno es que le dan bastante bola a los proyectos nuevos.',\n",
       " 'tuve ciertos desafíos tecnológicos ya que hay cosas propias de Kujira que conocen solo los founders. Lo bueno es que le dan bastante bola a los proyectos nuevos.',\n",
       " 'tuve ciertos desafíos tecnológicos ya que hay cosas propias de Kujira que conocen solo los founders. Lo bueno es que le dan bastante bola a los proyectos nuevos.',\n",
       " 'tuve ciertos desafíos tecnológicos ya que hay cosas propias de Kujira que conocen solo los founders. Lo bueno es que le dan bastante bola a los proyectos nuevos.',\n",
       " 'tuve ciertos desafíos tecnológicos ya que hay cosas propias de Kujira que conocen solo los founders. Lo bueno es que le dan bastante bola a los proyectos nuevos.',\n",
       " 'tuve ciertos desafíos tecnológicos ya que hay cosas propias de Kujira que conocen solo los founders. Lo bueno es que le dan bastante bola a los proyectos nuevos.',\n",
       " 'tuve ciertos desafíos tecnológicos ya que hay cosas propias de Kujira que conocen solo los founders. Lo bueno es que le dan bastante bola a los proyectos nuevos.',\n",
       " 'tuve ciertos desafíos tecnológicos ya que hay cosas propias de Kujira que conocen solo los founders. Lo bueno es que le dan bastante bola a los proyectos nuevos.',\n",
       " 'tuve ciertos desafíos tecnológicos ya que hay cosas propias de Kujira que conocen solo los founders. Lo bueno es que le dan bastante bola a los proyectos nuevos.',\n",
       " 'tuve ciertos desafíos tecnológicos ya que hay cosas propias de Kujira que conocen solo los founders. Lo bueno es que le dan bastante bola a los proyectos nuevos.',\n",
       " 'tuve ciertos desafíos tecnológicos ya que hay cosas propias de Kujira que conocen solo los founders. Lo bueno es que le dan bastante bola a los proyectos nuevos.',\n",
       " 'tuve ciertos desafíos tecnológicos ya que hay cosas propias de Kujira que conocen solo los founders. Lo bueno es que le dan bastante bola a los proyectos nuevos.',\n",
       " 'tuve ciertos desafíos tecnológicos ya que hay cosas propias de Kujira que conocen solo los founders. Lo bueno es que le dan bastante bola a los proyectos nuevos.',\n",
       " 'tuve ciertos desafíos tecnológicos ya que hay cosas propias de Kujira que conocen solo los founders. Lo bueno es que le dan bastante bola a los proyectos nuevos.',\n",
       " 'tuve ciertos desafíos tecnológicos ya que hay cosas propias de Kujira que conocen solo los founders. Lo bueno es que le dan bastante bola a los proyectos nuevos.',\n",
       " 'tuve ciertos desafíos tecnológicos ya que hay cosas propias de Kujira que conocen solo los founders. Lo bueno es que le dan bastante bola a los proyectos nuevos.',\n",
       " 'tuve ciertos desafíos tecnológicos ya que hay cosas propias de Kujira que conocen solo los founders. Lo bueno es que le dan bastante bola a los proyectos nuevos.',\n",
       " 'tuve ciertos desafíos tecnológicos ya que hay cosas propias de Kujira que conocen solo los founders. Lo bueno es que le dan bastante bola a los proyectos nuevos.',\n",
       " 'tuve ciertos desafíos tecnológicos ya que hay cosas propias de Kujira que conocen solo los founders. Lo bueno es que le dan bastante bola a los proyectos nuevos.',\n",
       " 'tuve ciertos desafíos tecnológicos ya que hay cosas propias de Kujira que conocen solo los founders. Lo bueno es que le dan bastante bola a los proyectos nuevos.',\n",
       " 'tuve ciertos desafíos tecnológicos ya que hay cosas propias de Kujira que conocen solo los founders. Lo bueno es que le dan bastante bola a los proyectos nuevos.',\n",
       " 'tuve ciertos desafíos tecnológicos ya que hay cosas propias de Kujira que conocen solo los founders. Lo bueno es que le dan bastante bola a los proyectos nuevos.',\n",
       " 'tuve ciertos desafíos tecnológicos ya que hay cosas propias de Kujira que conocen solo los founders. Lo bueno es que le dan bastante bola a los proyectos nuevos.',\n",
       " 'tuve ciertos desafíos tecnológicos ya que hay cosas propias de Kujira que conocen solo los founders. Lo bueno es que le dan bastante bola a los proyectos nuevos.',\n",
       " 'tuve ciertos desafíos tecnológicos ya que hay cosas propias de Kujira que conocen solo los founders. Lo bueno es que le dan bastante bola a los proyectos nuevos.',\n",
       " 'tuve ciertos desafíos tecnológicos ya que hay cosas propias de Kujira que conocen solo los founders. Lo bueno es que le dan bastante bola a los proyectos nuevos.',\n",
       " 'tuve ciertos desafíos tecnológicos ya que hay cosas propias de Kujira que conocen solo los founders. Lo bueno es que le dan bastante bola a los proyectos nuevos.',\n",
       " 'tuve ciertos desafíos tecnológicos ya que hay cosas propias de Kujira que conocen solo los founders. Lo bueno es que le dan bastante bola a los proyectos nuevos.',\n",
       " 'tuve ciertos desafíos tecnológicos ya que hay cosas propias de Kujira que conocen solo los founders. Lo bueno es que le dan bastante bola a los proyectos nuevos.',\n",
       " 'Falta de financiamiento',\n",
       " 'Falta de financiamiento',\n",
       " 'Falta de financiamiento',\n",
       " 'Falta de financiamiento',\n",
       " 'Falta de financiamiento',\n",
       " 'Falta de financiamiento',\n",
       " 'Falta de financiamiento',\n",
       " 'Falta de financiamiento',\n",
       " 'Falta de financiamiento',\n",
       " 'Falta de financiamiento',\n",
       " 'Falta de financiamiento',\n",
       " 'Falta de financiamiento',\n",
       " 'Falta de financiamiento',\n",
       " 'Falta de financiamiento',\n",
       " 'Falta de financiamiento',\n",
       " 'Falta de financiamiento',\n",
       " 'Falta de financiamiento',\n",
       " 'Falta de financiamiento',\n",
       " 'Falta de financiamiento',\n",
       " 'Falta de financiamiento',\n",
       " 'Falta de financiamiento',\n",
       " 'Falta de financiamiento',\n",
       " 'Falta de financiamiento',\n",
       " 'Falta de conocimiento/skills, Falta de clientes',\n",
       " 'Falta de conocimiento/skills, Falta de clientes',\n",
       " 'Falta de conocimiento/skills, Falta de clientes',\n",
       " 'Falta de conocimiento/skills, Falta de clientes',\n",
       " 'Falta de conocimiento/skills, Falta de clientes',\n",
       " 'Falta de conocimiento/skills, Falta de clientes',\n",
       " 'Falta de conocimiento/skills, Falta de clientes',\n",
       " 'Falta de conocimiento/skills, Falta de clientes',\n",
       " 'Falta de conocimiento/skills, Falta de clientes',\n",
       " 'Falta de conocimiento/skills, Falta de clientes',\n",
       " 'Falta de conocimiento/skills, Falta de clientes',\n",
       " 'Falta de conocimiento/skills, Falta de clientes',\n",
       " 'Falta de conocimiento/skills, Falta de clientes',\n",
       " 'Falta de conocimiento/skills, Falta de clientes',\n",
       " 'Falta de conocimiento/skills, Falta de clientes',\n",
       " 'Falta de conocimiento/skills, Falta de clientes',\n",
       " 'Falta de conocimiento/skills, Falta de clientes',\n",
       " 'Falta de conocimiento/skills, Falta de clientes',\n",
       " 'Falta de conocimiento/skills, Falta de clientes',\n",
       " 'Falta de conocimiento/skills, Falta de clientes',\n",
       " 'Falta de conocimiento/skills, Falta de clientes',\n",
       " 'Falta de conocimiento/skills, Falta de clientes',\n",
       " 'Falta de conocimiento/skills, Falta de clientes',\n",
       " 'Falta de conocimiento/skills, Falta de clientes',\n",
       " 'Falta de conocimiento/skills, Falta de clientes',\n",
       " 'Falta de conocimiento/skills, Falta de clientes',\n",
       " 'Falta de conocimiento/skills, Falta de clientes',\n",
       " 'Falta de conocimiento/skills, Falta de clientes',\n",
       " 'Falta de conocimiento/skills, Falta de clientes',\n",
       " 'Falta de conocimiento/skills, Falta de clientes',\n",
       " 'Falta de conocimiento/skills, Falta de clientes',\n",
       " 'Falta de conocimiento/skills, Falta de clientes',\n",
       " 'Falta de conocimiento/skills, Falta de clientes',\n",
       " 'Falta de conocimiento/skills, Falta de clientes',\n",
       " 'Falta de conocimiento/skills, Falta de clientes',\n",
       " 'Falta de conocimiento/skills, Falta de clientes',\n",
       " 'Falta de conocimiento/skills, Falta de clientes',\n",
       " 'Falta de conocimiento/skills, Falta de clientes',\n",
       " 'Falta de conocimiento/skills, Falta de clientes',\n",
       " 'Falta de conocimiento/skills, Falta de clientes',\n",
       " 'Falta de conocimiento/skills, Falta de clientes',\n",
       " 'Falta de conocimiento/skills, Falta de clientes',\n",
       " 'Falta de conocimiento/skills, Falta de clientes',\n",
       " 'Falta de conocimiento/skills, Falta de clientes',\n",
       " 'Falta de conocimiento/skills, Falta de clientes',\n",
       " 'Falta de conocimiento/skills, Falta de clientes',\n",
       " 'Falta de conocimiento/skills, Falta de clientes',\n",
       " 'Falta de conocimiento/skills, Falta de clientes, Falta de financiamiento, Riesgo país',\n",
       " 'Falta de conocimiento/skills, Falta de clientes, Falta de financiamiento, Riesgo país',\n",
       " 'Falta de conocimiento/skills, Falta de clientes, Falta de financiamiento, Riesgo país',\n",
       " 'Falta de conocimiento/skills, Falta de clientes, Falta de financiamiento, Riesgo país',\n",
       " 'Falta de conocimiento/skills, Falta de clientes, Falta de financiamiento, Riesgo país',\n",
       " 'Falta de conocimiento/skills, Falta de clientes, Falta de financiamiento, Riesgo país',\n",
       " 'Falta de conocimiento/skills, Falta de clientes, Falta de financiamiento, Riesgo país',\n",
       " 'Falta de conocimiento/skills, Falta de clientes, Falta de financiamiento, Riesgo país',\n",
       " 'Falta de conocimiento/skills, Falta de clientes, Falta de financiamiento, Riesgo país',\n",
       " 'Falta de conocimiento/skills, Falta de clientes, Falta de financiamiento, Riesgo país',\n",
       " 'Falta de conocimiento/skills, Falta de clientes, Falta de financiamiento, Riesgo país',\n",
       " 'Falta de conocimiento/skills, Falta de clientes, Falta de financiamiento, Riesgo país',\n",
       " 'Falta de conocimiento/skills, Falta de clientes, Falta de financiamiento, Riesgo país',\n",
       " 'Falta de conocimiento/skills, Falta de clientes, Falta de financiamiento, Riesgo país',\n",
       " 'Falta de conocimiento/skills, Falta de clientes, Falta de financiamiento, Riesgo país',\n",
       " 'Falta de conocimiento/skills, Falta de clientes, Falta de financiamiento, Riesgo país',\n",
       " 'Falta de conocimiento/skills, Falta de clientes, Falta de financiamiento, Riesgo país',\n",
       " 'Falta de conocimiento/skills, Falta de clientes, Falta de financiamiento, Riesgo país',\n",
       " 'Falta de conocimiento/skills, Falta de clientes, Falta de financiamiento, Riesgo país',\n",
       " 'Falta de conocimiento/skills, Falta de clientes, Falta de financiamiento, Riesgo país',\n",
       " 'Falta de conocimiento/skills, Falta de clientes, Falta de financiamiento, Riesgo país',\n",
       " 'Falta de conocimiento/skills, Falta de clientes, Falta de financiamiento, Riesgo país',\n",
       " 'Falta de conocimiento/skills, Falta de clientes, Falta de financiamiento, Riesgo país',\n",
       " 'Falta de conocimiento/skills, Falta de clientes, Falta de financiamiento, Riesgo país',\n",
       " 'Falta de conocimiento/skills, Falta de clientes, Falta de financiamiento, Riesgo país',\n",
       " 'Falta de conocimiento/skills, Falta de clientes, Falta de financiamiento, Riesgo país',\n",
       " 'Falta de conocimiento/skills, Falta de clientes, Falta de financiamiento, Riesgo país',\n",
       " 'Falta de conocimiento/skills, Falta de clientes, Falta de financiamiento, Riesgo país',\n",
       " 'Falta de conocimiento/skills, Falta de clientes, Falta de financiamiento, Riesgo país',\n",
       " 'Falta de conocimiento/skills, Falta de clientes, Falta de financiamiento, Riesgo país',\n",
       " 'Falta de conocimiento/skills, Falta de clientes, Falta de financiamiento, Riesgo país',\n",
       " 'Falta de conocimiento/skills, Falta de clientes, Falta de financiamiento, Riesgo país',\n",
       " 'Falta de conocimiento/skills, Falta de clientes, Falta de financiamiento, Riesgo país',\n",
       " 'Falta de conocimiento/skills, Falta de clientes, Falta de financiamiento, Riesgo país',\n",
       " 'Falta de conocimiento/skills, Falta de clientes, Falta de financiamiento, Riesgo país',\n",
       " 'Falta de conocimiento/skills, Falta de clientes, Falta de financiamiento, Riesgo país',\n",
       " 'Falta de conocimiento/skills, Falta de clientes, Falta de financiamiento, Riesgo país',\n",
       " 'Falta de conocimiento/skills, Falta de clientes, Falta de financiamiento, Riesgo país',\n",
       " 'Falta de conocimiento/skills, Falta de clientes, Falta de financiamiento, Riesgo país',\n",
       " 'Falta de conocimiento/skills, Falta de clientes, Falta de financiamiento, Riesgo país',\n",
       " 'Falta de conocimiento/skills, Falta de clientes, Falta de financiamiento, Riesgo país',\n",
       " 'Falta de conocimiento/skills, Falta de clientes, Falta de financiamiento, Riesgo país',\n",
       " 'Falta de conocimiento/skills, Falta de clientes, Falta de financiamiento, Riesgo país',\n",
       " 'Falta de conocimiento/skills, Falta de clientes, Falta de financiamiento, Riesgo país',\n",
       " 'Falta de conocimiento/skills, Falta de clientes, Falta de financiamiento, Riesgo país',\n",
       " 'Falta de conocimiento/skills, Falta de clientes, Falta de financiamiento, Riesgo país',\n",
       " 'Falta de conocimiento/skills, Falta de clientes, Falta de financiamiento, Riesgo país',\n",
       " 'Falta de conocimiento/skills, Falta de clientes, Falta de financiamiento, Riesgo país',\n",
       " 'Falta de conocimiento/skills, Falta de clientes, Falta de financiamiento, Riesgo país',\n",
       " 'Falta de conocimiento/skills, Falta de clientes, Falta de financiamiento, Riesgo país',\n",
       " 'Falta de conocimiento/skills, Falta de clientes, Falta de financiamiento, Riesgo país',\n",
       " 'Falta de conocimiento/skills, Falta de clientes, Falta de financiamiento, Riesgo país',\n",
       " 'Falta de conocimiento/skills, Falta de clientes, Falta de financiamiento, Riesgo país',\n",
       " 'Falta de conocimiento/skills, Falta de clientes, Falta de financiamiento, Riesgo país',\n",
       " 'Falta de conocimiento/skills, Falta de clientes, Falta de financiamiento, Riesgo país',\n",
       " 'Falta de conocimiento/skills, Falta de clientes, Falta de financiamiento, Riesgo país',\n",
       " 'Falta de conocimiento/skills, Falta de clientes, Falta de financiamiento, Riesgo país',\n",
       " 'Falta de conocimiento/skills, Falta de clientes, Falta de financiamiento, Riesgo país',\n",
       " 'Falta de conocimiento/skills, Falta de clientes, Falta de financiamiento, Riesgo país',\n",
       " 'Falta de conocimiento/skills, Falta de clientes, Falta de financiamiento, Riesgo país',\n",
       " 'Falta de conocimiento/skills, Falta de clientes, Falta de financiamiento, Riesgo país',\n",
       " 'Falta de conocimiento/skills, Falta de clientes, Falta de financiamiento, Riesgo país',\n",
       " 'Falta de conocimiento/skills, Falta de clientes, Falta de financiamiento, Riesgo país',\n",
       " 'Falta de conocimiento/skills, Falta de clientes, Falta de financiamiento, Riesgo país',\n",
       " 'Falta de conocimiento/skills, Falta de clientes, Falta de financiamiento, Riesgo país',\n",
       " 'Falta de conocimiento/skills, Falta de clientes, Falta de financiamiento, Riesgo país',\n",
       " 'Falta de conocimiento/skills, Falta de clientes, Falta de financiamiento, Riesgo país',\n",
       " 'Falta de conocimiento/skills, Falta de clientes, Falta de financiamiento, Riesgo país',\n",
       " 'Falta de conocimiento/skills, Falta de clientes, Falta de financiamiento, Riesgo país',\n",
       " 'Falta de conocimiento/skills, Falta de clientes, Falta de financiamiento, Riesgo país',\n",
       " 'Falta de conocimiento/skills, Falta de clientes, Falta de financiamiento, Riesgo país',\n",
       " 'Falta de conocimiento/skills, Falta de clientes, Falta de financiamiento, Riesgo país',\n",
       " 'Falta de conocimiento/skills, Falta de clientes, Falta de financiamiento, Riesgo país',\n",
       " 'Falta de conocimiento/skills, Falta de clientes, Falta de financiamiento, Riesgo país',\n",
       " 'Falta de conocimiento/skills, Falta de clientes, Falta de financiamiento, Riesgo país',\n",
       " 'Falta de conocimiento/skills, Falta de clientes, Falta de financiamiento, Riesgo país',\n",
       " 'Falta de conocimiento/skills, Falta de clientes, Falta de financiamiento, Riesgo país',\n",
       " 'Falta de conocimiento/skills, Falta de clientes, Falta de financiamiento, Riesgo país',\n",
       " 'Falta de conocimiento/skills, Falta de clientes, Falta de financiamiento, Riesgo país',\n",
       " 'Falta de conocimiento/skills, Falta de clientes, Falta de financiamiento, Riesgo país',\n",
       " 'Falta de conocimiento/skills, Falta de clientes, Falta de financiamiento, Riesgo país',\n",
       " 'Falta de conocimiento/skills, Falta de clientes, Falta de financiamiento, Riesgo país',\n",
       " 'Falta de conocimiento/skills, Falta de clientes, Falta de financiamiento, Riesgo país',\n",
       " 'Falta de conocimiento/skills, Falta de clientes, Falta de financiamiento, Riesgo país',\n",
       " 'Falta de conocimiento/skills, Falta de clientes, Falta de financiamiento, Riesgo país',\n",
       " 'Falta de conocimiento/skills, Falta de socios, Falta de financiamiento, Riesgo país',\n",
       " 'Falta de conocimiento/skills, Falta de socios, Falta de financiamiento, Riesgo país',\n",
       " 'Falta de conocimiento/skills, Falta de socios, Falta de financiamiento, Riesgo país',\n",
       " 'Falta de conocimiento/skills, Falta de socios, Falta de financiamiento, Riesgo país',\n",
       " 'Falta de conocimiento/skills, Falta de socios, Falta de financiamiento, Riesgo país',\n",
       " 'Falta de conocimiento/skills, Falta de socios, Falta de financiamiento, Riesgo país',\n",
       " 'Falta de conocimiento/skills, Falta de socios, Falta de financiamiento, Riesgo país',\n",
       " 'Falta de conocimiento/skills, Falta de socios, Falta de financiamiento, Riesgo país',\n",
       " 'Falta de conocimiento/skills, Falta de socios, Falta de financiamiento, Riesgo país',\n",
       " 'Falta de conocimiento/skills, Falta de socios, Falta de financiamiento, Riesgo país',\n",
       " 'Falta de conocimiento/skills, Falta de socios, Falta de financiamiento, Riesgo país',\n",
       " 'Falta de conocimiento/skills, Falta de socios, Falta de financiamiento, Riesgo país',\n",
       " 'Falta de conocimiento/skills, Falta de socios, Falta de financiamiento, Riesgo país',\n",
       " 'Falta de conocimiento/skills, Falta de socios, Falta de financiamiento, Riesgo país',\n",
       " 'Falta de conocimiento/skills, Falta de socios, Falta de financiamiento, Riesgo país',\n",
       " 'Falta de conocimiento/skills, Falta de socios, Falta de financiamiento, Riesgo país',\n",
       " 'Falta de conocimiento/skills, Falta de socios, Falta de financiamiento, Riesgo país',\n",
       " 'Falta de conocimiento/skills, Falta de socios, Falta de financiamiento, Riesgo país',\n",
       " 'Falta de conocimiento/skills, Falta de socios, Falta de financiamiento, Riesgo país',\n",
       " 'Falta de conocimiento/skills, Falta de socios, Falta de financiamiento, Riesgo país',\n",
       " 'Falta de conocimiento/skills, Falta de socios, Falta de financiamiento, Riesgo país',\n",
       " 'Falta de conocimiento/skills, Falta de socios, Falta de financiamiento, Riesgo país',\n",
       " 'Falta de conocimiento/skills, Falta de socios, Falta de financiamiento, Riesgo país',\n",
       " 'Falta de conocimiento/skills, Falta de socios, Falta de financiamiento, Riesgo país',\n",
       " 'Falta de conocimiento/skills, Falta de socios, Falta de financiamiento, Riesgo país',\n",
       " 'Falta de conocimiento/skills, Falta de socios, Falta de financiamiento, Riesgo país',\n",
       " 'Falta de conocimiento/skills, Falta de socios, Falta de financiamiento, Riesgo país',\n",
       " 'Falta de conocimiento/skills, Falta de socios, Falta de financiamiento, Riesgo país',\n",
       " 'Falta de conocimiento/skills, Falta de socios, Falta de financiamiento, Riesgo país',\n",
       " 'Falta de conocimiento/skills, Falta de socios, Falta de financiamiento, Riesgo país',\n",
       " 'Falta de conocimiento/skills, Falta de socios, Falta de financiamiento, Riesgo país',\n",
       " 'Falta de conocimiento/skills, Falta de socios, Falta de financiamiento, Riesgo país',\n",
       " 'Falta de conocimiento/skills, Falta de socios, Falta de financiamiento, Riesgo país',\n",
       " 'Falta de conocimiento/skills, Falta de socios, Falta de financiamiento, Riesgo país',\n",
       " 'Falta de conocimiento/skills, Falta de socios, Falta de financiamiento, Riesgo país',\n",
       " 'Falta de conocimiento/skills, Falta de socios, Falta de financiamiento, Riesgo país',\n",
       " 'Falta de conocimiento/skills, Falta de socios, Falta de financiamiento, Riesgo país',\n",
       " 'Falta de conocimiento/skills, Falta de socios, Falta de financiamiento, Riesgo país',\n",
       " 'Falta de conocimiento/skills, Falta de socios, Falta de financiamiento, Riesgo país',\n",
       " 'Falta de conocimiento/skills, Falta de socios, Falta de financiamiento, Riesgo país',\n",
       " 'Falta de conocimiento/skills, Falta de socios, Falta de financiamiento, Riesgo país',\n",
       " 'Falta de conocimiento/skills, Falta de socios, Falta de financiamiento, Riesgo país',\n",
       " 'Falta de conocimiento/skills, Falta de socios, Falta de financiamiento, Riesgo país',\n",
       " 'Falta de conocimiento/skills, Falta de socios, Falta de financiamiento, Riesgo país',\n",
       " 'Falta de conocimiento/skills, Falta de socios, Falta de financiamiento, Riesgo país',\n",
       " 'Falta de conocimiento/skills, Falta de socios, Falta de financiamiento, Riesgo país',\n",
       " 'Falta de conocimiento/skills, Falta de socios, Falta de financiamiento, Riesgo país',\n",
       " 'Falta de conocimiento/skills, Falta de socios, Falta de financiamiento, Riesgo país',\n",
       " 'Falta de conocimiento/skills, Falta de socios, Falta de financiamiento, Riesgo país',\n",
       " 'Falta de conocimiento/skills, Falta de socios, Falta de financiamiento, Riesgo país',\n",
       " 'Falta de conocimiento/skills, Falta de socios, Falta de financiamiento, Riesgo país',\n",
       " 'Falta de conocimiento/skills, Falta de socios, Falta de financiamiento, Riesgo país',\n",
       " 'Falta de conocimiento/skills, Falta de socios, Falta de financiamiento, Riesgo país',\n",
       " 'Falta de conocimiento/skills, Falta de socios, Falta de financiamiento, Riesgo país',\n",
       " 'Falta de conocimiento/skills, Falta de socios, Falta de financiamiento, Riesgo país',\n",
       " 'Falta de conocimiento/skills, Falta de socios, Falta de financiamiento, Riesgo país',\n",
       " 'Falta de conocimiento/skills, Falta de socios, Falta de financiamiento, Riesgo país',\n",
       " 'Falta de conocimiento/skills, Falta de socios, Falta de financiamiento, Riesgo país',\n",
       " 'Falta de conocimiento/skills, Falta de socios, Falta de financiamiento, Riesgo país',\n",
       " 'Falta de conocimiento/skills, Falta de socios, Falta de financiamiento, Riesgo país',\n",
       " 'Falta de conocimiento/skills, Falta de socios, Falta de financiamiento, Riesgo país',\n",
       " 'Falta de conocimiento/skills, Falta de socios, Falta de financiamiento, Riesgo país',\n",
       " 'Falta de conocimiento/skills, Falta de socios, Falta de financiamiento, Riesgo país',\n",
       " 'Falta de conocimiento/skills, Falta de socios, Falta de financiamiento, Riesgo país',\n",
       " 'Falta de conocimiento/skills, Falta de socios, Falta de financiamiento, Riesgo país',\n",
       " 'Falta de conocimiento/skills, Falta de socios, Falta de financiamiento, Riesgo país',\n",
       " 'Falta de conocimiento/skills, Falta de socios, Falta de financiamiento, Riesgo país',\n",
       " 'Falta de conocimiento/skills, Falta de socios, Falta de financiamiento, Riesgo país',\n",
       " 'Falta de conocimiento/skills, Falta de socios, Falta de financiamiento, Riesgo país',\n",
       " 'Falta de conocimiento/skills, Falta de socios, Falta de financiamiento, Riesgo país',\n",
       " 'Falta de conocimiento/skills, Falta de socios, Falta de financiamiento, Riesgo país',\n",
       " 'Falta de conocimiento/skills, Falta de socios, Falta de financiamiento, Riesgo país',\n",
       " 'Falta de conocimiento/skills, Falta de socios, Falta de financiamiento, Riesgo país',\n",
       " 'Falta de conocimiento/skills, Falta de socios, Falta de financiamiento, Riesgo país',\n",
       " 'Falta de conocimiento/skills, Falta de socios, Falta de financiamiento, Riesgo país',\n",
       " 'Falta de conocimiento/skills, Falta de socios, Falta de financiamiento, Riesgo país',\n",
       " 'Falta de conocimiento/skills, Falta de socios, Falta de financiamiento, Riesgo país',\n",
       " 'Falta de conocimiento/skills, Falta de socios, Falta de financiamiento, Riesgo país',\n",
       " 'Falta de conocimiento/skills, Falta de socios, Falta de financiamiento, Riesgo país',\n",
       " 'Falta de conocimiento/skills, Falta de socios, Falta de financiamiento, Riesgo país',\n",
       " 'Falta de conocimiento/skills, Falta de socios, Falta de financiamiento, Riesgo país',\n",
       " 'Falta de conocimiento/skills, Falta de socios, Falta de financiamiento, Riesgo país',\n",
       " 'Falta de conocimiento/skills, Falta de socios, Falta de financiamiento, Riesgo país',\n",
       " 'Falta de socios, Falta de financiamiento',\n",
       " 'Falta de socios, Falta de financiamiento',\n",
       " 'Falta de socios, Falta de financiamiento',\n",
       " 'Falta de socios, Falta de financiamiento',\n",
       " 'Falta de socios, Falta de financiamiento',\n",
       " 'Falta de socios, Falta de financiamiento',\n",
       " 'Falta de socios, Falta de financiamiento',\n",
       " 'Falta de socios, Falta de financiamiento',\n",
       " 'Falta de socios, Falta de financiamiento',\n",
       " 'Falta de socios, Falta de financiamiento',\n",
       " 'Falta de socios, Falta de financiamiento',\n",
       " 'Falta de socios, Falta de financiamiento',\n",
       " 'Falta de socios, Falta de financiamiento',\n",
       " 'Falta de socios, Falta de financiamiento',\n",
       " 'Falta de socios, Falta de financiamiento',\n",
       " 'Falta de socios, Falta de financiamiento',\n",
       " 'Falta de socios, Falta de financiamiento',\n",
       " 'Falta de socios, Falta de financiamiento',\n",
       " 'Falta de socios, Falta de financiamiento',\n",
       " 'Falta de socios, Falta de financiamiento',\n",
       " 'Falta de socios, Falta de financiamiento',\n",
       " 'Falta de socios, Falta de financiamiento',\n",
       " 'Falta de socios, Falta de financiamiento',\n",
       " 'Falta de socios, Falta de financiamiento',\n",
       " 'Falta de socios, Falta de financiamiento',\n",
       " 'Falta de socios, Falta de financiamiento',\n",
       " 'Falta de socios, Falta de financiamiento',\n",
       " 'Falta de socios, Falta de financiamiento',\n",
       " 'Falta de socios, Falta de financiamiento',\n",
       " 'Falta de socios, Falta de financiamiento',\n",
       " 'Falta de socios, Falta de financiamiento',\n",
       " 'Falta de socios, Falta de financiamiento',\n",
       " 'Falta de socios, Falta de financiamiento',\n",
       " 'Falta de socios, Falta de financiamiento',\n",
       " 'Falta de socios, Falta de financiamiento',\n",
       " 'Falta de socios, Falta de financiamiento',\n",
       " 'Falta de socios, Falta de financiamiento',\n",
       " 'Falta de socios, Falta de financiamiento',\n",
       " 'Falta de socios, Falta de financiamiento',\n",
       " 'Falta de socios, Falta de financiamiento',\n",
       " 'Falta de clientes, Falta de socios',\n",
       " 'Falta de clientes, Falta de socios',\n",
       " 'Falta de clientes, Falta de socios',\n",
       " 'Falta de clientes, Falta de socios',\n",
       " 'Falta de clientes, Falta de socios',\n",
       " 'Falta de clientes, Falta de socios',\n",
       " 'Falta de clientes, Falta de socios',\n",
       " 'Falta de clientes, Falta de socios',\n",
       " 'Falta de clientes, Falta de socios',\n",
       " 'Falta de clientes, Falta de socios',\n",
       " 'Falta de clientes, Falta de socios',\n",
       " 'Falta de clientes, Falta de socios',\n",
       " 'Falta de clientes, Falta de socios',\n",
       " 'Falta de clientes, Falta de socios',\n",
       " 'Falta de clientes, Falta de socios',\n",
       " 'Falta de clientes, Falta de socios',\n",
       " 'Falta de clientes, Falta de socios',\n",
       " 'Falta de clientes, Falta de socios',\n",
       " 'Falta de clientes, Falta de socios',\n",
       " 'Falta de clientes, Falta de socios',\n",
       " 'Falta de clientes, Falta de socios',\n",
       " 'Falta de clientes, Falta de socios',\n",
       " 'Falta de clientes, Falta de socios',\n",
       " 'Falta de clientes, Falta de socios',\n",
       " 'Falta de clientes, Falta de socios',\n",
       " 'Falta de clientes, Falta de socios',\n",
       " 'Falta de clientes, Falta de socios',\n",
       " 'Falta de clientes, Falta de socios',\n",
       " 'Falta de clientes, Falta de socios',\n",
       " 'Falta de clientes, Falta de socios',\n",
       " 'Falta de clientes, Falta de socios',\n",
       " 'Falta de clientes, Falta de socios',\n",
       " 'Falta de clientes, Falta de socios',\n",
       " 'Falta de clientes, Falta de socios',\n",
       " 'Impacto emocional, Falta de financiamiento, Falta de claridad de regulación',\n",
       " 'Impacto emocional, Falta de financiamiento, Falta de claridad de regulación',\n",
       " 'Impacto emocional, Falta de financiamiento, Falta de claridad de regulación',\n",
       " 'Impacto emocional, Falta de financiamiento, Falta de claridad de regulación',\n",
       " 'Impacto emocional, Falta de financiamiento, Falta de claridad de regulación',\n",
       " 'Impacto emocional, Falta de financiamiento, Falta de claridad de regulación',\n",
       " 'Impacto emocional, Falta de financiamiento, Falta de claridad de regulación',\n",
       " 'Impacto emocional, Falta de financiamiento, Falta de claridad de regulación',\n",
       " 'Impacto emocional, Falta de financiamiento, Falta de claridad de regulación',\n",
       " 'Impacto emocional, Falta de financiamiento, Falta de claridad de regulación',\n",
       " 'Impacto emocional, Falta de financiamiento, Falta de claridad de regulación',\n",
       " 'Impacto emocional, Falta de financiamiento, Falta de claridad de regulación',\n",
       " 'Impacto emocional, Falta de financiamiento, Falta de claridad de regulación',\n",
       " 'Impacto emocional, Falta de financiamiento, Falta de claridad de regulación',\n",
       " 'Impacto emocional, Falta de financiamiento, Falta de claridad de regulación',\n",
       " 'Impacto emocional, Falta de financiamiento, Falta de claridad de regulación',\n",
       " 'Impacto emocional, Falta de financiamiento, Falta de claridad de regulación',\n",
       " 'Impacto emocional, Falta de financiamiento, Falta de claridad de regulación',\n",
       " 'Impacto emocional, Falta de financiamiento, Falta de claridad de regulación',\n",
       " 'Impacto emocional, Falta de financiamiento, Falta de claridad de regulación',\n",
       " 'Impacto emocional, Falta de financiamiento, Falta de claridad de regulación',\n",
       " 'Impacto emocional, Falta de financiamiento, Falta de claridad de regulación',\n",
       " 'Impacto emocional, Falta de financiamiento, Falta de claridad de regulación',\n",
       " 'Impacto emocional, Falta de financiamiento, Falta de claridad de regulación',\n",
       " 'Impacto emocional, Falta de financiamiento, Falta de claridad de regulación',\n",
       " 'Impacto emocional, Falta de financiamiento, Falta de claridad de regulación',\n",
       " 'Impacto emocional, Falta de financiamiento, Falta de claridad de regulación',\n",
       " 'Impacto emocional, Falta de financiamiento, Falta de claridad de regulación',\n",
       " 'Impacto emocional, Falta de financiamiento, Falta de claridad de regulación',\n",
       " 'Impacto emocional, Falta de financiamiento, Falta de claridad de regulación',\n",
       " 'Impacto emocional, Falta de financiamiento, Falta de claridad de regulación',\n",
       " 'Impacto emocional, Falta de financiamiento, Falta de claridad de regulación',\n",
       " 'Impacto emocional, Falta de financiamiento, Falta de claridad de regulación',\n",
       " 'Impacto emocional, Falta de financiamiento, Falta de claridad de regulación',\n",
       " 'Impacto emocional, Falta de financiamiento, Falta de claridad de regulación',\n",
       " 'Impacto emocional, Falta de financiamiento, Falta de claridad de regulación',\n",
       " 'Impacto emocional, Falta de financiamiento, Falta de claridad de regulación',\n",
       " 'Impacto emocional, Falta de financiamiento, Falta de claridad de regulación',\n",
       " 'Impacto emocional, Falta de financiamiento, Falta de claridad de regulación',\n",
       " 'Impacto emocional, Falta de financiamiento, Falta de claridad de regulación',\n",
       " 'Impacto emocional, Falta de financiamiento, Falta de claridad de regulación',\n",
       " 'Impacto emocional, Falta de financiamiento, Falta de claridad de regulación',\n",
       " 'Impacto emocional, Falta de financiamiento, Falta de claridad de regulación',\n",
       " 'Impacto emocional, Falta de financiamiento, Falta de claridad de regulación',\n",
       " 'Impacto emocional, Falta de financiamiento, Falta de claridad de regulación',\n",
       " 'Impacto emocional, Falta de financiamiento, Falta de claridad de regulación',\n",
       " 'Impacto emocional, Falta de financiamiento, Falta de claridad de regulación',\n",
       " 'Impacto emocional, Falta de financiamiento, Falta de claridad de regulación',\n",
       " 'Impacto emocional, Falta de financiamiento, Falta de claridad de regulación',\n",
       " 'Impacto emocional, Falta de financiamiento, Falta de claridad de regulación',\n",
       " 'Impacto emocional, Falta de financiamiento, Falta de claridad de regulación',\n",
       " 'Impacto emocional, Falta de financiamiento, Falta de claridad de regulación',\n",
       " 'Impacto emocional, Falta de financiamiento, Falta de claridad de regulación',\n",
       " 'Impacto emocional, Falta de financiamiento, Falta de claridad de regulación',\n",
       " 'Impacto emocional, Falta de financiamiento, Falta de claridad de regulación',\n",
       " 'Impacto emocional, Falta de financiamiento, Falta de claridad de regulación',\n",
       " 'Impacto emocional, Falta de financiamiento, Falta de claridad de regulación',\n",
       " 'Impacto emocional, Falta de financiamiento, Falta de claridad de regulación',\n",
       " 'Impacto emocional, Falta de financiamiento, Falta de claridad de regulación',\n",
       " 'Impacto emocional, Falta de financiamiento, Falta de claridad de regulación',\n",
       " 'Impacto emocional, Falta de financiamiento, Falta de claridad de regulación',\n",
       " 'Impacto emocional, Falta de financiamiento, Falta de claridad de regulación',\n",
       " 'Impacto emocional, Falta de financiamiento, Falta de claridad de regulación',\n",
       " 'Impacto emocional, Falta de financiamiento, Falta de claridad de regulación',\n",
       " 'Impacto emocional, Falta de financiamiento, Falta de claridad de regulación',\n",
       " 'Impacto emocional, Falta de financiamiento, Falta de claridad de regulación',\n",
       " 'Impacto emocional, Falta de financiamiento, Falta de claridad de regulación',\n",
       " 'Impacto emocional, Falta de financiamiento, Falta de claridad de regulación',\n",
       " 'Impacto emocional, Falta de financiamiento, Falta de claridad de regulación',\n",
       " 'Impacto emocional, Falta de financiamiento, Falta de claridad de regulación',\n",
       " 'Impacto emocional, Falta de financiamiento, Falta de claridad de regulación',\n",
       " 'Impacto emocional, Falta de financiamiento, Falta de claridad de regulación',\n",
       " 'Impacto emocional, Falta de financiamiento, Falta de claridad de regulación',\n",
       " 'Impacto emocional, Falta de financiamiento, Falta de claridad de regulación',\n",
       " 'Impacto emocional, Falta de financiamiento, Falta de claridad de regulación',\n",
       " 'Falta de socios, Falta de financiamiento',\n",
       " 'Falta de socios, Falta de financiamiento',\n",
       " 'Falta de socios, Falta de financiamiento',\n",
       " 'Falta de socios, Falta de financiamiento',\n",
       " 'Falta de socios, Falta de financiamiento',\n",
       " ...]"
      ]
     },
     "execution_count": 294,
     "metadata": {},
     "output_type": "execute_result"
    }
   ],
   "source": [
    "flat_list"
   ]
  },
  {
   "cell_type": "code",
   "execution_count": 283,
   "id": "40deebf4-db42-44dd-ba73-09d639dea430",
   "metadata": {},
   "outputs": [
    {
     "data": {
      "application/vnd.plotly.v1+json": {
       "config": {
        "plotlyServerURL": "https://plot.ly"
       },
       "data": [
        {
         "alignmentgroup": "True",
         "bingroup": "y",
         "hovertemplate": "count=%{x}<br>y=%{y}<extra></extra>",
         "legendgroup": "",
         "marker": {
          "color": "#636efa",
          "pattern": {
           "shape": ""
          }
         },
         "name": "",
         "offsetgroup": "",
         "orientation": "h",
         "showlegend": false,
         "type": "histogram",
         "xaxis": "x",
         "y": [
          "Falta de clientes",
          "Falta de socios, Falta de financiamiento",
          "Impacto emocional, Falta de clientes, Falta de socios, Falta de financiamiento",
          "Falta de conocimiento/skills, Impacto emocional",
          "Falta de socios, Falta de financiamiento",
          "Falta de conocimiento/skills, Falta de clientes, Falta de socios, Falta de financiamiento",
          "Falta de conocimiento/skills, Falta de clientes",
          "Falta de conocimiento/skills, Falta de clientes, Falta de socios, Falta de financiamiento",
          "tuve ciertos desafíos tecnológicos ya que hay cosas propias de Kujira que conocen solo los founders. Lo bueno es que le dan bastante bola a los proyectos nuevos.",
          "Falta de financiamiento",
          "Falta de conocimiento/skills, Falta de clientes",
          "Falta de conocimiento/skills, Falta de clientes, Falta de financiamiento, Riesgo país",
          "Falta de conocimiento/skills, Falta de socios, Falta de financiamiento, Riesgo país",
          "Falta de socios, Falta de financiamiento",
          "Falta de clientes, Falta de socios",
          "Impacto emocional, Falta de financiamiento, Falta de claridad de regulación",
          "Falta de socios, Falta de financiamiento",
          "Falta de financiamiento",
          "Falta de financiamiento",
          "Falta de financiamiento, Falta de claridad de regulación, Riesgo país",
          "Falta de financiamiento",
          "Falta de conocimiento/skills, Falta de financiamiento, Falta de claridad de regulación",
          "Falta de conocimiento/skills, Falta de financiamiento",
          "Falta de conocimiento/skills, Impacto emocional, Falta de clientes, Falta de financiamiento, Falta de claridad de regulación",
          "Falta de conocimiento/skills, Falta de financiamiento",
          "Impacto emocional, Falta de clientes, Falta de financiamiento",
          "Falta de socios, Falta de financiamiento, Riesgo país",
          "Impacto emocional, Falta de clientes, Falta de socios, Falta de financiamiento",
          "Impacto emocional, Falta de claridad de regulación, Riesgo país",
          "Falta de socios, Falta de financiamiento, Riesgo país",
          "Falta de conocimiento/skills, Impacto emocional, Falta de clientes, Falta de socios, Falta de financiamiento, Falta de claridad de regulación, Riesgo país",
          "Falta de financiamiento",
          "Falta de clientes, Falta de financiamiento, Falta de claridad de regulación",
          "Falta de conocimiento/skills, Falta de socios",
          "Falta de socios, Falta de financiamiento, Falta de espacios y ámbitos afines.",
          " ",
          "Falta de financiamiento",
          "Falta de financiamiento",
          "Falta de financiamiento, Falta de claridad de regulación",
          "Impacto emocional, Falta de claridad de regulación",
          "Falta de conocimiento/skills, Falta de financiamiento, Falta de claridad de regulación, Riesgo país",
          "Falta de clientes, Falta de claridad de regulación",
          "Falta de conocimiento/skills, Falta de clientes, infinitos",
          "Falta de conocimiento/skills, Impacto emocional, Falta de clientes, Falta de financiamiento, Falta de claridad de regulación, Riesgo país, Coyuntura Cripto y Tech en 2022",
          "Falta de clientes, Falta de financiamiento",
          "Falta de conocimiento/skills, Impacto emocional, Falta de clientes, Falta de financiamiento",
          "Impacto emocional, Falta de socios, Falta de claridad de regulación",
          "Falta de conocimiento/skills, Impacto emocional, Falta de clientes, Falta de financiamiento",
          "Falta de conocimiento/skills",
          "Impacto emocional, Falta de financiamiento",
          "Falta de claridad de regulación",
          "Falta de clientes, Riesgo país",
          "Falta de conocimiento/skills, Falta de financiamiento, Falta de claridad de regulación",
          "Falta de conocimiento/skills, Impacto emocional, Falta de clientes, Falta de socios, Falta de financiamiento",
          "Falta de financiamiento",
          "Falta de financiamiento, Riesgo país",
          "Falta de financiamiento",
          "Falta de financiamiento, La sede esta en otro país",
          "Falta de socios",
          "Falta de conocimiento/skills, Impacto emocional",
          "Falta de clientes, Falta de socios, Falta de financiamiento, Falta de claridad de regulación, Riesgo país",
          "Falta de conocimiento/skills, Impacto emocional, Falta de clientes, Falta de financiamiento",
          "Falta de financiamiento, Falta de claridad de regulación",
          "Falta de clientes",
          "Falta de conocimiento/skills, Falta de socios, Falta de financiamiento, Falta de claridad de regulación",
          "Falta de clientes, Falta de financiamiento, Riesgo país",
          "Falta de claridad de regulación, Falta de claridad en cómo junta guita, armar el legal setup, etc",
          "Falta de conocimiento/skills, Falta de socios, Falta de financiamiento, Riesgo país",
          "Falta de socios",
          "Falta de conocimiento/skills, Falta de claridad de regulación",
          "Falta de conocimiento/skills, Impacto emocional, Falta de clientes, Falta de claridad de regulación"
         ],
         "yaxis": "y"
        }
       ],
       "layout": {
        "autosize": true,
        "barmode": "relative",
        "legend": {
         "tracegroupgap": 0
        },
        "margin": {
         "t": 60
        },
        "template": {
         "data": {
          "bar": [
           {
            "error_x": {
             "color": "#2a3f5f"
            },
            "error_y": {
             "color": "#2a3f5f"
            },
            "marker": {
             "line": {
              "color": "#E5ECF6",
              "width": 0.5
             },
             "pattern": {
              "fillmode": "overlay",
              "size": 10,
              "solidity": 0.2
             }
            },
            "type": "bar"
           }
          ],
          "barpolar": [
           {
            "marker": {
             "line": {
              "color": "#E5ECF6",
              "width": 0.5
             },
             "pattern": {
              "fillmode": "overlay",
              "size": 10,
              "solidity": 0.2
             }
            },
            "type": "barpolar"
           }
          ],
          "carpet": [
           {
            "aaxis": {
             "endlinecolor": "#2a3f5f",
             "gridcolor": "white",
             "linecolor": "white",
             "minorgridcolor": "white",
             "startlinecolor": "#2a3f5f"
            },
            "baxis": {
             "endlinecolor": "#2a3f5f",
             "gridcolor": "white",
             "linecolor": "white",
             "minorgridcolor": "white",
             "startlinecolor": "#2a3f5f"
            },
            "type": "carpet"
           }
          ],
          "choropleth": [
           {
            "colorbar": {
             "outlinewidth": 0,
             "ticks": ""
            },
            "type": "choropleth"
           }
          ],
          "contour": [
           {
            "colorbar": {
             "outlinewidth": 0,
             "ticks": ""
            },
            "colorscale": [
             [
              0,
              "#0d0887"
             ],
             [
              0.1111111111111111,
              "#46039f"
             ],
             [
              0.2222222222222222,
              "#7201a8"
             ],
             [
              0.3333333333333333,
              "#9c179e"
             ],
             [
              0.4444444444444444,
              "#bd3786"
             ],
             [
              0.5555555555555556,
              "#d8576b"
             ],
             [
              0.6666666666666666,
              "#ed7953"
             ],
             [
              0.7777777777777778,
              "#fb9f3a"
             ],
             [
              0.8888888888888888,
              "#fdca26"
             ],
             [
              1,
              "#f0f921"
             ]
            ],
            "type": "contour"
           }
          ],
          "contourcarpet": [
           {
            "colorbar": {
             "outlinewidth": 0,
             "ticks": ""
            },
            "type": "contourcarpet"
           }
          ],
          "heatmap": [
           {
            "colorbar": {
             "outlinewidth": 0,
             "ticks": ""
            },
            "colorscale": [
             [
              0,
              "#0d0887"
             ],
             [
              0.1111111111111111,
              "#46039f"
             ],
             [
              0.2222222222222222,
              "#7201a8"
             ],
             [
              0.3333333333333333,
              "#9c179e"
             ],
             [
              0.4444444444444444,
              "#bd3786"
             ],
             [
              0.5555555555555556,
              "#d8576b"
             ],
             [
              0.6666666666666666,
              "#ed7953"
             ],
             [
              0.7777777777777778,
              "#fb9f3a"
             ],
             [
              0.8888888888888888,
              "#fdca26"
             ],
             [
              1,
              "#f0f921"
             ]
            ],
            "type": "heatmap"
           }
          ],
          "heatmapgl": [
           {
            "colorbar": {
             "outlinewidth": 0,
             "ticks": ""
            },
            "colorscale": [
             [
              0,
              "#0d0887"
             ],
             [
              0.1111111111111111,
              "#46039f"
             ],
             [
              0.2222222222222222,
              "#7201a8"
             ],
             [
              0.3333333333333333,
              "#9c179e"
             ],
             [
              0.4444444444444444,
              "#bd3786"
             ],
             [
              0.5555555555555556,
              "#d8576b"
             ],
             [
              0.6666666666666666,
              "#ed7953"
             ],
             [
              0.7777777777777778,
              "#fb9f3a"
             ],
             [
              0.8888888888888888,
              "#fdca26"
             ],
             [
              1,
              "#f0f921"
             ]
            ],
            "type": "heatmapgl"
           }
          ],
          "histogram": [
           {
            "marker": {
             "pattern": {
              "fillmode": "overlay",
              "size": 10,
              "solidity": 0.2
             }
            },
            "type": "histogram"
           }
          ],
          "histogram2d": [
           {
            "colorbar": {
             "outlinewidth": 0,
             "ticks": ""
            },
            "colorscale": [
             [
              0,
              "#0d0887"
             ],
             [
              0.1111111111111111,
              "#46039f"
             ],
             [
              0.2222222222222222,
              "#7201a8"
             ],
             [
              0.3333333333333333,
              "#9c179e"
             ],
             [
              0.4444444444444444,
              "#bd3786"
             ],
             [
              0.5555555555555556,
              "#d8576b"
             ],
             [
              0.6666666666666666,
              "#ed7953"
             ],
             [
              0.7777777777777778,
              "#fb9f3a"
             ],
             [
              0.8888888888888888,
              "#fdca26"
             ],
             [
              1,
              "#f0f921"
             ]
            ],
            "type": "histogram2d"
           }
          ],
          "histogram2dcontour": [
           {
            "colorbar": {
             "outlinewidth": 0,
             "ticks": ""
            },
            "colorscale": [
             [
              0,
              "#0d0887"
             ],
             [
              0.1111111111111111,
              "#46039f"
             ],
             [
              0.2222222222222222,
              "#7201a8"
             ],
             [
              0.3333333333333333,
              "#9c179e"
             ],
             [
              0.4444444444444444,
              "#bd3786"
             ],
             [
              0.5555555555555556,
              "#d8576b"
             ],
             [
              0.6666666666666666,
              "#ed7953"
             ],
             [
              0.7777777777777778,
              "#fb9f3a"
             ],
             [
              0.8888888888888888,
              "#fdca26"
             ],
             [
              1,
              "#f0f921"
             ]
            ],
            "type": "histogram2dcontour"
           }
          ],
          "mesh3d": [
           {
            "colorbar": {
             "outlinewidth": 0,
             "ticks": ""
            },
            "type": "mesh3d"
           }
          ],
          "parcoords": [
           {
            "line": {
             "colorbar": {
              "outlinewidth": 0,
              "ticks": ""
             }
            },
            "type": "parcoords"
           }
          ],
          "pie": [
           {
            "automargin": true,
            "type": "pie"
           }
          ],
          "scatter": [
           {
            "fillpattern": {
             "fillmode": "overlay",
             "size": 10,
             "solidity": 0.2
            },
            "type": "scatter"
           }
          ],
          "scatter3d": [
           {
            "line": {
             "colorbar": {
              "outlinewidth": 0,
              "ticks": ""
             }
            },
            "marker": {
             "colorbar": {
              "outlinewidth": 0,
              "ticks": ""
             }
            },
            "type": "scatter3d"
           }
          ],
          "scattercarpet": [
           {
            "marker": {
             "colorbar": {
              "outlinewidth": 0,
              "ticks": ""
             }
            },
            "type": "scattercarpet"
           }
          ],
          "scattergeo": [
           {
            "marker": {
             "colorbar": {
              "outlinewidth": 0,
              "ticks": ""
             }
            },
            "type": "scattergeo"
           }
          ],
          "scattergl": [
           {
            "marker": {
             "colorbar": {
              "outlinewidth": 0,
              "ticks": ""
             }
            },
            "type": "scattergl"
           }
          ],
          "scattermapbox": [
           {
            "marker": {
             "colorbar": {
              "outlinewidth": 0,
              "ticks": ""
             }
            },
            "type": "scattermapbox"
           }
          ],
          "scatterpolar": [
           {
            "marker": {
             "colorbar": {
              "outlinewidth": 0,
              "ticks": ""
             }
            },
            "type": "scatterpolar"
           }
          ],
          "scatterpolargl": [
           {
            "marker": {
             "colorbar": {
              "outlinewidth": 0,
              "ticks": ""
             }
            },
            "type": "scatterpolargl"
           }
          ],
          "scatterternary": [
           {
            "marker": {
             "colorbar": {
              "outlinewidth": 0,
              "ticks": ""
             }
            },
            "type": "scatterternary"
           }
          ],
          "surface": [
           {
            "colorbar": {
             "outlinewidth": 0,
             "ticks": ""
            },
            "colorscale": [
             [
              0,
              "#0d0887"
             ],
             [
              0.1111111111111111,
              "#46039f"
             ],
             [
              0.2222222222222222,
              "#7201a8"
             ],
             [
              0.3333333333333333,
              "#9c179e"
             ],
             [
              0.4444444444444444,
              "#bd3786"
             ],
             [
              0.5555555555555556,
              "#d8576b"
             ],
             [
              0.6666666666666666,
              "#ed7953"
             ],
             [
              0.7777777777777778,
              "#fb9f3a"
             ],
             [
              0.8888888888888888,
              "#fdca26"
             ],
             [
              1,
              "#f0f921"
             ]
            ],
            "type": "surface"
           }
          ],
          "table": [
           {
            "cells": {
             "fill": {
              "color": "#EBF0F8"
             },
             "line": {
              "color": "white"
             }
            },
            "header": {
             "fill": {
              "color": "#C8D4E3"
             },
             "line": {
              "color": "white"
             }
            },
            "type": "table"
           }
          ]
         },
         "layout": {
          "annotationdefaults": {
           "arrowcolor": "#2a3f5f",
           "arrowhead": 0,
           "arrowwidth": 1
          },
          "autotypenumbers": "strict",
          "coloraxis": {
           "colorbar": {
            "outlinewidth": 0,
            "ticks": ""
           }
          },
          "colorscale": {
           "diverging": [
            [
             0,
             "#8e0152"
            ],
            [
             0.1,
             "#c51b7d"
            ],
            [
             0.2,
             "#de77ae"
            ],
            [
             0.3,
             "#f1b6da"
            ],
            [
             0.4,
             "#fde0ef"
            ],
            [
             0.5,
             "#f7f7f7"
            ],
            [
             0.6,
             "#e6f5d0"
            ],
            [
             0.7,
             "#b8e186"
            ],
            [
             0.8,
             "#7fbc41"
            ],
            [
             0.9,
             "#4d9221"
            ],
            [
             1,
             "#276419"
            ]
           ],
           "sequential": [
            [
             0,
             "#0d0887"
            ],
            [
             0.1111111111111111,
             "#46039f"
            ],
            [
             0.2222222222222222,
             "#7201a8"
            ],
            [
             0.3333333333333333,
             "#9c179e"
            ],
            [
             0.4444444444444444,
             "#bd3786"
            ],
            [
             0.5555555555555556,
             "#d8576b"
            ],
            [
             0.6666666666666666,
             "#ed7953"
            ],
            [
             0.7777777777777778,
             "#fb9f3a"
            ],
            [
             0.8888888888888888,
             "#fdca26"
            ],
            [
             1,
             "#f0f921"
            ]
           ],
           "sequentialminus": [
            [
             0,
             "#0d0887"
            ],
            [
             0.1111111111111111,
             "#46039f"
            ],
            [
             0.2222222222222222,
             "#7201a8"
            ],
            [
             0.3333333333333333,
             "#9c179e"
            ],
            [
             0.4444444444444444,
             "#bd3786"
            ],
            [
             0.5555555555555556,
             "#d8576b"
            ],
            [
             0.6666666666666666,
             "#ed7953"
            ],
            [
             0.7777777777777778,
             "#fb9f3a"
            ],
            [
             0.8888888888888888,
             "#fdca26"
            ],
            [
             1,
             "#f0f921"
            ]
           ]
          },
          "colorway": [
           "#636efa",
           "#EF553B",
           "#00cc96",
           "#ab63fa",
           "#FFA15A",
           "#19d3f3",
           "#FF6692",
           "#B6E880",
           "#FF97FF",
           "#FECB52"
          ],
          "font": {
           "color": "#2a3f5f"
          },
          "geo": {
           "bgcolor": "white",
           "lakecolor": "white",
           "landcolor": "#E5ECF6",
           "showlakes": true,
           "showland": true,
           "subunitcolor": "white"
          },
          "hoverlabel": {
           "align": "left"
          },
          "hovermode": "closest",
          "mapbox": {
           "style": "light"
          },
          "paper_bgcolor": "white",
          "plot_bgcolor": "#E5ECF6",
          "polar": {
           "angularaxis": {
            "gridcolor": "white",
            "linecolor": "white",
            "ticks": ""
           },
           "bgcolor": "#E5ECF6",
           "radialaxis": {
            "gridcolor": "white",
            "linecolor": "white",
            "ticks": ""
           }
          },
          "scene": {
           "xaxis": {
            "backgroundcolor": "#E5ECF6",
            "gridcolor": "white",
            "gridwidth": 2,
            "linecolor": "white",
            "showbackground": true,
            "ticks": "",
            "zerolinecolor": "white"
           },
           "yaxis": {
            "backgroundcolor": "#E5ECF6",
            "gridcolor": "white",
            "gridwidth": 2,
            "linecolor": "white",
            "showbackground": true,
            "ticks": "",
            "zerolinecolor": "white"
           },
           "zaxis": {
            "backgroundcolor": "#E5ECF6",
            "gridcolor": "white",
            "gridwidth": 2,
            "linecolor": "white",
            "showbackground": true,
            "ticks": "",
            "zerolinecolor": "white"
           }
          },
          "shapedefaults": {
           "line": {
            "color": "#2a3f5f"
           }
          },
          "ternary": {
           "aaxis": {
            "gridcolor": "white",
            "linecolor": "white",
            "ticks": ""
           },
           "baxis": {
            "gridcolor": "white",
            "linecolor": "white",
            "ticks": ""
           },
           "bgcolor": "#E5ECF6",
           "caxis": {
            "gridcolor": "white",
            "linecolor": "white",
            "ticks": ""
           }
          },
          "title": {
           "x": 0.05
          },
          "xaxis": {
           "automargin": true,
           "gridcolor": "white",
           "linecolor": "white",
           "ticks": "",
           "title": {
            "standoff": 15
           },
           "zerolinecolor": "white",
           "zerolinewidth": 2
          },
          "yaxis": {
           "automargin": true,
           "gridcolor": "white",
           "linecolor": "white",
           "ticks": "",
           "title": {
            "standoff": 15
           },
           "zerolinecolor": "white",
           "zerolinewidth": 2
          }
         }
        },
        "xaxis": {
         "anchor": "y",
         "autorange": true,
         "domain": [
          0,
          1
         ],
         "range": [
          0,
          9.473684210526315
         ],
         "title": {
          "text": "count"
         }
        },
        "yaxis": {
         "anchor": "x",
         "autorange": true,
         "domain": [
          0,
          1
         ],
         "range": [
          -0.5,
          46.5
         ],
         "title": {
          "text": "y"
         },
         "type": "category"
        }
       }
      },
      "image/png": "[encoded data removed]",
      "text/html": [
       "<div>                            <div id=\"53e9e286-7e23-4235-a0c3-4572fe1902e8\" class=\"plotly-graph-div\" style=\"height:525px; width:100%;\"></div>            <script type=\"text/javascript\">                require([\"plotly\"], function(Plotly) {                    window.PLOTLYENV=window.PLOTLYENV || {};                                    if (document.getElementById(\"53e9e286-7e23-4235-a0c3-4572fe1902e8\")) {                    Plotly.newPlot(                        \"53e9e286-7e23-4235-a0c3-4572fe1902e8\",                        [{\"alignmentgroup\":\"True\",\"bingroup\":\"y\",\"hovertemplate\":\"count=%{x}\\u003cbr\\u003ey=%{y}\\u003cextra\\u003e\\u003c\\u002fextra\\u003e\",\"legendgroup\":\"\",\"marker\":{\"color\":\"#636efa\",\"pattern\":{\"shape\":\"\"}},\"name\":\"\",\"offsetgroup\":\"\",\"orientation\":\"h\",\"showlegend\":false,\"xaxis\":\"x\",\"y\":[\"Falta de clientes\",\"Falta de socios, Falta de financiamiento\",\"Impacto emocional, Falta de clientes, Falta de socios, Falta de financiamiento\",\"Falta de conocimiento\\u002fskills, Impacto emocional\",\"Falta de socios, Falta de financiamiento\",\"Falta de conocimiento\\u002fskills, Falta de clientes, Falta de socios, Falta de financiamiento\",\"Falta de conocimiento\\u002fskills, Falta de clientes\",\"Falta de conocimiento\\u002fskills, Falta de clientes, Falta de socios, Falta de financiamiento\",\"tuve ciertos desaf\\u00edos tecnol\\u00f3gicos ya que hay cosas propias de Kujira que conocen solo los founders. Lo bueno es que le dan bastante bola a los proyectos nuevos.\",\"Falta de financiamiento\",\"Falta de conocimiento\\u002fskills, Falta de clientes\",\"Falta de conocimiento\\u002fskills, Falta de clientes, Falta de financiamiento, Riesgo pa\\u00eds\",\"Falta de conocimiento\\u002fskills, Falta de socios, Falta de financiamiento, Riesgo pa\\u00eds\",\"Falta de socios, Falta de financiamiento\",\"Falta de clientes, Falta de socios\",\"Impacto emocional, Falta de financiamiento, Falta de claridad de regulaci\\u00f3n\",\"Falta de socios, Falta de financiamiento\",\"Falta de financiamiento\",\"Falta de financiamiento\",\"Falta de financiamiento, Falta de claridad de regulaci\\u00f3n, Riesgo pa\\u00eds\",\"Falta de financiamiento\",\"Falta de conocimiento\\u002fskills, Falta de financiamiento, Falta de claridad de regulaci\\u00f3n\",\"Falta de conocimiento\\u002fskills, Falta de financiamiento\",\"Falta de conocimiento\\u002fskills, Impacto emocional, Falta de clientes, Falta de financiamiento, Falta de claridad de regulaci\\u00f3n\",\"Falta de conocimiento\\u002fskills, Falta de financiamiento\",\"Impacto emocional, Falta de clientes, Falta de financiamiento\",\"Falta de socios, Falta de financiamiento, Riesgo pa\\u00eds\",\"Impacto emocional, Falta de clientes, Falta de socios, Falta de financiamiento\",\"Impacto emocional, Falta de claridad de regulaci\\u00f3n, Riesgo pa\\u00eds\",\"Falta de socios, Falta de financiamiento, Riesgo pa\\u00eds\",\"Falta de conocimiento\\u002fskills, Impacto emocional, Falta de clientes, Falta de socios, Falta de financiamiento, Falta de claridad de regulaci\\u00f3n, Riesgo pa\\u00eds\",\"Falta de financiamiento\",\"Falta de clientes, Falta de financiamiento, Falta de claridad de regulaci\\u00f3n\",\"Falta de conocimiento\\u002fskills, Falta de socios\",\"Falta de socios, Falta de financiamiento, Falta de espacios y \\u00e1mbitos afines.\",\" \",\"Falta de financiamiento\",\"Falta de financiamiento\",\"Falta de financiamiento, Falta de claridad de regulaci\\u00f3n\",\"Impacto emocional, Falta de claridad de regulaci\\u00f3n\",\"Falta de conocimiento\\u002fskills, Falta de financiamiento, Falta de claridad de regulaci\\u00f3n, Riesgo pa\\u00eds\",\"Falta de clientes, Falta de claridad de regulaci\\u00f3n\",\"Falta de conocimiento\\u002fskills, Falta de clientes, infinitos\",\"Falta de conocimiento\\u002fskills, Impacto emocional, Falta de clientes, Falta de financiamiento, Falta de claridad de regulaci\\u00f3n, Riesgo pa\\u00eds, Coyuntura Cripto y Tech en 2022\",\"Falta de clientes, Falta de financiamiento\",\"Falta de conocimiento\\u002fskills, Impacto emocional, Falta de clientes, Falta de financiamiento\",\"Impacto emocional, Falta de socios, Falta de claridad de regulaci\\u00f3n\",\"Falta de conocimiento\\u002fskills, Impacto emocional, Falta de clientes, Falta de financiamiento\",\"Falta de conocimiento\\u002fskills\",\"Impacto emocional, Falta de financiamiento\",\"Falta de claridad de regulaci\\u00f3n\",\"Falta de clientes, Riesgo pa\\u00eds\",\"Falta de conocimiento\\u002fskills, Falta de financiamiento, Falta de claridad de regulaci\\u00f3n\",\"Falta de conocimiento\\u002fskills, Impacto emocional, Falta de clientes, Falta de socios, Falta de financiamiento\",\"Falta de financiamiento\",\"Falta de financiamiento, Riesgo pa\\u00eds\",\"Falta de financiamiento\",\"Falta de financiamiento, La sede esta en otro pa\\u00eds\",\"Falta de socios\",\"Falta de conocimiento\\u002fskills, Impacto emocional\",\"Falta de clientes, Falta de socios, Falta de financiamiento, Falta de claridad de regulaci\\u00f3n, Riesgo pa\\u00eds\",\"Falta de conocimiento\\u002fskills, Impacto emocional, Falta de clientes, Falta de financiamiento\",\"Falta de financiamiento, Falta de claridad de regulaci\\u00f3n\",\"Falta de clientes\",\"Falta de conocimiento\\u002fskills, Falta de socios, Falta de financiamiento, Falta de claridad de regulaci\\u00f3n\",\"Falta de clientes, Falta de financiamiento, Riesgo pa\\u00eds\",\"Falta de claridad de regulaci\\u00f3n, Falta de claridad en c\\u00f3mo junta guita, armar el legal setup, etc\",\"Falta de conocimiento\\u002fskills, Falta de socios, Falta de financiamiento, Riesgo pa\\u00eds\",\"Falta de socios\",\"Falta de conocimiento\\u002fskills, Falta de claridad de regulaci\\u00f3n\",\"Falta de conocimiento\\u002fskills, Impacto emocional, Falta de clientes, Falta de claridad de regulaci\\u00f3n\"],\"yaxis\":\"y\",\"type\":\"histogram\"}],                        {\"template\":{\"data\":{\"histogram2dcontour\":[{\"type\":\"histogram2dcontour\",\"colorbar\":{\"outlinewidth\":0,\"ticks\":\"\"},\"colorscale\":[[0.0,\"#0d0887\"],[0.1111111111111111,\"#46039f\"],[0.2222222222222222,\"#7201a8\"],[0.3333333333333333,\"#9c179e\"],[0.4444444444444444,\"#bd3786\"],[0.5555555555555556,\"#d8576b\"],[0.6666666666666666,\"#ed7953\"],[0.7777777777777778,\"#fb9f3a\"],[0.8888888888888888,\"#fdca26\"],[1.0,\"#f0f921\"]]}],\"choropleth\":[{\"type\":\"choropleth\",\"colorbar\":{\"outlinewidth\":0,\"ticks\":\"\"}}],\"histogram2d\":[{\"type\":\"histogram2d\",\"colorbar\":{\"outlinewidth\":0,\"ticks\":\"\"},\"colorscale\":[[0.0,\"#0d0887\"],[0.1111111111111111,\"#46039f\"],[0.2222222222222222,\"#7201a8\"],[0.3333333333333333,\"#9c179e\"],[0.4444444444444444,\"#bd3786\"],[0.5555555555555556,\"#d8576b\"],[0.6666666666666666,\"#ed7953\"],[0.7777777777777778,\"#fb9f3a\"],[0.8888888888888888,\"#fdca26\"],[1.0,\"#f0f921\"]]}],\"heatmap\":[{\"type\":\"heatmap\",\"colorbar\":{\"outlinewidth\":0,\"ticks\":\"\"},\"colorscale\":[[0.0,\"#0d0887\"],[0.1111111111111111,\"#46039f\"],[0.2222222222222222,\"#7201a8\"],[0.3333333333333333,\"#9c179e\"],[0.4444444444444444,\"#bd3786\"],[0.5555555555555556,\"#d8576b\"],[0.6666666666666666,\"#ed7953\"],[0.7777777777777778,\"#fb9f3a\"],[0.8888888888888888,\"#fdca26\"],[1.0,\"#f0f921\"]]}],\"heatmapgl\":[{\"type\":\"heatmapgl\",\"colorbar\":{\"outlinewidth\":0,\"ticks\":\"\"},\"colorscale\":[[0.0,\"#0d0887\"],[0.1111111111111111,\"#46039f\"],[0.2222222222222222,\"#7201a8\"],[0.3333333333333333,\"#9c179e\"],[0.4444444444444444,\"#bd3786\"],[0.5555555555555556,\"#d8576b\"],[0.6666666666666666,\"#ed7953\"],[0.7777777777777778,\"#fb9f3a\"],[0.8888888888888888,\"#fdca26\"],[1.0,\"#f0f921\"]]}],\"contourcarpet\":[{\"type\":\"contourcarpet\",\"colorbar\":{\"outlinewidth\":0,\"ticks\":\"\"}}],\"contour\":[{\"type\":\"contour\",\"colorbar\":{\"outlinewidth\":0,\"ticks\":\"\"},\"colorscale\":[[0.0,\"#0d0887\"],[0.1111111111111111,\"#46039f\"],[0.2222222222222222,\"#7201a8\"],[0.3333333333333333,\"#9c179e\"],[0.4444444444444444,\"#bd3786\"],[0.5555555555555556,\"#d8576b\"],[0.6666666666666666,\"#ed7953\"],[0.7777777777777778,\"#fb9f3a\"],[0.8888888888888888,\"#fdca26\"],[1.0,\"#f0f921\"]]}],\"surface\":[{\"type\":\"surface\",\"colorbar\":{\"outlinewidth\":0,\"ticks\":\"\"},\"colorscale\":[[0.0,\"#0d0887\"],[0.1111111111111111,\"#46039f\"],[0.2222222222222222,\"#7201a8\"],[0.3333333333333333,\"#9c179e\"],[0.4444444444444444,\"#bd3786\"],[0.5555555555555556,\"#d8576b\"],[0.6666666666666666,\"#ed7953\"],[0.7777777777777778,\"#fb9f3a\"],[0.8888888888888888,\"#fdca26\"],[1.0,\"#f0f921\"]]}],\"mesh3d\":[{\"type\":\"mesh3d\",\"colorbar\":{\"outlinewidth\":0,\"ticks\":\"\"}}],\"scatter\":[{\"fillpattern\":{\"fillmode\":\"overlay\",\"size\":10,\"solidity\":0.2},\"type\":\"scatter\"}],\"parcoords\":[{\"type\":\"parcoords\",\"line\":{\"colorbar\":{\"outlinewidth\":0,\"ticks\":\"\"}}}],\"scatterpolargl\":[{\"type\":\"scatterpolargl\",\"marker\":{\"colorbar\":{\"outlinewidth\":0,\"ticks\":\"\"}}}],\"bar\":[{\"error_x\":{\"color\":\"#2a3f5f\"},\"error_y\":{\"color\":\"#2a3f5f\"},\"marker\":{\"line\":{\"color\":\"#E5ECF6\",\"width\":0.5},\"pattern\":{\"fillmode\":\"overlay\",\"size\":10,\"solidity\":0.2}},\"type\":\"bar\"}],\"scattergeo\":[{\"type\":\"scattergeo\",\"marker\":{\"colorbar\":{\"outlinewidth\":0,\"ticks\":\"\"}}}],\"scatterpolar\":[{\"type\":\"scatterpolar\",\"marker\":{\"colorbar\":{\"outlinewidth\":0,\"ticks\":\"\"}}}],\"histogram\":[{\"marker\":{\"pattern\":{\"fillmode\":\"overlay\",\"size\":10,\"solidity\":0.2}},\"type\":\"histogram\"}],\"scattergl\":[{\"type\":\"scattergl\",\"marker\":{\"colorbar\":{\"outlinewidth\":0,\"ticks\":\"\"}}}],\"scatter3d\":[{\"type\":\"scatter3d\",\"line\":{\"colorbar\":{\"outlinewidth\":0,\"ticks\":\"\"}},\"marker\":{\"colorbar\":{\"outlinewidth\":0,\"ticks\":\"\"}}}],\"scattermapbox\":[{\"type\":\"scattermapbox\",\"marker\":{\"colorbar\":{\"outlinewidth\":0,\"ticks\":\"\"}}}],\"scatterternary\":[{\"type\":\"scatterternary\",\"marker\":{\"colorbar\":{\"outlinewidth\":0,\"ticks\":\"\"}}}],\"scattercarpet\":[{\"type\":\"scattercarpet\",\"marker\":{\"colorbar\":{\"outlinewidth\":0,\"ticks\":\"\"}}}],\"carpet\":[{\"aaxis\":{\"endlinecolor\":\"#2a3f5f\",\"gridcolor\":\"white\",\"linecolor\":\"white\",\"minorgridcolor\":\"white\",\"startlinecolor\":\"#2a3f5f\"},\"baxis\":{\"endlinecolor\":\"#2a3f5f\",\"gridcolor\":\"white\",\"linecolor\":\"white\",\"minorgridcolor\":\"white\",\"startlinecolor\":\"#2a3f5f\"},\"type\":\"carpet\"}],\"table\":[{\"cells\":{\"fill\":{\"color\":\"#EBF0F8\"},\"line\":{\"color\":\"white\"}},\"header\":{\"fill\":{\"color\":\"#C8D4E3\"},\"line\":{\"color\":\"white\"}},\"type\":\"table\"}],\"barpolar\":[{\"marker\":{\"line\":{\"color\":\"#E5ECF6\",\"width\":0.5},\"pattern\":{\"fillmode\":\"overlay\",\"size\":10,\"solidity\":0.2}},\"type\":\"barpolar\"}],\"pie\":[{\"automargin\":true,\"type\":\"pie\"}]},\"layout\":{\"autotypenumbers\":\"strict\",\"colorway\":[\"#636efa\",\"#EF553B\",\"#00cc96\",\"#ab63fa\",\"#FFA15A\",\"#19d3f3\",\"#FF6692\",\"#B6E880\",\"#FF97FF\",\"#FECB52\"],\"font\":{\"color\":\"#2a3f5f\"},\"hovermode\":\"closest\",\"hoverlabel\":{\"align\":\"left\"},\"paper_bgcolor\":\"white\",\"plot_bgcolor\":\"#E5ECF6\",\"polar\":{\"bgcolor\":\"#E5ECF6\",\"angularaxis\":{\"gridcolor\":\"white\",\"linecolor\":\"white\",\"ticks\":\"\"},\"radialaxis\":{\"gridcolor\":\"white\",\"linecolor\":\"white\",\"ticks\":\"\"}},\"ternary\":{\"bgcolor\":\"#E5ECF6\",\"aaxis\":{\"gridcolor\":\"white\",\"linecolor\":\"white\",\"ticks\":\"\"},\"baxis\":{\"gridcolor\":\"white\",\"linecolor\":\"white\",\"ticks\":\"\"},\"caxis\":{\"gridcolor\":\"white\",\"linecolor\":\"white\",\"ticks\":\"\"}},\"coloraxis\":{\"colorbar\":{\"outlinewidth\":0,\"ticks\":\"\"}},\"colorscale\":{\"sequential\":[[0.0,\"#0d0887\"],[0.1111111111111111,\"#46039f\"],[0.2222222222222222,\"#7201a8\"],[0.3333333333333333,\"#9c179e\"],[0.4444444444444444,\"#bd3786\"],[0.5555555555555556,\"#d8576b\"],[0.6666666666666666,\"#ed7953\"],[0.7777777777777778,\"#fb9f3a\"],[0.8888888888888888,\"#fdca26\"],[1.0,\"#f0f921\"]],\"sequentialminus\":[[0.0,\"#0d0887\"],[0.1111111111111111,\"#46039f\"],[0.2222222222222222,\"#7201a8\"],[0.3333333333333333,\"#9c179e\"],[0.4444444444444444,\"#bd3786\"],[0.5555555555555556,\"#d8576b\"],[0.6666666666666666,\"#ed7953\"],[0.7777777777777778,\"#fb9f3a\"],[0.8888888888888888,\"#fdca26\"],[1.0,\"#f0f921\"]],\"diverging\":[[0,\"#8e0152\"],[0.1,\"#c51b7d\"],[0.2,\"#de77ae\"],[0.3,\"#f1b6da\"],[0.4,\"#fde0ef\"],[0.5,\"#f7f7f7\"],[0.6,\"#e6f5d0\"],[0.7,\"#b8e186\"],[0.8,\"#7fbc41\"],[0.9,\"#4d9221\"],[1,\"#276419\"]]},\"xaxis\":{\"gridcolor\":\"white\",\"linecolor\":\"white\",\"ticks\":\"\",\"title\":{\"standoff\":15},\"zerolinecolor\":\"white\",\"automargin\":true,\"zerolinewidth\":2},\"yaxis\":{\"gridcolor\":\"white\",\"linecolor\":\"white\",\"ticks\":\"\",\"title\":{\"standoff\":15},\"zerolinecolor\":\"white\",\"automargin\":true,\"zerolinewidth\":2},\"scene\":{\"xaxis\":{\"backgroundcolor\":\"#E5ECF6\",\"gridcolor\":\"white\",\"linecolor\":\"white\",\"showbackground\":true,\"ticks\":\"\",\"zerolinecolor\":\"white\",\"gridwidth\":2},\"yaxis\":{\"backgroundcolor\":\"#E5ECF6\",\"gridcolor\":\"white\",\"linecolor\":\"white\",\"showbackground\":true,\"ticks\":\"\",\"zerolinecolor\":\"white\",\"gridwidth\":2},\"zaxis\":{\"backgroundcolor\":\"#E5ECF6\",\"gridcolor\":\"white\",\"linecolor\":\"white\",\"showbackground\":true,\"ticks\":\"\",\"zerolinecolor\":\"white\",\"gridwidth\":2}},\"shapedefaults\":{\"line\":{\"color\":\"#2a3f5f\"}},\"annotationdefaults\":{\"arrowcolor\":\"#2a3f5f\",\"arrowhead\":0,\"arrowwidth\":1},\"geo\":{\"bgcolor\":\"white\",\"landcolor\":\"#E5ECF6\",\"subunitcolor\":\"white\",\"showland\":true,\"showlakes\":true,\"lakecolor\":\"white\"},\"title\":{\"x\":0.05},\"mapbox\":{\"style\":\"light\"}}},\"xaxis\":{\"anchor\":\"y\",\"domain\":[0.0,1.0],\"title\":{\"text\":\"count\"}},\"yaxis\":{\"anchor\":\"x\",\"domain\":[0.0,1.0],\"title\":{\"text\":\"y\"}},\"legend\":{\"tracegroupgap\":0},\"margin\":{\"t\":60},\"barmode\":\"relative\"},                        {\"responsive\": true}                    ).then(function(){\n",
       "                            \n",
       "var gd = document.getElementById('53e9e286-7e23-4235-a0c3-4572fe1902e8');\n",
       "var x = new MutationObserver(function (mutations, observer) {{\n",
       "        var display = window.getComputedStyle(gd).display;\n",
       "        if (!display || display === 'none') {{\n",
       "            console.log([gd, 'removed!']);\n",
       "            Plotly.purge(gd);\n",
       "            observer.disconnect();\n",
       "        }}\n",
       "}});\n",
       "\n",
       "// Listen for the removal of the full notebook cells\n",
       "var notebookContainer = gd.closest('#notebook-container');\n",
       "if (notebookContainer) {{\n",
       "    x.observe(notebookContainer, {childList: true});\n",
       "}}\n",
       "\n",
       "// Listen for the clearing of the current output cell\n",
       "var outputEl = gd.closest('.output');\n",
       "if (outputEl) {{\n",
       "    x.observe(outputEl, {childList: true});\n",
       "}}\n",
       "\n",
       "                        })                };                });            </script>        </div>"
      ]
     },
     "metadata": {},
     "output_type": "display_data"
    }
   ],
   "source": [
    "fig = px.histogram(df, y=flat_list, title=\"\")\n",
    "fig.show()"
   ]
  },
  {
   "cell_type": "code",
   "execution_count": null,
   "id": "c9685b1a-cea5-469f-8359-36144cd4199c",
   "metadata": {},
   "outputs": [],
   "source": []
  },
  {
   "cell_type": "code",
   "execution_count": 259,
   "id": "fb411fd5-5beb-4c37-93c2-b38a61ee44fb",
   "metadata": {},
   "outputs": [
    {
     "data": {
      "application/vnd.plotly.v1+json": {
       "config": {
        "plotlyServerURL": "https://plot.ly"
       },
       "data": [
        {
         "marker": {
          "color": "rgba(38, 24, 74, 0.8)",
          "line": {
           "color": "rgb(248, 248, 249)",
           "width": 1
          }
         },
         "orientation": "h",
         "type": "bar",
         "x": [
          21
         ],
         "y": [
          "The course was effectively<br>organized"
         ]
        },
        {
         "marker": {
          "color": "rgba(38, 24, 74, 0.8)",
          "line": {
           "color": "rgb(248, 248, 249)",
           "width": 1
          }
         },
         "orientation": "h",
         "type": "bar",
         "x": [
          24
         ],
         "y": [
          "The course developed my<br>abilities and skills for<br>the subject"
         ]
        },
        {
         "marker": {
          "color": "rgba(38, 24, 74, 0.8)",
          "line": {
           "color": "rgb(248, 248, 249)",
           "width": 1
          }
         },
         "orientation": "h",
         "type": "bar",
         "x": [
          27
         ],
         "y": [
          "The course developed my<br>ability to think critically about<br>the subject"
         ]
        },
        {
         "marker": {
          "color": "rgba(38, 24, 74, 0.8)",
          "line": {
           "color": "rgb(248, 248, 249)",
           "width": 1
          }
         },
         "orientation": "h",
         "type": "bar",
         "x": [
          29
         ],
         "y": [
          "I would recommend this<br>course to a friend"
         ]
        },
        {
         "marker": {
          "color": "rgba(71, 58, 131, 0.8)",
          "line": {
           "color": "rgb(248, 248, 249)",
           "width": 1
          }
         },
         "orientation": "h",
         "type": "bar",
         "x": [
          30
         ],
         "y": [
          "The course was effectively<br>organized"
         ]
        },
        {
         "marker": {
          "color": "rgba(71, 58, 131, 0.8)",
          "line": {
           "color": "rgb(248, 248, 249)",
           "width": 1
          }
         },
         "orientation": "h",
         "type": "bar",
         "x": [
          31
         ],
         "y": [
          "The course developed my<br>abilities and skills for<br>the subject"
         ]
        },
        {
         "marker": {
          "color": "rgba(71, 58, 131, 0.8)",
          "line": {
           "color": "rgb(248, 248, 249)",
           "width": 1
          }
         },
         "orientation": "h",
         "type": "bar",
         "x": [
          26
         ],
         "y": [
          "The course developed my<br>ability to think critically about<br>the subject"
         ]
        },
        {
         "marker": {
          "color": "rgba(71, 58, 131, 0.8)",
          "line": {
           "color": "rgb(248, 248, 249)",
           "width": 1
          }
         },
         "orientation": "h",
         "type": "bar",
         "x": [
          24
         ],
         "y": [
          "I would recommend this<br>course to a friend"
         ]
        },
        {
         "marker": {
          "color": "rgba(122, 120, 168, 0.8)",
          "line": {
           "color": "rgb(248, 248, 249)",
           "width": 1
          }
         },
         "orientation": "h",
         "type": "bar",
         "x": [
          21
         ],
         "y": [
          "The course was effectively<br>organized"
         ]
        },
        {
         "marker": {
          "color": "rgba(122, 120, 168, 0.8)",
          "line": {
           "color": "rgb(248, 248, 249)",
           "width": 1
          }
         },
         "orientation": "h",
         "type": "bar",
         "x": [
          19
         ],
         "y": [
          "The course developed my<br>abilities and skills for<br>the subject"
         ]
        },
        {
         "marker": {
          "color": "rgba(122, 120, 168, 0.8)",
          "line": {
           "color": "rgb(248, 248, 249)",
           "width": 1
          }
         },
         "orientation": "h",
         "type": "bar",
         "x": [
          23
         ],
         "y": [
          "The course developed my<br>ability to think critically about<br>the subject"
         ]
        },
        {
         "marker": {
          "color": "rgba(122, 120, 168, 0.8)",
          "line": {
           "color": "rgb(248, 248, 249)",
           "width": 1
          }
         },
         "orientation": "h",
         "type": "bar",
         "x": [
          15
         ],
         "y": [
          "I would recommend this<br>course to a friend"
         ]
        },
        {
         "marker": {
          "color": "rgba(164, 163, 204, 0.85)",
          "line": {
           "color": "rgb(248, 248, 249)",
           "width": 1
          }
         },
         "orientation": "h",
         "type": "bar",
         "x": [
          16
         ],
         "y": [
          "The course was effectively<br>organized"
         ]
        },
        {
         "marker": {
          "color": "rgba(164, 163, 204, 0.85)",
          "line": {
           "color": "rgb(248, 248, 249)",
           "width": 1
          }
         },
         "orientation": "h",
         "type": "bar",
         "x": [
          15
         ],
         "y": [
          "The course developed my<br>abilities and skills for<br>the subject"
         ]
        },
        {
         "marker": {
          "color": "rgba(164, 163, 204, 0.85)",
          "line": {
           "color": "rgb(248, 248, 249)",
           "width": 1
          }
         },
         "orientation": "h",
         "type": "bar",
         "x": [
          11
         ],
         "y": [
          "The course developed my<br>ability to think critically about<br>the subject"
         ]
        },
        {
         "marker": {
          "color": "rgba(164, 163, 204, 0.85)",
          "line": {
           "color": "rgb(248, 248, 249)",
           "width": 1
          }
         },
         "orientation": "h",
         "type": "bar",
         "x": [
          18
         ],
         "y": [
          "I would recommend this<br>course to a friend"
         ]
        },
        {
         "marker": {
          "color": "rgba(190, 192, 213, 1)",
          "line": {
           "color": "rgb(248, 248, 249)",
           "width": 1
          }
         },
         "orientation": "h",
         "type": "bar",
         "x": [
          12
         ],
         "y": [
          "The course was effectively<br>organized"
         ]
        },
        {
         "marker": {
          "color": "rgba(190, 192, 213, 1)",
          "line": {
           "color": "rgb(248, 248, 249)",
           "width": 1
          }
         },
         "orientation": "h",
         "type": "bar",
         "x": [
          11
         ],
         "y": [
          "The course developed my<br>abilities and skills for<br>the subject"
         ]
        },
        {
         "marker": {
          "color": "rgba(190, 192, 213, 1)",
          "line": {
           "color": "rgb(248, 248, 249)",
           "width": 1
          }
         },
         "orientation": "h",
         "type": "bar",
         "x": [
          13
         ],
         "y": [
          "The course developed my<br>ability to think critically about<br>the subject"
         ]
        },
        {
         "marker": {
          "color": "rgba(190, 192, 213, 1)",
          "line": {
           "color": "rgb(248, 248, 249)",
           "width": 1
          }
         },
         "orientation": "h",
         "type": "bar",
         "x": [
          14
         ],
         "y": [
          "I would recommend this<br>course to a friend"
         ]
        }
       ],
       "layout": {
        "annotations": [
         {
          "align": "right",
          "font": {
           "color": "rgb(67, 67, 67)",
           "family": "Arial",
           "size": 14
          },
          "showarrow": false,
          "text": "The course was effectively<br>organized",
          "x": 0.14,
          "xanchor": "right",
          "xref": "paper",
          "y": "The course was effectively<br>organized",
          "yref": "y"
         },
         {
          "font": {
           "color": "rgb(248, 248, 255)",
           "family": "Arial",
           "size": 14
          },
          "showarrow": false,
          "text": "21%",
          "x": 10.5,
          "xref": "x",
          "y": "The course was effectively<br>organized",
          "yref": "y"
         },
         {
          "font": {
           "color": "rgb(248, 248, 255)",
           "family": "Arial",
           "size": 14
          },
          "showarrow": false,
          "text": "30%",
          "x": 36,
          "xref": "x",
          "y": "The course was effectively<br>organized",
          "yref": "y"
         },
         {
          "font": {
           "color": "rgb(248, 248, 255)",
           "family": "Arial",
           "size": 14
          },
          "showarrow": false,
          "text": "21%",
          "x": 61.5,
          "xref": "x",
          "y": "The course was effectively<br>organized",
          "yref": "y"
         },
         {
          "font": {
           "color": "rgb(248, 248, 255)",
           "family": "Arial",
           "size": 14
          },
          "showarrow": false,
          "text": "16%",
          "x": 80,
          "xref": "x",
          "y": "The course was effectively<br>organized",
          "yref": "y"
         },
         {
          "font": {
           "color": "rgb(248, 248, 255)",
           "family": "Arial",
           "size": 14
          },
          "showarrow": false,
          "text": "12%",
          "x": 94,
          "xref": "x",
          "y": "The course was effectively<br>organized",
          "yref": "y"
         },
         {
          "align": "right",
          "font": {
           "color": "rgb(67, 67, 67)",
           "family": "Arial",
           "size": 14
          },
          "showarrow": false,
          "text": "The course developed my<br>abilities and skills for<br>the subject",
          "x": 0.14,
          "xanchor": "right",
          "xref": "paper",
          "y": "The course developed my<br>abilities and skills for<br>the subject",
          "yref": "y"
         },
         {
          "font": {
           "color": "rgb(248, 248, 255)",
           "family": "Arial",
           "size": 14
          },
          "showarrow": false,
          "text": "24%",
          "x": 12,
          "xref": "x",
          "y": "The course developed my<br>abilities and skills for<br>the subject",
          "yref": "y"
         },
         {
          "font": {
           "color": "rgb(248, 248, 255)",
           "family": "Arial",
           "size": 14
          },
          "showarrow": false,
          "text": "31%",
          "x": 39.5,
          "xref": "x",
          "y": "The course developed my<br>abilities and skills for<br>the subject",
          "yref": "y"
         },
         {
          "font": {
           "color": "rgb(248, 248, 255)",
           "family": "Arial",
           "size": 14
          },
          "showarrow": false,
          "text": "19%",
          "x": 64.5,
          "xref": "x",
          "y": "The course developed my<br>abilities and skills for<br>the subject",
          "yref": "y"
         },
         {
          "font": {
           "color": "rgb(248, 248, 255)",
           "family": "Arial",
           "size": 14
          },
          "showarrow": false,
          "text": "15%",
          "x": 81.5,
          "xref": "x",
          "y": "The course developed my<br>abilities and skills for<br>the subject",
          "yref": "y"
         },
         {
          "font": {
           "color": "rgb(248, 248, 255)",
           "family": "Arial",
           "size": 14
          },
          "showarrow": false,
          "text": "11%",
          "x": 94.5,
          "xref": "x",
          "y": "The course developed my<br>abilities and skills for<br>the subject",
          "yref": "y"
         },
         {
          "align": "right",
          "font": {
           "color": "rgb(67, 67, 67)",
           "family": "Arial",
           "size": 14
          },
          "showarrow": false,
          "text": "The course developed my<br>ability to think critically about<br>the subject",
          "x": 0.14,
          "xanchor": "right",
          "xref": "paper",
          "y": "The course developed my<br>ability to think critically about<br>the subject",
          "yref": "y"
         },
         {
          "font": {
           "color": "rgb(248, 248, 255)",
           "family": "Arial",
           "size": 14
          },
          "showarrow": false,
          "text": "27%",
          "x": 13.5,
          "xref": "x",
          "y": "The course developed my<br>ability to think critically about<br>the subject",
          "yref": "y"
         },
         {
          "font": {
           "color": "rgb(248, 248, 255)",
           "family": "Arial",
           "size": 14
          },
          "showarrow": false,
          "text": "26%",
          "x": 40,
          "xref": "x",
          "y": "The course developed my<br>ability to think critically about<br>the subject",
          "yref": "y"
         },
         {
          "font": {
           "color": "rgb(248, 248, 255)",
           "family": "Arial",
           "size": 14
          },
          "showarrow": false,
          "text": "23%",
          "x": 64.5,
          "xref": "x",
          "y": "The course developed my<br>ability to think critically about<br>the subject",
          "yref": "y"
         },
         {
          "font": {
           "color": "rgb(248, 248, 255)",
           "family": "Arial",
           "size": 14
          },
          "showarrow": false,
          "text": "11%",
          "x": 81.5,
          "xref": "x",
          "y": "The course developed my<br>ability to think critically about<br>the subject",
          "yref": "y"
         },
         {
          "font": {
           "color": "rgb(248, 248, 255)",
           "family": "Arial",
           "size": 14
          },
          "showarrow": false,
          "text": "13%",
          "x": 93.5,
          "xref": "x",
          "y": "The course developed my<br>ability to think critically about<br>the subject",
          "yref": "y"
         },
         {
          "align": "right",
          "font": {
           "color": "rgb(67, 67, 67)",
           "family": "Arial",
           "size": 14
          },
          "showarrow": false,
          "text": "I would recommend this<br>course to a friend",
          "x": 0.14,
          "xanchor": "right",
          "xref": "paper",
          "y": "I would recommend this<br>course to a friend",
          "yref": "y"
         },
         {
          "font": {
           "color": "rgb(248, 248, 255)",
           "family": "Arial",
           "size": 14
          },
          "showarrow": false,
          "text": "29%",
          "x": 14.5,
          "xref": "x",
          "y": "I would recommend this<br>course to a friend",
          "yref": "y"
         },
         {
          "font": {
           "color": "rgb(67, 67, 67)",
           "family": "Arial",
           "size": 14
          },
          "showarrow": false,
          "text": "Strongly<br>agree",
          "x": 14.5,
          "xref": "x",
          "y": 1.1,
          "yref": "paper"
         },
         {
          "font": {
           "color": "rgb(248, 248, 255)",
           "family": "Arial",
           "size": 14
          },
          "showarrow": false,
          "text": "24%",
          "x": 41,
          "xref": "x",
          "y": "I would recommend this<br>course to a friend",
          "yref": "y"
         },
         {
          "font": {
           "color": "rgb(67, 67, 67)",
           "family": "Arial",
           "size": 14
          },
          "showarrow": false,
          "text": "Agree",
          "x": 41,
          "xref": "x",
          "y": 1.1,
          "yref": "paper"
         },
         {
          "font": {
           "color": "rgb(248, 248, 255)",
           "family": "Arial",
           "size": 14
          },
          "showarrow": false,
          "text": "15%",
          "x": 60.5,
          "xref": "x",
          "y": "I would recommend this<br>course to a friend",
          "yref": "y"
         },
         {
          "font": {
           "color": "rgb(67, 67, 67)",
           "family": "Arial",
           "size": 14
          },
          "showarrow": false,
          "text": "Neutral",
          "x": 60.5,
          "xref": "x",
          "y": 1.1,
          "yref": "paper"
         },
         {
          "font": {
           "color": "rgb(248, 248, 255)",
           "family": "Arial",
           "size": 14
          },
          "showarrow": false,
          "text": "18%",
          "x": 77,
          "xref": "x",
          "y": "I would recommend this<br>course to a friend",
          "yref": "y"
         },
         {
          "font": {
           "color": "rgb(67, 67, 67)",
           "family": "Arial",
           "size": 14
          },
          "showarrow": false,
          "text": "Disagree",
          "x": 77,
          "xref": "x",
          "y": 1.1,
          "yref": "paper"
         },
         {
          "font": {
           "color": "rgb(248, 248, 255)",
           "family": "Arial",
           "size": 14
          },
          "showarrow": false,
          "text": "14%",
          "x": 93,
          "xref": "x",
          "y": "I would recommend this<br>course to a friend",
          "yref": "y"
         },
         {
          "font": {
           "color": "rgb(67, 67, 67)",
           "family": "Arial",
           "size": 14
          },
          "showarrow": false,
          "text": "Strongly<br>disagree",
          "x": 93,
          "xref": "x",
          "y": 1.1,
          "yref": "paper"
         }
        ],
        "autosize": true,
        "barmode": "stack",
        "margin": {
         "b": 80,
         "l": 120,
         "r": 10,
         "t": 140
        },
        "paper_bgcolor": "rgb(248, 248, 255)",
        "plot_bgcolor": "rgb(248, 248, 255)",
        "showlegend": false,
        "template": {
         "data": {
          "bar": [
           {
            "error_x": {
             "color": "#2a3f5f"
            },
            "error_y": {
             "color": "#2a3f5f"
            },
            "marker": {
             "line": {
              "color": "#E5ECF6",
              "width": 0.5
             },
             "pattern": {
              "fillmode": "overlay",
              "size": 10,
              "solidity": 0.2
             }
            },
            "type": "bar"
           }
          ],
          "barpolar": [
           {
            "marker": {
             "line": {
              "color": "#E5ECF6",
              "width": 0.5
             },
             "pattern": {
              "fillmode": "overlay",
              "size": 10,
              "solidity": 0.2
             }
            },
            "type": "barpolar"
           }
          ],
          "carpet": [
           {
            "aaxis": {
             "endlinecolor": "#2a3f5f",
             "gridcolor": "white",
             "linecolor": "white",
             "minorgridcolor": "white",
             "startlinecolor": "#2a3f5f"
            },
            "baxis": {
             "endlinecolor": "#2a3f5f",
             "gridcolor": "white",
             "linecolor": "white",
             "minorgridcolor": "white",
             "startlinecolor": "#2a3f5f"
            },
            "type": "carpet"
           }
          ],
          "choropleth": [
           {
            "colorbar": {
             "outlinewidth": 0,
             "ticks": ""
            },
            "type": "choropleth"
           }
          ],
          "contour": [
           {
            "colorbar": {
             "outlinewidth": 0,
             "ticks": ""
            },
            "colorscale": [
             [
              0,
              "#0d0887"
             ],
             [
              0.1111111111111111,
              "#46039f"
             ],
             [
              0.2222222222222222,
              "#7201a8"
             ],
             [
              0.3333333333333333,
              "#9c179e"
             ],
             [
              0.4444444444444444,
              "#bd3786"
             ],
             [
              0.5555555555555556,
              "#d8576b"
             ],
             [
              0.6666666666666666,
              "#ed7953"
             ],
             [
              0.7777777777777778,
              "#fb9f3a"
             ],
             [
              0.8888888888888888,
              "#fdca26"
             ],
             [
              1,
              "#f0f921"
             ]
            ],
            "type": "contour"
           }
          ],
          "contourcarpet": [
           {
            "colorbar": {
             "outlinewidth": 0,
             "ticks": ""
            },
            "type": "contourcarpet"
           }
          ],
          "heatmap": [
           {
            "colorbar": {
             "outlinewidth": 0,
             "ticks": ""
            },
            "colorscale": [
             [
              0,
              "#0d0887"
             ],
             [
              0.1111111111111111,
              "#46039f"
             ],
             [
              0.2222222222222222,
              "#7201a8"
             ],
             [
              0.3333333333333333,
              "#9c179e"
             ],
             [
              0.4444444444444444,
              "#bd3786"
             ],
             [
              0.5555555555555556,
              "#d8576b"
             ],
             [
              0.6666666666666666,
              "#ed7953"
             ],
             [
              0.7777777777777778,
              "#fb9f3a"
             ],
             [
              0.8888888888888888,
              "#fdca26"
             ],
             [
              1,
              "#f0f921"
             ]
            ],
            "type": "heatmap"
           }
          ],
          "heatmapgl": [
           {
            "colorbar": {
             "outlinewidth": 0,
             "ticks": ""
            },
            "colorscale": [
             [
              0,
              "#0d0887"
             ],
             [
              0.1111111111111111,
              "#46039f"
             ],
             [
              0.2222222222222222,
              "#7201a8"
             ],
             [
              0.3333333333333333,
              "#9c179e"
             ],
             [
              0.4444444444444444,
              "#bd3786"
             ],
             [
              0.5555555555555556,
              "#d8576b"
             ],
             [
              0.6666666666666666,
              "#ed7953"
             ],
             [
              0.7777777777777778,
              "#fb9f3a"
             ],
             [
              0.8888888888888888,
              "#fdca26"
             ],
             [
              1,
              "#f0f921"
             ]
            ],
            "type": "heatmapgl"
           }
          ],
          "histogram": [
           {
            "marker": {
             "pattern": {
              "fillmode": "overlay",
              "size": 10,
              "solidity": 0.2
             }
            },
            "type": "histogram"
           }
          ],
          "histogram2d": [
           {
            "colorbar": {
             "outlinewidth": 0,
             "ticks": ""
            },
            "colorscale": [
             [
              0,
              "#0d0887"
             ],
             [
              0.1111111111111111,
              "#46039f"
             ],
             [
              0.2222222222222222,
              "#7201a8"
             ],
             [
              0.3333333333333333,
              "#9c179e"
             ],
             [
              0.4444444444444444,
              "#bd3786"
             ],
             [
              0.5555555555555556,
              "#d8576b"
             ],
             [
              0.6666666666666666,
              "#ed7953"
             ],
             [
              0.7777777777777778,
              "#fb9f3a"
             ],
             [
              0.8888888888888888,
              "#fdca26"
             ],
             [
              1,
              "#f0f921"
             ]
            ],
            "type": "histogram2d"
           }
          ],
          "histogram2dcontour": [
           {
            "colorbar": {
             "outlinewidth": 0,
             "ticks": ""
            },
            "colorscale": [
             [
              0,
              "#0d0887"
             ],
             [
              0.1111111111111111,
              "#46039f"
             ],
             [
              0.2222222222222222,
              "#7201a8"
             ],
             [
              0.3333333333333333,
              "#9c179e"
             ],
             [
              0.4444444444444444,
              "#bd3786"
             ],
             [
              0.5555555555555556,
              "#d8576b"
             ],
             [
              0.6666666666666666,
              "#ed7953"
             ],
             [
              0.7777777777777778,
              "#fb9f3a"
             ],
             [
              0.8888888888888888,
              "#fdca26"
             ],
             [
              1,
              "#f0f921"
             ]
            ],
            "type": "histogram2dcontour"
           }
          ],
          "mesh3d": [
           {
            "colorbar": {
             "outlinewidth": 0,
             "ticks": ""
            },
            "type": "mesh3d"
           }
          ],
          "parcoords": [
           {
            "line": {
             "colorbar": {
              "outlinewidth": 0,
              "ticks": ""
             }
            },
            "type": "parcoords"
           }
          ],
          "pie": [
           {
            "automargin": true,
            "type": "pie"
           }
          ],
          "scatter": [
           {
            "fillpattern": {
             "fillmode": "overlay",
             "size": 10,
             "solidity": 0.2
            },
            "type": "scatter"
           }
          ],
          "scatter3d": [
           {
            "line": {
             "colorbar": {
              "outlinewidth": 0,
              "ticks": ""
             }
            },
            "marker": {
             "colorbar": {
              "outlinewidth": 0,
              "ticks": ""
             }
            },
            "type": "scatter3d"
           }
          ],
          "scattercarpet": [
           {
            "marker": {
             "colorbar": {
              "outlinewidth": 0,
              "ticks": ""
             }
            },
            "type": "scattercarpet"
           }
          ],
          "scattergeo": [
           {
            "marker": {
             "colorbar": {
              "outlinewidth": 0,
              "ticks": ""
             }
            },
            "type": "scattergeo"
           }
          ],
          "scattergl": [
           {
            "marker": {
             "colorbar": {
              "outlinewidth": 0,
              "ticks": ""
             }
            },
            "type": "scattergl"
           }
          ],
          "scattermapbox": [
           {
            "marker": {
             "colorbar": {
              "outlinewidth": 0,
              "ticks": ""
             }
            },
            "type": "scattermapbox"
           }
          ],
          "scatterpolar": [
           {
            "marker": {
             "colorbar": {
              "outlinewidth": 0,
              "ticks": ""
             }
            },
            "type": "scatterpolar"
           }
          ],
          "scatterpolargl": [
           {
            "marker": {
             "colorbar": {
              "outlinewidth": 0,
              "ticks": ""
             }
            },
            "type": "scatterpolargl"
           }
          ],
          "scatterternary": [
           {
            "marker": {
             "colorbar": {
              "outlinewidth": 0,
              "ticks": ""
             }
            },
            "type": "scatterternary"
           }
          ],
          "surface": [
           {
            "colorbar": {
             "outlinewidth": 0,
             "ticks": ""
            },
            "colorscale": [
             [
              0,
              "#0d0887"
             ],
             [
              0.1111111111111111,
              "#46039f"
             ],
             [
              0.2222222222222222,
              "#7201a8"
             ],
             [
              0.3333333333333333,
              "#9c179e"
             ],
             [
              0.4444444444444444,
              "#bd3786"
             ],
             [
              0.5555555555555556,
              "#d8576b"
             ],
             [
              0.6666666666666666,
              "#ed7953"
             ],
             [
              0.7777777777777778,
              "#fb9f3a"
             ],
             [
              0.8888888888888888,
              "#fdca26"
             ],
             [
              1,
              "#f0f921"
             ]
            ],
            "type": "surface"
           }
          ],
          "table": [
           {
            "cells": {
             "fill": {
              "color": "#EBF0F8"
             },
             "line": {
              "color": "white"
             }
            },
            "header": {
             "fill": {
              "color": "#C8D4E3"
             },
             "line": {
              "color": "white"
             }
            },
            "type": "table"
           }
          ]
         },
         "layout": {
          "annotationdefaults": {
           "arrowcolor": "#2a3f5f",
           "arrowhead": 0,
           "arrowwidth": 1
          },
          "autotypenumbers": "strict",
          "coloraxis": {
           "colorbar": {
            "outlinewidth": 0,
            "ticks": ""
           }
          },
          "colorscale": {
           "diverging": [
            [
             0,
             "#8e0152"
            ],
            [
             0.1,
             "#c51b7d"
            ],
            [
             0.2,
             "#de77ae"
            ],
            [
             0.3,
             "#f1b6da"
            ],
            [
             0.4,
             "#fde0ef"
            ],
            [
             0.5,
             "#f7f7f7"
            ],
            [
             0.6,
             "#e6f5d0"
            ],
            [
             0.7,
             "#b8e186"
            ],
            [
             0.8,
             "#7fbc41"
            ],
            [
             0.9,
             "#4d9221"
            ],
            [
             1,
             "#276419"
            ]
           ],
           "sequential": [
            [
             0,
             "#0d0887"
            ],
            [
             0.1111111111111111,
             "#46039f"
            ],
            [
             0.2222222222222222,
             "#7201a8"
            ],
            [
             0.3333333333333333,
             "#9c179e"
            ],
            [
             0.4444444444444444,
             "#bd3786"
            ],
            [
             0.5555555555555556,
             "#d8576b"
            ],
            [
             0.6666666666666666,
             "#ed7953"
            ],
            [
             0.7777777777777778,
             "#fb9f3a"
            ],
            [
             0.8888888888888888,
             "#fdca26"
            ],
            [
             1,
             "#f0f921"
            ]
           ],
           "sequentialminus": [
            [
             0,
             "#0d0887"
            ],
            [
             0.1111111111111111,
             "#46039f"
            ],
            [
             0.2222222222222222,
             "#7201a8"
            ],
            [
             0.3333333333333333,
             "#9c179e"
            ],
            [
             0.4444444444444444,
             "#bd3786"
            ],
            [
             0.5555555555555556,
             "#d8576b"
            ],
            [
             0.6666666666666666,
             "#ed7953"
            ],
            [
             0.7777777777777778,
             "#fb9f3a"
            ],
            [
             0.8888888888888888,
             "#fdca26"
            ],
            [
             1,
             "#f0f921"
            ]
           ]
          },
          "colorway": [
           "#636efa",
           "#EF553B",
           "#00cc96",
           "#ab63fa",
           "#FFA15A",
           "#19d3f3",
           "#FF6692",
           "#B6E880",
           "#FF97FF",
           "#FECB52"
          ],
          "font": {
           "color": "#2a3f5f"
          },
          "geo": {
           "bgcolor": "white",
           "lakecolor": "white",
           "landcolor": "#E5ECF6",
           "showlakes": true,
           "showland": true,
           "subunitcolor": "white"
          },
          "hoverlabel": {
           "align": "left"
          },
          "hovermode": "closest",
          "mapbox": {
           "style": "light"
          },
          "paper_bgcolor": "white",
          "plot_bgcolor": "#E5ECF6",
          "polar": {
           "angularaxis": {
            "gridcolor": "white",
            "linecolor": "white",
            "ticks": ""
           },
           "bgcolor": "#E5ECF6",
           "radialaxis": {
            "gridcolor": "white",
            "linecolor": "white",
            "ticks": ""
           }
          },
          "scene": {
           "xaxis": {
            "backgroundcolor": "#E5ECF6",
            "gridcolor": "white",
            "gridwidth": 2,
            "linecolor": "white",
            "showbackground": true,
            "ticks": "",
            "zerolinecolor": "white"
           },
           "yaxis": {
            "backgroundcolor": "#E5ECF6",
            "gridcolor": "white",
            "gridwidth": 2,
            "linecolor": "white",
            "showbackground": true,
            "ticks": "",
            "zerolinecolor": "white"
           },
           "zaxis": {
            "backgroundcolor": "#E5ECF6",
            "gridcolor": "white",
            "gridwidth": 2,
            "linecolor": "white",
            "showbackground": true,
            "ticks": "",
            "zerolinecolor": "white"
           }
          },
          "shapedefaults": {
           "line": {
            "color": "#2a3f5f"
           }
          },
          "ternary": {
           "aaxis": {
            "gridcolor": "white",
            "linecolor": "white",
            "ticks": ""
           },
           "baxis": {
            "gridcolor": "white",
            "linecolor": "white",
            "ticks": ""
           },
           "bgcolor": "#E5ECF6",
           "caxis": {
            "gridcolor": "white",
            "linecolor": "white",
            "ticks": ""
           }
          },
          "title": {
           "x": 0.05
          },
          "xaxis": {
           "automargin": true,
           "gridcolor": "white",
           "linecolor": "white",
           "ticks": "",
           "title": {
            "standoff": 15
           },
           "zerolinecolor": "white",
           "zerolinewidth": 2
          },
          "yaxis": {
           "automargin": true,
           "gridcolor": "white",
           "linecolor": "white",
           "ticks": "",
           "title": {
            "standoff": 15
           },
           "zerolinecolor": "white",
           "zerolinewidth": 2
          }
         }
        },
        "xaxis": {
         "autorange": true,
         "domain": [
          0.15,
          1
         ],
         "range": [
          0,
          105.26315789473685
         ],
         "showgrid": false,
         "showline": false,
         "showticklabels": false,
         "type": "linear",
         "zeroline": false
        },
        "yaxis": {
         "autorange": true,
         "range": [
          -0.5588235294117648,
          3.558823529411765
         ],
         "showgrid": false,
         "showline": false,
         "showticklabels": false,
         "type": "category",
         "zeroline": false
        }
       }
      },
      "image/png": "[encoded data removed]",
      "text/html": [
       "<div>                            <div id=\"ac83c28e-dd12-4880-8254-1e6ed2b6e183\" class=\"plotly-graph-div\" style=\"height:525px; width:100%;\"></div>            <script type=\"text/javascript\">                require([\"plotly\"], function(Plotly) {                    window.PLOTLYENV=window.PLOTLYENV || {};                                    if (document.getElementById(\"ac83c28e-dd12-4880-8254-1e6ed2b6e183\")) {                    Plotly.newPlot(                        \"ac83c28e-dd12-4880-8254-1e6ed2b6e183\",                        [{\"marker\":{\"color\":\"rgba(38, 24, 74, 0.8)\",\"line\":{\"color\":\"rgb(248, 248, 249)\",\"width\":1}},\"orientation\":\"h\",\"x\":[21],\"y\":[\"The course was effectively\\u003cbr\\u003eorganized\"],\"type\":\"bar\"},{\"marker\":{\"color\":\"rgba(38, 24, 74, 0.8)\",\"line\":{\"color\":\"rgb(248, 248, 249)\",\"width\":1}},\"orientation\":\"h\",\"x\":[24],\"y\":[\"The course developed my\\u003cbr\\u003eabilities and skills for\\u003cbr\\u003ethe subject\"],\"type\":\"bar\"},{\"marker\":{\"color\":\"rgba(38, 24, 74, 0.8)\",\"line\":{\"color\":\"rgb(248, 248, 249)\",\"width\":1}},\"orientation\":\"h\",\"x\":[27],\"y\":[\"The course developed my\\u003cbr\\u003eability to think critically about\\u003cbr\\u003ethe subject\"],\"type\":\"bar\"},{\"marker\":{\"color\":\"rgba(38, 24, 74, 0.8)\",\"line\":{\"color\":\"rgb(248, 248, 249)\",\"width\":1}},\"orientation\":\"h\",\"x\":[29],\"y\":[\"I would recommend this\\u003cbr\\u003ecourse to a friend\"],\"type\":\"bar\"},{\"marker\":{\"color\":\"rgba(71, 58, 131, 0.8)\",\"line\":{\"color\":\"rgb(248, 248, 249)\",\"width\":1}},\"orientation\":\"h\",\"x\":[30],\"y\":[\"The course was effectively\\u003cbr\\u003eorganized\"],\"type\":\"bar\"},{\"marker\":{\"color\":\"rgba(71, 58, 131, 0.8)\",\"line\":{\"color\":\"rgb(248, 248, 249)\",\"width\":1}},\"orientation\":\"h\",\"x\":[31],\"y\":[\"The course developed my\\u003cbr\\u003eabilities and skills for\\u003cbr\\u003ethe subject\"],\"type\":\"bar\"},{\"marker\":{\"color\":\"rgba(71, 58, 131, 0.8)\",\"line\":{\"color\":\"rgb(248, 248, 249)\",\"width\":1}},\"orientation\":\"h\",\"x\":[26],\"y\":[\"The course developed my\\u003cbr\\u003eability to think critically about\\u003cbr\\u003ethe subject\"],\"type\":\"bar\"},{\"marker\":{\"color\":\"rgba(71, 58, 131, 0.8)\",\"line\":{\"color\":\"rgb(248, 248, 249)\",\"width\":1}},\"orientation\":\"h\",\"x\":[24],\"y\":[\"I would recommend this\\u003cbr\\u003ecourse to a friend\"],\"type\":\"bar\"},{\"marker\":{\"color\":\"rgba(122, 120, 168, 0.8)\",\"line\":{\"color\":\"rgb(248, 248, 249)\",\"width\":1}},\"orientation\":\"h\",\"x\":[21],\"y\":[\"The course was effectively\\u003cbr\\u003eorganized\"],\"type\":\"bar\"},{\"marker\":{\"color\":\"rgba(122, 120, 168, 0.8)\",\"line\":{\"color\":\"rgb(248, 248, 249)\",\"width\":1}},\"orientation\":\"h\",\"x\":[19],\"y\":[\"The course developed my\\u003cbr\\u003eabilities and skills for\\u003cbr\\u003ethe subject\"],\"type\":\"bar\"},{\"marker\":{\"color\":\"rgba(122, 120, 168, 0.8)\",\"line\":{\"color\":\"rgb(248, 248, 249)\",\"width\":1}},\"orientation\":\"h\",\"x\":[23],\"y\":[\"The course developed my\\u003cbr\\u003eability to think critically about\\u003cbr\\u003ethe subject\"],\"type\":\"bar\"},{\"marker\":{\"color\":\"rgba(122, 120, 168, 0.8)\",\"line\":{\"color\":\"rgb(248, 248, 249)\",\"width\":1}},\"orientation\":\"h\",\"x\":[15],\"y\":[\"I would recommend this\\u003cbr\\u003ecourse to a friend\"],\"type\":\"bar\"},{\"marker\":{\"color\":\"rgba(164, 163, 204, 0.85)\",\"line\":{\"color\":\"rgb(248, 248, 249)\",\"width\":1}},\"orientation\":\"h\",\"x\":[16],\"y\":[\"The course was effectively\\u003cbr\\u003eorganized\"],\"type\":\"bar\"},{\"marker\":{\"color\":\"rgba(164, 163, 204, 0.85)\",\"line\":{\"color\":\"rgb(248, 248, 249)\",\"width\":1}},\"orientation\":\"h\",\"x\":[15],\"y\":[\"The course developed my\\u003cbr\\u003eabilities and skills for\\u003cbr\\u003ethe subject\"],\"type\":\"bar\"},{\"marker\":{\"color\":\"rgba(164, 163, 204, 0.85)\",\"line\":{\"color\":\"rgb(248, 248, 249)\",\"width\":1}},\"orientation\":\"h\",\"x\":[11],\"y\":[\"The course developed my\\u003cbr\\u003eability to think critically about\\u003cbr\\u003ethe subject\"],\"type\":\"bar\"},{\"marker\":{\"color\":\"rgba(164, 163, 204, 0.85)\",\"line\":{\"color\":\"rgb(248, 248, 249)\",\"width\":1}},\"orientation\":\"h\",\"x\":[18],\"y\":[\"I would recommend this\\u003cbr\\u003ecourse to a friend\"],\"type\":\"bar\"},{\"marker\":{\"color\":\"rgba(190, 192, 213, 1)\",\"line\":{\"color\":\"rgb(248, 248, 249)\",\"width\":1}},\"orientation\":\"h\",\"x\":[12],\"y\":[\"The course was effectively\\u003cbr\\u003eorganized\"],\"type\":\"bar\"},{\"marker\":{\"color\":\"rgba(190, 192, 213, 1)\",\"line\":{\"color\":\"rgb(248, 248, 249)\",\"width\":1}},\"orientation\":\"h\",\"x\":[11],\"y\":[\"The course developed my\\u003cbr\\u003eabilities and skills for\\u003cbr\\u003ethe subject\"],\"type\":\"bar\"},{\"marker\":{\"color\":\"rgba(190, 192, 213, 1)\",\"line\":{\"color\":\"rgb(248, 248, 249)\",\"width\":1}},\"orientation\":\"h\",\"x\":[13],\"y\":[\"The course developed my\\u003cbr\\u003eability to think critically about\\u003cbr\\u003ethe subject\"],\"type\":\"bar\"},{\"marker\":{\"color\":\"rgba(190, 192, 213, 1)\",\"line\":{\"color\":\"rgb(248, 248, 249)\",\"width\":1}},\"orientation\":\"h\",\"x\":[14],\"y\":[\"I would recommend this\\u003cbr\\u003ecourse to a friend\"],\"type\":\"bar\"}],                        {\"template\":{\"data\":{\"histogram2dcontour\":[{\"type\":\"histogram2dcontour\",\"colorbar\":{\"outlinewidth\":0,\"ticks\":\"\"},\"colorscale\":[[0.0,\"#0d0887\"],[0.1111111111111111,\"#46039f\"],[0.2222222222222222,\"#7201a8\"],[0.3333333333333333,\"#9c179e\"],[0.4444444444444444,\"#bd3786\"],[0.5555555555555556,\"#d8576b\"],[0.6666666666666666,\"#ed7953\"],[0.7777777777777778,\"#fb9f3a\"],[0.8888888888888888,\"#fdca26\"],[1.0,\"#f0f921\"]]}],\"choropleth\":[{\"type\":\"choropleth\",\"colorbar\":{\"outlinewidth\":0,\"ticks\":\"\"}}],\"histogram2d\":[{\"type\":\"histogram2d\",\"colorbar\":{\"outlinewidth\":0,\"ticks\":\"\"},\"colorscale\":[[0.0,\"#0d0887\"],[0.1111111111111111,\"#46039f\"],[0.2222222222222222,\"#7201a8\"],[0.3333333333333333,\"#9c179e\"],[0.4444444444444444,\"#bd3786\"],[0.5555555555555556,\"#d8576b\"],[0.6666666666666666,\"#ed7953\"],[0.7777777777777778,\"#fb9f3a\"],[0.8888888888888888,\"#fdca26\"],[1.0,\"#f0f921\"]]}],\"heatmap\":[{\"type\":\"heatmap\",\"colorbar\":{\"outlinewidth\":0,\"ticks\":\"\"},\"colorscale\":[[0.0,\"#0d0887\"],[0.1111111111111111,\"#46039f\"],[0.2222222222222222,\"#7201a8\"],[0.3333333333333333,\"#9c179e\"],[0.4444444444444444,\"#bd3786\"],[0.5555555555555556,\"#d8576b\"],[0.6666666666666666,\"#ed7953\"],[0.7777777777777778,\"#fb9f3a\"],[0.8888888888888888,\"#fdca26\"],[1.0,\"#f0f921\"]]}],\"heatmapgl\":[{\"type\":\"heatmapgl\",\"colorbar\":{\"outlinewidth\":0,\"ticks\":\"\"},\"colorscale\":[[0.0,\"#0d0887\"],[0.1111111111111111,\"#46039f\"],[0.2222222222222222,\"#7201a8\"],[0.3333333333333333,\"#9c179e\"],[0.4444444444444444,\"#bd3786\"],[0.5555555555555556,\"#d8576b\"],[0.6666666666666666,\"#ed7953\"],[0.7777777777777778,\"#fb9f3a\"],[0.8888888888888888,\"#fdca26\"],[1.0,\"#f0f921\"]]}],\"contourcarpet\":[{\"type\":\"contourcarpet\",\"colorbar\":{\"outlinewidth\":0,\"ticks\":\"\"}}],\"contour\":[{\"type\":\"contour\",\"colorbar\":{\"outlinewidth\":0,\"ticks\":\"\"},\"colorscale\":[[0.0,\"#0d0887\"],[0.1111111111111111,\"#46039f\"],[0.2222222222222222,\"#7201a8\"],[0.3333333333333333,\"#9c179e\"],[0.4444444444444444,\"#bd3786\"],[0.5555555555555556,\"#d8576b\"],[0.6666666666666666,\"#ed7953\"],[0.7777777777777778,\"#fb9f3a\"],[0.8888888888888888,\"#fdca26\"],[1.0,\"#f0f921\"]]}],\"surface\":[{\"type\":\"surface\",\"colorbar\":{\"outlinewidth\":0,\"ticks\":\"\"},\"colorscale\":[[0.0,\"#0d0887\"],[0.1111111111111111,\"#46039f\"],[0.2222222222222222,\"#7201a8\"],[0.3333333333333333,\"#9c179e\"],[0.4444444444444444,\"#bd3786\"],[0.5555555555555556,\"#d8576b\"],[0.6666666666666666,\"#ed7953\"],[0.7777777777777778,\"#fb9f3a\"],[0.8888888888888888,\"#fdca26\"],[1.0,\"#f0f921\"]]}],\"mesh3d\":[{\"type\":\"mesh3d\",\"colorbar\":{\"outlinewidth\":0,\"ticks\":\"\"}}],\"scatter\":[{\"fillpattern\":{\"fillmode\":\"overlay\",\"size\":10,\"solidity\":0.2},\"type\":\"scatter\"}],\"parcoords\":[{\"type\":\"parcoords\",\"line\":{\"colorbar\":{\"outlinewidth\":0,\"ticks\":\"\"}}}],\"scatterpolargl\":[{\"type\":\"scatterpolargl\",\"marker\":{\"colorbar\":{\"outlinewidth\":0,\"ticks\":\"\"}}}],\"bar\":[{\"error_x\":{\"color\":\"#2a3f5f\"},\"error_y\":{\"color\":\"#2a3f5f\"},\"marker\":{\"line\":{\"color\":\"#E5ECF6\",\"width\":0.5},\"pattern\":{\"fillmode\":\"overlay\",\"size\":10,\"solidity\":0.2}},\"type\":\"bar\"}],\"scattergeo\":[{\"type\":\"scattergeo\",\"marker\":{\"colorbar\":{\"outlinewidth\":0,\"ticks\":\"\"}}}],\"scatterpolar\":[{\"type\":\"scatterpolar\",\"marker\":{\"colorbar\":{\"outlinewidth\":0,\"ticks\":\"\"}}}],\"histogram\":[{\"marker\":{\"pattern\":{\"fillmode\":\"overlay\",\"size\":10,\"solidity\":0.2}},\"type\":\"histogram\"}],\"scattergl\":[{\"type\":\"scattergl\",\"marker\":{\"colorbar\":{\"outlinewidth\":0,\"ticks\":\"\"}}}],\"scatter3d\":[{\"type\":\"scatter3d\",\"line\":{\"colorbar\":{\"outlinewidth\":0,\"ticks\":\"\"}},\"marker\":{\"colorbar\":{\"outlinewidth\":0,\"ticks\":\"\"}}}],\"scattermapbox\":[{\"type\":\"scattermapbox\",\"marker\":{\"colorbar\":{\"outlinewidth\":0,\"ticks\":\"\"}}}],\"scatterternary\":[{\"type\":\"scatterternary\",\"marker\":{\"colorbar\":{\"outlinewidth\":0,\"ticks\":\"\"}}}],\"scattercarpet\":[{\"type\":\"scattercarpet\",\"marker\":{\"colorbar\":{\"outlinewidth\":0,\"ticks\":\"\"}}}],\"carpet\":[{\"aaxis\":{\"endlinecolor\":\"#2a3f5f\",\"gridcolor\":\"white\",\"linecolor\":\"white\",\"minorgridcolor\":\"white\",\"startlinecolor\":\"#2a3f5f\"},\"baxis\":{\"endlinecolor\":\"#2a3f5f\",\"gridcolor\":\"white\",\"linecolor\":\"white\",\"minorgridcolor\":\"white\",\"startlinecolor\":\"#2a3f5f\"},\"type\":\"carpet\"}],\"table\":[{\"cells\":{\"fill\":{\"color\":\"#EBF0F8\"},\"line\":{\"color\":\"white\"}},\"header\":{\"fill\":{\"color\":\"#C8D4E3\"},\"line\":{\"color\":\"white\"}},\"type\":\"table\"}],\"barpolar\":[{\"marker\":{\"line\":{\"color\":\"#E5ECF6\",\"width\":0.5},\"pattern\":{\"fillmode\":\"overlay\",\"size\":10,\"solidity\":0.2}},\"type\":\"barpolar\"}],\"pie\":[{\"automargin\":true,\"type\":\"pie\"}]},\"layout\":{\"autotypenumbers\":\"strict\",\"colorway\":[\"#636efa\",\"#EF553B\",\"#00cc96\",\"#ab63fa\",\"#FFA15A\",\"#19d3f3\",\"#FF6692\",\"#B6E880\",\"#FF97FF\",\"#FECB52\"],\"font\":{\"color\":\"#2a3f5f\"},\"hovermode\":\"closest\",\"hoverlabel\":{\"align\":\"left\"},\"paper_bgcolor\":\"white\",\"plot_bgcolor\":\"#E5ECF6\",\"polar\":{\"bgcolor\":\"#E5ECF6\",\"angularaxis\":{\"gridcolor\":\"white\",\"linecolor\":\"white\",\"ticks\":\"\"},\"radialaxis\":{\"gridcolor\":\"white\",\"linecolor\":\"white\",\"ticks\":\"\"}},\"ternary\":{\"bgcolor\":\"#E5ECF6\",\"aaxis\":{\"gridcolor\":\"white\",\"linecolor\":\"white\",\"ticks\":\"\"},\"baxis\":{\"gridcolor\":\"white\",\"linecolor\":\"white\",\"ticks\":\"\"},\"caxis\":{\"gridcolor\":\"white\",\"linecolor\":\"white\",\"ticks\":\"\"}},\"coloraxis\":{\"colorbar\":{\"outlinewidth\":0,\"ticks\":\"\"}},\"colorscale\":{\"sequential\":[[0.0,\"#0d0887\"],[0.1111111111111111,\"#46039f\"],[0.2222222222222222,\"#7201a8\"],[0.3333333333333333,\"#9c179e\"],[0.4444444444444444,\"#bd3786\"],[0.5555555555555556,\"#d8576b\"],[0.6666666666666666,\"#ed7953\"],[0.7777777777777778,\"#fb9f3a\"],[0.8888888888888888,\"#fdca26\"],[1.0,\"#f0f921\"]],\"sequentialminus\":[[0.0,\"#0d0887\"],[0.1111111111111111,\"#46039f\"],[0.2222222222222222,\"#7201a8\"],[0.3333333333333333,\"#9c179e\"],[0.4444444444444444,\"#bd3786\"],[0.5555555555555556,\"#d8576b\"],[0.6666666666666666,\"#ed7953\"],[0.7777777777777778,\"#fb9f3a\"],[0.8888888888888888,\"#fdca26\"],[1.0,\"#f0f921\"]],\"diverging\":[[0,\"#8e0152\"],[0.1,\"#c51b7d\"],[0.2,\"#de77ae\"],[0.3,\"#f1b6da\"],[0.4,\"#fde0ef\"],[0.5,\"#f7f7f7\"],[0.6,\"#e6f5d0\"],[0.7,\"#b8e186\"],[0.8,\"#7fbc41\"],[0.9,\"#4d9221\"],[1,\"#276419\"]]},\"xaxis\":{\"gridcolor\":\"white\",\"linecolor\":\"white\",\"ticks\":\"\",\"title\":{\"standoff\":15},\"zerolinecolor\":\"white\",\"automargin\":true,\"zerolinewidth\":2},\"yaxis\":{\"gridcolor\":\"white\",\"linecolor\":\"white\",\"ticks\":\"\",\"title\":{\"standoff\":15},\"zerolinecolor\":\"white\",\"automargin\":true,\"zerolinewidth\":2},\"scene\":{\"xaxis\":{\"backgroundcolor\":\"#E5ECF6\",\"gridcolor\":\"white\",\"linecolor\":\"white\",\"showbackground\":true,\"ticks\":\"\",\"zerolinecolor\":\"white\",\"gridwidth\":2},\"yaxis\":{\"backgroundcolor\":\"#E5ECF6\",\"gridcolor\":\"white\",\"linecolor\":\"white\",\"showbackground\":true,\"ticks\":\"\",\"zerolinecolor\":\"white\",\"gridwidth\":2},\"zaxis\":{\"backgroundcolor\":\"#E5ECF6\",\"gridcolor\":\"white\",\"linecolor\":\"white\",\"showbackground\":true,\"ticks\":\"\",\"zerolinecolor\":\"white\",\"gridwidth\":2}},\"shapedefaults\":{\"line\":{\"color\":\"#2a3f5f\"}},\"annotationdefaults\":{\"arrowcolor\":\"#2a3f5f\",\"arrowhead\":0,\"arrowwidth\":1},\"geo\":{\"bgcolor\":\"white\",\"landcolor\":\"#E5ECF6\",\"subunitcolor\":\"white\",\"showland\":true,\"showlakes\":true,\"lakecolor\":\"white\"},\"title\":{\"x\":0.05},\"mapbox\":{\"style\":\"light\"}}},\"xaxis\":{\"showgrid\":false,\"showline\":false,\"showticklabels\":false,\"zeroline\":false,\"domain\":[0.15,1]},\"yaxis\":{\"showgrid\":false,\"showline\":false,\"showticklabels\":false,\"zeroline\":false},\"margin\":{\"l\":120,\"r\":10,\"t\":140,\"b\":80},\"barmode\":\"stack\",\"paper_bgcolor\":\"rgb(248, 248, 255)\",\"plot_bgcolor\":\"rgb(248, 248, 255)\",\"showlegend\":false,\"annotations\":[{\"align\":\"right\",\"font\":{\"color\":\"rgb(67, 67, 67)\",\"family\":\"Arial\",\"size\":14},\"showarrow\":false,\"text\":\"The course was effectively\\u003cbr\\u003eorganized\",\"x\":0.14,\"xanchor\":\"right\",\"xref\":\"paper\",\"y\":\"The course was effectively\\u003cbr\\u003eorganized\",\"yref\":\"y\"},{\"font\":{\"color\":\"rgb(248, 248, 255)\",\"family\":\"Arial\",\"size\":14},\"showarrow\":false,\"text\":\"21%\",\"x\":10.5,\"xref\":\"x\",\"y\":\"The course was effectively\\u003cbr\\u003eorganized\",\"yref\":\"y\"},{\"font\":{\"color\":\"rgb(248, 248, 255)\",\"family\":\"Arial\",\"size\":14},\"showarrow\":false,\"text\":\"30%\",\"x\":36.0,\"xref\":\"x\",\"y\":\"The course was effectively\\u003cbr\\u003eorganized\",\"yref\":\"y\"},{\"font\":{\"color\":\"rgb(248, 248, 255)\",\"family\":\"Arial\",\"size\":14},\"showarrow\":false,\"text\":\"21%\",\"x\":61.5,\"xref\":\"x\",\"y\":\"The course was effectively\\u003cbr\\u003eorganized\",\"yref\":\"y\"},{\"font\":{\"color\":\"rgb(248, 248, 255)\",\"family\":\"Arial\",\"size\":14},\"showarrow\":false,\"text\":\"16%\",\"x\":80.0,\"xref\":\"x\",\"y\":\"The course was effectively\\u003cbr\\u003eorganized\",\"yref\":\"y\"},{\"font\":{\"color\":\"rgb(248, 248, 255)\",\"family\":\"Arial\",\"size\":14},\"showarrow\":false,\"text\":\"12%\",\"x\":94.0,\"xref\":\"x\",\"y\":\"The course was effectively\\u003cbr\\u003eorganized\",\"yref\":\"y\"},{\"align\":\"right\",\"font\":{\"color\":\"rgb(67, 67, 67)\",\"family\":\"Arial\",\"size\":14},\"showarrow\":false,\"text\":\"The course developed my\\u003cbr\\u003eabilities and skills for\\u003cbr\\u003ethe subject\",\"x\":0.14,\"xanchor\":\"right\",\"xref\":\"paper\",\"y\":\"The course developed my\\u003cbr\\u003eabilities and skills for\\u003cbr\\u003ethe subject\",\"yref\":\"y\"},{\"font\":{\"color\":\"rgb(248, 248, 255)\",\"family\":\"Arial\",\"size\":14},\"showarrow\":false,\"text\":\"24%\",\"x\":12.0,\"xref\":\"x\",\"y\":\"The course developed my\\u003cbr\\u003eabilities and skills for\\u003cbr\\u003ethe subject\",\"yref\":\"y\"},{\"font\":{\"color\":\"rgb(248, 248, 255)\",\"family\":\"Arial\",\"size\":14},\"showarrow\":false,\"text\":\"31%\",\"x\":39.5,\"xref\":\"x\",\"y\":\"The course developed my\\u003cbr\\u003eabilities and skills for\\u003cbr\\u003ethe subject\",\"yref\":\"y\"},{\"font\":{\"color\":\"rgb(248, 248, 255)\",\"family\":\"Arial\",\"size\":14},\"showarrow\":false,\"text\":\"19%\",\"x\":64.5,\"xref\":\"x\",\"y\":\"The course developed my\\u003cbr\\u003eabilities and skills for\\u003cbr\\u003ethe subject\",\"yref\":\"y\"},{\"font\":{\"color\":\"rgb(248, 248, 255)\",\"family\":\"Arial\",\"size\":14},\"showarrow\":false,\"text\":\"15%\",\"x\":81.5,\"xref\":\"x\",\"y\":\"The course developed my\\u003cbr\\u003eabilities and skills for\\u003cbr\\u003ethe subject\",\"yref\":\"y\"},{\"font\":{\"color\":\"rgb(248, 248, 255)\",\"family\":\"Arial\",\"size\":14},\"showarrow\":false,\"text\":\"11%\",\"x\":94.5,\"xref\":\"x\",\"y\":\"The course developed my\\u003cbr\\u003eabilities and skills for\\u003cbr\\u003ethe subject\",\"yref\":\"y\"},{\"align\":\"right\",\"font\":{\"color\":\"rgb(67, 67, 67)\",\"family\":\"Arial\",\"size\":14},\"showarrow\":false,\"text\":\"The course developed my\\u003cbr\\u003eability to think critically about\\u003cbr\\u003ethe subject\",\"x\":0.14,\"xanchor\":\"right\",\"xref\":\"paper\",\"y\":\"The course developed my\\u003cbr\\u003eability to think critically about\\u003cbr\\u003ethe subject\",\"yref\":\"y\"},{\"font\":{\"color\":\"rgb(248, 248, 255)\",\"family\":\"Arial\",\"size\":14},\"showarrow\":false,\"text\":\"27%\",\"x\":13.5,\"xref\":\"x\",\"y\":\"The course developed my\\u003cbr\\u003eability to think critically about\\u003cbr\\u003ethe subject\",\"yref\":\"y\"},{\"font\":{\"color\":\"rgb(248, 248, 255)\",\"family\":\"Arial\",\"size\":14},\"showarrow\":false,\"text\":\"26%\",\"x\":40.0,\"xref\":\"x\",\"y\":\"The course developed my\\u003cbr\\u003eability to think critically about\\u003cbr\\u003ethe subject\",\"yref\":\"y\"},{\"font\":{\"color\":\"rgb(248, 248, 255)\",\"family\":\"Arial\",\"size\":14},\"showarrow\":false,\"text\":\"23%\",\"x\":64.5,\"xref\":\"x\",\"y\":\"The course developed my\\u003cbr\\u003eability to think critically about\\u003cbr\\u003ethe subject\",\"yref\":\"y\"},{\"font\":{\"color\":\"rgb(248, 248, 255)\",\"family\":\"Arial\",\"size\":14},\"showarrow\":false,\"text\":\"11%\",\"x\":81.5,\"xref\":\"x\",\"y\":\"The course developed my\\u003cbr\\u003eability to think critically about\\u003cbr\\u003ethe subject\",\"yref\":\"y\"},{\"font\":{\"color\":\"rgb(248, 248, 255)\",\"family\":\"Arial\",\"size\":14},\"showarrow\":false,\"text\":\"13%\",\"x\":93.5,\"xref\":\"x\",\"y\":\"The course developed my\\u003cbr\\u003eability to think critically about\\u003cbr\\u003ethe subject\",\"yref\":\"y\"},{\"align\":\"right\",\"font\":{\"color\":\"rgb(67, 67, 67)\",\"family\":\"Arial\",\"size\":14},\"showarrow\":false,\"text\":\"I would recommend this\\u003cbr\\u003ecourse to a friend\",\"x\":0.14,\"xanchor\":\"right\",\"xref\":\"paper\",\"y\":\"I would recommend this\\u003cbr\\u003ecourse to a friend\",\"yref\":\"y\"},{\"font\":{\"color\":\"rgb(248, 248, 255)\",\"family\":\"Arial\",\"size\":14},\"showarrow\":false,\"text\":\"29%\",\"x\":14.5,\"xref\":\"x\",\"y\":\"I would recommend this\\u003cbr\\u003ecourse to a friend\",\"yref\":\"y\"},{\"font\":{\"color\":\"rgb(67, 67, 67)\",\"family\":\"Arial\",\"size\":14},\"showarrow\":false,\"text\":\"Strongly\\u003cbr\\u003eagree\",\"x\":14.5,\"xref\":\"x\",\"y\":1.1,\"yref\":\"paper\"},{\"font\":{\"color\":\"rgb(248, 248, 255)\",\"family\":\"Arial\",\"size\":14},\"showarrow\":false,\"text\":\"24%\",\"x\":41.0,\"xref\":\"x\",\"y\":\"I would recommend this\\u003cbr\\u003ecourse to a friend\",\"yref\":\"y\"},{\"font\":{\"color\":\"rgb(67, 67, 67)\",\"family\":\"Arial\",\"size\":14},\"showarrow\":false,\"text\":\"Agree\",\"x\":41.0,\"xref\":\"x\",\"y\":1.1,\"yref\":\"paper\"},{\"font\":{\"color\":\"rgb(248, 248, 255)\",\"family\":\"Arial\",\"size\":14},\"showarrow\":false,\"text\":\"15%\",\"x\":60.5,\"xref\":\"x\",\"y\":\"I would recommend this\\u003cbr\\u003ecourse to a friend\",\"yref\":\"y\"},{\"font\":{\"color\":\"rgb(67, 67, 67)\",\"family\":\"Arial\",\"size\":14},\"showarrow\":false,\"text\":\"Neutral\",\"x\":60.5,\"xref\":\"x\",\"y\":1.1,\"yref\":\"paper\"},{\"font\":{\"color\":\"rgb(248, 248, 255)\",\"family\":\"Arial\",\"size\":14},\"showarrow\":false,\"text\":\"18%\",\"x\":77.0,\"xref\":\"x\",\"y\":\"I would recommend this\\u003cbr\\u003ecourse to a friend\",\"yref\":\"y\"},{\"font\":{\"color\":\"rgb(67, 67, 67)\",\"family\":\"Arial\",\"size\":14},\"showarrow\":false,\"text\":\"Disagree\",\"x\":77.0,\"xref\":\"x\",\"y\":1.1,\"yref\":\"paper\"},{\"font\":{\"color\":\"rgb(248, 248, 255)\",\"family\":\"Arial\",\"size\":14},\"showarrow\":false,\"text\":\"14%\",\"x\":93.0,\"xref\":\"x\",\"y\":\"I would recommend this\\u003cbr\\u003ecourse to a friend\",\"yref\":\"y\"},{\"font\":{\"color\":\"rgb(67, 67, 67)\",\"family\":\"Arial\",\"size\":14},\"showarrow\":false,\"text\":\"Strongly\\u003cbr\\u003edisagree\",\"x\":93.0,\"xref\":\"x\",\"y\":1.1,\"yref\":\"paper\"}]},                        {\"responsive\": true}                    ).then(function(){\n",
       "                            \n",
       "var gd = document.getElementById('ac83c28e-dd12-4880-8254-1e6ed2b6e183');\n",
       "var x = new MutationObserver(function (mutations, observer) {{\n",
       "        var display = window.getComputedStyle(gd).display;\n",
       "        if (!display || display === 'none') {{\n",
       "            console.log([gd, 'removed!']);\n",
       "            Plotly.purge(gd);\n",
       "            observer.disconnect();\n",
       "        }}\n",
       "}});\n",
       "\n",
       "// Listen for the removal of the full notebook cells\n",
       "var notebookContainer = gd.closest('#notebook-container');\n",
       "if (notebookContainer) {{\n",
       "    x.observe(notebookContainer, {childList: true});\n",
       "}}\n",
       "\n",
       "// Listen for the clearing of the current output cell\n",
       "var outputEl = gd.closest('.output');\n",
       "if (outputEl) {{\n",
       "    x.observe(outputEl, {childList: true});\n",
       "}}\n",
       "\n",
       "                        })                };                });            </script>        </div>"
      ]
     },
     "metadata": {},
     "output_type": "display_data"
    }
   ],
   "source": [
    "import plotly.graph_objects as go\n",
    "\n",
    "top_labels = ['Strongly<br>agree', 'Agree', 'Neutral', 'Disagree',\n",
    "              'Strongly<br>disagree']\n",
    "\n",
    "colors = ['rgba(38, 24, 74, 0.8)', 'rgba(71, 58, 131, 0.8)',\n",
    "          'rgba(122, 120, 168, 0.8)', 'rgba(164, 163, 204, 0.85)',\n",
    "          'rgba(190, 192, 213, 1)']\n",
    "\n",
    "x_data = [[21, 30, 21, 16, 12],\n",
    "          [24, 31, 19, 15, 11],\n",
    "          [27, 26, 23, 11, 13],\n",
    "          [29, 24, 15, 18, 14]]\n",
    "\n",
    "y_data = ['The course was effectively<br>organized',\n",
    "          'The course developed my<br>abilities and skills ' +\n",
    "          'for<br>the subject', 'The course developed ' +\n",
    "          'my<br>ability to think critically about<br>the subject',\n",
    "          'I would recommend this<br>course to a friend']\n",
    "\n",
    "fig = go.Figure()\n",
    "\n",
    "for i in range(0, len(x_data[0])):\n",
    "    for xd, yd in zip(x_data, y_data):\n",
    "        fig.add_trace(go.Bar(\n",
    "            x=[xd[i]], y=[yd],\n",
    "            orientation='h',\n",
    "            marker=dict(\n",
    "                color=colors[i],\n",
    "                line=dict(color='rgb(248, 248, 249)', width=1)\n",
    "            )\n",
    "        ))\n",
    "\n",
    "fig.update_layout(\n",
    "    xaxis=dict(\n",
    "        showgrid=False,\n",
    "        showline=False,\n",
    "        showticklabels=False,\n",
    "        zeroline=False,\n",
    "        domain=[0.15, 1]\n",
    "    ),\n",
    "    yaxis=dict(\n",
    "        showgrid=False,\n",
    "        showline=False,\n",
    "        showticklabels=False,\n",
    "        zeroline=False,\n",
    "    ),\n",
    "    barmode='stack',\n",
    "    paper_bgcolor='rgb(248, 248, 255)',\n",
    "    plot_bgcolor='rgb(248, 248, 255)',\n",
    "    margin=dict(l=120, r=10, t=140, b=80),\n",
    "    showlegend=False,\n",
    ")\n",
    "\n",
    "annotations = []\n",
    "\n",
    "for yd, xd in zip(y_data, x_data):\n",
    "    # labeling the y-axis\n",
    "    annotations.append(dict(xref='paper', yref='y',\n",
    "                            x=0.14, y=yd,\n",
    "                            xanchor='right',\n",
    "                            text=str(yd),\n",
    "                            font=dict(family='Arial', size=14,\n",
    "                                      color='rgb(67, 67, 67)'),\n",
    "                            showarrow=False, align='right'))\n",
    "    # labeling the first percentage of each bar (x_axis)\n",
    "    annotations.append(dict(xref='x', yref='y',\n",
    "                            x=xd[0] / 2, y=yd,\n",
    "                            text=str(xd[0]) + '%',\n",
    "                            font=dict(family='Arial', size=14,\n",
    "                                      color='rgb(248, 248, 255)'),\n",
    "                            showarrow=False))\n",
    "    # labeling the first Likert scale (on the top)\n",
    "    if yd == y_data[-1]:\n",
    "        annotations.append(dict(xref='x', yref='paper',\n",
    "                                x=xd[0] / 2, y=1.1,\n",
    "                                text=top_labels[0],\n",
    "                                font=dict(family='Arial', size=14,\n",
    "                                          color='rgb(67, 67, 67)'),\n",
    "                                showarrow=False))\n",
    "    space = xd[0]\n",
    "    for i in range(1, len(xd)):\n",
    "            # labeling the rest of percentages for each bar (x_axis)\n",
    "            annotations.append(dict(xref='x', yref='y',\n",
    "                                    x=space + (xd[i]/2), y=yd,\n",
    "                                    text=str(xd[i]) + '%',\n",
    "                                    font=dict(family='Arial', size=14,\n",
    "                                              color='rgb(248, 248, 255)'),\n",
    "                                    showarrow=False))\n",
    "            # labeling the Likert scale\n",
    "            if yd == y_data[-1]:\n",
    "                annotations.append(dict(xref='x', yref='paper',\n",
    "                                        x=space + (xd[i]/2), y=1.1,\n",
    "                                        text=top_labels[i],\n",
    "                                        font=dict(family='Arial', size=14,\n",
    "                                                  color='rgb(67, 67, 67)'),\n",
    "                                        showarrow=False))\n",
    "            space += xd[i]\n",
    "\n",
    "fig.update_layout(annotations=annotations)\n",
    "\n",
    "fig.show()"
   ]
  },
  {
   "cell_type": "code",
   "execution_count": null,
   "id": "2d5164ab-84c2-45cc-95fa-8fa341c5cce0",
   "metadata": {},
   "outputs": [],
   "source": []
  }
 ],
 "metadata": {
  "kernelspec": {
   "display_name": "Python 3 (ipykernel)",
   "language": "python",
   "name": "python3"
  },
  "language_info": {
   "codemirror_mode": {
    "name": "ipython",
    "version": 3
   },
   "file_extension": ".py",
   "mimetype": "text/x-python",
   "name": "python",
   "nbconvert_exporter": "python",
   "pygments_lexer": "ipython3",
   "version": "3.11.6"
  }
 },
 "nbformat": 4,
 "nbformat_minor": 5
}
